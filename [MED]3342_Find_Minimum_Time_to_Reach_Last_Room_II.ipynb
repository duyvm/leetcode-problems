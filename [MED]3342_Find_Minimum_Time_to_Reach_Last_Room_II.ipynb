{
  "nbformat": 4,
  "nbformat_minor": 0,
  "metadata": {
    "colab": {
      "provenance": [],
      "authorship_tag": "ABX9TyPZjugVaKjd0cgu9x7LQMcc",
      "include_colab_link": true
    },
    "kernelspec": {
      "name": "python3",
      "display_name": "Python 3"
    },
    "language_info": {
      "name": "python"
    }
  },
  "cells": [
    {
      "cell_type": "markdown",
      "metadata": {
        "id": "view-in-github",
        "colab_type": "text"
      },
      "source": [
        "<a href=\"https://colab.research.google.com/github/duyvm/leetcode-problems/blob/main/%5BMED%5D3342_Find_Minimum_Time_to_Reach_Last_Room_II.ipynb\" target=\"_parent\"><img src=\"https://colab.research.google.com/assets/colab-badge.svg\" alt=\"Open In Colab\"/></a>"
      ]
    },
    {
      "cell_type": "markdown",
      "source": [
        "# 3342. Find Minimum Time to Reach Last Room II\n",
        "\n",
        "https://leetcode.com/problems/find-minimum-time-to-reach-last-room-ii/description/\n",
        "\n",
        "There is a dungeon with `n x m` rooms arranged as a **grid**.\n",
        "\n",
        "You are given a **2D array** `moveTime` of size `n x m`, where `moveTime[i][j]` represents the minimum time in seconds when you can start moving to that room.\n",
        "\n",
        "You start from the room `(0, 0)` at time `t = 0` and *can move to an adjacent room*. Moving between **adjacent** rooms takes one second for one move and two seconds for the next, **alternating** between the two.\n",
        "\n",
        "Return the **minimum time** to reach the room `(n - 1, m - 1)`.\n",
        "\n",
        "Two rooms are adjacent if they share a common wall, either horizontally or vertically.\n",
        "\n",
        "**Constraints:**\n",
        "- `2 <= n == moveTime.length <= 750`\n",
        "- `2 <= m == moveTime[i].length <= 750`\n",
        "- `0 <= moveTime[i][j] <= 10`<sup>`9`</sup>"
      ],
      "metadata": {
        "id": "OhbFjTlo_zih"
      }
    },
    {
      "cell_type": "markdown",
      "source": [
        "**Example 1**\n",
        "\n",
        "Explanation: The minimum time required is `7` seconds.\n",
        "  \n",
        "  - At time `t == 4`, move from room `(0, 0)` to room `(1, 0)` in one second.\n",
        "  \n",
        "  - At time `t == 5`, move from room `(1, 0)` to room `(1, 1)` in two second.\n"
      ],
      "metadata": {
        "id": "fpzLoyGP_hhQ"
      }
    },
    {
      "cell_type": "code",
      "source": [
        "test_case1 =  {\n",
        "            \"input\": {\n",
        "                \"moveTime\": [[0,4],[4,4]]\n",
        "            },\n",
        "            \"output\": 7\n",
        "        }"
      ],
      "metadata": {
        "id": "VD9YirfAdayx"
      },
      "execution_count": 2,
      "outputs": []
    },
    {
      "cell_type": "markdown",
      "source": [
        "**Example 2**\n",
        "\n",
        "Explanation: The minimum time required is `6` seconds.\n",
        "\n",
        "  - At time `t == 0`, move from room `(0, 0)` to room `(1, 0)` in one second.\n",
        "  - At time `t == 1`, move from room `(1, 0)` to room `(1, 1)` in two second.\n",
        "  - At time `t == 3`, move from room `(1, 1)` to room `(1, 2)` in one second.\n",
        "  - At time `t == 4`, move from room `(1, 2)` to room `(1, 3)` in two second."
      ],
      "metadata": {
        "id": "mbBM8XtKAGH5"
      }
    },
    {
      "cell_type": "code",
      "source": [
        "test_case2 =  {\n",
        "            \"input\": {\n",
        "                \"moveTime\": [[0,0,0,0],[0,0,0,0]]\n",
        "            },\n",
        "            \"output\": 6\n",
        "        }"
      ],
      "metadata": {
        "id": "t94gDHfzAN4K"
      },
      "execution_count": 3,
      "outputs": []
    },
    {
      "cell_type": "markdown",
      "source": [
        "**Example 3**"
      ],
      "metadata": {
        "id": "KWfVUW0MXqWB"
      }
    },
    {
      "cell_type": "code",
      "source": [
        "test_case3 =  {\n",
        "            \"input\": {\n",
        "                \"moveTime\": [[0,1],[1,2]]\n",
        "            },\n",
        "            \"output\": 4\n",
        "        }"
      ],
      "metadata": {
        "id": "IUKmOsMOXxCU"
      },
      "execution_count": 4,
      "outputs": []
    },
    {
      "cell_type": "code",
      "source": [
        "test_cases = [test_case1, test_case2, test_case3]"
      ],
      "metadata": {
        "id": "1XSGQbp1ASCu"
      },
      "execution_count": 5,
      "outputs": []
    },
    {
      "cell_type": "code",
      "source": [
        "def run_test_cases(solution, function_name):\n",
        "    for i in range(len(test_cases)):\n",
        "        run_test_case(solution, function_name, i)\n",
        "\n",
        "def run_test_case(solution, function_name, i):\n",
        "    test_case = test_cases[i]\n",
        "    result = getattr(solution, function_name)(**test_case[\"input\"])\n",
        "    if result != test_case[\"output\"]:\n",
        "        print(f'Failed test case {i} with input: {test_case[\"input\"]} and expected result: {test_case[\"output\"]} vs actual result: {result}')"
      ],
      "metadata": {
        "id": "eefq238-1jIb"
      },
      "execution_count": 6,
      "outputs": []
    },
    {
      "cell_type": "markdown",
      "source": [
        "# Approach 1 - Dijkstra's Shortest Path Algorithm - Beat 36.05%\n",
        "\n",
        "### Observations\n",
        "\n",
        "- Use shortest path algorithm to solve this problem\n",
        "\n",
        "- Used algorithm: Dijkstra algorithm to find shortest path from source to all others vertices\n",
        "\n",
        "**Mapping between graph problem and this problem**\n",
        "\n",
        "- Let 2D-array `minTime` with size `n x m` is the array stores minimum time moving from source `(0,0)` to vertex `(i,j)`\n",
        "\n",
        "- Each cell is a vertex. We have total `n x m` vertices. Adjacent cells of cell `a` are neighbor vertices of vertex `a`. A vertex and its neighbor have an edge between them.\n",
        "\n",
        "- The time moving between cells is the edge's distance. In this case, it is `1` or `2`. We must store the moving time that we use to move to source vertex.\n",
        "\n",
        "- The minimum time can start moving to cell is the condition for moving to a vertex.\n",
        "\n",
        "  - For example, moving from `a = (i,j)` to its neighbor vertex `b = (i+1,j)`.\n",
        "\n",
        "  - We have `minTime[a] = x` and `moveTime[b] = y`\n",
        "\n",
        "  - The `minTime[b]` is determine by `max(minTime[a], moveTime[b]) + movingTime`\n",
        "\n",
        "- Each time, we consider the un-processed vertex with minimum time moving from source to it. We using min heap data structure for this task.\n",
        "\n",
        "- Instead of pre-compute a vertext's neighbors, we can compute vertex's neighbors on the fly when process vertex. We use a delta array and apply it to current vertex to find its four neightbor vertices\n",
        "\n",
        "- We do not store processed vertices. We can determine if it is processed or not by checking its current minTime with initialized value.\n",
        "\n",
        "- Return early if we encounter (n-1, m-1) vertex\n",
        "\n",
        "### Analysis\n",
        "\n",
        "- Time complexity: `O(n * m * log(n * m))`\n"
      ],
      "metadata": {
        "id": "e4M1bpIEDWc6"
      }
    },
    {
      "cell_type": "markdown",
      "source": [
        "### Implementation"
      ],
      "metadata": {
        "id": "TTw8uVbRkXtT"
      }
    },
    {
      "cell_type": "code",
      "source": [
        "from re import L\n",
        "from typing import List, Optional\n",
        "from collections import defaultdict\n",
        "from collections import deque\n",
        "from heapq import heapify, heappush, heappop\n",
        "from queue import PriorityQueue\n",
        "from collections import Counter\n",
        "import math\n",
        "\n",
        "class Solution:\n",
        "\n",
        "    def minTimeToReach(self, moveTime: List[List[int]]) -> int:\n",
        "        n = len(moveTime)\n",
        "        m = len(moveTime[0])\n",
        "        minTime = [[math.inf] * m for _ in range(n)]\n",
        "        minTime[0][0] = 0\n",
        "\n",
        "        movingTime = [[0] * m for _ in range(n)]\n",
        "        movingTime[0][0] = 2\n",
        "\n",
        "        minHeap = []\n",
        "\n",
        "        # add source (minTime, i, j)\n",
        "        heappush(minHeap, (0, 0, 0))\n",
        "\n",
        "        neighborDirections = [(0,1), (0,-1), (1,0), (-1,0)]\n",
        "\n",
        "        movingTimeAlternate = {1: 2, 2: 1}\n",
        "\n",
        "        while minHeap:\n",
        "            time, i, j = heappop(minHeap)\n",
        "\n",
        "            # early return\n",
        "            if i == n - 1 and j == m - 1:\n",
        "                return time\n",
        "\n",
        "            for delta_i, delta_j in neighborDirections:\n",
        "                neighbor_i = i + delta_i\n",
        "                neighbor_j = j + delta_j\n",
        "\n",
        "                if 0 <= neighbor_i < n and 0 <= neighbor_j < m:\n",
        "                    timeToNeighborVertex = max(time, moveTime[neighbor_i][neighbor_j]) + movingTimeAlternate[movingTime[i][j]]\n",
        "\n",
        "                    updatedMinTime = min(timeToNeighborVertex, minTime[neighbor_i][neighbor_j])\n",
        "\n",
        "                    if minTime[neighbor_i][neighbor_j] == math.inf:\n",
        "                        heappush(minHeap, [timeToNeighborVertex, neighbor_i, neighbor_j])\n",
        "\n",
        "                    minTime[neighbor_i][neighbor_j] = updatedMinTime\n",
        "\n",
        "                    movingTime[neighbor_i][neighbor_j] = movingTimeAlternate[movingTime[i][j]]"
      ],
      "metadata": {
        "id": "7N6VBRdIDUwD"
      },
      "execution_count": 8,
      "outputs": []
    },
    {
      "cell_type": "code",
      "source": [
        "run_test_cases(Solution(), \"minTimeToReach\")"
      ],
      "metadata": {
        "id": "QI2JhBGdQw2Q"
      },
      "execution_count": 9,
      "outputs": []
    },
    {
      "cell_type": "markdown",
      "source": [
        "# Approach 2 - Optimized approach 1 - Beat 42%\n",
        "\n",
        "### Observations\n",
        "\n",
        "- Although the time moving between cells is alternating between `1` and `2`. We do need to store this information.\n",
        "\n",
        "- Instead we compute the moving time base on source vertex's coordinate `(i,j)`.Take a look at starting vertex `(0,0)`, we start moving with time `1`. For any neighbor vertices of `(0,0)`, the sum of its coordinate is odd by increasing by `1` (for example, (0,1) or (1,0)) and the next moving time from that neighbor is `2`. Next, the neighbor vertices will have sum of their coordinate is even and next moving time is `1`\n",
        "\n",
        "- With this information, we can conclude that if sum of vertex's coordinate is even, the moving time from that vertex is `1` and vice versa.\n",
        "\n",
        "- We can compute the moving time as follow:\n",
        "\n",
        "        movingTime = (i+j) % 2 + 1\n",
        "\n",
        "\n",
        "### Analysis\n",
        "\n",
        "- Time complexity: `O(n * m * log(n * m))`"
      ],
      "metadata": {
        "id": "lDixY5LWbtBp"
      }
    },
    {
      "cell_type": "code",
      "source": [
        "from re import L\n",
        "from typing import List, Optional\n",
        "from collections import defaultdict\n",
        "from collections import deque\n",
        "from heapq import heapify, heappush, heappop\n",
        "from queue import PriorityQueue\n",
        "from collections import Counter\n",
        "import math\n",
        "\n",
        "class Solution:\n",
        "\n",
        "    def minTimeToReach(self, moveTime: List[List[int]]) -> int:\n",
        "        n = len(moveTime)\n",
        "        m = len(moveTime[0])\n",
        "        minTime = [[math.inf] * m for _ in range(n)]\n",
        "        minTime[0][0] = 0\n",
        "\n",
        "        minHeap = []\n",
        "\n",
        "        # add source (minTime, i, j)\n",
        "        heappush(minHeap, (0, 0, 0))\n",
        "\n",
        "        neighborDirections = [(0,1), (0,-1), (1,0), (-1,0)]\n",
        "\n",
        "        while minHeap:\n",
        "            time, i, j = heappop(minHeap)\n",
        "\n",
        "            # early return\n",
        "            if i == n - 1 and j == m - 1:\n",
        "                return time\n",
        "\n",
        "            for delta_i, delta_j in neighborDirections:\n",
        "                neighbor_i = i + delta_i\n",
        "                neighbor_j = j + delta_j\n",
        "\n",
        "                if 0 <= neighbor_i < n and 0 <= neighbor_j < m:\n",
        "                    timeToNeighborVertex = max(time, moveTime[neighbor_i][neighbor_j]) + (i+j)%2 + 1\n",
        "\n",
        "                    updatedMinTime = min(timeToNeighborVertex, minTime[neighbor_i][neighbor_j])\n",
        "\n",
        "                    if minTime[neighbor_i][neighbor_j] == math.inf:\n",
        "                        heappush(minHeap, [timeToNeighborVertex, neighbor_i, neighbor_j])\n",
        "\n",
        "                    minTime[neighbor_i][neighbor_j] = updatedMinTime"
      ],
      "metadata": {
        "id": "THt0f-Ro1ChU"
      },
      "execution_count": 10,
      "outputs": []
    },
    {
      "cell_type": "code",
      "source": [
        "run_test_cases(Solution(), \"minTimeToReach\")"
      ],
      "metadata": {
        "id": "YD3kHqZqeOa5"
      },
      "execution_count": 11,
      "outputs": []
    },
    {
      "cell_type": "code",
      "source": [],
      "metadata": {
        "id": "eFwzdduReOve"
      },
      "execution_count": null,
      "outputs": []
    }
  ]
}
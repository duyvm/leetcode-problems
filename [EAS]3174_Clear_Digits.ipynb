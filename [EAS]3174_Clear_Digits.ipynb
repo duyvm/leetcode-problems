{
  "nbformat": 4,
  "nbformat_minor": 0,
  "metadata": {
    "colab": {
      "provenance": [],
      "authorship_tag": "ABX9TyNUUxC5+RgFDNHFh1CgsfIK",
      "include_colab_link": true
    },
    "kernelspec": {
      "name": "python3",
      "display_name": "Python 3"
    },
    "language_info": {
      "name": "python"
    }
  },
  "cells": [
    {
      "cell_type": "markdown",
      "metadata": {
        "id": "view-in-github",
        "colab_type": "text"
      },
      "source": [
        "<a href=\"https://colab.research.google.com/github/duyvm/leetcode-problems/blob/main/%5BEAS%5D3174_Clear_Digits.ipynb\" target=\"_parent\"><img src=\"https://colab.research.google.com/assets/colab-badge.svg\" alt=\"Open In Colab\"/></a>"
      ]
    },
    {
      "cell_type": "markdown",
      "source": [
        "# 3174. Clear Digits\n",
        "\n",
        "https://leetcode.com/problems/clear-digits/description/\n",
        "\n",
        "You are given a string `s`.\n",
        "\n",
        "Your task is to remove **all digits** by doing this operation repeatedly:\n",
        "\n",
        "- Delete the first digit and the closest non-digit character to its left.\n",
        "\n",
        "Return the resulting string after removing **all digits**.\n",
        "\n",
        "**Constraints:**\n",
        "- `1 <= s.length <= 100`\n",
        "- `s` consists only of lowercase English letters and digits.\n",
        "- The input is generated such that it is possible to delete all digits."
      ],
      "metadata": {
        "id": "OhbFjTlo_zih"
      }
    },
    {
      "cell_type": "markdown",
      "source": [
        "**Example 1:**\n",
        "\n",
        "- Input: `s = \"abc\"`\n",
        "- Output: `\"abc\"`\n",
        "- Explanation: There is no digit in the string.\n",
        "\n",
        "**Example 2:**\n",
        "\n",
        "- Input: `s = \"cb34\"`\n",
        "- Output: `\"\"`\n",
        "- Explanation:\n",
        "\n",
        " First, we apply the operation on s[2], and s becomes \"c4\".\n",
        "\n",
        " Then we apply the operation on s[1], and s becomes \"\"."
      ],
      "metadata": {
        "id": "IEpVafbfC7W-"
      }
    },
    {
      "cell_type": "code",
      "source": [
        "test_cases = [\n",
        "    {\n",
        "        \"input\": {\n",
        "            \"s\": \"abc\",\n",
        "        },\n",
        "        \"output\": \"abc\"\n",
        "    },\n",
        "    {\n",
        "        \"input\": {\n",
        "            \"s\": \"cb34\",\n",
        "        },\n",
        "        \"output\": \"\"\n",
        "    },\n",
        "]"
      ],
      "metadata": {
        "id": "eRDi9kdUqVsY"
      },
      "execution_count": null,
      "outputs": []
    },
    {
      "cell_type": "markdown",
      "source": [
        "## Observations\n",
        "\n",
        "- Let `ans`is empty string `\"\"`\n",
        "- One pass through `s`, let `i` is the current index\n",
        " - If `s[i]` is not digit, append `s[i]` to `ans`\n",
        " - If `s[i]` is digit, remove last element of `ans`"
      ],
      "metadata": {
        "id": "e4M1bpIEDWc6"
      }
    },
    {
      "cell_type": "code",
      "source": [
        "from typing import List\n",
        "from collections import defaultdict\n",
        "from collections import deque\n",
        "\n",
        "class Solution:\n",
        "    def clearDigits(self, s: str) -> str:\n",
        "        ans = \"\"\n",
        "\n",
        "        for _c in s:\n",
        "            if _c.isdigit():\n",
        "                ans = ans[:-1]\n",
        "            else:\n",
        "                ans += _c\n",
        "\n",
        "        return ans"
      ],
      "metadata": {
        "id": "7N6VBRdIDUwD"
      },
      "execution_count": null,
      "outputs": []
    },
    {
      "cell_type": "code",
      "source": [
        "solution = Solution()\n",
        "for test_case in test_cases:\n",
        "    result = solution.clearDigits(test_case[\"input\"][\"s\"])\n",
        "    if result != test_case[\"output\"]:\n",
        "        print(f'Failed test case with input: {test_case[\"input\"]} and output: {test_case[\"output\"]} vs result: {result}')"
      ],
      "metadata": {
        "id": "CMDKnxwjGL6v"
      },
      "execution_count": null,
      "outputs": []
    },
    {
      "cell_type": "code",
      "source": [],
      "metadata": {
        "id": "ej2yBPqAP__M"
      },
      "execution_count": null,
      "outputs": []
    }
  ]
}
{
  "nbformat": 4,
  "nbformat_minor": 0,
  "metadata": {
    "colab": {
      "provenance": [],
      "authorship_tag": "ABX9TyPy02n5zf3EZ7+xO8h9nAd9",
      "include_colab_link": true
    },
    "kernelspec": {
      "name": "python3",
      "display_name": "Python 3"
    },
    "language_info": {
      "name": "python"
    }
  },
  "cells": [
    {
      "cell_type": "markdown",
      "metadata": {
        "id": "view-in-github",
        "colab_type": "text"
      },
      "source": [
        "<a href=\"https://colab.research.google.com/github/duyvm/leetcode-problems/blob/main/%5BEAS%5D3396_Minimum_Number_of_Operations_to_Make_Elements_in_Array_Distinct.ipynb\" target=\"_parent\"><img src=\"https://colab.research.google.com/assets/colab-badge.svg\" alt=\"Open In Colab\"/></a>"
      ]
    },
    {
      "cell_type": "markdown",
      "source": [
        "# 3396. Minimum Number of Operations to Make Elements in Array Distinct\n",
        "\n",
        "https://leetcode.com/problems/sum-of-all-subset-xor-totals/description/\n",
        "\n",
        "You are given an integer array `nums`. You need to ensure that the elements in the array are **distinct**. To achieve this, you can perform the following operation any number of times:\n",
        "\n",
        "- Remove 3 elements from the beginning of the array. If the array has fewer than 3 elements, remove all remaining elements.\n",
        "\n",
        "Note that an **empty array** is considered to have distinct elements. Return the **minimum number of operations** needed to make the elements in the array **distinct**.\n",
        "\n",
        "**Constraints:**\n",
        "- `11 <= nums.length <= 100`\n",
        "- `1 <= nums[i] <= 100`\n",
        "\n",
        "**Follow up:**"
      ],
      "metadata": {
        "id": "OhbFjTlo_zih"
      }
    },
    {
      "cell_type": "markdown",
      "source": [
        "**Example 1:**\n",
        "\n",
        "- Input: `\"nums\": [1,2,3,4,2,3,3,5,7]`\n",
        "\n",
        "- Output: `2`\n",
        "\n",
        "- Explanation:\n",
        "\n",
        "        In the first operation, the first 3 elements are removed, resulting in the array [4, 2, 3, 3, 5, 7].\n",
        "        In the second operation, the next 3 elements are removed, resulting in the array [3, 5, 7], which has distinct elements.\n",
        "        Therefore, the answer is 2.\n",
        "\n",
        "**Example 2:**\n",
        "\n",
        "- Input: `\"nums\": [4,5,6,4,4]`\n",
        "\n",
        "- Output: `2`\n",
        "\n",
        "- Explanation:\n",
        "\n",
        "        In the first operation, the first 3 elements are removed, resulting in the array [4, 4].\n",
        "        In the second operation, all remaining elements are removed, resulting in an empty array.\n",
        "        Therefore, the answer is 2.\n",
        "\n",
        "**Example 3:**\n",
        "\n",
        "- Input: `\"nums\": [6,7,8,9]`\n",
        "\n",
        "- Output: `0`\n",
        "\n",
        "- Explanation: The array already contains distinct elements. Therefore, the answer is 0."
      ],
      "metadata": {
        "id": "IEpVafbfC7W-"
      }
    },
    {
      "cell_type": "code",
      "source": [
        "test_cases = [\n",
        "    {\n",
        "        \"input\": {\n",
        "            \"nums\": [1,2,3,4,2,3,3,5,7],\n",
        "        },\n",
        "        \"output\": 2\n",
        "    },\n",
        "    {\n",
        "        \"input\": {\n",
        "            \"nums\": [4,5,6,4,4],\n",
        "        },\n",
        "        \"output\": 2\n",
        "    },\n",
        "    {\n",
        "        \"input\": {\n",
        "            \"nums\": [6,7,8,9],\n",
        "        },\n",
        "        \"output\": 0\n",
        "    },\n",
        "]"
      ],
      "metadata": {
        "id": "VD9YirfAdayx"
      },
      "execution_count": 1,
      "outputs": []
    },
    {
      "cell_type": "code",
      "source": [
        "def run_test_cases(solution, function_name):\n",
        "    for i in range(len(test_cases)):\n",
        "        run_test_case(solution, function_name, i)\n",
        "\n",
        "def run_test_case(solution, function_name, i):\n",
        "    test_case = test_cases[i]\n",
        "    result = getattr(solution, function_name)(**test_case[\"input\"])\n",
        "    if result != test_case[\"output\"]:\n",
        "        print(f'Failed test case {i} with input: {test_case[\"input\"]} and expected result: {test_case[\"output\"]} vs actual result: {result}')"
      ],
      "metadata": {
        "id": "eefq238-1jIb"
      },
      "execution_count": 2,
      "outputs": []
    },
    {
      "cell_type": "markdown",
      "source": [
        "# Approach\n",
        "\n",
        "### Observations\n",
        "\n",
        "- Frequency count all elements `freq_count`. Keep track of elements that have frequency count larger than `2`\n",
        "\n",
        "  - If `freq_count` is empty. Then the `nums` is distinct\n",
        "\n",
        "- For each element in triplet `nums[i:i+3]`:\n",
        "\n",
        "  - Decrement count in `freq_count` if `nums[i]` in `freq_count`\n",
        "\n",
        "  - If `freq_count[i] == 1`, remove it\n",
        "\n",
        "  - If `freq_count` is empty, `nums` became distinct\n",
        "\n",
        "  - Increae operation num by `1`\n",
        "\n",
        "### Analysis\n",
        "\n",
        "- Time complexity: `O(n)`\n",
        "\n",
        "  - One pass through `nums` to make `freq_count`: `O(n)`\n",
        "\n",
        "  - One pass through `freq_count` to remove elements appear only once: `O(n)`\n",
        "\n",
        "  - One pass through `nums` to reduce duplicated elements: `O(n)`\n",
        "\n",
        "  - Total time complexity: `O(n)`"
      ],
      "metadata": {
        "id": "e4M1bpIEDWc6"
      }
    },
    {
      "cell_type": "markdown",
      "source": [
        "### Implementation"
      ],
      "metadata": {
        "id": "TTw8uVbRkXtT"
      }
    },
    {
      "cell_type": "code",
      "source": [
        "from typing import List, Optional\n",
        "from collections import defaultdict\n",
        "from collections import deque\n",
        "from heapq import heapify, heappush, heappop\n",
        "from queue import PriorityQueue\n",
        "from collections import Counter\n",
        "import math\n",
        "\n",
        "class Solution:\n",
        "    def minimumOperations(self, nums: List[int]) -> int:\n",
        "        ope_nums = 0\n",
        "        freq_count = defaultdict(int)\n",
        "        for num in nums:\n",
        "            freq_count[num] += 1\n",
        "\n",
        "        freq_count = {k: v for k, v in freq_count.items() if v > 1}\n",
        "\n",
        "        if not freq_count:\n",
        "            return ope_nums\n",
        "\n",
        "        for i in range(0, len(nums), 3):\n",
        "            for j in range(i, min(i+3, len(nums))):\n",
        "                if nums[j] in freq_count:\n",
        "                    freq_count[nums[j]] -= 1\n",
        "                    if freq_count[nums[j]] == 1:\n",
        "                        del freq_count[nums[j]]\n",
        "            ope_nums += 1\n",
        "            if not freq_count:\n",
        "                return ope_nums\n",
        "        return ope_nums"
      ],
      "metadata": {
        "id": "7N6VBRdIDUwD"
      },
      "execution_count": 9,
      "outputs": []
    },
    {
      "cell_type": "code",
      "source": [
        "run_test_cases(Solution(), \"minimumOperations\")"
      ],
      "metadata": {
        "id": "DSgVrw0oNgBn"
      },
      "execution_count": 10,
      "outputs": []
    },
    {
      "cell_type": "code",
      "source": [],
      "metadata": {
        "id": "TQaghcXpyoCl"
      },
      "execution_count": null,
      "outputs": []
    }
  ]
}
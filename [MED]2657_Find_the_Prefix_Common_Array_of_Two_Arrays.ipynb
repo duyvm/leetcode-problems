{
  "nbformat": 4,
  "nbformat_minor": 0,
  "metadata": {
    "colab": {
      "provenance": [],
      "authorship_tag": "ABX9TyN2ro+PZEGkUj13oDPApxqA",
      "include_colab_link": true
    },
    "kernelspec": {
      "name": "python3",
      "display_name": "Python 3"
    },
    "language_info": {
      "name": "python"
    }
  },
  "cells": [
    {
      "cell_type": "markdown",
      "metadata": {
        "id": "view-in-github",
        "colab_type": "text"
      },
      "source": [
        "<a href=\"https://colab.research.google.com/github/duyvm/leetcode-problems/blob/main/%5BMED%5D2657_Find_the_Prefix_Common_Array_of_Two_Arrays.ipynb\" target=\"_parent\"><img src=\"https://colab.research.google.com/assets/colab-badge.svg\" alt=\"Open In Colab\"/></a>"
      ]
    },
    {
      "cell_type": "markdown",
      "source": [
        "## 2657. Find the Prefix Common Array of Two Arrays\n",
        "\n",
        "https://leetcode.com/problems/find-the-prefix-common-array-of-two-arrays/description/\n",
        "\n",
        "You are given two **0-indexed** integer permutations `A` and `B` of length `n`.\n",
        "\n",
        "A prefix common array of `A` and `B` is an array `C` such that `C[i]` is equal to the count of numbers that are present at or before the index `i` in both `A` and `B`.\n",
        "\n",
        "Return the **prefix common array** of `A` and `B`.\n",
        "\n",
        "A sequence of `n` integers is called a permutation if it contains all integers from `1` to `n` exactly once.\n",
        "\n",
        "**Constraints:**\n",
        "\n",
        "- `1 <= A.length == B.length == n <= 50`\n",
        "- `1 <= A[i], B[i] <= n`\n",
        "- `It is guaranteed that A and B are both a permutation of n integers.`"
      ],
      "metadata": {
        "id": "OhbFjTlo_zih"
      }
    },
    {
      "cell_type": "markdown",
      "source": [
        "**Example 1:**\n",
        "\n",
        "**Input:** A = [1,3,2,4], B = [3,1,2,4]\n",
        "\n",
        "**Output:** [0,2,3,4]\n",
        "\n",
        "**Explanation:** At i = 0: no number is common, so C[0] = 0.\n",
        "\n",
        "At i = 1: 1 and 3 are common in A and B, so C[1] = 2.\n",
        "\n",
        "At i = 2: 1, 2, and 3 are common in A and B, so C[2] = 3.\n",
        "\n",
        "At i = 3: 1, 2, 3, and 4 are common in A and B, so C[3] = 4.\n",
        "\n",
        "**Example 2:**\n",
        "\n",
        "**Input:** A = [2,3,1], B = [3,1,2]\n",
        "\n",
        "**Output:** [0,1,3]\n",
        "\n",
        "**Explanation:** At i = 0: no number is common, so C[0] = 0.\n",
        "\n",
        "At i = 1: only 3 is common in A and B, so C[1] = 1.\n",
        "\n",
        "At i = 2: 1, 2, and 3 are common in A and B, so C[2] = 3."
      ],
      "metadata": {
        "id": "IEpVafbfC7W-"
      }
    },
    {
      "cell_type": "markdown",
      "source": [
        "## Observations\n",
        "\n",
        "A **prefix common array** `C` is\n",
        "\n",
        "- For index `i` of `C`: `C[i]` = count of number appear in both `A[:i+1]` and `B[:i+1]`\n",
        "\n",
        "- Let `setA` and `setB` keep track of appeared number in `S` and `B` respectively\n",
        "\n",
        "- From left to right:\n",
        "\n",
        "    - If `A[i] = B[i]` then `C[i] = C[i-1] + 1`\n",
        "\n",
        "    - If `A[i] != B[i]`:\n",
        "        - let `increment = 0`\n",
        "        - if `A[i]` in `setB` then\n",
        "            - `increment += 1`\n",
        "            - remove `A[i]`from  `setB`\n",
        "        - else add `A[i]` to `setB`\n",
        "\n",
        "        - if `B[i]` in `setA` then\n",
        "            - `increment += 1`\n",
        "            - remove `B[i]`from  `setA`\n",
        "        - else add `B[i]` to `setA`\n",
        "        \n",
        "        - `C[i] = C[i-1] + increment`"
      ],
      "metadata": {
        "id": "e4M1bpIEDWc6"
      }
    },
    {
      "cell_type": "code",
      "source": [
        "test_cases = [\n",
        "    {\n",
        "        \"input\": {\n",
        "            \"A\": [1,3,2,4],\n",
        "            \"B\": [3,1,2,4]\n",
        "        },\n",
        "        \"output\": [0,2,3,4]\n",
        "    },\n",
        "    {\n",
        "        \"input\": {\n",
        "            \"A\": [2,3,1],\n",
        "            \"B\": [3,1,2]\n",
        "        },\n",
        "        \"output\": [0,1,3]\n",
        "    },\n",
        "]"
      ],
      "metadata": {
        "id": "wNzMYBytDXO7"
      },
      "execution_count": null,
      "outputs": []
    },
    {
      "cell_type": "code",
      "source": [
        "from typing import List\n",
        "\n",
        "class Solution:\n",
        "    def findThePrefixCommonArray(self, A: List[int], B: List[int]) -> List[int]:\n",
        "        C = [0] * len(A)\n",
        "\n",
        "        setA = set()\n",
        "        setB = set()\n",
        "\n",
        "        if A[0] == B[0]:\n",
        "            C[0] = 1\n",
        "        else:\n",
        "            setA.add(A[0])\n",
        "            setB.add(B[0])\n",
        "\n",
        "        for i in range(1, len(A)):\n",
        "            if A[i] == B[i]:\n",
        "                C[i] = C[i-1] + 1\n",
        "                continue\n",
        "\n",
        "            incr = 0\n",
        "\n",
        "            if A[i] in setB:\n",
        "                incr += 1\n",
        "                setB.remove(A[i])\n",
        "            else:\n",
        "                setA.add(A[i])\n",
        "\n",
        "            if B[i] in setA:\n",
        "                incr += 1\n",
        "                setA.remove(B[i])\n",
        "            else:\n",
        "                setB.add(B[i])\n",
        "\n",
        "            C[i] = C[i-1] + incr\n",
        "\n",
        "        return C"
      ],
      "metadata": {
        "id": "7N6VBRdIDUwD"
      },
      "execution_count": null,
      "outputs": []
    },
    {
      "cell_type": "code",
      "source": [
        "solution = Solution()\n",
        "for test_case in test_cases:\n",
        "    result = solution.findThePrefixCommonArray(test_case[\"input\"][\"A\"], test_case[\"input\"][\"B\"])\n",
        "    if result != test_case[\"output\"]:\n",
        "        print(f'Failed test case with input: {test_case[\"input\"]} and output: {test_case[\"output\"]} vs result: {result}')"
      ],
      "metadata": {
        "id": "CMDKnxwjGL6v"
      },
      "execution_count": null,
      "outputs": []
    }
  ]
}
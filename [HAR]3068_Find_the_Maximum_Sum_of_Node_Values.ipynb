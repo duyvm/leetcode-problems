{
  "nbformat": 4,
  "nbformat_minor": 0,
  "metadata": {
    "colab": {
      "provenance": [],
      "authorship_tag": "ABX9TyM4OqzoXHi0cghE2Z9EVjxy",
      "include_colab_link": true
    },
    "kernelspec": {
      "name": "python3",
      "display_name": "Python 3"
    },
    "language_info": {
      "name": "python"
    }
  },
  "cells": [
    {
      "cell_type": "markdown",
      "metadata": {
        "id": "view-in-github",
        "colab_type": "text"
      },
      "source": [
        "<a href=\"https://colab.research.google.com/github/duyvm/leetcode-problems/blob/main/%5BHAR%5D3068_Find_the_Maximum_Sum_of_Node_Values.ipynb\" target=\"_parent\"><img src=\"https://colab.research.google.com/assets/colab-badge.svg\" alt=\"Open In Colab\"/></a>"
      ]
    },
    {
      "cell_type": "markdown",
      "source": [
        "# 3068. Find the Maximum Sum of Node Values\n",
        "\n",
        "https://leetcode.com/problems/find-the-maximum-sum-of-node-values/description/\n",
        "\n",
        "There exists an **undirected tree** with `n` nodes numbered `0` to `n - 1`. You are given a **0-indexed** 2D integer array edges of length `n - 1`, where edges`[i] = [u`<sub>`i`</sub>`, v`<sub>`i`</sub>`]` indicates that there is an edge between nodes `u`<sub>`i`</sub> and `v`<sub>`i`</sub> in the tree. You are also given a positive integer `k`, and a **0-indexed** array of non-negative integers `nums` of length `n`, where `nums[i]` represents the value of the node numbered `i`.\n",
        "\n",
        "Alice wants the sum of values of tree nodes to be **maximum**, for which Alice can perform the following operation **any** number of times (**including zero**) on the tree:\n",
        "\n",
        "- Choose any edge `[u, v]` connecting the nodes `u` and `v`, and update their **values** as follows:\n",
        "\n",
        "   - `nums[u] = nums[u] XOR k`\n",
        "\n",
        "   - `nums[v] = nums[v] XOR k`\n",
        "\n",
        "Return the **maximum** possible sum of the values Alice can achieve by performing the operation **any** number of times.\n",
        "\n",
        "**Constraints:**\n",
        "- `2 <= n == nums.length <= 2 * 10`<sup>`4`</sup>\n",
        "- `1 <= k <= 10`<sup>`9`</sup>\n",
        "- `0 <= nums[i] <= 10`<sup>`9`</sup>\n",
        "- `edges.length == n - 1`\n",
        "- `edges[i].length == 2`\n",
        "- `0 <= edges[i][0], edges[i][1] <= n - 1`\n",
        "- The input is generated such that edges represent a valid tree."
      ],
      "metadata": {
        "id": "OhbFjTlo_zih"
      }
    },
    {
      "cell_type": "markdown",
      "source": [
        "**Example 1**\n",
        "\n",
        "![img1](https://drive.google.com/uc?id=12t0_-SwAKLOM6AN9RG0UWrbpSVw51ceW)\n",
        "\n",
        "Alice can achieve the maximum sum of 6 using a single operation:\n",
        "- Choose the edge `[0,2]`. `nums[0]` and `nums[2]` become: `1 XOR 3 = 2`, and the array nums becomes: `[1,2,1]` -> `[2,2,2]`.\n",
        "- The total sum of values is `2 + 2 + 2 = 6`.\n",
        "- It can be shown that `6` is the maximum achievable sum of values.\n"
      ],
      "metadata": {
        "id": "fpzLoyGP_hhQ"
      }
    },
    {
      "cell_type": "code",
      "source": [
        "test_case1 =  {\n",
        "            \"input\": {\n",
        "                \"nums\": [1,2,1],\n",
        "                \"k\": 3,\n",
        "                \"edges\": [[0,1],[0,2]],\n",
        "                \"isReturnResult\": True,\n",
        "            },\n",
        "            \"output\": 6\n",
        "        }"
      ],
      "metadata": {
        "id": "VD9YirfAdayx"
      },
      "execution_count": 4,
      "outputs": []
    },
    {
      "cell_type": "markdown",
      "source": [
        "**Example 2**\n",
        "\n",
        "![img2](https://drive.google.com/uc?id=1YiIRiIAKvVSwiuqs0o5lStVUxH5p47Lo)\n",
        "\n",
        "Alice can achieve the maximum sum of `9` using a single operation:\n",
        "- Choose the edge `[0,1]`. `nums[0]` becomes: `2 XOR 7 = 5` and `nums[1]` become: `3 XOR 7 = 4`, and the array nums becomes: `[2,3]` -> `[5,4]`.\n",
        "- The total sum of values is `5 + 4 = 9`.\n",
        "- It can be shown that `9` is the maximum achievable sum of values.\n"
      ],
      "metadata": {
        "id": "mbBM8XtKAGH5"
      }
    },
    {
      "cell_type": "code",
      "source": [
        "test_case2 =  {\n",
        "            \"input\": {\n",
        "                \"nums\": [2,3],\n",
        "                \"k\": 7,\n",
        "                \"edges\": [[0,1]],\n",
        "                \"isReturnResult\": True,\n",
        "            },\n",
        "            \"output\": 9\n",
        "        }"
      ],
      "metadata": {
        "id": "t94gDHfzAN4K"
      },
      "execution_count": 5,
      "outputs": []
    },
    {
      "cell_type": "markdown",
      "source": [
        "**Example 3**\n",
        "\n",
        "![img3](https://drive.google.com/uc?id=1EXuV1ajM77mdXpwu8NABo63boJWrQNkY)\n",
        "\n",
        "The maximum achievable sum is `42` which can be achieved by Alice performing no operations.\n"
      ],
      "metadata": {
        "id": "mru0s3FAGLzF"
      }
    },
    {
      "cell_type": "code",
      "source": [
        "test_case3 =  {\n",
        "            \"input\": {\n",
        "                \"nums\": [7,7,7,7,7,7],\n",
        "                \"k\": 3,\n",
        "                \"edges\": [[0,1],[0,2],[0,3],[0,4],[0,5]],\n",
        "                \"isReturnResult\": True,\n",
        "            },\n",
        "            \"output\": 42\n",
        "        }"
      ],
      "metadata": {
        "id": "BKid7pBZGL6x"
      },
      "execution_count": 6,
      "outputs": []
    },
    {
      "cell_type": "code",
      "source": [
        "test_cases = [test_case1, test_case2, test_case3]"
      ],
      "metadata": {
        "id": "1XSGQbp1ASCu"
      },
      "execution_count": 7,
      "outputs": []
    },
    {
      "cell_type": "code",
      "source": [
        "def run_test_cases(solution, function_name):\n",
        "    for i in range(len(test_cases)):\n",
        "        run_test_case(solution, function_name, i)\n",
        "\n",
        "def run_test_case(solution, function_name, i):\n",
        "    test_case = test_cases[i]\n",
        "    result = getattr(solution, function_name)(**test_case[\"input\"])\n",
        "    if result != test_case[\"output\"]:\n",
        "        print(f'Failed test case {i} with input: {test_case[\"input\"]} and expected result: {test_case[\"output\"]} vs actual result: {result}')"
      ],
      "metadata": {
        "id": "eefq238-1jIb"
      },
      "execution_count": 8,
      "outputs": []
    },
    {
      "cell_type": "markdown",
      "source": [
        "# Approach 1\n",
        "\n",
        "## Observations\n",
        "\n",
        "\n",
        "\n",
        "## Analysis\n",
        "\n",
        "- Time complexity:"
      ],
      "metadata": {
        "id": "e4M1bpIEDWc6"
      }
    },
    {
      "cell_type": "markdown",
      "source": [
        "### Implementation"
      ],
      "metadata": {
        "id": "TTw8uVbRkXtT"
      }
    },
    {
      "cell_type": "code",
      "source": [
        "from typing import List, Optional\n",
        "from collections import defaultdict\n",
        "from collections import deque\n",
        "from heapq import heapify, heappush, heappop\n",
        "from queue import PriorityQueue\n",
        "from collections import Counter\n",
        "import math\n",
        "\n",
        "class Solution:\n",
        "    def maximumValueSum(self, nums: List[int], k: int, edges: List[List[int]], isReturnResult=False) -> int:\n",
        "\n",
        "        pass"
      ],
      "metadata": {
        "id": "7N6VBRdIDUwD"
      },
      "execution_count": 9,
      "outputs": []
    },
    {
      "cell_type": "code",
      "source": [
        "run_test_cases(Solution(), \"maximumValueSum\")"
      ],
      "metadata": {
        "id": "QI2JhBGdQw2Q",
        "colab": {
          "base_uri": "https://localhost:8080/"
        },
        "outputId": "4b827c0c-e47f-4e7e-a30c-f955d6399f41"
      },
      "execution_count": 10,
      "outputs": [
        {
          "output_type": "stream",
          "name": "stdout",
          "text": [
            "Failed test case 0 with input: {'nums': [1, 2, 1], 'k': 3, 'edges': [[0, 1], [0, 2]], 'isReturnResult': True} and expected result: 6 vs actual result: None\n",
            "Failed test case 1 with input: {'nums': [2, 3], 'k': 7, 'edges': [[0, 1]], 'isReturnResult': True} and expected result: 9 vs actual result: None\n",
            "Failed test case 2 with input: {'nums': [7, 7, 7, 7, 7, 7], 'k': 3, 'edges': [[0, 1], [0, 2], [0, 3], [0, 4], [0, 5]], 'isReturnResult': True} and expected result: 42 vs actual result: None\n"
          ]
        }
      ]
    },
    {
      "cell_type": "code",
      "source": [],
      "metadata": {
        "id": "_Ecp1agyntmM"
      },
      "execution_count": null,
      "outputs": []
    }
  ]
}
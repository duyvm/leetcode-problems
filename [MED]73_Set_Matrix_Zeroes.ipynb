{
  "nbformat": 4,
  "nbformat_minor": 0,
  "metadata": {
    "colab": {
      "provenance": [],
      "authorship_tag": "ABX9TyMGRh90M3A5kogZ1TI96Ok6",
      "include_colab_link": true
    },
    "kernelspec": {
      "name": "python3",
      "display_name": "Python 3"
    },
    "language_info": {
      "name": "python"
    }
  },
  "cells": [
    {
      "cell_type": "markdown",
      "metadata": {
        "id": "view-in-github",
        "colab_type": "text"
      },
      "source": [
        "<a href=\"https://colab.research.google.com/github/duyvm/leetcode-problems/blob/main/%5BMED%5D73_Set_Matrix_Zeroes.ipynb\" target=\"_parent\"><img src=\"https://colab.research.google.com/assets/colab-badge.svg\" alt=\"Open In Colab\"/></a>"
      ]
    },
    {
      "cell_type": "markdown",
      "source": [
        "# 73. Set Matrix Zeroes\n",
        "\n",
        "https://leetcode.com/problems/set-matrix-zeroes/description/\n",
        "\n",
        "Given an `m x n` integer matrix `matrix`, if an element is `0`, set its entire row and column to `0`'s.\n",
        "\n",
        "You must do it **in place**.\n",
        "\n",
        "**Constraints:**\n",
        "- `m == matrix.length`\n",
        "- `n == matrix[0].length`\n",
        "- `1 <= m, n <= 200`\n",
        "- `-2`<sup>`31`</sup>` <= matrix[i][j] <= 2`<sup>`31`</sup>` - 1`"
      ],
      "metadata": {
        "id": "OhbFjTlo_zih"
      }
    },
    {
      "cell_type": "markdown",
      "source": [
        "**Example 1**\n",
        "\n",
        "![img](https://drive.google.com/uc?id=1NUdBn0q1yiayCbyNwaWPxbT7TahANN4I)"
      ],
      "metadata": {
        "id": "fpzLoyGP_hhQ"
      }
    },
    {
      "cell_type": "code",
      "source": [
        "test_case1 =  {\n",
        "            \"input\": {\n",
        "                \"matrix\": [[1,1,1],[1,0,1],[1,1,1]],\n",
        "                \"isReturnResult\": True\n",
        "            },\n",
        "            \"output\": [[1,0,1],[0,0,0],[1,0,1]]\n",
        "        }"
      ],
      "metadata": {
        "id": "VD9YirfAdayx"
      },
      "execution_count": null,
      "outputs": []
    },
    {
      "cell_type": "markdown",
      "source": [
        "**Example 2**\n",
        "\n",
        "![img](https://drive.google.com/uc?id=1WviAuASozNSEpYIBXMi-V-fIIMOYUFM6)"
      ],
      "metadata": {
        "id": "mbBM8XtKAGH5"
      }
    },
    {
      "cell_type": "code",
      "source": [
        "test_case2 =  {\n",
        "            \"input\": {\n",
        "                \"matrix\": [[0,1,2,0],[3,4,5,2],[1,3,1,5]],\n",
        "                \"isReturnResult\": True\n",
        "            },\n",
        "            \"output\": [[0,0,0,0],[0,4,5,0],[0,3,1,0]]\n",
        "        }"
      ],
      "metadata": {
        "id": "t94gDHfzAN4K"
      },
      "execution_count": null,
      "outputs": []
    },
    {
      "cell_type": "code",
      "source": [
        "test_cases = [test_case1, test_case2]"
      ],
      "metadata": {
        "id": "1XSGQbp1ASCu"
      },
      "execution_count": null,
      "outputs": []
    },
    {
      "cell_type": "code",
      "source": [
        "def run_test_cases(solution, function_name):\n",
        "    for i in range(len(test_cases)):\n",
        "        run_test_case(solution, function_name, i)\n",
        "\n",
        "def run_test_case(solution, function_name, i):\n",
        "    test_case = test_cases[i]\n",
        "    result = getattr(solution, function_name)(**test_case[\"input\"])\n",
        "    if result != test_case[\"output\"]:\n",
        "        print(f'Failed test case {i} with input: {test_case[\"input\"]} and expected result: {test_case[\"output\"]} vs actual result: {result}')"
      ],
      "metadata": {
        "id": "eefq238-1jIb"
      },
      "execution_count": null,
      "outputs": []
    },
    {
      "cell_type": "markdown",
      "source": [
        "# Approach 1 - Beats 5% in both time and memory\n",
        "\n",
        "## Observations\n",
        "\n",
        "- We can not modify the matrix on the fly, because after setting a row or column to `0`'s, we can not distinguish if the following cells are original `0`'s or modified by previous operation.\n",
        "\n",
        "- Instead, we tranverse the matrix and store all will-be-updated cells information to a set. After collecting all the will-be-updated cells information, we proceed to set them to `0`'s\n",
        "\n",
        "## Analysis\n",
        "\n",
        "- Time complexity:\n",
        "\n",
        "  - One pass through matrix to find the will-be-updated cells: `0(m * n)`\n",
        "\n",
        "  - One pass through the set to update cells to `0`: `0(m * n)`\n",
        "\n",
        "- Memory complexity:\n",
        "  \n",
        "  - The worst case is setting all the matrix's cells to `0`'s, so the additional memory to store will-be-updated cells is: `0(m * n)`"
      ],
      "metadata": {
        "id": "e4M1bpIEDWc6"
      }
    },
    {
      "cell_type": "markdown",
      "source": [
        "### Implementation"
      ],
      "metadata": {
        "id": "TTw8uVbRkXtT"
      }
    },
    {
      "cell_type": "code",
      "source": [
        "from typing import List, Optional\n",
        "from collections import defaultdict\n",
        "from collections import deque\n",
        "from heapq import heapify, heappush, heappop\n",
        "from queue import PriorityQueue\n",
        "from collections import Counter\n",
        "import math\n",
        "\n",
        "class Solution:\n",
        "    def setZeroes(self, matrix: List[List[int]], isReturnResult=False) -> None:\n",
        "        \"\"\"\n",
        "        Do not return anything, modify matrix in-place instead.\n",
        "        \"\"\"\n",
        "        updateCells = set()\n",
        "        matrix_size = (len(matrix), len(matrix[0]))\n",
        "        for row in range(matrix_size[0]):\n",
        "            for col in range(matrix_size[1]):\n",
        "                if matrix[row][col] == 0:\n",
        "                    updateCells.update(self.getUpdateCellsByRow(row, col, matrix_size))\n",
        "                    updateCells.update(self.getUpdateCellsByCol(row, col, matrix_size))\n",
        "\n",
        "        for row, col in updateCells:\n",
        "            matrix[row][col] = 0\n",
        "\n",
        "        if isReturnResult:\n",
        "            return matrix\n",
        "\n",
        "\n",
        "    def getUpdateCellsByRow(self, row, col, matrix_size) -> None:\n",
        "        \"\"\"\n",
        "        Set whole row i to 0's\n",
        "        \"\"\"\n",
        "        targetCell = set()\n",
        "        max_row, max_col = matrix_size\n",
        "        for i in range(max_col):\n",
        "            targetCell.add((row, i))\n",
        "        return targetCell\n",
        "\n",
        "    def getUpdateCellsByCol(self, row, col, matrix_size) -> None:\n",
        "        \"\"\"\n",
        "        Set whole col i to 0's\n",
        "        \"\"\"\n",
        "        targetCell = set()\n",
        "        max_row, max_col = matrix_size\n",
        "        for i in range(max_row):\n",
        "            targetCell.add((i, col))\n",
        "        return targetCell"
      ],
      "metadata": {
        "id": "7N6VBRdIDUwD"
      },
      "execution_count": null,
      "outputs": []
    },
    {
      "cell_type": "code",
      "source": [
        "run_test_cases(Solution(), \"setZeroes\")"
      ],
      "metadata": {
        "id": "QI2JhBGdQw2Q"
      },
      "execution_count": null,
      "outputs": []
    },
    {
      "cell_type": "markdown",
      "source": [
        "# Approach 2 - Beats 100% in time and 90% in memory\n",
        "\n",
        "## Observations\n",
        "\n",
        "- Instead of storing location off will-be-updated cells in approach 1, we can just store the rows and columns that need to be set to `0`'s in two different sets\n",
        "\n",
        "- Then we set the rows and columns to `0`'s based on that information\n",
        "\n",
        "## Analysis\n",
        "\n",
        "- Time complexity: `0(m * n)`\n",
        "\n",
        "  - One pass through matrix to find the will-be-updated rows and columns: `0(m * n)`\n",
        "\n",
        "  - Update matrix to `0`: `0(m * n)`\n",
        "\n",
        "- Memory complexity: `0(m * n)`\n",
        "  \n",
        "  - Additional memory to store will-be-updated will-be-updated rows and columns is: `0(m + n)`"
      ],
      "metadata": {
        "id": "wXpBtc4B6slP"
      }
    },
    {
      "cell_type": "code",
      "source": [
        "from typing import List, Optional\n",
        "from collections import defaultdict\n",
        "from collections import deque\n",
        "from heapq import heapify, heappush, heappop\n",
        "from queue import PriorityQueue\n",
        "from collections import Counter\n",
        "import math\n",
        "\n",
        "class Solution:\n",
        "    def setZeroes(self, matrix: List[List[int]], isReturnResult=False) -> None:\n",
        "        \"\"\"\n",
        "        Do not return anything, modify matrix in-place instead.\n",
        "        \"\"\"\n",
        "        zeroRowNum = set()\n",
        "        zeroColNum = set()\n",
        "        for row in range(len(matrix)):\n",
        "            for col in range(len(matrix[0])):\n",
        "                if matrix[row][col] == 0:\n",
        "                    zeroRowNum.add(row)\n",
        "                    zeroColNum.add(col)\n",
        "\n",
        "        for row in zeroRowNum:\n",
        "            matrix[row] = [0] * len(matrix[0])\n",
        "\n",
        "        for col in zeroColNum:\n",
        "            for _row in matrix:\n",
        "                _row[col] = 0\n",
        "\n",
        "        if isReturnResult:\n",
        "            return matrix"
      ],
      "metadata": {
        "id": "Ilmk-4bm1LLf"
      },
      "execution_count": null,
      "outputs": []
    },
    {
      "cell_type": "markdown",
      "source": [
        "# Approach 3 - Beats 75% in time and 70% in memory\n",
        "\n",
        "## Observations\n",
        "\n",
        "- Instead of using two additional set for storing rows and columns that need to be set to `0`'s. We can directly modified the cells at the top row and left column to a flag `\"x\"`, indicate that the whole row/column need to be set to `0`'s\n",
        "\n",
        "- We need to be careful when consider the top row and left column\n",
        "\n",
        "## Analysis\n",
        "\n",
        "- Time complexity: `0(m * n)`\n",
        "\n",
        "  - One pass through matrix to find the will-be-updated rows and columns: `0(m * n)`\n",
        "\n",
        "  - Update matrix to `0`: `0(m * n)`\n",
        "\n",
        "- Memory complexity: `0(1)` ???\n",
        "  \n",
        "  - Use constant memory for computing: `0(1)`"
      ],
      "metadata": {
        "id": "qtQwaT5X-4VY"
      }
    },
    {
      "cell_type": "code",
      "source": [
        "from typing import List, Optional\n",
        "from collections import defaultdict\n",
        "from collections import deque\n",
        "from heapq import heapify, heappush, heappop\n",
        "from queue import PriorityQueue\n",
        "from collections import Counter\n",
        "import math\n",
        "\n",
        "class Solution:\n",
        "    def setZeroes(self, matrix: List[List[int]], isReturnResult=False) -> None:\n",
        "        \"\"\"\n",
        "        Do not return anything, modify matrix in-place instead.\n",
        "        \"\"\"\n",
        "        # set flag for will-be-updated rows and columns\n",
        "        is_modified_top_row = False\n",
        "        for col in range(1, len(matrix[0])):\n",
        "            if matrix[0][col] == 0:\n",
        "                is_modified_top_row = True\n",
        "                matrix[0][col] = \"x\"\n",
        "\n",
        "\n",
        "        is_modified_left_col = False\n",
        "        for row in range(1, len(matrix)):\n",
        "            if matrix[row][0] == 0:\n",
        "                is_modified_left_col = True\n",
        "                matrix[row][0] = \"x\"\n",
        "\n",
        "        # set flag for matrix[0][0]\n",
        "        matrix[0][0] = ((matrix[0][0] == 0 or is_modified_top_row and is_modified_left_col) and \"rc\") \\\n",
        "                         or (is_modified_top_row and \"r\") or (is_modified_left_col and \"c\") or matrix[0][0]\n",
        "\n",
        "        for row in range(1, len(matrix)):\n",
        "            for col in range(1, len(matrix[0])):\n",
        "                if matrix[row][col] == 0:\n",
        "                    matrix[row][0] = \"x\"\n",
        "                    matrix[0][col] = \"x\"\n",
        "\n",
        "        # set zeros for will-be-updated rows and columns\n",
        "        for row in range(1, len(matrix)):\n",
        "            if matrix[row][0] == \"x\":\n",
        "                for col in range(0, len(matrix[0])):\n",
        "                    matrix[row][col] = 0\n",
        "\n",
        "        for col in range(1, len(matrix[0])):\n",
        "            if matrix[0][col] == \"x\":\n",
        "                for row in range(0, len(matrix)):\n",
        "                    matrix[row][col] = 0\n",
        "\n",
        "        # finally, set top row and left column based on matrix[0][0]\n",
        "        if matrix[0][0] == \"r\":\n",
        "            for col in range(0, len(matrix[0])):\n",
        "                matrix[0][col] = 0\n",
        "\n",
        "        if matrix[0][0] == \"c\":\n",
        "            for row in range(0, len(matrix)):\n",
        "                matrix[row][0] = 0\n",
        "\n",
        "        if matrix[0][0] == \"rc\":\n",
        "            for row in range(0, len(matrix)):\n",
        "                matrix[row][0] = 0\n",
        "            for col in range(0, len(matrix[0])):\n",
        "                matrix[0][col] = 0\n",
        "\n",
        "        if isReturnResult:\n",
        "            return matrix"
      ],
      "metadata": {
        "id": "q4moaTl_-4es"
      },
      "execution_count": null,
      "outputs": []
    },
    {
      "cell_type": "code",
      "source": [
        "run_test_cases(Solution(), \"setZeroes\")"
      ],
      "metadata": {
        "id": "oF6V68He_SXe"
      },
      "execution_count": null,
      "outputs": []
    }
  ]
}
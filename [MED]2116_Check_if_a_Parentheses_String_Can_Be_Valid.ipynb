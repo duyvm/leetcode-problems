{
  "nbformat": 4,
  "nbformat_minor": 0,
  "metadata": {
    "colab": {
      "provenance": [],
      "authorship_tag": "ABX9TyMe1fQ0SYppNhJM6omhaV8g",
      "include_colab_link": true
    },
    "kernelspec": {
      "name": "python3",
      "display_name": "Python 3"
    },
    "language_info": {
      "name": "python"
    }
  },
  "cells": [
    {
      "cell_type": "markdown",
      "metadata": {
        "id": "view-in-github",
        "colab_type": "text"
      },
      "source": [
        "<a href=\"https://colab.research.google.com/github/duyvm/leetcode-problems/blob/main/%5BMED%5D2116_Check_if_a_Parentheses_String_Can_Be_Valid.ipynb\" target=\"_parent\"><img src=\"https://colab.research.google.com/assets/colab-badge.svg\" alt=\"Open In Colab\"/></a>"
      ]
    },
    {
      "cell_type": "markdown",
      "source": [
        "# 2116. Check if a Parentheses String Can Be Valid\n",
        "\n",
        "https://leetcode.com/problems/check-if-a-parentheses-string-can-be-valid/description/\n",
        "\n",
        "A parentheses string is a non-empty string consisting only of '(' and ')'. It is valid if any of the following conditions is true:\n",
        "\n",
        "- It is `()`.\n",
        "\n",
        "- It can be written as `AB` (`A` concatenated with `B`), where `A` and `B` are valid parentheses strings.\n",
        "\n",
        "- It can be written as `(A)`, where `A` is a valid parentheses string.\n",
        "\n",
        "You are given a parentheses string `s` and a string `locked`, both of length `n`. locked is a binary string consisting only of `'0'`s and `'1'`s. For each index `i` of `locked`,\n",
        "\n",
        "- If `locked[i]` is `'1'`, you cannot change `s[i]`.\n",
        "\n",
        "- But if `locked[i]` is `'0`', you can change `s[i]` to either `'('` or `')'`.\n",
        "\n",
        "Return `true` if you can make `s` a valid parentheses string. Otherwise, return `false`.\n",
        "\n",
        "\n",
        "\n",
        "---\n",
        "\n",
        "\n",
        "**Example 1:**\n",
        "\n",
        "\n",
        "- Input: `s = \"))()))\"`, `locked = \"010100\"`\n",
        "\n",
        "- Output: `true`\n",
        "\n",
        "- Explanation: `locked[1] == '1'` and `locked[3] == '1'`, so we cannot change `s[1]` or `s[3]`.We change `s[0]` and `s[4]` to `'('` while leaving `s[2]` and `s[5]` unchanged to make `s` valid.\n",
        "\n",
        "**Example 2:**\n",
        "\n",
        "- Input: `s = \"()()\"`, `locked = \"0000\"`\n",
        "\n",
        "- Output: `true`\n",
        "\n",
        "- Explanation: We do not need to make any changes because `s` is already valid.\n",
        "\n",
        "\n",
        "**Example 3:**\n",
        "\n",
        "- Input: `s = \")\"`, `locked = \"0\"`\n",
        "\n",
        "- Output: `false`\n",
        "\n",
        "- Explanation: `locked` permits us to change `s[0]`.\n",
        "Changing `s[0]` to either `'('` or `')'` will not make `s` valid.\n",
        "\n",
        "---\n",
        "\n",
        "**Constraints:**\n",
        "\n",
        "- `n == s.length == locked.length`\n",
        "\n",
        "- `1 <= n <= 105`\n",
        "\n",
        "- `s[i]` is either `'('` or `')'`.\n",
        "\n",
        "- `locked[i]` is either `'0'` or `'1'`."
      ],
      "metadata": {
        "id": "INwDKCRAmRPH"
      }
    },
    {
      "cell_type": "markdown",
      "source": [
        "# Observations\n",
        "\n",
        "\n",
        "A valid parentheses string is\n",
        "\n",
        "*   `s` length must be even\n",
        "*   number of `'('` and `')'` must be equal and is `n//2`\n",
        "*   count of locked `'('` and `')'` must be smaller than `n//2`\n",
        "*   start of string must be `'('`, end of string must be `')'`\n",
        "\n",
        "Approach:\n",
        "1. We have `count_left` to count `'('` and `count_right` to count `')'`\n",
        "2. Start from `left` side of `s`:\n",
        " - If `s[left]` is `'('` then do nothing and add `1` to `count_left`   \n",
        " - Else if `locked[left]` is '0', convert it to `'('` and add `1` to `count_left`\n",
        " - Else minus `1` from `count_left`\n",
        " - If `count_left` >= 0 continue to next char until n//2\n",
        " - Else can not be valid\n",
        "3. Start from `right` side of `s`:\n",
        " - If `s[right]` is `')'` then do nothing and add `1` to `count_right`   \n",
        " - Else if `locked[right]` is '0', convert it to `')'` and add `1` to `count_right`\n",
        " - Else minus `1` from `count_right`\n",
        " - If `count_right` >= 0 continue to next char until n//2\n",
        " - Else can not be valid\n",
        "4. If `count_left` = `count_right` -> can be valid else can not be valid\n",
        "\n",
        "Observations follow above approach:\n",
        "\n",
        "1.  Input: `'s': '))()))'`, `'locked': '010100'`. Output: `True`\n",
        "2.  The `count_left` has 1\n",
        "3.  The `count_right` has 3\n",
        "4.  We can give up 2 count in `count_right` to make a pair `'()'` and make `count_left` = `count_right`\n",
        "5. Or what if `count_left` + `count_right` % 2 == 0 ???"
      ],
      "metadata": {
        "id": "dL7D_qQwoFaT"
      }
    },
    {
      "cell_type": "code",
      "source": [
        "test_cases = [\n",
        "    {\n",
        "        \"input\": {\n",
        "            \"s\": \"))()))\",\n",
        "            \"locked\": \"010100\"\n",
        "        },\n",
        "        \"output\": True\n",
        "    },\n",
        "    {\n",
        "        \"input\": {\n",
        "            \"s\": \"()()\",\n",
        "            \"locked\": \"0000\"\n",
        "        },\n",
        "        \"output\": True\n",
        "    },\n",
        "    {\n",
        "        \"input\": {\n",
        "            \"s\": \")\",\n",
        "            \"locked\": \"0\"\n",
        "        },\n",
        "        \"output\": False\n",
        "    },\n",
        "    {\n",
        "        \"input\": {\n",
        "            \"s\": \"((()(()()))()((()()))))()((()(()\",\n",
        "            \"locked\": \"10111100100101001110100010001001\"\n",
        "        },\n",
        "        \"output\": True\n",
        "    },\n",
        "    {\n",
        "        \"input\": {\n",
        "            \"s\": \"())(()(()(())()())(())((())(()())((())))))(((((((())(()))))(\",\n",
        "            \"locked\": \"100011110110011011010111100111011101111110000101001101001111\"\n",
        "        },\n",
        "        \"output\": False\n",
        "    },\n",
        "]"
      ],
      "metadata": {
        "id": "BUoecC778Y3e"
      },
      "execution_count": null,
      "outputs": []
    },
    {
      "cell_type": "code",
      "source": [
        "class Solution:\n",
        "    def canBeValid(self, s: str, locked: str) -> bool:\n",
        "        n = len(s)\n",
        "\n",
        "        if n % 2 == 1:\n",
        "            return False\n",
        "\n",
        "        count_locked = self.countLocked(s, locked)\n",
        "        if count_locked[\"(\"] > n//2 or count_locked[\")\"] > n//2:\n",
        "            return False\n",
        "\n",
        "        count_changed_left = n//2 - count_locked[\"(\"]\n",
        "\n",
        "        #print(f\"count_changed_left {count_changed_left}, count_changed_right: {count_changed_right}\")\n",
        "\n",
        "        ans = False\n",
        "\n",
        "        num_open_parenthese = 0\n",
        "\n",
        "        for i in range(n):\n",
        "            if locked[i] == \"0\":\n",
        "                if count_changed_left >0:\n",
        "                    # convert to \"(\"\n",
        "                    num_open_parenthese += 1\n",
        "                    count_changed_left -= 1\n",
        "                else:\n",
        "                    # convert to \"(\"\n",
        "                    num_open_parenthese -= 1\n",
        "            else:\n",
        "                if s[i] == \"(\":\n",
        "                    num_open_parenthese += 1\n",
        "                else:\n",
        "                    num_open_parenthese -= 1\n",
        "            #print(f\"locked[{i}]: {locked[i]}, num_open_parenthese: {num_open_parenthese}, count_changed_left: {count_changed_left}, count_changed_right: {count_changed_right}\")\n",
        "            if num_open_parenthese < 0:\n",
        "                return False\n",
        "        return num_open_parenthese == 0\n",
        "\n",
        "    def countLocked(self, s, locked):\n",
        "        count_locked = { \"(\": 0, \")\": 0}\n",
        "        for _ch, lock in zip(s, locked):\n",
        "            if lock == \"1\":\n",
        "                count_locked[_ch] += 1\n",
        "        return count_locked"
      ],
      "metadata": {
        "id": "huqFSwCY7Ck9"
      },
      "execution_count": null,
      "outputs": []
    },
    {
      "cell_type": "code",
      "source": [
        "solution = Solution()\n",
        "for test_case in test_cases:\n",
        "    result = solution.canBeValid(test_case[\"input\"][\"s\"], test_case[\"input\"][\"locked\"])\n",
        "    if result != test_case[\"output\"]:\n",
        "        print(f'Failed test case with input: {test_case[\"input\"]} and output: {test_case[\"output\"]}')"
      ],
      "metadata": {
        "id": "YLJoWEox2kXC"
      },
      "execution_count": null,
      "outputs": []
    },
    {
      "cell_type": "markdown",
      "source": [
        "# Overview\n",
        "\n",
        "We are given two strings, `s` and `locked`. The string `s` is a sequence of parentheses, consisting of opening brackets `(` and closing brackets `)`. The string `locked` is a binary string of the same length as `s`, where:\n",
        "\n",
        "- If `locked[i]` is `'1'`, the character at index `i` in `s` cannot be changed.\n",
        "\n",
        "- If `locked[i]` is  `'0'`, the character can be modified: an opening bracket `(` can become a closing bracket `)` and vice versa.\n",
        "\n",
        "Our task is to determine if it’s possible to make the sequence in `s` balanced by modifying the characters marked as changeable (`locked[i] = 0)`.\n",
        "\n",
        "What does a balanced parentheses sequence mean?\n",
        "\n",
        "A sequence of parentheses is considered balanced if:\n",
        "\n",
        "- Every opening bracket `(` has a corresponding closing bracket `)`.\n",
        "\n",
        "- The brackets are properly nested. For example, `(())` is balanced, but `())(` is not."
      ],
      "metadata": {
        "id": "eLuKZqFwf9V-"
      }
    },
    {
      "cell_type": "markdown",
      "source": [
        "# Approach 1: Stack\n",
        "\n",
        "**Intuition**\n",
        "\n",
        "To get a good intuition to this problem, we need to ensure that at any point while iterating through `s`, the number of closing brackets `)` should not exceed the number of opening brackets `(` and by the end of the string, the total number of opening and closing brackets must be equal.\n",
        "\n",
        "Observe that the locked characters (`locked[i] = 1`) cannot be modified, so they must remain fixed. However, we have the flexibility to assign the unlocked characters (`locked[i] = 0`) as either opening or closing brackets, depending on what is needed to maintain balance.\n",
        "\n",
        "The main challenge is that if at any point the number of closing brackets exceeds the number of opening brackets and there are no unlocked characters available to \"fix\" the imbalance, it’s impossible to balance the string, and we return false.\n",
        "\n",
        "And to address this, we need a way to keep track of all previously encountered unlocked characters so we can use them later if needed. Thus a stack is a suitable data structure for this, because it follows the `Last In, First Out (LIFO)` principle, which works well for keeping track of unmatched brackets.\n",
        "\n",
        "To implement this, we iterate through the string, whenever we encounter an unlocked character (`locked[i] = 0`), we push its index onto the stack.\n",
        "\n",
        "If we encounter a closing bracket `)` and find that the number of closing brackets exceeds the number of opening brackets at that point, we can \"fix\" the imbalance by popping an index from the stack and treating that unlocked character as an opening bracket `(`.\n",
        "\n",
        "If at any point we need an unlocked character to balance the string but the stack is empty (i.e., there are no more unlocked characters left), it means balancing the string is impossible, and we return `false`.\n",
        "\n",
        "After processing all the characters in the string:\n",
        "\n",
        "- If the stack still contains indices of unused unlocked characters, we can pair them up to form balanced brackets, such as `()()()`.\n",
        "\n",
        "- As long as the number of opening and closing brackets is equal by the end, the string is balanced, and we return `true`.\n",
        "\n",
        "**Algorithm**\n",
        "\n",
        "If the length of the string `s` is odd, return `false` because an odd-length string cannot have balanced parentheses.\n",
        "\n",
        "Use a stack `openBrackets` to keep track of the indices of open parentheses `'('` in the locked positions and a stack `unlocked` to keep track of the indices of positions where parentheses can be changed (`locked[i] == '0'`).\n",
        "\n",
        "For each character in the string `s`, check:\n",
        "\n",
        "- If the position is unlocked (i.e., `locked[i] == '0'`), add its index to the `unlocked` stack.\n",
        "\n",
        "- If the character is an open parenthesis '`('`, add its index to the `openBrackets` stack.\n",
        "\n",
        "- If the character is a close parenthesis `')'`:\n",
        "\n",
        "   - If there is a matching open parenthesis (i.e., the `openBrackets` stack is not empty), pop the stack.\n",
        "\n",
        "   - If no open parenthesis is available, try to use an unlocked position and pop the `unlocked` stack to match with it.\n",
        "  \n",
        "   - If neither an open parenthesis nor an unlocked position is available to match, return `false`.\n",
        "\n",
        "After processing all characters, check if there are any unmatched open parentheses remaining in the `openBrackets` stack.\n",
        "\n",
        "- If there are unmatched open parentheses, try to match them with the available unlocked positions and pop the stacks.\n",
        "\n",
        "- If any open parentheses remain unmatched, return `false`. Otherwise, return `true`."
      ],
      "metadata": {
        "id": "KVK7ryAtgN83"
      }
    },
    {
      "cell_type": "code",
      "source": [
        "class Solution:\n",
        "    def canBeValid(self, s: str, locked: str) -> bool:\n",
        "        n = len(s)\n",
        "\n",
        "        if n % 2 == 1:\n",
        "            return False\n",
        "\n",
        "        openBrackets = []\n",
        "        unlocked  = []\n",
        "\n",
        "        for i in range(n):\n",
        "            if locked[i] == '0':\n",
        "                unlocked.append(i)\n",
        "            else:\n",
        "                if s[i] == '(':\n",
        "                    openBrackets.append(i)\n",
        "                else:\n",
        "                    if openBrackets:\n",
        "                        openBrackets.pop()\n",
        "                    elif unlocked:\n",
        "                        unlocked.pop()\n",
        "                    else:\n",
        "                        return False\n",
        "            # print(f\"i: {i}, openBrackeds: {openBrackets}, unlocked: {unlocked}\")\n",
        "\n",
        "        while openBrackets and unlocked and openBrackets[-1] < unlocked[-1]:\n",
        "            openBrackets.pop()\n",
        "            unlocked.pop()\n",
        "\n",
        "        if openBrackets:\n",
        "            return False\n",
        "\n",
        "        return True"
      ],
      "metadata": {
        "id": "9gZ2MgRVhrn-"
      },
      "execution_count": null,
      "outputs": []
    },
    {
      "cell_type": "code",
      "source": [
        "solution = Solution()\n",
        "for test_case in test_cases:\n",
        "    result = solution.canBeValid(test_case[\"input\"][\"s\"], test_case[\"input\"][\"locked\"])\n",
        "    if result != test_case[\"output\"]:\n",
        "        print(f'Failed test case with input: {test_case[\"input\"]} and output: {test_case[\"output\"]}')"
      ],
      "metadata": {
        "id": "UK2LfYsOviK3"
      },
      "execution_count": null,
      "outputs": []
    },
    {
      "cell_type": "markdown",
      "source": [
        "# Approach 2: Constant Space\n",
        "\n",
        "**Intuition**\n",
        "\n",
        "In the previous approach, we used a stack to store the unlocked characters and open brackets in the order they appear in the string. However, do we actually need a stack, or is a simple count of the unlocked characters and open brackets sufficient?\n",
        "\n",
        "The stack indices are required when matching the remaining opening brackets with the unlocked characters, as shown in the code snippet below:\n",
        "```python\n",
        "        while openBrackets and unlocked and openBrackets[-1] < unlocked[-1]:\n",
        "            openBrackets.pop()\n",
        "            unlocked.pop()\n",
        "            \n",
        "        if openBrackets:\n",
        "            return False\n",
        "```\n",
        "To address this, we could explore a trick to match the brackets using only the counts of the unpaired opening brackets and unlocked characters.\n",
        "\n",
        "Since we want to balance the remaining opening brackets, note that the unlocked characters towards the end of the string can be converted into closing brackets to pair them up. This allows us to iterate from the end of the string s while maintaining a balance variable to check whether the parentheses are balanced.\n",
        "\n",
        "We use the integer counters `openBrackets` and `unlocked` from the previous steps:\n",
        "\n",
        "- If we encounter an `unlocked` character, we can treat it as a closing bracket.\n",
        "- If the balance variable indicates that the string is unbalanced at any point, we return `false`.\n",
        "\n",
        "Finally, if all the `openBrackets` are balanced by the end of the iteration, we can return `true`. Otherwise, we return `false`."
      ],
      "metadata": {
        "id": "_jHWb3yhzsij"
      }
    },
    {
      "cell_type": "markdown",
      "source": [
        "# Algorithm\n",
        "\n",
        "1. Initialize `length` as the size of the string s.\n",
        "2. Check if the `length` is odd:\n",
        " - If `length % 2 == 1`, return `false`.\n",
        "3. Initialize variables:\n",
        " - `openBrackets` to count the unmatched opening brackets.\n",
        " - `unlocked` to count the wildcard positions.\n",
        "4. Perform a forward pass to process the string:\n",
        " - Iterate through `s` from left to right.\n",
        " - For each character:\n",
        "    - If `locked[i] == '0'`, increment `unlocked`.\n",
        "    - If `s[i] == '('`, increment `openBrackets`.\n",
        "    - If `s[i] == ')'`:\n",
        "        - If `openBrackets > 0`, decrement `openBrackets`.\n",
        "        - Else if `unlocked > 0`, decrement `unlocked`.\n",
        "        - Else, return `false`.\n",
        "5. Perform a reverse pass to match remaining open brackets:\n",
        "  - Initialize `balance` to track excess unmatched opening brackets.\n",
        "  - Iterate through `s` from right to left.\n",
        "  - For each character:\n",
        "        - If `locked[i] == '0'`, decrement balance and unlocked.\n",
        "        - If `s[i] == '('`, increment balance and decrement `openBrackets`.\n",
        "        - If `s[i] == ')'`, decrement `balance`.\n",
        "        - If `balance > 0`, return `false`.\n",
        "        - If `unlocked == 0` and `openBrackets == 0`, break out of the loop.\n",
        "6. After the reverse pass:\n",
        " - If `openBrackets > 0`, return `false`.\n",
        "7. Return `true` if no unmatched brackets remain."
      ],
      "metadata": {
        "id": "D22kK7CF0bms"
      }
    },
    {
      "cell_type": "code",
      "source": [
        "class Solution:\n",
        "    def canBeValid(self, s: str, locked: str) -> bool:\n",
        "        n = len(s)\n",
        "\n",
        "        if n % 2 == 1:\n",
        "            return False\n",
        "\n",
        "        openBrackets = 0\n",
        "        unlocked = 0\n",
        "\n",
        "        for i in range(n):\n",
        "            if locked[i] == \"0\":\n",
        "                unlocked += 1\n",
        "            else:\n",
        "                if s[i] == '(':\n",
        "                    openBrackets += 1\n",
        "                else:\n",
        "                    if openBrackets > 0:\n",
        "                        openBrackets -= 1\n",
        "                    elif unlocked > 0:\n",
        "                        unlocked -= 1\n",
        "                    else:\n",
        "                        return False\n",
        "        balance = 0\n",
        "        for i in range(n-1, -1, -1):\n",
        "            if locked[i] == \"0\":\n",
        "                balance -= 1\n",
        "                unlocked -= 1\n",
        "            else:\n",
        "                if s[i] == '(':\n",
        "                    balance += 1\n",
        "                    openBrackets -= 1\n",
        "                elif s[i] == ')':\n",
        "                    balance -= 1\n",
        "\n",
        "            if balance > 0:\n",
        "                return False\n",
        "\n",
        "            if unlocked == 0 and openBrackets == 0:\n",
        "                break\n",
        "\n",
        "        if openBrackets > 0:\n",
        "            return False\n",
        "\n",
        "        return True"
      ],
      "metadata": {
        "id": "K_3npoHivz3P"
      },
      "execution_count": null,
      "outputs": []
    },
    {
      "cell_type": "code",
      "source": [
        "solution = Solution()\n",
        "for test_case in test_cases:\n",
        "    result = solution.canBeValid(test_case[\"input\"][\"s\"], test_case[\"input\"][\"locked\"])\n",
        "    if result != test_case[\"output\"]:\n",
        "        print(f'Failed test case with input: {test_case[\"input\"]} and output: {test_case[\"output\"]}')"
      ],
      "metadata": {
        "id": "7iwxgqEc-fJk"
      },
      "execution_count": null,
      "outputs": []
    },
    {
      "cell_type": "code",
      "source": [
        "openBrackets =\n",
        "if openBrackets:\n",
        "    print(\"i\")"
      ],
      "metadata": {
        "colab": {
          "base_uri": "https://localhost:8080/"
        },
        "id": "H-bXj7q2-g8p",
        "outputId": "db1863c9-fc06-4d42-aca2-0382bfe80023"
      },
      "execution_count": null,
      "outputs": [
        {
          "output_type": "stream",
          "name": "stdout",
          "text": [
            "i\n"
          ]
        }
      ]
    },
    {
      "cell_type": "code",
      "source": [],
      "metadata": {
        "id": "dpmSkFAQ-8OZ"
      },
      "execution_count": null,
      "outputs": []
    }
  ]
}
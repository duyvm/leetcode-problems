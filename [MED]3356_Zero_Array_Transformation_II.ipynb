{
  "nbformat": 4,
  "nbformat_minor": 0,
  "metadata": {
    "colab": {
      "provenance": [],
      "authorship_tag": "ABX9TyO9Q9188yCbyjQs73BdtRhT",
      "include_colab_link": true
    },
    "kernelspec": {
      "name": "python3",
      "display_name": "Python 3"
    },
    "language_info": {
      "name": "python"
    }
  },
  "cells": [
    {
      "cell_type": "markdown",
      "metadata": {
        "id": "view-in-github",
        "colab_type": "text"
      },
      "source": [
        "<a href=\"https://colab.research.google.com/github/duyvm/leetcode-problems/blob/main/%5BMED%5D3356_Zero_Array_Transformation_II.ipynb\" target=\"_parent\"><img src=\"https://colab.research.google.com/assets/colab-badge.svg\" alt=\"Open In Colab\"/></a>"
      ]
    },
    {
      "cell_type": "markdown",
      "source": [
        "# 3356. Zero Array Transformation II\n",
        "\n",
        "https://leetcode.com/problems/zero-array-transformation-ii/description\n",
        "\n",
        "You are given an integer array `nums` of length `n` and a **2D array** `queries` where `queries[i] = [l`<sub>`i`</sub>`, r`<sub>`i`</sub>`, val`<sub>`i`</sub>`]`.\n",
        "\n",
        "Each `queries[i]` represents the following action on `nums`:\n",
        "\n",
        "- Decrement the value at each index in the range `[l`<sub>`i`</sub>`, r`<sub>`i`</sub>`]` in `nums` by at most `val`<sub>`i`</sub>.\n",
        "\n",
        "- The amount by which each value is decremented can be chosen independently for each index.\n",
        "\n",
        "A **Zero Array** is an array with all its elements equal to `0`.\n",
        "\n",
        "Return the **minimum** possible **non-negative** value of `k`, such that after processing the first `k` queries in sequence, `nums` becomes a **Zero Array**. If no such `k` exists, return `-1`.\n",
        "\n",
        "**Constraints:**\n",
        "- `1 <= nums.length <= 10`<sup>`5`</sup>\n",
        "- `0 <= nums[i] <= 5 * 10`<sup>`5`</sup>\n",
        "- `1 <= queries.length <= 10`<sup>`5`</sup>\n",
        "- `queries[i].length == 3`\n",
        "- `0 <= l`<sub>`i`</sub>` <= r`<sub>`i`</sub>` < nums.length`\n",
        "- `1 <= val`<sub>`i`</sub>` <= 5`"
      ],
      "metadata": {
        "id": "OhbFjTlo_zih"
      }
    },
    {
      "cell_type": "markdown",
      "source": [
        "**Example 1:**\n",
        "\n",
        "- Input: `nums = [2,0,2], queries = [[0,2,1],[0,2,1],[1,1,3]]`\n",
        "\n",
        "- Output: `2`\n",
        "\n",
        "- Explanation:\n",
        "\n",
        " - For `i = 0 (l = 0, r = 2, val = 1)`:\n",
        "   - Decrement values at indices `[0, 1, 2]` by `[1, 0, 1]` respectively.\n",
        "   - The array will become `[1, 0, 1]`.\n",
        " - For `i = 1 (l = 0, r = 2, val = 1)`:\n",
        "   - Decrement values at indices `[0, 1, 2]` by `[1, 0, 1]` respectively.\n",
        "   - The array will become `[0, 0, 0]`, which is a Zero Array. Therefore, the minimum value of k is `2`.\n",
        "\n",
        "**Example 2:**\n",
        "\n",
        "- Input: `nums = [4,3,2,1], queries = [[1,3,2],[0,2,1]]`\n",
        "\n",
        "- Output: `-1`\n",
        "\n",
        "- Explanation:\n",
        "\n",
        " - For `i = 0 (l = 1, r = 3, val = 2)`:\n",
        "   - Decrement values at indices `[1, 2, 3]` by `[2, 2, 1]` respectively.\n",
        "   - The array will become `[4, 1, 0, 0].`.\n",
        " - For `i = 1 (l = 0, r = 2, val = 1)`:\n",
        "   - Decrement values at indices `[0, 1, 2]` by `[1, 1, 0]` respectively.\n",
        "   - The array will become `[3, 0, 0, 0]`, which is not a Zero Array."
      ],
      "metadata": {
        "id": "IEpVafbfC7W-"
      }
    },
    {
      "cell_type": "code",
      "source": [
        "test_cases = [\n",
        "    {\n",
        "        \"input\": {\n",
        "            \"nums\": [2,0,2],\n",
        "            \"queries\": [[0,2,1],[0,2,1],[1,1,3]],\n",
        "        },\n",
        "        \"output\": 2\n",
        "    },\n",
        "    {\n",
        "        \"input\": {\n",
        "            \"nums\": [4,3,2,1],\n",
        "            \"queries\": [[1,3,2],[0,2,1]],\n",
        "        },\n",
        "        \"output\": -1\n",
        "    },\n",
        "    {\n",
        "        \"input\": {\n",
        "            \"nums\": [0,4,3],\n",
        "            \"queries\": [[2,2,1],[2,2,3],[1,2,5],[0,1,2],[1,2,3],[0,1,3],[2,2,3],[1,1,3],[0,2,5],[0,2,4],[0,1,3],[0,2,5],[0,1,2],[2,2,2],[1,1,4]],\n",
        "        },\n",
        "        \"output\": 3\n",
        "    },\n",
        "]"
      ],
      "metadata": {
        "id": "VD9YirfAdayx"
      },
      "execution_count": 4,
      "outputs": []
    },
    {
      "cell_type": "markdown",
      "source": [
        "### Observations (Time exceeded method)\n",
        "\n",
        "- `queries` must be perform in sequence, starting from `i=0`\n",
        "\n",
        "- Because decrement on each index is independently and must be smaller than `val`. Decrement amount can be `0`.\n",
        "\n",
        "- An index can be decreased with the full `val` amount until it becomes `0`, then each sequence decrement amount can be `0`, if any.\n",
        "\n",
        "  - Try to decrease with full amount `val` at first\n",
        "\n",
        "- Let `count_reached` count the number of indices that reach `0`.\n",
        "\n",
        "- Iterate over `nums`:\n",
        "  \n",
        "  - If `nums[i] = 0`, its number of query operation is `0`, increase `count_reached` by `1`\n",
        "\n",
        "- Iterate over `queries`\n",
        "\n",
        "  - For each `query`, decrease the `nums[i]` for `i` in `[l`<sub>`i`</sub>`, r`<sub>`i`</sub>`]` by an amount of `val`. If `nums[i] <= 0` then increase `count_reached` by `1`\n",
        "\n",
        "  - If all indices reach `0` then `count_reached` will be equal to `nums.length`, stop `queries` loop and return the last index of the loops plus `1` as `k`\n",
        "\n",
        "  - If iterate over `queries` but `count_reached < nums.length`, then it means that can not make `nums` to zero array with `queries`, return `-1`\n",
        "\n",
        "### Analysis\n",
        "\n",
        "- Time complexity: let `n = nums.length` and `m = queries.length`\n",
        "\n",
        " - One pass through `nums` to find `nums[i] = 0`: `O(n)`\n",
        "\n",
        " - One pass through `queries`:\n",
        "\n",
        "   - One pass through `[l`<sub>`i`</sub>`, r`<sub>`i`</sub>`]` of each `query`\n",
        "\n",
        "   - Consider worst case scenario where for each `query`: `l`<sub>`i`</sub>` = 0` and `r`<sub>`i`</sub>` = nums.length-1`, we need to traverse the entire array `nums`\n",
        "\n",
        "   - Time complexity: `O(m*n)`\n",
        "\n",
        " - Final time complexity: `O(n) + O(m*n) ~ O(m*n)`\n",
        "\n",
        "### More over\n",
        "\n",
        "-"
      ],
      "metadata": {
        "id": "e4M1bpIEDWc6"
      }
    },
    {
      "cell_type": "markdown",
      "source": [
        "### Implementation"
      ],
      "metadata": {
        "id": "TTw8uVbRkXtT"
      }
    },
    {
      "cell_type": "code",
      "source": [
        "from typing import List, Optional\n",
        "from collections import defaultdict\n",
        "from collections import deque\n",
        "from heapq import heapify, heappush, heappop\n",
        "from queue import PriorityQueue\n",
        "\n",
        "class Solution:\n",
        "    def minZeroArray(self, nums: List[int], queries: List[List[int]]) -> int:\n",
        "        count_reached = 0\n",
        "        for i in range(len(nums)):\n",
        "            if nums[i] == 0:\n",
        "                count_reached += 1\n",
        "\n",
        "        # in case that nums is already zero array\n",
        "        if count_reached == len(nums):\n",
        "            return 0\n",
        "\n",
        "        for j, query in enumerate(queries):\n",
        "            l, r, val = query\n",
        "            for i in range(l, r+1):\n",
        "                if nums[i] <= 0:\n",
        "                    continue\n",
        "                nums[i] -= val\n",
        "                if nums[i] <= 0:\n",
        "                    count_reached += 1\n",
        "            if count_reached == len(nums):\n",
        "                k = j + 1\n",
        "                break\n",
        "\n",
        "        if count_reached < len(nums):\n",
        "            return -1\n",
        "        return k"
      ],
      "metadata": {
        "id": "7N6VBRdIDUwD"
      },
      "execution_count": null,
      "outputs": []
    },
    {
      "cell_type": "code",
      "source": [
        "solution = Solution()\n",
        "for test_case in test_cases:\n",
        "    result = solution.minZeroArray(test_case[\"input\"][\"nums\"], test_case[\"input\"][\"queries\"])\n",
        "    if result != test_case[\"output\"]:\n",
        "        print(f'Failed test case with input: {test_case[\"input\"]} and expected result: {test_case[\"output\"]} vs actual result: {result}')"
      ],
      "metadata": {
        "id": "CMDKnxwjGL6v"
      },
      "execution_count": null,
      "outputs": []
    },
    {
      "cell_type": "markdown",
      "source": [
        "### Approach 1: Binary Search and Prefix Sum (Leetcode's Editorial)\n",
        "\n",
        "- For each `query`, instead of traverse over  `[l`<sub>`i`</sub>`, r`<sub>`i`</sub>`]`, use prefix sum as below:\n",
        "\n",
        "  - Use `prefix_sum` array to store the increment of `val` for each index. Initialize `prefix_sum` zero-array with length of `nums.length`\n",
        "\n",
        "  - For `query[i] = [l`<sub>`i`</sub>`, r`<sub>`i`</sub>`, val`<sub>`i`</sub>`]`, plus `val` to `prefix_sum[l]` and minus `val` to `prefix_sum[r+1]`\n",
        "\n",
        "  - It means starting from index `l`, the sum of `val` for index `l+1` to `r` is added by `prefix_sum[l]` and reducted by `prefix_sum[l]` starting from `r+1`\n",
        "\n",
        "  - If `prefix_sum[i] >= nums[i]` with `0 <= i < nums.length`, then `nums` is zero-array\n",
        "\n",
        "  - If after iterating over `queries`, there is `prefix_sum[i] < nums[i]`, then no valid `k `\n",
        "\n",
        "  - With prefix sum method, we only need to access `prefix_sum[l]` and `prefix_sum[r+1]` for each `query`\n",
        "\n",
        "- Also, instead of traverse over entire `queries`, we can use **binary search** to quickly locate the `k` index of `queries`\n",
        "\n",
        "  - Start with `start = 0, end = queries.length, mid = (end+start)//2`\n",
        "\n",
        "  - Find `prefix_sum` value up to `queries[mid]`\n",
        "\n",
        "  - If `nums` is zero array with current `prefix_sum`, find `k` in the new range of `start, end = mid - 1`\n",
        "\n",
        "  - else find `k` in the new range of `start = mid + 1, end`"
      ],
      "metadata": {
        "id": "3lfJB4qCFnk5"
      }
    },
    {
      "cell_type": "code",
      "source": [
        "from typing import List, Optional\n",
        "from collections import defaultdict\n",
        "from collections import deque\n",
        "from heapq import heapify, heappush, heappop\n",
        "from queue import PriorityQueue\n",
        "\n",
        "class Solution:\n",
        "    def minZeroArray(self, nums: List[int], queries: List[List[int]]) -> int:\n",
        "        start, end = 0, len(queries)\n",
        "\n",
        "        # check if can form with all the queries\n",
        "        if not self.isZeroArrayUptoK(nums, queries, len(queries)):\n",
        "            return -1\n",
        "\n",
        "        while start <= end:\n",
        "            mid = (start + end) // 2\n",
        "            if self.isZeroArrayUptoK(nums, queries, mid):\n",
        "                end = mid - 1\n",
        "            else:\n",
        "                start = mid + 1\n",
        "\n",
        "        return start\n",
        "\n",
        "    def isZeroArrayUptoK(self, nums, queries, k):\n",
        "        # construc prefix_sum array up to queries[k]\n",
        "        prefix_sum = [0] * len(nums)\n",
        "        for i in range(k):\n",
        "            l, r, val = queries[i]\n",
        "            prefix_sum[l] += val\n",
        "            if r+1 < len(nums):\n",
        "                prefix_sum[r+1] -= val\n",
        "\n",
        "        # check if nums can become zero array with this prefix_sum\n",
        "        _sum = 0\n",
        "        for i in range(len(nums)):\n",
        "            _sum += prefix_sum[i]\n",
        "\n",
        "            if _sum < nums[i]:\n",
        "                return False\n",
        "\n",
        "        return True"
      ],
      "metadata": {
        "id": "wgd6zZoeieGQ"
      },
      "execution_count": 40,
      "outputs": []
    },
    {
      "cell_type": "code",
      "source": [
        "solution = Solution()\n",
        "for test_case in test_cases:\n",
        "    try:\n",
        "        result = solution.minZeroArray(test_case[\"input\"][\"nums\"], test_case[\"input\"][\"queries\"])\n",
        "        if result != test_case[\"output\"]:\n",
        "            print(f'Failed test case with input: {test_case[\"input\"]} and expected result: {test_case[\"output\"]} vs actual result: {result}')\n",
        "        else:\n",
        "            print(f'### Passed test case with input: {test_case[\"input\"]} and expected result: {test_case[\"output\"]}')\n",
        "    except Exception as e:\n",
        "        print(f'Exception \"{e}\" in test case with input: {test_case[\"input\"]} and expected result: {test_case[\"output\"]}')"
      ],
      "metadata": {
        "colab": {
          "base_uri": "https://localhost:8080/"
        },
        "id": "TBjbCf3BkHBY",
        "outputId": "8def9c7b-389d-4c7c-b1be-2a5fbb50fbf1"
      },
      "execution_count": 41,
      "outputs": [
        {
          "output_type": "stream",
          "name": "stdout",
          "text": [
            "### Passed test case with input: {'nums': [2, 0, 2], 'queries': [[0, 2, 1], [0, 2, 1], [1, 1, 3]]} and expected result: 2\n",
            "### Passed test case with input: {'nums': [4, 3, 2, 1], 'queries': [[1, 3, 2], [0, 2, 1]]} and expected result: -1\n",
            "### Passed test case with input: {'nums': [0, 4, 3], 'queries': [[2, 2, 1], [2, 2, 3], [1, 2, 5], [0, 1, 2], [1, 2, 3], [0, 1, 3], [2, 2, 3], [1, 1, 3], [0, 2, 5], [0, 2, 4], [0, 1, 3], [0, 2, 5], [0, 1, 2], [2, 2, 2], [1, 1, 4]]} and expected result: 3\n"
          ]
        }
      ]
    },
    {
      "cell_type": "code",
      "source": [],
      "metadata": {
        "id": "_UmE6iX-kMYN"
      },
      "execution_count": 18,
      "outputs": []
    }
  ]
}
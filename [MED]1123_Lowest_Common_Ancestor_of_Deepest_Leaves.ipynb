{
  "nbformat": 4,
  "nbformat_minor": 0,
  "metadata": {
    "colab": {
      "provenance": [],
      "authorship_tag": "ABX9TyNPBzlWhznzFVxcAKIPj+KT",
      "include_colab_link": true
    },
    "kernelspec": {
      "name": "python3",
      "display_name": "Python 3"
    },
    "language_info": {
      "name": "python"
    }
  },
  "cells": [
    {
      "cell_type": "markdown",
      "metadata": {
        "id": "view-in-github",
        "colab_type": "text"
      },
      "source": [
        "<a href=\"https://colab.research.google.com/github/duyvm/leetcode-problems/blob/main/%5BMED%5D1123_Lowest_Common_Ancestor_of_Deepest_Leaves.ipynb\" target=\"_parent\"><img src=\"https://colab.research.google.com/assets/colab-badge.svg\" alt=\"Open In Colab\"/></a>"
      ]
    },
    {
      "cell_type": "markdown",
      "source": [
        "# 1123. Lowest Common Ancestor of Deepest Leaves\n",
        "\n",
        "https://leetcode.com/problems/lowest-common-ancestor-of-deepest-leaves/description/\n",
        "\n",
        "Given the `root` of a binary tree, return the **lowest common ancestor** of its deepest leaves.\n",
        "\n",
        "Recall that:\n",
        "\n",
        "- The node of a binary tree is a leaf if and only if it has no children.\n",
        "- The depth of the `root` of the tree is `0`. if the depth of a node is `d`, the depth of each of its children is `d + 1`.\n",
        "- The lowest common ancestor of a set `S` of nodes, is the node `A` with the largest depth such that every node in `S` is in the subtree with root `A`.\n",
        "\n",
        "**Constraints:**\n",
        "- The number of nodes in the tree will be in the range `[1, 1000]`.\n",
        "- `0 <= Node.val <= 1000`\n",
        "- The values of the nodes in the tree are **unique**.\n",
        "\n",
        "**Follow up:**"
      ],
      "metadata": {
        "id": "OhbFjTlo_zih"
      }
    },
    {
      "cell_type": "markdown",
      "source": [
        "**Example 1:**\n",
        "\n",
        "![example1](https://drive.google.com/uc?id=19cYOYtv3hxWYKTWm8AiF0hxMsXmqv8aG)\n",
        "\n",
        "- Input: `root = [3,5,1,6,2,0,8,null,null,7,4]`\n",
        "\n",
        "- Output: `[2,7,4]`\n",
        "\n",
        "- Explanation:\n",
        "\n",
        "        We return the node with value 2, colored in yellow in the diagram.\n",
        "        The nodes coloured in blue are the deepest leaf-nodes of the tree.\n",
        "        Note that nodes 6, 0, and 8 are also leaf nodes, but the depth of them is 2, but the depth of nodes 7 and 4 is 3.\n",
        "\n",
        "**Example 2:**\n",
        "\n",
        "- Input: `root = [1]`\n",
        "\n",
        "- Output: `[1]`\n",
        "\n",
        "- Explanation: The root is the deepest node in the tree, and it's the lca of itself.\n",
        "\n",
        "**Example 3:**\n",
        "\n",
        "- Input: `root = [0,1,3,null,2]`\n",
        "\n",
        "- Output: `[2]`\n",
        "\n",
        "- Explanation:\n",
        "\n",
        "        The deepest leaf node in the tree is 2, the lca of one node is itself."
      ],
      "metadata": {
        "id": "IEpVafbfC7W-"
      }
    },
    {
      "cell_type": "code",
      "source": [
        "test_cases = [\n",
        "    {\n",
        "        \"input\": {\n",
        "            \"root\": [3,5,1,6,2,0,8,None,None,7,4],\n",
        "        },\n",
        "        \"output\": [2,7,4]\n",
        "    },\n",
        "    {\n",
        "        \"input\": {\n",
        "            \"root\": [1],\n",
        "        },\n",
        "        \"output\": [1]\n",
        "    },\n",
        "    {\n",
        "        \"input\": {\n",
        "            \"root\": [0,1,3,None,2],\n",
        "        },\n",
        "        \"output\": [2]\n",
        "    },\n",
        "    {\n",
        "        \"input\": {\n",
        "            \"root\": [1, 2, None, 3, 4, None, None, None, 6, None, 5],\n",
        "        },\n",
        "        \"output\": [2,3,4,None,6,None,5]\n",
        "    },\n",
        "]"
      ],
      "metadata": {
        "id": "VD9YirfAdayx"
      },
      "execution_count": 85,
      "outputs": []
    },
    {
      "cell_type": "code",
      "source": [
        "# Definition for a binary tree node.\n",
        "class TreeNode:\n",
        "    def __init__(self, val=0, left=None, right=None):\n",
        "        self.val = val\n",
        "        self.left = left\n",
        "        self.right = right\n",
        "\n",
        "def generateTreeFromArray(arr):\n",
        "    ans = [None] * len(arr)\n",
        "    for i, val in enumerate(arr):\n",
        "        if val is None:\n",
        "            continue\n",
        "        if ans[i] is None:\n",
        "            node = TreeNode(val)\n",
        "            ans[i] = node\n",
        "        else:\n",
        "            node = ans[i]\n",
        "        left_idx = i*2+1\n",
        "        right_idx = i*2+2\n",
        "        if left_idx < len(arr) and arr[left_idx]!=None:\n",
        "            node.left = TreeNode(arr[left_idx])\n",
        "            ans[left_idx] = node.left\n",
        "        if right_idx < len(arr) and arr[right_idx]!=None:\n",
        "            node.right = TreeNode(arr[right_idx])\n",
        "            ans[right_idx] = node.right\n",
        "\n",
        "    return ans[0]\n",
        "\n",
        "def generateOutput(node):\n",
        "    output = []\n",
        "    q = deque([node])\n",
        "    while q:\n",
        "        node = q.popleft()\n",
        "        if node is None:\n",
        "            output.append(None)\n",
        "            continue\n",
        "        output.append(node.val)\n",
        "        q.append(node.left)\n",
        "        q.append(node.right)\n",
        "    while output[-1] == None:\n",
        "        output.pop()\n",
        "    return output\n",
        "\n",
        "def printTree(root):\n",
        "    ans = []\n",
        "    q = deque([root])\n",
        "    while q:\n",
        "        node = q.popleft()\n",
        "        if node is None:\n",
        "            ans.append(None)\n",
        "            continue\n",
        "        ans.append(node.val)\n",
        "        q.append(node.left)\n",
        "        q.append(node.right)\n",
        "    print(f\"printTree: {ans}\")\n",
        "\n",
        "def printTreeArray(treeArray):\n",
        "    ans = []\n",
        "    for node in treeArray:\n",
        "        if node is None:\n",
        "            ans.append(None)\n",
        "        else:\n",
        "            ans.append(node.val)\n",
        "    print(f\"printTreeArray: {ans}\")"
      ],
      "metadata": {
        "id": "FvCvAkUjiXow"
      },
      "execution_count": 94,
      "outputs": []
    },
    {
      "cell_type": "code",
      "source": [
        "def run_test_cases(solution, function_name):\n",
        "    for i in range(len(test_cases)):\n",
        "        run_test_case(solution, function_name, i)\n",
        "\n",
        "def run_test_case(solution, function_name, i):\n",
        "    test_case = test_cases[i]\n",
        "    input = generateTreeFromArray(test_case[\"input\"][\"root\"])\n",
        "    result = generateOutput(getattr(solution, function_name)(input))\n",
        "    if result != test_case[\"output\"]:\n",
        "        print(f'Failed test case {i} with input: {test_case[\"input\"]} and expected result: {test_case[\"output\"]} vs actual result: {result}')"
      ],
      "metadata": {
        "id": "eefq238-1jIb"
      },
      "execution_count": 87,
      "outputs": []
    },
    {
      "cell_type": "markdown",
      "source": [
        "# Approach 1 - Convert tree to array representation and locating nodes using array index (Beat ~ 6%)\n",
        "\n",
        "### Observations\n",
        "\n",
        "- Notice that the tree is represented in an **1D-array** with order as follow:\n",
        "\n",
        "  - Layers from top to bottom are represented from left to right in array\n",
        "\n",
        "  - In the same layer, nodes are also represented from left to right in array\n",
        "\n",
        "  - If in the same layer, there are no nodes in the middle, they are represented by `null`\n",
        "\n",
        "  - At the last layer, if there are no leaves to complete the binary tree, there are not represented in array\n",
        "\n",
        "- With above representation, we can efficiently locate a node's children and tree's layers as folow:\n",
        "\n",
        "  - `root` index is `0`\n",
        "\n",
        "  - Given node index `i`, its children indices are: `i*2+1` and `i*2+2`\n",
        "\n",
        "  - Given node index `i`, it's parent index is: `(i-1)//2`\n",
        "\n",
        "  - Compute the tree height `h`:\n",
        "\n",
        "    - Let `n` is `root.length`: `h` is ceil of log`<sub>`2`</sub>`n`\n",
        "\n",
        "  - Compute number of nodes in layer `i` (0 index): `2`<sup>`i`</sup>\n",
        "\n",
        "  - Compute number of nodes in last layer: `2`<sup>`n-1`</sup>\n",
        "\n",
        "- The solution:\n",
        "\n",
        "  - Compute `h`\n",
        "\n",
        "  - Compute indices of leaves in last layers:\n",
        "\n",
        "    - Compute number of nodes in each layers: `numLayer = 2 ** i`\n",
        "\n",
        "    - Sum up the layer before the last: `numNodesToLast`\n",
        "\n",
        "    - Last layer indices start from `numNodesToLast`\n",
        "\n",
        "  - If last layer have one node: return it\n",
        "\n",
        "  - Else: traverse up from last layer's leaves to find its common parent\n",
        "\n",
        "### Analysis\n",
        "\n",
        "- Time complexity:\n"
      ],
      "metadata": {
        "id": "e4M1bpIEDWc6"
      }
    },
    {
      "cell_type": "markdown",
      "source": [
        "### Implementation"
      ],
      "metadata": {
        "id": "TTw8uVbRkXtT"
      }
    },
    {
      "cell_type": "code",
      "source": [
        "from re import L\n",
        "from typing import List, Optional\n",
        "from collections import defaultdict\n",
        "from collections import deque\n",
        "from heapq import heapify, heappush, heappop\n",
        "from queue import PriorityQueue\n",
        "from collections import Counter\n",
        "import math\n",
        "\n",
        "class Solution:\n",
        "    def lcaDeepestLeaves(self, root):\n",
        "        treeArray, node2IndexMapping = Solution.convertTreeToArray(root)\n",
        "        h = math.ceil(math.log2(len(treeArray)))\n",
        "        numNodesOfLast = 2 ** (h-1)\n",
        "        numNodesToLast = 0\n",
        "        for i in range(h-1):\n",
        "            numNodesToLast += 2 ** i\n",
        "\n",
        "        leaves_idx = [node2IndexMapping[leaf.val] for leaf in treeArray[numNodesToLast:] if leaf is not None]\n",
        "        if len(leaves_idx) == 1:\n",
        "            return treeArray[leaves_idx[0]]\n",
        "\n",
        "        leaves_idx = set(leaves_idx)\n",
        "        while leaves_idx:\n",
        "            _leaves_idx = set()\n",
        "            for idx in leaves_idx:\n",
        "                parentIdx = (idx-1)//2\n",
        "                _leaves_idx.add(parentIdx)\n",
        "\n",
        "            if len(_leaves_idx) == 1:\n",
        "                target_idx = _leaves_idx.pop()\n",
        "                return treeArray[target_idx]\n",
        "\n",
        "            leaves_idx = _leaves_idx\n",
        "\n",
        "    def convertTreeToArray(root):\n",
        "        node2IndexMapping = {}\n",
        "        tree = []\n",
        "        q = deque([(0, root)])\n",
        "        i = -1\n",
        "        while q:\n",
        "            node_i, node = q.popleft()\n",
        "            while i < node_i-1:\n",
        "                tree.append(None)\n",
        "                i += 1\n",
        "\n",
        "            if node is None:\n",
        "                tree.append(None)\n",
        "                i += 1\n",
        "                continue\n",
        "            tree.append(node)\n",
        "            i += 1\n",
        "            node2IndexMapping[node.val] = i\n",
        "            q.append((i*2+1, node.left))\n",
        "            q.append((i*2+2, node.right))\n",
        "        while tree[-1] == None:\n",
        "            tree.pop()\n",
        "        return tree, node2IndexMapping"
      ],
      "metadata": {
        "id": "7N6VBRdIDUwD"
      },
      "execution_count": 99,
      "outputs": []
    },
    {
      "cell_type": "code",
      "source": [
        "run_test_cases(Solution(), \"lcaDeepestLeaves\")"
      ],
      "metadata": {
        "id": "DSgVrw0oNgBn"
      },
      "execution_count": 100,
      "outputs": []
    },
    {
      "cell_type": "code",
      "source": [
        "run_test_case(Solution(), \"lcaDeepestLeaves\", -1)"
      ],
      "metadata": {
        "id": "XRBvadYnhv48"
      },
      "execution_count": 101,
      "outputs": []
    },
    {
      "cell_type": "code",
      "source": [],
      "metadata": {
        "id": "xN_0S_OcQvjt"
      },
      "execution_count": null,
      "outputs": []
    }
  ]
}
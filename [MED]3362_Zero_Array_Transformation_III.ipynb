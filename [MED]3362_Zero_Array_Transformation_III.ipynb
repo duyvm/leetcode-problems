{
  "nbformat": 4,
  "nbformat_minor": 0,
  "metadata": {
    "colab": {
      "provenance": [],
      "authorship_tag": "ABX9TyMIkuF9XhbGd85WLJpAbSjd",
      "include_colab_link": true
    },
    "kernelspec": {
      "name": "python3",
      "display_name": "Python 3"
    },
    "language_info": {
      "name": "python"
    }
  },
  "cells": [
    {
      "cell_type": "markdown",
      "metadata": {
        "id": "view-in-github",
        "colab_type": "text"
      },
      "source": [
        "<a href=\"https://colab.research.google.com/github/duyvm/leetcode-problems/blob/main/%5BMED%5D3362_Zero_Array_Transformation_III.ipynb\" target=\"_parent\"><img src=\"https://colab.research.google.com/assets/colab-badge.svg\" alt=\"Open In Colab\"/></a>"
      ]
    },
    {
      "cell_type": "markdown",
      "source": [
        "# 3362. Zero Array Transformation III\n",
        "\n",
        "https://leetcode.com/problems/zero-array-transformation-iii/description/\n",
        "\n",
        "You are given an integer array `nums` of length `n` and a 2D array `queries` where `queries[i] = [l`<sub>`i`</sub>`, r`<sub>`i`</sub>`]`.\n",
        "\n",
        "Each `queries[i]` represents the following action on nums:\n",
        "\n",
        "- Decrement the value at each index in the range `[l`<sub>`i`</sub>`, r`<sub>`i`</sub>`]` in `nums` by at most `1`.\n",
        "\n",
        "- The amount by which the value is decremented can be chosen independently for each index.\n",
        "\n",
        "A **Zero Array** is an array with all its elements equal to `0`.\n",
        "\n",
        "Return the **maximum number of elements** that can be removed from queries, such that nums can still be converted to a zero array using the remaining queries. If it is not possible to convert `nums` to a zero array, return `-1`.\n",
        "\n",
        "**Constraints:**\n",
        "- `1 <= nums.length <= 10`<sup>`5`</sup>\n",
        "- `0 <= nums[i] <= 10`<sup>`5`</sup>\n",
        "- `1 <= queries.length <= 10`<sup>`5`</sup>\n",
        "- `queries[i].length == 2`\n",
        "- `0 <= l`<sub>`i`</sub>` <= r`<sub>`i`</sub>` < nums.length`"
      ],
      "metadata": {
        "id": "OhbFjTlo_zih"
      }
    },
    {
      "cell_type": "markdown",
      "source": [
        "**Example 1**\n",
        "\n",
        "After removing `queries[2]`, `nums` can still be converted to a zero array.\n",
        "\n",
        "- Using `queries[0]`, decrement `nums[0]` and `nums[2]` by `1` and `nums[1]` by `0`.\n",
        "- Using `queries[1]`, decrement `nums[0]` and `nums[2]` by `1` and `nums[1]` by `0`."
      ],
      "metadata": {
        "id": "fpzLoyGP_hhQ"
      }
    },
    {
      "cell_type": "code",
      "source": [
        "test_case1 =  {\n",
        "            \"input\": {\n",
        "                \"nums\": [2,0,2],\n",
        "                \"queries\": [[0,2],[0,2],[1,1]],\n",
        "                \"isReturnResult\": True,\n",
        "            },\n",
        "            \"output\": 1\n",
        "        }"
      ],
      "metadata": {
        "id": "VD9YirfAdayx"
      },
      "execution_count": 4,
      "outputs": []
    },
    {
      "cell_type": "markdown",
      "source": [
        "**Example 2**\n",
        "\n",
        "We can remove `queries[2]` and `queries[3]`."
      ],
      "metadata": {
        "id": "mbBM8XtKAGH5"
      }
    },
    {
      "cell_type": "code",
      "source": [
        "test_case2 =  {\n",
        "            \"input\": {\n",
        "                \"nums\": [1,1,1,1],\n",
        "                \"queries\": [[1,3],[0,2],[1,3],[1,2]],\n",
        "                \"isReturnResult\": True,\n",
        "            },\n",
        "            \"output\": 2\n",
        "        }"
      ],
      "metadata": {
        "id": "t94gDHfzAN4K"
      },
      "execution_count": 5,
      "outputs": []
    },
    {
      "cell_type": "markdown",
      "source": [
        "**Example 3**\n",
        "\n",
        "`nums` cannot be converted to a zero array even after using all the queries."
      ],
      "metadata": {
        "id": "mru0s3FAGLzF"
      }
    },
    {
      "cell_type": "code",
      "source": [
        "test_case3 =  {\n",
        "            \"input\": {\n",
        "                \"nums\": [1,2,3,4],\n",
        "                \"queries\": [[0,3]],\n",
        "                \"isReturnResult\": True,\n",
        "            },\n",
        "            \"output\": -1\n",
        "        }\n",
        "\n",
        "test_case4 =  {\n",
        "            \"input\": {\n",
        "                \"nums\": [0,3],\n",
        "                \"queries\": [[0,1],[0,0],[0,1],[0,1],[0,0]],\n",
        "                \"isReturnResult\": True,\n",
        "            },\n",
        "            \"output\": 2\n",
        "        }\n",
        "\n",
        "test_case5 =  {\n",
        "            \"input\": {\n",
        "                \"nums\": [0,0,1,1,0],\n",
        "                \"queries\": [[3,4],[0,2],[2,3]],\n",
        "                \"isReturnResult\": True,\n",
        "            },\n",
        "            \"output\": 2\n",
        "        }"
      ],
      "metadata": {
        "id": "BKid7pBZGL6x"
      },
      "execution_count": 6,
      "outputs": []
    },
    {
      "cell_type": "code",
      "source": [
        "test_cases = [test_case1, test_case2, test_case3, test_case4, test_case5]"
      ],
      "metadata": {
        "id": "1XSGQbp1ASCu"
      },
      "execution_count": 7,
      "outputs": []
    },
    {
      "cell_type": "code",
      "source": [
        "def run_test_cases(solution, function_name):\n",
        "    for i in range(len(test_cases)):\n",
        "        run_test_case(solution, function_name, i)\n",
        "\n",
        "def run_test_case(solution, function_name, i):\n",
        "    test_case = test_cases[i]\n",
        "    result = getattr(solution, function_name)(**test_case[\"input\"])\n",
        "    if result != test_case[\"output\"]:\n",
        "        print(f'Failed test case {i} with input: {test_case[\"input\"]} and expected result: {test_case[\"output\"]} vs actual result: {result}')"
      ],
      "metadata": {
        "id": "eefq238-1jIb"
      },
      "execution_count": 8,
      "outputs": []
    },
    {
      "cell_type": "markdown",
      "source": [
        "# Approach 1\n",
        "\n",
        "## Observations\n",
        "\n",
        "- Credit go to [here](https://leetcode.com/problems/zero-array-transformation-iii/solutions/6768535/priority-queues-in-depth-with-images-idea-behind-solution-c-python-java)\n",
        "\n",
        "- Let `m` is `queries.length`\n",
        "\n",
        "- New version of [Problem 3356. Zero Array Transformation II](https://colab.research.google.com/drive/1wCVV_v5q1_v9uPtkSP2mnuEm2hfp_0Ot). Differences:\n",
        "\n",
        "  - The decrement amount is `0` or `1`.\n",
        "\n",
        "  - The required answer is slightly different. In **3356**, return minimum number of first `k` queries that make `nums` **Zero Array** while this problem's required answer is maxinum number of un-needed queries. In context of **3356**, it is the counterpart: `m - k` number of queries.\n",
        "\n",
        "  - Furthermore, in this problem, the un-needed queries is not necsessary continuous (aka, not the last `m-k` queries in `queries` in case of **3356**).\n",
        "\n",
        "- We must selectively choose the query that make `nums` **Zero Array** faster.\n",
        "\n",
        "  - Since the decrease amount is fixed to `0` or `1`, idealy, we should choose the query that maximizes the impact the decrement, a.k.a `l - r` is maximum.\n",
        "\n",
        "  - The executing order of queries is not matter, we will consider start decrement `nums` from left to right. We pick up query that has smallest `l` first. To do this, we sort `queries` by `query[0]` of each `query`\n",
        "\n",
        "  - Let `nums[i]` is the current element for `i` from `0` to `n-1`.\n",
        "  \n",
        "  - Let `considered_queries` is a heap that store all the queries that we consider them may affect `nums[i]`.\n",
        "  \n",
        "    - Starting from `queries[0]`, we add query that has `l <= i`\n",
        "  into `considered_queries`, having query that have largest `r` in the top of this heap.\n",
        "  \n",
        "    - In this way, when we pick query from `considered_queries`, we can get query that has largest affect on `nums`.\n",
        "\n",
        "  - We use another heap `used_queries` to keep track of the queries we actually are using for current `nums[i]`.\n",
        "     \n",
        "     - At iteration round `i`, we check if the top query is still affect `nums[i]` (`r >= i`), if not, we remove it until all queries left in `used_queries` are affecting `nums[i]`. The number of queries in `used_queries` is equavilent to the decrement value at `nums[i]`.\n",
        "     \n",
        "     - If `used_queries.length < nums[i]`, that mean we still need more queries to make `nums[i] = 0`. So, we must get new query from `considered_queries` that has `r >= i` and add it to `used_queries`.\n",
        "\n",
        "     - If `used_queries.length >= nums[i]` then `nums[i]` can be `0` with current `used_queries`, we proceed to `i+1` without getting new query from `considered_queries`\n",
        "\n",
        "    - If after getting all possible queries from `considered_queries` but can not make `used_queries.length >= nums[i]`, then it means that there are not enough queries that can make `nums[i]` to `0`. We consider it is impossible to convert `nums` to a zero array and return `-1`\n",
        "\n",
        "- While adding new query into `used_queries`, we use `count` to keep track of total number of queries we used. We return `queries.length - count`, which is the number of un-used queries, after finish iteration.\n",
        "\n",
        "- Furthermore, we do not need to store whole query `[l, r]` inside both heaps but only the `r` value is enough.\n",
        "\n",
        "## Analysis\n",
        "\n",
        "- Time complexity:\n",
        "\n",
        "  - One pass through `nums`: `O(n)`\n",
        "\n",
        "  - Sorting the `queries`: `O(mlog(m))`\n",
        "\n",
        "  - One pass through `queries` using `k`: `O(m)`\n",
        "\n",
        "  - Insertion/deletion from heap with worth case (heap has full queries): `O(log(m))`\n",
        "\n",
        "  - Total time: `O(n + mlog(m))`"
      ],
      "metadata": {
        "id": "e4M1bpIEDWc6"
      }
    },
    {
      "cell_type": "markdown",
      "source": [
        "### Implementation"
      ],
      "metadata": {
        "id": "TTw8uVbRkXtT"
      }
    },
    {
      "cell_type": "code",
      "source": [
        "from typing import List, Optional\n",
        "from collections import defaultdict\n",
        "from collections import deque\n",
        "from heapq import heapify, heappush, heappop\n",
        "from queue import PriorityQueue\n",
        "from collections import Counter\n",
        "import math\n",
        "\n",
        "class Solution:\n",
        "    def maxRemoval(self, nums: List[int], queries: List[List[int]], isReturnResult=False) -> int:\n",
        "\n",
        "        n, m = len(nums), len(queries)\n",
        "\n",
        "        queries = sorted(queries, key=lambda query: query[0])\n",
        "\n",
        "        considered_queries = []\n",
        "\n",
        "        used_queries = []\n",
        "\n",
        "        k = 0\n",
        "\n",
        "        count = 0\n",
        "\n",
        "        for i in range(n):\n",
        "            while used_queries and used_queries[0] < i:\n",
        "                heappop(used_queries)\n",
        "\n",
        "            while k < m and queries[k][0] <= i:\n",
        "                heappush(considered_queries, -queries[k][1])\n",
        "                k += 1\n",
        "\n",
        "            while len(used_queries) < nums[i] and considered_queries and -considered_queries[0] >= i:\n",
        "                heappush(used_queries, -heappop(considered_queries))\n",
        "                count += 1\n",
        "\n",
        "            if len(used_queries) < nums[i]:\n",
        "                return -1\n",
        "\n",
        "        return m - count"
      ],
      "metadata": {
        "id": "7N6VBRdIDUwD"
      },
      "execution_count": 21,
      "outputs": []
    },
    {
      "cell_type": "code",
      "source": [
        "run_test_cases(Solution(), \"maxRemoval\")"
      ],
      "metadata": {
        "id": "QI2JhBGdQw2Q"
      },
      "execution_count": 22,
      "outputs": []
    },
    {
      "cell_type": "code",
      "source": [],
      "metadata": {
        "id": "_Ecp1agyntmM"
      },
      "execution_count": null,
      "outputs": []
    }
  ]
}
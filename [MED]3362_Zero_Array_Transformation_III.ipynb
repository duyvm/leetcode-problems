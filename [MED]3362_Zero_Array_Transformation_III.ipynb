{
  "nbformat": 4,
  "nbformat_minor": 0,
  "metadata": {
    "colab": {
      "provenance": [],
      "authorship_tag": "ABX9TyOdZrtrrtgxzVR/Z/tyfoNi",
      "include_colab_link": true
    },
    "kernelspec": {
      "name": "python3",
      "display_name": "Python 3"
    },
    "language_info": {
      "name": "python"
    }
  },
  "cells": [
    {
      "cell_type": "markdown",
      "metadata": {
        "id": "view-in-github",
        "colab_type": "text"
      },
      "source": [
        "<a href=\"https://colab.research.google.com/github/duyvm/leetcode-problems/blob/main/%5BMED%5D3362_Zero_Array_Transformation_III.ipynb\" target=\"_parent\"><img src=\"https://colab.research.google.com/assets/colab-badge.svg\" alt=\"Open In Colab\"/></a>"
      ]
    },
    {
      "cell_type": "markdown",
      "source": [
        "# 3362. Zero Array Transformation III\n",
        "\n",
        "https://leetcode.com/problems/zero-array-transformation-iii/description/\n",
        "\n",
        "You are given an integer array `nums` of length `n` and a 2D array `queries` where `queries[i] = [l`<sub>`i`</sub>`, r`<sub>`i`</sub>`]`.\n",
        "\n",
        "Each `queries[i]` represents the following action on nums:\n",
        "\n",
        "- Decrement the value at each index in the range `[l`<sub>`i`</sub>`, r`<sub>`i`</sub>`]` in `nums` by at most `1`.\n",
        "\n",
        "- The amount by which the value is decremented can be chosen independently for each index.\n",
        "\n",
        "A **Zero Array** is an array with all its elements equal to `0`.\n",
        "\n",
        "Return the **maximum number of elements** that can be removed from queries, such that nums can still be converted to a zero array using the remaining queries. If it is not possible to convert nums to a zero array, return `-1`.\n",
        "\n",
        "**Constraints:**\n",
        "- `1 <= nums.length <= 10`<sup>`5`</sup>\n",
        "- `0 <= nums[i] <= 10`<sup>`5`</sup>\n",
        "- `1 <= queries.length <= 10`<sup>`5`</sup>\n",
        "- `queries[i].length == 2`\n",
        "- `0 <= l`<sub>`i`</sub>` <= r`<sub>`i`</sub>` < nums.length`"
      ],
      "metadata": {
        "id": "OhbFjTlo_zih"
      }
    },
    {
      "cell_type": "markdown",
      "source": [
        "**Example 1**\n",
        "\n",
        "After removing `queries[2]`, `nums` can still be converted to a zero array.\n",
        "\n",
        "- Using `queries[0]`, decrement `nums[0]` and `nums[2]` by `1` and `nums[1]` by `0`.\n",
        "- Using `queries[1]`, decrement `nums[0]` and `nums[2]` by `1` and `nums[1]` by `0`."
      ],
      "metadata": {
        "id": "fpzLoyGP_hhQ"
      }
    },
    {
      "cell_type": "code",
      "source": [
        "test_case1 =  {\n",
        "            \"input\": {\n",
        "                \"nums\": [2,0,2],\n",
        "                \"queries\": [[0,2],[0,2],[1,1]],\n",
        "                \"isReturnResult\": True,\n",
        "            },\n",
        "            \"output\": 1\n",
        "        }"
      ],
      "metadata": {
        "id": "VD9YirfAdayx"
      },
      "execution_count": null,
      "outputs": []
    },
    {
      "cell_type": "markdown",
      "source": [
        "**Example 2**\n",
        "\n",
        "We can remove `queries[2]` and `queries[3]`."
      ],
      "metadata": {
        "id": "mbBM8XtKAGH5"
      }
    },
    {
      "cell_type": "code",
      "source": [
        "test_case2 =  {\n",
        "            \"input\": {\n",
        "                \"nums\": [1,1,1,1],\n",
        "                \"queries\": [[1,3],[0,2],[1,3],[1,2]],\n",
        "                \"isReturnResult\": True,\n",
        "            },\n",
        "            \"output\": 2\n",
        "        }"
      ],
      "metadata": {
        "id": "t94gDHfzAN4K"
      },
      "execution_count": null,
      "outputs": []
    },
    {
      "cell_type": "markdown",
      "source": [
        "**Example 3**\n",
        "\n",
        "`nums` cannot be converted to a zero array even after using all the queries."
      ],
      "metadata": {
        "id": "mru0s3FAGLzF"
      }
    },
    {
      "cell_type": "code",
      "source": [
        "test_case3 =  {\n",
        "            \"input\": {\n",
        "                \"nums\": [1,2,3,4],\n",
        "                \"queries\": [[0,3]],\n",
        "                \"isReturnResult\": True,\n",
        "            },\n",
        "            \"output\": -1\n",
        "        }"
      ],
      "metadata": {
        "id": "BKid7pBZGL6x"
      },
      "execution_count": null,
      "outputs": []
    },
    {
      "cell_type": "code",
      "source": [
        "test_cases = [test_case1, test_case2]"
      ],
      "metadata": {
        "id": "1XSGQbp1ASCu"
      },
      "execution_count": null,
      "outputs": []
    },
    {
      "cell_type": "code",
      "source": [
        "def run_test_cases(solution, function_name):\n",
        "    for i in range(len(test_cases)):\n",
        "        run_test_case(solution, function_name, i)\n",
        "\n",
        "def run_test_case(solution, function_name, i):\n",
        "    test_case = test_cases[i]\n",
        "    result = getattr(solution, function_name)(**test_case[\"input\"])\n",
        "    if result != test_case[\"output\"]:\n",
        "        print(f'Failed test case {i} with input: {test_case[\"input\"]} and expected result: {test_case[\"output\"]} vs actual result: {result}')"
      ],
      "metadata": {
        "id": "eefq238-1jIb"
      },
      "execution_count": null,
      "outputs": []
    },
    {
      "cell_type": "markdown",
      "source": [
        "# Approach 1 -\n",
        "\n",
        "## Observations\n",
        "\n",
        "\n",
        "\n",
        "## Analysis\n",
        "\n",
        "- Time complexity:"
      ],
      "metadata": {
        "id": "e4M1bpIEDWc6"
      }
    },
    {
      "cell_type": "markdown",
      "source": [
        "### Implementation"
      ],
      "metadata": {
        "id": "TTw8uVbRkXtT"
      }
    },
    {
      "cell_type": "code",
      "source": [
        "from typing import List, Optional\n",
        "from collections import defaultdict\n",
        "from collections import deque\n",
        "from heapq import heapify, heappush, heappop\n",
        "from queue import PriorityQueue\n",
        "from collections import Counter\n",
        "import math\n",
        "\n",
        "class Solution:\n",
        "    def maxRemoval(self, nums: List[int], queries: List[List[int]], isReturnResult=False) -> int:\n",
        "        pass"
      ],
      "metadata": {
        "id": "7N6VBRdIDUwD"
      },
      "execution_count": null,
      "outputs": []
    },
    {
      "cell_type": "code",
      "source": [
        "run_test_cases(Solution(), \"maxRemoval\")"
      ],
      "metadata": {
        "id": "QI2JhBGdQw2Q"
      },
      "execution_count": null,
      "outputs": []
    }
  ]
}
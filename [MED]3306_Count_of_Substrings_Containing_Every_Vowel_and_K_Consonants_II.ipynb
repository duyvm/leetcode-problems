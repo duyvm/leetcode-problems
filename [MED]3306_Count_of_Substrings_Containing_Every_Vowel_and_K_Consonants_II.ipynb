{
  "nbformat": 4,
  "nbformat_minor": 0,
  "metadata": {
    "colab": {
      "provenance": [],
      "authorship_tag": "ABX9TyPorthqwQXVmFN5/Lp+MfxL",
      "include_colab_link": true
    },
    "kernelspec": {
      "name": "python3",
      "display_name": "Python 3"
    },
    "language_info": {
      "name": "python"
    }
  },
  "cells": [
    {
      "cell_type": "markdown",
      "metadata": {
        "id": "view-in-github",
        "colab_type": "text"
      },
      "source": [
        "<a href=\"https://colab.research.google.com/github/duyvm/leetcode-problems/blob/main/%5BMED%5D3306_Count_of_Substrings_Containing_Every_Vowel_and_K_Consonants_II.ipynb\" target=\"_parent\"><img src=\"https://colab.research.google.com/assets/colab-badge.svg\" alt=\"Open In Colab\"/></a>"
      ]
    },
    {
      "cell_type": "markdown",
      "source": [
        "# 3306. Count of Substrings Containing Every Vowel and K Consonants II\n",
        "\n",
        "https://leetcode.com/problems/count-of-substrings-containing-every-vowel-and-k-consonants-ii/description/\n",
        "\n",
        "You are given a string `word` and a non-negative integer `k`.\n",
        "\n",
        "Return the total number of **substrings** of word that contain every vowel (`'a'`, `'e'`, `'i'`, `'o'`, and `'u'`) at least once and exactly `k` consonants.\n",
        "\n",
        "**Constraints:**\n",
        "- `5 <= word.length <= 2 * 10`<sup>`5`</sup>\n",
        "- `word` consists only of **lowercase** English letters.\n",
        "- `0 <= k <= word.length - 5`"
      ],
      "metadata": {
        "id": "OhbFjTlo_zih"
      }
    },
    {
      "cell_type": "markdown",
      "source": [
        "**Example 1:**\n",
        "\n",
        "- Input: `word = \"aeioqq\", k = 1`\n",
        "\n",
        "- Output: `0`\n",
        "\n",
        "- Explanation:\n",
        "\n",
        "        There is no substring with every vowel.\n",
        "\n",
        "**Example 2:**\n",
        "\n",
        "- Input: `word = \"aeiou\", k = 0`\n",
        "\n",
        "- Output: `1`\n",
        "\n",
        "- Explanation:\n",
        "\n",
        "        The only substring with every vowel and zero consonants is word[0..4], which is \"aeiou\".\n",
        "\n",
        "**Example 3:**\n",
        "\n",
        "- Input: `word = \"ieaouqqieaouqq\", k = 1`\n",
        "\n",
        "- Output: `3`\n",
        "\n",
        "- Explanation:\n",
        "\n",
        "        The substrings with every vowel and one consonant are:\n",
        "        word[0..5], which is \"ieaouq\".\n",
        "        word[6..11], which is \"qieaou\".\n",
        "        word[7..12], which is \"ieaouq\"."
      ],
      "metadata": {
        "id": "IEpVafbfC7W-"
      }
    },
    {
      "cell_type": "code",
      "source": [
        "test_cases = [\n",
        "    {\n",
        "        \"input\": {\n",
        "            \"word\": \"aeioqq\",\n",
        "            \"k\": 1,\n",
        "        },\n",
        "        \"output\": 0\n",
        "    },\n",
        "    {\n",
        "        \"input\": {\n",
        "            \"word\": \"aeiou\",\n",
        "            \"k\": 0,\n",
        "        },\n",
        "        \"output\": 1\n",
        "    },\n",
        "    {\n",
        "        \"input\": {\n",
        "            \"word\": \"ieaouqqieaouqq\",\n",
        "            \"k\": 1,\n",
        "        },\n",
        "        \"output\": 3\n",
        "    },\n",
        "    {\n",
        "        \"input\": {\n",
        "            \"word\": \"iqeaouqi\",\n",
        "            \"k\": 2,\n",
        "        },\n",
        "        \"output\": 3\n",
        "    },\n",
        "]"
      ],
      "metadata": {
        "id": "VD9YirfAdayx"
      },
      "execution_count": 78,
      "outputs": []
    },
    {
      "cell_type": "markdown",
      "source": [
        "### Observations\n",
        "\n",
        "- Valid substring notes: Let `subString` is a valid substring\n",
        "\n",
        " - Append any vowels at the head and tail of `subString` also create a new valid substring\n",
        "\n",
        " - Need to consider all valid cases\n",
        "\n",
        "- The idea is to slide a window of over `words` to and check if current `slide` is the valid substring\n",
        "\n",
        "- Check consonants count in `slide`. Let `start` and `end` are the index of current `slide`. Start with `start=0` and `end=0`.\n",
        "    \n",
        " - Extend the `slide` one by one for each iteration.\n",
        "   \n",
        " - If current `slide` is the valid substring:\n",
        "    \n",
        "   - Let `m` is the number of character from `end` to the next consonant in word. Then we have `m` valid substrings (`slide` + each character until next consonant)\n",
        "   \n",
        "   - Shrink the `slide` until it become invalid. Each time we shrink `slide` by one character, we also have `1 + m` valid substrings\n",
        "   \n",
        " - If there are over `k` consonants in current `slide` then shrink it until `slide` contain `k` consonants.\n",
        "\n",
        "- To efficently compute `m`, use `next_consonant` array with lenght is `word.length` to store the next consonant index for each index `i` in `word`\n",
        "\n",
        " - `next_consonant[i]` is the index of the consonant at the right of the character `word[i]`\n",
        "\n",
        "   - For example: `next_consonant[0] = 3` mean the consonant at the right of `word[0]` is `word[3]`\n",
        "\n",
        " - To initialize `next_consonant`, we start `i` from `word.length` and traverse from right of `word`.\n",
        "   \n",
        "   - Let `consonant_index = word.length`\n",
        "\n",
        "   - Set `next_consonant[i] = consonant_index` (note that we assign the next consonant index of the last character or any vowels in the end of `word` to `word.length`, which is out of range)\n",
        "\n",
        "   - If `word[i]` is consonant, `consonant_index = i`\n",
        "\n",
        "### Analysis\n",
        "\n",
        "-\n",
        "\n",
        "### More over\n",
        "\n",
        "-"
      ],
      "metadata": {
        "id": "e4M1bpIEDWc6"
      }
    },
    {
      "cell_type": "markdown",
      "source": [
        "### Implementation"
      ],
      "metadata": {
        "id": "TTw8uVbRkXtT"
      }
    },
    {
      "cell_type": "code",
      "source": [
        "from typing import List, Optional\n",
        "from collections import defaultdict\n",
        "from collections import deque\n",
        "from heapq import heapify, heappush, heappop\n",
        "from queue import PriorityQueue\n",
        "\n",
        "class Solution:\n",
        "    \"\"\"\n",
        "    Init class variables\n",
        "    \"\"\"\n",
        "    def init(self, word, k):\n",
        "        self.k = k\n",
        "        self.consonantsCount = 0\n",
        "        self.vowelsCount = defaultdict(int)\n",
        "\n",
        "        # init next_consonant array\n",
        "        self.next_consonant = [0] * len(word)\n",
        "        next_consonant_index = len(word)\n",
        "        for i in range(len(word)-1, -1, -1):\n",
        "            self.next_consonant[i] = next_consonant_index\n",
        "            if not self.isVowel(word[i]):\n",
        "                next_consonant_index = i\n",
        "\n",
        "    def countOfSubstrings(self, word: str, k: int) -> int:\n",
        "        self.init(word, k)\n",
        "        ans = 0\n",
        "        start, end = 0, 0\n",
        "\n",
        "        while end < len(word):\n",
        "            # extend slide to the next character\n",
        "            self.includeCount(word[end])\n",
        "\n",
        "            # if there are over k consonants, shrink the slide until the first\n",
        "            # consonant in slide\n",
        "            while self.consonantsCount > k:\n",
        "                self.excludeCount(word[start])\n",
        "                start += 1\n",
        "\n",
        "            # if current slide is valid substring, find the possible valid substring\n",
        "            # and shrink the slide\n",
        "            while start < len(word) and self.isValidSubstring():\n",
        "                ans += self.next_consonant[end] - end\n",
        "                self.excludeCount(word[start])\n",
        "                start += 1\n",
        "\n",
        "            end += 1\n",
        "\n",
        "        return ans\n",
        "\n",
        "    def includeCount(self, c):\n",
        "        if self.isVowel(c):\n",
        "            self.vowelsCount[c] += 1\n",
        "        else:\n",
        "            self.consonantsCount += 1\n",
        "\n",
        "    def excludeCount(self, c):\n",
        "        if self.isVowel(c):\n",
        "            self.vowelsCount[c] -= 1\n",
        "            if self.vowelsCount[c] == 0:\n",
        "                del self.vowelsCount[c]\n",
        "        else:\n",
        "            self.consonantsCount -= 1\n",
        "\n",
        "    def isValidSubstring(self):\n",
        "        return self.consonantsCount == self.k and len(self.vowelsCount) == 5\n",
        "\n",
        "    def isVowel(self, c):\n",
        "        return c == 'a' or c == 'i' or c == 'u' or c == 'e' or c == 'o'"
      ],
      "metadata": {
        "id": "7N6VBRdIDUwD"
      },
      "execution_count": 169,
      "outputs": []
    },
    {
      "cell_type": "code",
      "source": [
        "solution = Solution()\n",
        "for test_case in test_cases:\n",
        "    result = solution.countOfSubstrings(test_case[\"input\"][\"word\"], test_case[\"input\"][\"k\"])\n",
        "    if result != test_case[\"output\"]:\n",
        "        print(f'Failed test case with input: {test_case[\"input\"]} and expected result: {test_case[\"output\"]} vs actual result: {result}')"
      ],
      "metadata": {
        "id": "CMDKnxwjGL6v"
      },
      "execution_count": 170,
      "outputs": []
    },
    {
      "cell_type": "code",
      "source": [],
      "metadata": {
        "id": "VSoJ-GIWUnvV"
      },
      "execution_count": null,
      "outputs": []
    }
  ]
}
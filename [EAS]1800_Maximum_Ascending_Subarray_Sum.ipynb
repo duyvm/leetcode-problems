{
  "nbformat": 4,
  "nbformat_minor": 0,
  "metadata": {
    "colab": {
      "provenance": [],
      "authorship_tag": "ABX9TyPbLBUskWNVPDzd5w+ejaK2",
      "include_colab_link": true
    },
    "kernelspec": {
      "name": "python3",
      "display_name": "Python 3"
    },
    "language_info": {
      "name": "python"
    }
  },
  "cells": [
    {
      "cell_type": "markdown",
      "metadata": {
        "id": "view-in-github",
        "colab_type": "text"
      },
      "source": [
        "<a href=\"https://colab.research.google.com/github/duyvm/leetcode-problems/blob/main/%5BEAS%5D1800_Maximum_Ascending_Subarray_Sum.ipynb\" target=\"_parent\"><img src=\"https://colab.research.google.com/assets/colab-badge.svg\" alt=\"Open In Colab\"/></a>"
      ]
    },
    {
      "cell_type": "markdown",
      "source": [
        "# 1800. Maximum Ascending Subarray Sum\n",
        "\n",
        "https://leetcode.com/problems/maximum-ascending-subarray-sum/description/\n",
        "\n",
        "Given an array of positive integers `nums`, return the **maximum possible sum** of an ascending subarray in `nums`.\n",
        "\n",
        "A subarray is defined as a contiguous sequence of numbers in an array.\n",
        "\n",
        "A subarray `[nums`<sub>`l`</sub>, `nums`<sub>`l+1`</sub>, ..., `nums`<sub>`r-1`</sub>, `nums`<sub>`r`</sub>] is ascending if for all `i` where `l <= i < r`, `nums`<sub>`i`</sub>  < `nums`<sub>`i+1`</sub>. Note that a subarray of size `1` is ascending.\n",
        "\n",
        "**Constraints:**\n",
        "- `1 <= nums.length <= 100`\n",
        "- `1 <= nums[i] <= 100`"
      ],
      "metadata": {
        "id": "OhbFjTlo_zih"
      }
    },
    {
      "cell_type": "markdown",
      "source": [
        "**Example 1:**\n",
        "\n",
        "- Input: `nums = [10,20,30,5,10,50]`\n",
        "- Output: `65`\n",
        "- Explanation: [5,10,50] is the ascending subarray with the maximum sum of 65.\n",
        "\n",
        "**Example 2:**\n",
        "\n",
        "- Input: `nums = [10,20,30,40,50]`\n",
        "- Output: `150`\n",
        "- Explanation: [10,20,30,40,50] is the ascending subarray with the maximum sum of 150.\n",
        "\n",
        "**Example 3:**\n",
        "\n",
        "- Input: `nums = [12,17,15,13,10,11,12]`\n",
        "- Output: `33`\n",
        "- Explanation: [10,11,12] is the ascending subarray with the maximum sum of 33."
      ],
      "metadata": {
        "id": "IEpVafbfC7W-"
      }
    },
    {
      "cell_type": "markdown",
      "source": [
        "## Observations\n",
        "\n",
        "- Each element in `nums` is a ascending sub array\n",
        " - Sum of one element subarray `i` is `nums[i]`\n",
        "- The question is maximum sum, not longest ascending subarray\n",
        "- There can be case where sum of one element subarray larger than a multi element subarray.\n",
        "- One pass through the array `nums`, start with sum value `nums[i]`, increasing if next element ascending.\n",
        "- Return the max sum"
      ],
      "metadata": {
        "id": "e4M1bpIEDWc6"
      }
    },
    {
      "cell_type": "code",
      "source": [
        "test_cases = [\n",
        "    {\n",
        "        \"input\": {\n",
        "            \"nums\": [10,20,30,5,10,50]\n",
        "        },\n",
        "        \"output\": 65\n",
        "    },\n",
        "    {\n",
        "        \"input\": {\n",
        "            \"nums\": [10,20,30,40,50]\n",
        "        },\n",
        "        \"output\": 150\n",
        "    },\n",
        "    {\n",
        "        \"input\": {\n",
        "            \"nums\": [12,17,15,13,10,11,12]\n",
        "        },\n",
        "        \"output\": 33\n",
        "    },\n",
        "]"
      ],
      "metadata": {
        "id": "wNzMYBytDXO7"
      },
      "execution_count": null,
      "outputs": []
    },
    {
      "cell_type": "code",
      "source": [
        "from typing import List\n",
        "from collections import defaultdict\n",
        "from collections import deque\n",
        "\n",
        "class Solution:\n",
        "    def maxAscendingSum(self, nums: List[int]) -> int:\n",
        "\n",
        "        max_sum = 0\n",
        "\n",
        "        sum = nums[0]\n",
        "\n",
        "        for i in range(1, len(nums)):\n",
        "            if nums[i] > nums[i-1]:\n",
        "                sum += nums[i]\n",
        "            else:\n",
        "                max_sum = max(max_sum, sum)\n",
        "                sum = nums[i]\n",
        "\n",
        "        return max(max_sum, sum)"
      ],
      "metadata": {
        "id": "7N6VBRdIDUwD"
      },
      "execution_count": null,
      "outputs": []
    },
    {
      "cell_type": "code",
      "source": [
        "solution = Solution()\n",
        "for test_case in test_cases:\n",
        "    result = solution.maxAscendingSum(test_case[\"input\"][\"nums\"])\n",
        "    if result != test_case[\"output\"]:\n",
        "        print(f'Failed test case with input: {test_case[\"input\"]} and output: {test_case[\"output\"]} vs result: {result}')"
      ],
      "metadata": {
        "id": "CMDKnxwjGL6v"
      },
      "execution_count": null,
      "outputs": []
    },
    {
      "cell_type": "code",
      "source": [],
      "metadata": {
        "id": "9XZQR2FXW3RL"
      },
      "execution_count": null,
      "outputs": []
    }
  ]
}
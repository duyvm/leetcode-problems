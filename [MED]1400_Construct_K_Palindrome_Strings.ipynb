{
  "nbformat": 4,
  "nbformat_minor": 0,
  "metadata": {
    "colab": {
      "provenance": [],
      "authorship_tag": "ABX9TyM7MCevWQ4f77/zmbXjRWKc",
      "include_colab_link": true
    },
    "kernelspec": {
      "name": "python3",
      "display_name": "Python 3"
    },
    "language_info": {
      "name": "python"
    }
  },
  "cells": [
    {
      "cell_type": "markdown",
      "metadata": {
        "id": "view-in-github",
        "colab_type": "text"
      },
      "source": [
        "<a href=\"https://colab.research.google.com/github/duyvm/leetcode-problems/blob/main/%5BMED%5D1400_Construct_K_Palindrome_Strings.ipynb\" target=\"_parent\"><img src=\"https://colab.research.google.com/assets/colab-badge.svg\" alt=\"Open In Colab\"/></a>"
      ]
    },
    {
      "cell_type": "markdown",
      "source": [
        "# 1400. Construct K Palindrome Strings\n",
        "\n",
        "[Leetcode problem page](https://leetcode.com/problems/construct-k-palindrome-strings/)\n",
        "\n",
        "Given a string s and an integer k, return true if you can use all the characters in s to construct k palindrome strings or false otherwise.\n",
        "\n",
        "\n",
        "---\n",
        "\n",
        "\n",
        "\n",
        "**Example 1:**\n",
        "\n",
        "Input: s = \"annabelle\", k = 2\n",
        "\n",
        "Output: true\n",
        "\n",
        "Explanation: You can construct two palindromes using all characters in s.\n",
        "Some possible constructions \"anna\" + \"elble\", \"anbna\" + \"elle\", \"anellena\" + \"b\"\n",
        "\n",
        "\n",
        "**Example 2:**\n",
        "\n",
        "Input: s = \"leetcode\", k = 3\n",
        "\n",
        "Output: false\n",
        "\n",
        "Explanation: It is impossible to construct 3 palindromes using all the characters of s.\n",
        "\n",
        "**Example 3:**\n",
        "\n",
        "Input: s = \"true\", k = 4\n",
        "\n",
        "Output: true\n",
        "\n",
        "Explanation: The only possible solution is to put each character in a separate string.\n",
        "\n",
        "\n",
        "---\n",
        "\n",
        "\n",
        "**Constraints:**\n",
        "\n",
        "1 <= s.length <= 105\n",
        "\n",
        "s consists of lowercase English letters.\n",
        "\n",
        "1 <= k <= 105"
      ],
      "metadata": {
        "id": "GeSpAb3kOlcH"
      }
    },
    {
      "cell_type": "markdown",
      "source": [
        "# Problem breakdown:\n",
        "\n",
        "A palindrome string is\n",
        " - one char string: \"a\"\n",
        " - has even number of chars: number of each char must be even\n",
        " - has odd number of chars: number of one char must be odd, other chars's number are even\n",
        "\n",
        "Special case:\n",
        "- if k equal length of string, then each char in string is a separate palindrome string\n",
        "- if k larger than length of string, then can not create k palindrome strings\n",
        "\n",
        "\n",
        "Count the frequency of each chars in string approach:\n",
        " - Observations:\n",
        "  1. If there is n number of char that has odd count, then at least n palindrome strings can created using all chars.\n",
        "    - If n > k then can not create k palindrome strings using all chars\n",
        "    - If n = k: can create k palindrome string using all chars, since the even chars can be added optionally\n",
        "    - If n < k: can create k palindrome strings. Because:\n",
        "        1. Create n palindrome strings.\n",
        "        2. Remain number of palindorme strings need to be created: m1 = k - n\n",
        "        3. Remain total number of chars in s: m2 = l - n\n",
        "        4. Because l > k => m2 > m1. So, with m2 chars, we can create from 1 to m2 palindrome strings with all m2 chars. With this, we can always create k palindrome strings from m2."
      ],
      "metadata": {
        "id": "o1_xrdDDPbRd"
      }
    },
    {
      "cell_type": "code",
      "source": [
        "class Solution:\n",
        "    def canConstruct(self, s: str, k: int) -> bool:\n",
        "\n",
        "        if len(s) < k:\n",
        "            return False\n",
        "\n",
        "        char_freq = [False] * 26\n",
        "\n",
        "        for _ch in s:\n",
        "            char_freq[ord(_ch)-97] ^= 1\n",
        "\n",
        "        return sum(char_freq) <= k"
      ],
      "metadata": {
        "id": "P_OAcfpWNHNJ"
      },
      "execution_count": null,
      "outputs": []
    },
    {
      "cell_type": "code",
      "source": [
        "test_cases = [\n",
        "    {\n",
        "        \"input\": {\n",
        "            \"s\": \"annabelle\",\n",
        "            \"k\": 2\n",
        "        },\n",
        "        \"output\": True\n",
        "    },\n",
        "    {\n",
        "        \"input\": {\n",
        "            \"s\": \"leetcode\",\n",
        "            \"k\": 3\n",
        "        },\n",
        "        \"output\": False\n",
        "    },\n",
        "    {\n",
        "        \"input\": {\n",
        "            \"s\": \"true\",\n",
        "            \"k\": 4\n",
        "        },\n",
        "        \"output\": True\n",
        "    },\n",
        "    {\n",
        "        \"input\": {\n",
        "            \"s\": \"aaa\",\n",
        "            \"k\": 2\n",
        "        },\n",
        "        \"output\": True\n",
        "    },\n",
        "    {\n",
        "        \"input\": {\n",
        "            \"s\": \"jsautfnlcmwqpzycehdulmdencthhlzsnijd\",\n",
        "            \"k\": 35\n",
        "        },\n",
        "        \"output\": True\n",
        "    }\n",
        "]"
      ],
      "metadata": {
        "id": "Y4Ul3-9H-UnP"
      },
      "execution_count": null,
      "outputs": []
    },
    {
      "cell_type": "code",
      "source": [
        "solution = Solution()\n",
        "for test_case in test_cases:\n",
        "    result = solution.canConstruct(test_case[\"input\"][\"s\"], test_case[\"input\"][\"k\"])\n",
        "    if result != test_case[\"output\"]:\n",
        "        print(f'Failed test case with input: {test_case[\"input\"]} and output: {test_case[\"output\"]}')"
      ],
      "metadata": {
        "id": "XRXy0lej-3bb"
      },
      "execution_count": null,
      "outputs": []
    },
    {
      "cell_type": "markdown",
      "source": [
        "Use Python counter"
      ],
      "metadata": {
        "id": "i2gh7i_bOUwa"
      }
    },
    {
      "cell_type": "code",
      "source": [
        "class Solution:\n",
        "    def canConstruct(self, s: str, k: int) -> bool:\n",
        "        if len(s) < k:\n",
        "            return False\n",
        "\n",
        "        from collections import Counter\n",
        "        freq = Counter(s)\n",
        "\n",
        "        odds = sum(1 for count in freq.values() if count % 2 != 0)\n",
        "\n",
        "        return odds <= k"
      ],
      "metadata": {
        "id": "dXTgGjLHOOIP"
      },
      "execution_count": null,
      "outputs": []
    },
    {
      "cell_type": "code",
      "source": [],
      "metadata": {
        "id": "B9wcjXzzORIB"
      },
      "execution_count": null,
      "outputs": []
    }
  ]
}
{
  "nbformat": 4,
  "nbformat_minor": 0,
  "metadata": {
    "colab": {
      "provenance": [],
      "authorship_tag": "ABX9TyMeuPKnTCkdtCI8yFwIcPS4",
      "include_colab_link": true
    },
    "kernelspec": {
      "name": "python3",
      "display_name": "Python 3"
    },
    "language_info": {
      "name": "python"
    }
  },
  "cells": [
    {
      "cell_type": "markdown",
      "metadata": {
        "id": "view-in-github",
        "colab_type": "text"
      },
      "source": [
        "<a href=\"https://colab.research.google.com/github/duyvm/leetcode-problems/blob/main/%5BEAS%5D1534_Count_Good_Triplets.ipynb\" target=\"_parent\"><img src=\"https://colab.research.google.com/assets/colab-badge.svg\" alt=\"Open In Colab\"/></a>"
      ]
    },
    {
      "cell_type": "markdown",
      "source": [
        "# 1534. Count Good Triplets\n",
        "\n",
        "https://leetcode.com/problems/count-good-triplets/description/\n",
        "\n",
        "Given an array of integers `arr`, and three integers `a`, `b` and `c`. You need to find the number of good triplets.\n",
        "\n",
        "A triplet `(arr[i], arr[j], arr[k])` is good if the following conditions are true:\n",
        "\n",
        "- `0 <= i < j < k < arr.length`\n",
        "- `|arr[i] - arr[j]| <= a`\n",
        "- `|arr[j] - arr[k]| <= b`\n",
        "- `|arr[i] - arr[k]| <= c`\n",
        "\n",
        "Where `|x|` denotes the absolute value of `x`.\n",
        "\n",
        "Return the number of good triplets.\n",
        "\n",
        "**Constraints:**\n",
        "- `3 <= arr.length <= 100`\n",
        "- `0 <= arr[i] <= 1000`\n",
        "- `0 <= a, b, c <= 1000`\n",
        "\n",
        "**Follow up:**"
      ],
      "metadata": {
        "id": "OhbFjTlo_zih"
      }
    },
    {
      "cell_type": "markdown",
      "source": [
        "**Example 1:**\n",
        "\n",
        "- Input: `\"arr\": [3,0,1,1,9,7], \"a\": 7, \"b\": 2, \"c\": 3`\n",
        "\n",
        "- Output: `4`\n",
        "\n",
        "- Explanation: There are 4 good triplets: `[(3,0,1), (3,0,1), (3,1,1), (0,1,1)]`.\n",
        "\n",
        "**Example 2:**\n",
        "\n",
        "- Input: `\"arr\": [1,1,2,2,3], \"a\": 0, \"b\": 0, \"c\": 1`\n",
        "\n",
        "- Output: `0`\n",
        "\n",
        "- Explanation: No triplet satisfies all conditions."
      ],
      "metadata": {
        "id": "IEpVafbfC7W-"
      }
    },
    {
      "cell_type": "code",
      "source": [
        "test_cases = [\n",
        "    {\n",
        "        \"input\": {\n",
        "            \"arr\": [3,0,1,1,9,7], \"a\": 7, \"b\": 2, \"c\": 3\n",
        "        },\n",
        "        \"output\": 4\n",
        "    },\n",
        "    {\n",
        "        \"input\": {\n",
        "            \"arr\": [1,1,2,2,3], \"a\": 0, \"b\": 0, \"c\": 1\n",
        "        },\n",
        "        \"output\": 0\n",
        "    },\n",
        "]"
      ],
      "metadata": {
        "id": "VD9YirfAdayx"
      },
      "execution_count": 1,
      "outputs": []
    },
    {
      "cell_type": "code",
      "source": [
        "def run_test_cases(solution, function_name):\n",
        "    for i in range(len(test_cases)):\n",
        "        run_test_case(solution, function_name, i)\n",
        "\n",
        "def run_test_case(solution, function_name, i):\n",
        "    test_case = test_cases[i]\n",
        "    result = getattr(solution, function_name)(**test_case[\"input\"])\n",
        "    if result != test_case[\"output\"]:\n",
        "        print(f'Failed test case {i} with input: {test_case[\"input\"]} and expected result: {test_case[\"output\"]} vs actual result: {result}')"
      ],
      "metadata": {
        "id": "eefq238-1jIb"
      },
      "execution_count": 2,
      "outputs": []
    },
    {
      "cell_type": "markdown",
      "source": [
        "# Approach 1 - Brute force\n",
        "\n",
        "### Observations\n",
        "\n",
        "-\n",
        "\n",
        "### Analysis\n",
        "\n",
        "- Time complexity: `O(1)`\n"
      ],
      "metadata": {
        "id": "e4M1bpIEDWc6"
      }
    },
    {
      "cell_type": "markdown",
      "source": [
        "### Implementation"
      ],
      "metadata": {
        "id": "TTw8uVbRkXtT"
      }
    },
    {
      "cell_type": "code",
      "source": [
        "from re import L\n",
        "from typing import List, Optional\n",
        "from collections import defaultdict\n",
        "from collections import deque\n",
        "from heapq import heapify, heappush, heappop\n",
        "from queue import PriorityQueue\n",
        "from collections import Counter\n",
        "import math\n",
        "\n",
        "class Solution:\n",
        "    def countGoodTriplets(self, arr: List[int], a: int, b: int, c: int) -> int:\n",
        "        count = 0\n",
        "        for i in range(len(arr)):\n",
        "            for j in range(i + 1, len(arr)):\n",
        "                if abs(arr[i] - arr[j]) > a:\n",
        "                    continue\n",
        "                for k in range(j + 1, len(arr)):\n",
        "                    if abs(arr[j] - arr[k]) > b:\n",
        "                        continue\n",
        "                    if abs(arr[i] - arr[k]) > c:\n",
        "                        continue\n",
        "                    count += 1\n",
        "        return count"
      ],
      "metadata": {
        "id": "7N6VBRdIDUwD"
      },
      "execution_count": 6,
      "outputs": []
    },
    {
      "cell_type": "code",
      "source": [
        "run_test_cases(Solution(), \"countGoodTriplets\")"
      ],
      "metadata": {
        "id": "DSgVrw0oNgBn"
      },
      "execution_count": 7,
      "outputs": []
    }
  ]
}
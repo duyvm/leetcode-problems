{
  "nbformat": 4,
  "nbformat_minor": 0,
  "metadata": {
    "colab": {
      "provenance": [],
      "authorship_tag": "ABX9TyOHLRyWlQDEXLi7yXKs7i1k",
      "include_colab_link": true
    },
    "kernelspec": {
      "name": "python3",
      "display_name": "Python 3"
    },
    "language_info": {
      "name": "python"
    }
  },
  "cells": [
    {
      "cell_type": "markdown",
      "metadata": {
        "id": "view-in-github",
        "colab_type": "text"
      },
      "source": [
        "<a href=\"https://colab.research.google.com/github/duyvm/leetcode-problems/blob/main/%5BMED%5D2579_Count_Total_Number_of_Colored_Cells.ipynb\" target=\"_parent\"><img src=\"https://colab.research.google.com/assets/colab-badge.svg\" alt=\"Open In Colab\"/></a>"
      ]
    },
    {
      "cell_type": "markdown",
      "source": [
        "## 2579. Count Total Number of Colored Cells\n",
        "\n",
        "https://leetcode.com/problems/count-total-number-of-colored-cells/description/\n",
        "\n",
        "There exists an infinitely large **two-dimensional** grid of uncolored unit cells. You are given a positive integer `n`, indicating that you must do the following routine for `n` minutes:\n",
        "\n",
        "- At the first minute, color **any** arbitrary unit cell blue.\n",
        "- Every minute thereafter, color blue **every** uncolored cell that touches a blue cell.\n",
        "\n",
        "Below is a pictorial representation of the state of the grid after minutes `1`, `2`, and `3`.\n",
        "\n",
        "![grid1](https://drive.google.com/uc?id=1C5xCN-aSN_-QEslRlKSLRwwdu7polo-H)\n",
        "\n",
        "Return the number of colored cells at the end of `n` minutes.\n",
        "\n",
        "**Constraints:**\n",
        "\n",
        "- `1 <= n <= 10`<sup>`5`</sup>"
      ],
      "metadata": {
        "id": "OhbFjTlo_zih"
      }
    },
    {
      "cell_type": "markdown",
      "source": [
        "**Example 1:**\n",
        "\n",
        " - Input: `n = 1`\n",
        "\n",
        "- Output: `1`\n",
        "\n",
        "- Explanation: After 1 minute, there is only 1 blue cell, so we return 1.\n",
        "\n",
        "**Example 2:**\n",
        "\n",
        "- Input: `n = 2`\n",
        "\n",
        "- Output: `5`\n",
        "\n",
        "- Explanation: After 2 minutes, there are 4 colored cells on the boundary and 1 in the center, so we return 5."
      ],
      "metadata": {
        "id": "IEpVafbfC7W-"
      }
    },
    {
      "cell_type": "code",
      "source": [
        "test_cases = [\n",
        "    {\n",
        "        \"input\": {\n",
        "            \"n\": 1,\n",
        "        },\n",
        "        \"output\": 1\n",
        "    },\n",
        "    {\n",
        "        \"input\": {\n",
        "            \"n\": 2,\n",
        "        },\n",
        "        \"output\": 5\n",
        "    },\n",
        "]"
      ],
      "metadata": {
        "id": "FX5LBbqkkNPU"
      },
      "execution_count": 1,
      "outputs": []
    },
    {
      "cell_type": "markdown",
      "source": [
        "## Observations\n",
        "\n",
        "- At minute `1`: add `1` blue cell\n",
        "\n",
        "- At minute `2`: add `4` blue cell (`4` top/bottom/left/right cells + `4*0` edge cells)\n",
        "\n",
        "- At minute `3`: add `8` blue cells (`4` top/bottom/left/right cells + `4*1` edge cells )\n",
        "\n",
        "- At minute `4`: add `12` blue cells (`4` top/bottom/left/right cells + `4*2` edge cells )\n",
        "\n",
        "- At minute `5`: add `16` blue cells (`4` top/bottom/left/right cells + `4*3` edge cells )\n",
        "\n",
        "- ...\n",
        "\n",
        "- At minute `n`: add `4+4*(n-2)` blue cells (`4` top/bottom/left/right cells + `4*(n-2)` edge cells )\n",
        "\n",
        "- Rewrite to number of blue cells up untill minute `n`\n",
        "\n",
        "  - At minute `1`: `1`\n",
        "\n",
        "  - At minute `2`: `4*1 + 1`\n",
        "\n",
        "  - At minute `3`: `4*2 + 4*1 + 1`\n",
        "\n",
        "  - At minute `4`: `4*3 + 4*2 + 4*1 + 1`\n",
        "\n",
        "  - At minute `5`: `4*4 + 4*3 + 4*2 + 4*1 + 1`\n",
        "\n",
        "  - ...\n",
        "\n",
        "  - At minute `n`:\n",
        "          4*(n-1) + 4*(n-2) + 4*(n-3) + ... 4*1 + 1\n",
        "        = 4*n*(n-1)/2 + 1\n",
        "        = 2*n*(n-1) + 1"
      ],
      "metadata": {
        "id": "e4M1bpIEDWc6"
      }
    },
    {
      "cell_type": "markdown",
      "source": [
        "## Implementation"
      ],
      "metadata": {
        "id": "kb1xDpH8oR8K"
      }
    },
    {
      "cell_type": "code",
      "source": [
        "from typing import List, Optional\n",
        "from collections import defaultdict\n",
        "from collections import deque\n",
        "from heapq import heapify, heappush, heappop\n",
        "from queue import PriorityQueue\n",
        "\n",
        "class Solution:\n",
        "    def coloredCells(self, n: int) -> int:\n",
        "        if n in (0, 1):\n",
        "            return n\n",
        "\n",
        "        return 2*n*(n-1) + 1"
      ],
      "metadata": {
        "id": "7N6VBRdIDUwD"
      },
      "execution_count": 48,
      "outputs": []
    },
    {
      "cell_type": "code",
      "source": [
        "solution = Solution()\n",
        "for test_case in test_cases:\n",
        "    result = solution.coloredCells(test_case[\"input\"][\"n\"])\n",
        "    if result != test_case[\"output\"]:\n",
        "        print(f'Failed test case with input: {test_case[\"input\"]} and output: {test_case[\"output\"]} vs result: {result}')"
      ],
      "metadata": {
        "id": "CMDKnxwjGL6v"
      },
      "execution_count": 49,
      "outputs": []
    },
    {
      "cell_type": "code",
      "source": [],
      "metadata": {
        "id": "gafub7h90gff"
      },
      "execution_count": null,
      "outputs": []
    }
  ]
}
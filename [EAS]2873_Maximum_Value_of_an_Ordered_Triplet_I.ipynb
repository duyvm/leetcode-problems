{
  "nbformat": 4,
  "nbformat_minor": 0,
  "metadata": {
    "colab": {
      "provenance": [],
      "authorship_tag": "ABX9TyM46cawdRDhPXPCTU1OgaT0",
      "include_colab_link": true
    },
    "kernelspec": {
      "name": "python3",
      "display_name": "Python 3"
    },
    "language_info": {
      "name": "python"
    }
  },
  "cells": [
    {
      "cell_type": "markdown",
      "metadata": {
        "id": "view-in-github",
        "colab_type": "text"
      },
      "source": [
        "<a href=\"https://colab.research.google.com/github/duyvm/leetcode-problems/blob/main/%5BEAS%5D2873_Maximum_Value_of_an_Ordered_Triplet_I.ipynb\" target=\"_parent\"><img src=\"https://colab.research.google.com/assets/colab-badge.svg\" alt=\"Open In Colab\"/></a>"
      ]
    },
    {
      "cell_type": "markdown",
      "source": [
        "# 2873. Maximum Value of an Ordered Triplet I\n",
        "\n",
        "https://leetcode.com/problems/maximum-value-of-an-ordered-triplet-i/description/\n",
        "\n",
        "You are given a **0-indexed** integer array `nums`.\n",
        "\n",
        "Return the **maximum** value over all triplets of indices `(i, j, k)` such that `i < j < k`. If all such triplets have a negative value, return `0`.\n",
        "\n",
        "The value of a triplet of indices `(i, j, k)` is equal to `(nums[i] - nums[j]) * nums[k]`.\n",
        "\n",
        "\n",
        "\n",
        "**Constraints:**\n",
        "- `3 <= nums.length <= 100`\n",
        "- `1 <= nums[i] <= 10`<sup>`6`</sup>\n",
        "\n",
        "**Follow up:**"
      ],
      "metadata": {
        "id": "OhbFjTlo_zih"
      }
    },
    {
      "cell_type": "markdown",
      "source": [
        "**Example 1:**\n",
        "\n",
        "- Input: `nums = [12,6,1,2,7]`\n",
        "\n",
        "- Output: `77`\n",
        "\n",
        "- Explanation:\n",
        "\n",
        "       The value of the triplet (0, 2, 4) is (nums[0] - nums[2]) * nums[4] = 77.\n",
        "        It can be shown that there are no ordered triplets of indices with a value greater than 77.\n",
        "\n",
        "**Example 2:**\n",
        "\n",
        "- Input: `nums = [1,10,3,4,19]`\n",
        "\n",
        "- Output: `133`\n",
        "\n",
        "- Explanation:\n",
        "\n",
        "        The value of the triplet (1, 2, 4) is (nums[1] - nums[2]) * nums[4] = 133.\n",
        "        It can be shown that there are no ordered triplets of indices with a value greater than 133.\n",
        "\n",
        "**Example 3:**\n",
        "\n",
        "- Input: `nums = [1,2,3]`\n",
        "\n",
        "- Output: `0`\n",
        "\n",
        "- Explanation:\n",
        "\n",
        "        The only ordered triplet of indices (0, 1, 2) has a negative value of (nums[0] - nums[1]) * nums[2] = -3. Hence, the answer would be 0."
      ],
      "metadata": {
        "id": "IEpVafbfC7W-"
      }
    },
    {
      "cell_type": "code",
      "source": [
        "test_cases = [\n",
        "    {\n",
        "        \"input\": {\n",
        "            \"nums\": [12,6,1,2,7],\n",
        "        },\n",
        "        \"output\": 77\n",
        "    },\n",
        "    {\n",
        "        \"input\": {\n",
        "            \"nums\": [1,10,3,4,19],\n",
        "        },\n",
        "        \"output\": 133\n",
        "    },\n",
        "    {\n",
        "        \"input\": {\n",
        "            \"nums\": [1,2,3],\n",
        "        },\n",
        "        \"output\": 0\n",
        "    },\n",
        "]"
      ],
      "metadata": {
        "id": "VD9YirfAdayx"
      },
      "execution_count": 1,
      "outputs": []
    },
    {
      "cell_type": "code",
      "source": [
        "def run_test_cases(solution, function_name):\n",
        "    for i in range(len(test_cases)):\n",
        "        run_test_case(solution, function_name, i)\n",
        "\n",
        "def run_test_case(solution, function_name, i):\n",
        "    test_case = test_cases[i]\n",
        "    result = getattr(solution, function_name)(**test_case[\"input\"])\n",
        "    if result != test_case[\"output\"]:\n",
        "        print(f'Failed test case {i} with input: {test_case[\"input\"]} and expected result: {test_case[\"output\"]} vs actual result: {result}')"
      ],
      "metadata": {
        "id": "eefq238-1jIb"
      },
      "execution_count": 2,
      "outputs": []
    },
    {
      "cell_type": "markdown",
      "source": [
        "# Approach 1 - Brute force\n",
        "\n",
        "### Observations\n",
        "\n",
        "- `i < j < k`\n",
        "\n",
        "- `(nums[i] - nums[j]) * nums[k]`\n",
        "\n",
        "- Use three nested loop to find all the triplets\n",
        "\n",
        "### Analysis\n",
        "\n",
        "- Time complexity: `O(n`<sup>`3`</sup>`)`\n"
      ],
      "metadata": {
        "id": "e4M1bpIEDWc6"
      }
    },
    {
      "cell_type": "markdown",
      "source": [
        "### Implementation"
      ],
      "metadata": {
        "id": "TTw8uVbRkXtT"
      }
    },
    {
      "cell_type": "code",
      "source": [
        "from re import L\n",
        "from typing import List, Optional\n",
        "from collections import defaultdict\n",
        "from collections import deque\n",
        "from heapq import heapify, heappush, heappop\n",
        "from queue import PriorityQueue\n",
        "from collections import Counter\n",
        "import math\n",
        "\n",
        "class Solution:\n",
        "    def maximumTripletValue(self, nums: List[int]) -> int:\n",
        "        ans = -math.inf\n",
        "        for i in range(len(nums)-2):\n",
        "            for j in range(i+1, len(nums)-1):\n",
        "                for k in range(j+1, len(nums)):\n",
        "                    temp = (nums[i] - nums[j]) * nums[k]\n",
        "                    ans = max(ans, temp)\n",
        "        return ans if ans > 0 else 0"
      ],
      "metadata": {
        "id": "7N6VBRdIDUwD"
      },
      "execution_count": 10,
      "outputs": []
    },
    {
      "cell_type": "code",
      "source": [
        "run_test_cases(Solution(), \"maximumTripletValue\")"
      ],
      "metadata": {
        "id": "DSgVrw0oNgBn"
      },
      "execution_count": 11,
      "outputs": []
    },
    {
      "cell_type": "markdown",
      "source": [
        "# Approach 1 - Prefix and Suffix\n",
        "\n",
        "### Observations\n",
        "\n",
        "- `i < j < k`\n",
        "\n",
        "- `(nums[i] - nums[j]) * nums[k]`\n",
        "\n",
        "- For each `j` in range `nums[1:len(nums)-1]`. The triplet is maximized when `nums[i]` is the maximum in range `nums[0:j]` and `nums[k]`is the maximum in range `nums[j+1:len(nums)]`\n",
        "\n",
        "  - Let `leftMax[i]` is the maximum value in range `nums[0:i]`\n",
        "\n",
        "  - Let `rightMax[i]` is the maximum value in range `nums[i+1:len(nums)]`\n",
        "\n",
        "  - We pre-compute `leftMax` and `rightMax` first using prefix suffix\n",
        "\n",
        "  - Then we iterate `j` over `nums[1:len(nums)-1]` and compute maximum value using `leftMax` and `rightMax`\n",
        "\n",
        "### Analysis\n",
        "\n",
        "- Time complexity: `O(n`<sup>`2`</sup>`)`\n"
      ],
      "metadata": {
        "id": "VMaKyV1x-jfH"
      }
    },
    {
      "cell_type": "code",
      "source": [
        "from re import L\n",
        "from typing import List, Optional\n",
        "from collections import defaultdict\n",
        "from collections import deque\n",
        "from heapq import heapify, heappush, heappop\n",
        "from queue import PriorityQueue\n",
        "from collections import Counter\n",
        "import math\n",
        "\n",
        "class Solution:\n",
        "    def maximumTripletValue(self, nums: List[int]) -> int:\n",
        "        n = len(nums)\n",
        "        leftMax = [0] * n\n",
        "        rightMax = [0] * n\n",
        "        for i in range(1, n-1):\n",
        "            leftMax[i] = max(leftMax[i-1], nums[i-1])\n",
        "            rightMax[n-i-1] = max(rightMax[n-i], nums[n-i])\n",
        "\n",
        "        ans = -math.inf\n",
        "        for j in range(1, n-1):\n",
        "            temp = (leftMax[j] - nums[j]) * rightMax[j]\n",
        "            ans = max(ans, temp)\n",
        "        return max(ans, 0)"
      ],
      "metadata": {
        "id": "Cgp32mBE32Xw"
      },
      "execution_count": 16,
      "outputs": []
    },
    {
      "cell_type": "code",
      "source": [
        "run_test_cases(Solution(), \"maximumTripletValue\")"
      ],
      "metadata": {
        "id": "T9eRBE_LBL41"
      },
      "execution_count": 17,
      "outputs": []
    },
    {
      "cell_type": "code",
      "source": [],
      "metadata": {
        "id": "nIanVq8VBNLc"
      },
      "execution_count": null,
      "outputs": []
    }
  ]
}
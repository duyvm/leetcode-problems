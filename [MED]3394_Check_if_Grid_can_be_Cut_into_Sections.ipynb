{
  "nbformat": 4,
  "nbformat_minor": 0,
  "metadata": {
    "colab": {
      "provenance": [],
      "authorship_tag": "ABX9TyMm0ds8CraZ/djwOsrp1nqx",
      "include_colab_link": true
    },
    "kernelspec": {
      "name": "python3",
      "display_name": "Python 3"
    },
    "language_info": {
      "name": "python"
    }
  },
  "cells": [
    {
      "cell_type": "markdown",
      "metadata": {
        "id": "view-in-github",
        "colab_type": "text"
      },
      "source": [
        "<a href=\"https://colab.research.google.com/github/duyvm/leetcode-problems/blob/main/%5BMED%5D3394_Check_if_Grid_can_be_Cut_into_Sections.ipynb\" target=\"_parent\"><img src=\"https://colab.research.google.com/assets/colab-badge.svg\" alt=\"Open In Colab\"/></a>"
      ]
    },
    {
      "cell_type": "markdown",
      "source": [
        "# 3394. Check if Grid can be Cut into Sections\n",
        "\n",
        "https://leetcode.com/problems/check-if-grid-can-be-cut-into-sections/description/\n",
        "\n",
        "You are given an integer `n` representing the dimensions of an `n x n` grid, with the origin at the bottom-left corner of the grid. You are also given a 2D array of coordinates `rectangles`, where `rectangles[i]` is in the form `[start`<sub>`x`</sub>`, start`<sub>`y`</sub>`, end`<sub>`x`</sub>`, end`<sub>`y`</sub>`]`, representing a rectangle on the grid. Each rectangle is defined as follows:\n",
        "\n",
        "- `(start`<sub>`x`</sub>`, start`<sub>`y`</sub>`)`: The bottom-left corner of the rectangle.\n",
        "\n",
        "- `(end`<sub>`x`</sub>`, end`<sub>`y`</sub>`)`: The top-right corner of the rectangle.\n",
        "\n",
        "Note that the rectangles do not overlap. Your task is to determine if it is possible to make either **two horizontal** or **two vertical** cuts on the grid such that:\n",
        "\n",
        "- Each of the three resulting sections formed by the cuts contains at **least one** rectangle.\n",
        "\n",
        "- Every rectangle belongs to exactly **one section**.\n",
        "\n",
        "Return `true` if such cuts can be made; otherwise, return `false`.\n",
        "\n",
        "**Constraints:**\n",
        "- `3 <= n <= 10`<sup>`9`</sup>\n",
        "- `3 <= rectangles.length <= 10`<sup>`5`</sup>\n",
        "- `0 <= rectangles[i][0] < rectangles[i][2] <= n`\n",
        "- `0 <= rectangles[i][1] < rectangles[i][3] <= n`\n",
        "- No two rectangles overlap."
      ],
      "metadata": {
        "id": "OhbFjTlo_zih"
      }
    },
    {
      "cell_type": "markdown",
      "source": [
        "**Example 1:**\n",
        "\n",
        "- Input: `n = 5, rectangles = [[1,0,5,2],[0,2,2,4],[3,2,5,3],[0,4,4,5]]`\n",
        "\n",
        "- Output: `true`\n",
        "\n",
        "- Explanation:\n",
        "\n",
        "    ![example1](https://drive.google.com/uc?id=1zr9yplwEPmNqIk5upOEw2akU2_p5d51G)\n",
        "\n",
        "    The grid is shown in the diagram. We can make horizontal cuts at `y = 2` and `y = 4`. Hence, output is true.\n",
        "\n",
        "**Example 2:**\n",
        "\n",
        "- Input: `n = 4, rectangles = [[0,0,1,1],[2,0,3,4],[0,2,2,3],[3,0,4,3]]`\n",
        "\n",
        "- Output: `true`\n",
        "\n",
        "- Explanation:\n",
        "\n",
        "    ![example2](https://drive.google.com/uc?id=11hmCL1QJ8127X6ad7u4rIC2qKxyXE3Vp)\n",
        "\n",
        "    We can make vertical cuts at `x = 2` and `x = 3`. Hence, output is true.\n",
        "\n",
        "**Example 3:**\n",
        "\n",
        "- Input: `n = 4, rectangles = [[0,2,2,4],[1,0,3,2],[2,2,3,4],[3,0,4,2],[3,2,4,4]]`\n",
        "\n",
        "- Output: `false`\n",
        "\n",
        "- Explanation:We cannot make two horizontal or two vertical cuts that satisfy the conditions. Hence, output is false.\n"
      ],
      "metadata": {
        "id": "IEpVafbfC7W-"
      }
    },
    {
      "cell_type": "code",
      "source": [
        "test_cases = [\n",
        "    {\n",
        "        \"input\": {\n",
        "            \"n\": 5,\n",
        "            \"rectangles\": [[1,0,5,2],[0,2,2,4],[3,2,5,3],[0,4,4,5]],\n",
        "        },\n",
        "        \"output\": True\n",
        "    },\n",
        "    {\n",
        "        \"input\": {\n",
        "            \"n\": 4,\n",
        "            \"rectangles\": [[0,0,1,1],[2,0,3,4],[0,2,2,3],[3,0,4,3]],\n",
        "        },\n",
        "        \"output\": True\n",
        "    },\n",
        "    {\n",
        "        \"input\": {\n",
        "            \"n\": 4,\n",
        "            \"rectangles\": [[0,2,2,4],[1,0,3,2],[2,2,3,4],[3,0,4,2],[3,2,4,4]],\n",
        "        },\n",
        "        \"output\": False\n",
        "    },\n",
        "    {\n",
        "        \"input\": {\n",
        "            \"n\": 6,\n",
        "            \"rectangles\": [[4,0,5,2],[0,5,4,6],[4,5,6,6]],\n",
        "        },\n",
        "        \"output\": False\n",
        "    },\n",
        "    {\n",
        "        \"input\": {\n",
        "            \"n\": 4,\n",
        "            \"rectangles\": [[0,0,1,1],[1,0,4,1],[0,1,2,2],[2,1,4,2],[0,2,2,4],[2,2,3,4],[3,2,4,4]],\n",
        "        },\n",
        "        \"output\": True\n",
        "    },\n",
        "    {\n",
        "        \"input\": {\n",
        "            \"n\": 5,\n",
        "            \"rectangles\": [[0,0,1,5],[1,0,3,3],[3,0,5,3],[1,3,2,5],[2,3,5,5]],\n",
        "        },\n",
        "        \"output\": False\n",
        "    },\n",
        "]"
      ],
      "metadata": {
        "id": "VD9YirfAdayx"
      },
      "execution_count": 55,
      "outputs": []
    },
    {
      "cell_type": "markdown",
      "source": [
        "# Approach 1 (Beat ~91%)\n",
        "\n",
        "### Observations\n",
        "\n",
        "- Given `rectangles`. Each `rectangel` has `left, right` for vertical edges and `top, bottom` for horizontal edges\n",
        "\n",
        "- The idea is to checking edges of each rectangle in both horizontal and vertical to see if it crossed any rectangle. If not, it is a potential valid cut. Check all the edges and `count` the valid cut.\n",
        "\n",
        "  - We only need to collect all the `right` edges and `top` edges of all `rectangles`.\n",
        "\n",
        "  - Create two sorted `rectangles` in horizontal and vertical.\n",
        "\n",
        "  - For each `right` edge:\n",
        "  \n",
        "   - Use index to tracking current edge and current rectangle in corresponding sorted `rectangles`. In this way, we only need to go through `rectangles` and `edges` once.\n",
        "\n",
        "   - If current `edge` crosses current rectangle: we move to next `edge`\n",
        "\n",
        "   - Else we move to next rectangle\n",
        "\n",
        "   - If the current `edge` at the left side of new rectangle, then it is a valid cut, we increase `count` by `1`\n",
        "\n",
        "   - If `count = 2`, return `True`\n",
        "\n",
        "  - Do the same for horizontal edges\n",
        "\n",
        "  - If there are no edges, return `False`\n",
        "\n",
        "### Analysis\n",
        "\n",
        "- Time complexity: let `m = rectangles.length`\n",
        "\n",
        "  - One pass through `rectangles` to collect `right` and `bottom` edges: `O(m)`\n",
        "\n",
        "  - One pass through `right` edges array for sorting: `O(log(m))` (binary sort)\n",
        "  \n",
        "  - One pass through `bottom` edges array for sorting: `O(log(m))` (binary sort)\n",
        "\n",
        "  - One pass through `rectangles` for sorting based on `start`<sub>`x`</sub>: `O(log(m))` (binary sort)\n",
        "\n",
        "  - One pass through `rectangles` for sorting based on `start`<sub>`y`</sub>: `O(log(m))` (binary sort)\n",
        "\n",
        "  - Checking vertical cut: worst case scenario is we must check all `right` edges versus all vertically sorted `rectangles`: `O(2*m)\n",
        "  \n",
        "  - Checking horizonal cut: worst case scenario is we must check all `top` edges versus all horizontally sorted `rectangles`: `O(2*m)`\n",
        "\n",
        "  - Total time complexity: `O(5*m + 4*log(m)) ~ O(m + log(m))`"
      ],
      "metadata": {
        "id": "e4M1bpIEDWc6"
      }
    },
    {
      "cell_type": "markdown",
      "source": [
        "### Implementation"
      ],
      "metadata": {
        "id": "TTw8uVbRkXtT"
      }
    },
    {
      "cell_type": "code",
      "source": [
        "from typing import List, Optional\n",
        "from collections import defaultdict\n",
        "from collections import deque\n",
        "from heapq import heapify, heappush, heappop\n",
        "from queue import PriorityQueue\n",
        "\n",
        "class Solution:\n",
        "    def checkValidCuts(self, n: int, rectangles: List[List[int]]) -> bool:\n",
        "        vertical_edges = set()\n",
        "        horizontal_edges = set()\n",
        "\n",
        "        for start_x, start_y, end_x, end_y in rectangles:\n",
        "            vertical_edges.add(end_x)\n",
        "            horizontal_edges.add(end_y)\n",
        "\n",
        "        vertical_edges = list(vertical_edges)\n",
        "        vertical_edges.sort()\n",
        "        horizontal_edges = list(horizontal_edges)\n",
        "        horizontal_edges.sort()\n",
        "\n",
        "        rectangles_sort_vertically = sorted(rectangles, key=lambda x: x[0])\n",
        "        rectangles_sort_horizontally = sorted(rectangles, key=lambda x: x[1])\n",
        "\n",
        "        # check vertical cut\n",
        "        count = 0\n",
        "        edge_idx = 0\n",
        "        rect_idx = 0\n",
        "        while edge_idx < len(vertical_edges)-1 and rect_idx < len(rectangles):\n",
        "            vertical_edge = vertical_edges[edge_idx]\n",
        "            rect = rectangles_sort_vertically[rect_idx]\n",
        "\n",
        "            if rect[0] >= vertical_edge:\n",
        "                count += 1\n",
        "                edge_idx += 1\n",
        "            elif rect[0] < vertical_edge < rect[2]:\n",
        "                edge_idx += 1\n",
        "            else:\n",
        "                rect_idx += 1\n",
        "\n",
        "            if count == 2:\n",
        "                return True\n",
        "\n",
        "        # check horizontal cut\n",
        "        count = 0\n",
        "        edge_idx = 0\n",
        "        rect_idx = 0\n",
        "        while edge_idx < len(horizontal_edges)-1 and rect_idx < len(rectangles):\n",
        "            horizontal_edge = horizontal_edges[edge_idx]\n",
        "            rect = rectangles_sort_horizontally[rect_idx]\n",
        "\n",
        "            if rect[1] >= horizontal_edge:\n",
        "                count += 1\n",
        "                edge_idx += 1\n",
        "            elif rect[1] < horizontal_edge < rect[3]:\n",
        "                edge_idx += 1\n",
        "            else:\n",
        "                rect_idx += 1\n",
        "\n",
        "            if count == 2:\n",
        "                return True\n",
        "\n",
        "        return False"
      ],
      "metadata": {
        "id": "7N6VBRdIDUwD"
      },
      "execution_count": 67,
      "outputs": []
    },
    {
      "cell_type": "code",
      "source": [
        "solution = Solution()\n",
        "for i, test_case in enumerate(test_cases):\n",
        "    result = solution.checkValidCuts(test_case[\"input\"][\"n\"], test_case[\"input\"][\"rectangles\"])\n",
        "    if result != test_case[\"output\"]:\n",
        "        print(f'Failed test case {i} with input: {test_case[\"input\"]} and expected result: {test_case[\"output\"]} vs actual result: {result}')"
      ],
      "metadata": {
        "id": "CMDKnxwjGL6v"
      },
      "execution_count": null,
      "outputs": []
    },
    {
      "cell_type": "code",
      "source": [
        "solution = Solution()\n",
        "tc = 2\n",
        "result = solution.checkValidCuts(test_cases[tc][\"input\"][\"n\"], test_cases[tc][\"input\"][\"rectangles\"])\n",
        "if result != test_case[\"output\"]:\n",
        "    print(f'Failed test case {i} with input: {test_cases[tc][\"input\"]} and expected result: {test_cases[tc][\"output\"]} vs actual result: {result}')"
      ],
      "metadata": {
        "id": "61xC4i5PFMB4"
      },
      "execution_count": null,
      "outputs": []
    },
    {
      "cell_type": "code",
      "source": [],
      "metadata": {
        "id": "DSgVrw0oNgBn"
      },
      "execution_count": null,
      "outputs": []
    }
  ]
}
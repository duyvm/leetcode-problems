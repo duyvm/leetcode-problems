{
  "nbformat": 4,
  "nbformat_minor": 0,
  "metadata": {
    "colab": {
      "provenance": [],
      "authorship_tag": "ABX9TyMjMVuI4ZbWa0t4u0it/eLy",
      "include_colab_link": true
    },
    "kernelspec": {
      "name": "python3",
      "display_name": "Python 3"
    },
    "language_info": {
      "name": "python"
    }
  },
  "cells": [
    {
      "cell_type": "markdown",
      "metadata": {
        "id": "view-in-github",
        "colab_type": "text"
      },
      "source": [
        "<a href=\"https://colab.research.google.com/github/duyvm/leetcode-problems/blob/main/%5BHAR%5D3108_Minimum_Cost_Walk_in_Weighted_Graph.ipynb\" target=\"_parent\"><img src=\"https://colab.research.google.com/assets/colab-badge.svg\" alt=\"Open In Colab\"/></a>"
      ]
    },
    {
      "cell_type": "markdown",
      "source": [
        "# 3108. Minimum Cost Walk in Weighted Graph\n",
        "\n",
        "https://leetcode.com/problems/minimum-cost-walk-in-weighted-graph/description/\n",
        "\n",
        "There is an undirected weighted graph with `n` vertices labeled from `0` to `n - 1`.\n",
        "\n",
        "You are given the integer `n` and an array `edges`, where `edges[i] = [u`<sub>`i`</sub>`, v`<sub>`i`</sub>`, w`<sub>`i`</sub>`]` indicates that there is an edge between vertices `u`<sub>`i`</sub> and `v`<sub>`i`</sub> with a weight of `w`<sub>`i`</sub>.\n",
        "\n",
        "A walk on a graph is a sequence of vertices and edges. The walk starts and ends with a vertex, and each edge connects the vertex that comes before it and the vertex that comes after it. It's important to note that a walk may visit the same edge or vertex more than once.\n",
        "\n",
        "The cost of a walk starting at node `u` and ending at node `v` is defined as the bitwise `AND` of the weights of the edges traversed during the walk. In other words, if the sequence of edge weights encountered during the walk is `w`<sub>`0`</sub>, `w`<sub>`1`</sub>, `w`<sub>`2`</sub>, ..., `w`<sub>`k`</sub>, then the cost is calculated as `w`<sub>`0`</sub>` & w`<sub>`1`</sub>` & w`<sub>`2`</sub>` & ... & w`<sub>`k`</sub>, where `&` denotes the bitwise `AND` operator.\n",
        "\n",
        "You are also given a 2D array `query`, where `query[i] = [s`<sub>`i`</sub>`, t`<sub>`i`</sub>`]`. For each query, you need to find the minimum cost of the walk starting at vertex `s`<sub>`i`</sub> and ending at vertex `s`<sub>`i`</sub>. If there exists no such walk, the answer is `-1`.\n",
        "\n",
        "Return the array `answer`, where `answer[i]` denotes the minimum cost of a walk for query `i`.\n",
        "\n",
        "**Constraints:**\n",
        "- `2 <= n <= 10`<sup>`5`</sup>\n",
        "- `0 <= edges.length <= 10`<sup>`5`</sup>\n",
        "- `edges[i].length == 3`\n",
        "- `0 <= u`<sub>`i`</sub>`, v`<sub>`i`</sub>` <= n - 1`\n",
        "- `u`<sub>`i`</sub>` != v`<sub>`i`</sub>\n",
        "- `0 <= w`<sub>`i`</sub>` <= 10`<sup>`5`</sup>\n",
        "- `1 <= query.length <= 10`<sup>`5`</sup>\n",
        "- `query[i].length == 2`\n",
        "- `0 <= s`<sub>`i`</sub>`, t`<sub>`i`</sub>` <= n - 1`\n",
        "- `s`<sub>`i`</sub>` != t`<sub>`i`</sub>"
      ],
      "metadata": {
        "id": "OhbFjTlo_zih"
      }
    },
    {
      "cell_type": "markdown",
      "source": [
        "**Example 1:**\n",
        "\n",
        "- Input: `n = 5, edges = [[0,1,7],[1,3,7],[1,2,1]], query = [[0,3],[3,4]]`\n",
        "\n",
        "- Output: `[1,-1]`\n",
        "\n",
        "- Explanation:\n",
        "\n",
        "    ![example1](https://drive.google.com/uc?id=1m-IFkOWp5CPKf6mwuY7fy1QAUyzDcMD7)\n",
        "\n",
        "    To achieve the cost of `1` in the first query, we need to move on the following edges: `0->1` (weight 7), `1->2` (weight 1), `2->1` (weight 1), `1->3` (weight 7).\n",
        "\n",
        "    In the second query, there is no walk between nodes `3` and `4`, so the answer is `-1`.\n",
        "\n",
        "**Example 2:**\n",
        "\n",
        "- Input: `n = 3, edges = [[0,2,7],[0,1,15],[1,2,6],[1,2,1]], query = [[1,2]]`\n",
        "\n",
        "- Output: `[0]`\n",
        "\n",
        "- Explanation:\n",
        "\n",
        "    ![example2](https://drive.google.com/uc?id=1u2kpvQXgtxkJ245kG3bSADizCZqtfs-8)\n",
        "\n",
        "    To achieve the cost of 0 in the first query, we need to move on the following edges: `1->2` (weight 1), `2->1` (weight 6), `1->2` (weight 1).\n",
        "\n"
      ],
      "metadata": {
        "id": "IEpVafbfC7W-"
      }
    },
    {
      "cell_type": "code",
      "source": [
        "test_cases = [\n",
        "    {\n",
        "        \"input\": {\n",
        "            \"n\": 5,\n",
        "            \"edges\": [[0,1,7],[1,3,7],[1,2,1]],\n",
        "            \"query\": [[0,3],[3,4]]\n",
        "        },\n",
        "        \"output\": [1,-1]\n",
        "    },\n",
        "    {\n",
        "        \"input\": {\n",
        "            \"n\": 3,\n",
        "            \"edges\": [[0,2,7],[0,1,15],[1,2,6],[1,2,1]],\n",
        "            \"query\": [[1,2]]\n",
        "        },\n",
        "        \"output\": [0]\n",
        "    },\n",
        "    {\n",
        "        \"input\": {\n",
        "            \"n\": 5,\n",
        "            \"edges\": [[3,1,8],[4,3,7],[3,2,14],[1,2,13],[3,2,6],[3,2,4],[3,0,1],[3,1,12]],\n",
        "            \"query\": [[0,4],[2,1],[0,3],[3,2],[2,4],[4,1],[3,2]]\n",
        "        },\n",
        "        \"output\": [0,0,0,0,0,0,0]\n",
        "    },\n",
        "]"
      ],
      "metadata": {
        "id": "VD9YirfAdayx"
      },
      "execution_count": 24,
      "outputs": []
    },
    {
      "cell_type": "markdown",
      "source": [
        "# Approach 1: Disjoin Set + Brute force (Beat 5%)\n",
        "\n",
        "### Observations\n",
        "\n",
        "- Bitwise `AND`: bitwise `AND` between two numbers `(a,b)`alway return `c <= min(a,b)`\n",
        "\n",
        "- Use Disjoin Set data structure to find connected components of all the vertices\n",
        "\n",
        "- Use dictionary to map `vertex` with `vertex` for fast access\n",
        "\n",
        "- Because the path can visit same edge/vertex many times. The idea is to compute the bitwise `AND` of all edges that in the same component. This value is the minimum cost to travel from any pair vertices in the component.\n",
        "\n",
        "- Given `start, end = query[i]`, if `start` and `end` are not in the same component, a.k.a does not have the same root, then `query[i]` result is `-1`\n",
        "\n",
        "- If `start` and `end` are in the same component:\n",
        "\n",
        "  - Compute the bitwise `AND` of all `edges` in the component. This is the minimum cost of walk of query\n",
        "\n",
        "  - Store the minimum cost walk of current component. In case of there are queries for the same component, instead of computing the minimum cost walk again, re-use the value\n",
        "\n",
        "### Analysis\n",
        "\n",
        "- Time complexity:\n",
        "\n",
        "\n",
        "### More over\n",
        "\n",
        "-"
      ],
      "metadata": {
        "id": "e4M1bpIEDWc6"
      }
    },
    {
      "cell_type": "markdown",
      "source": [
        "### Implementation"
      ],
      "metadata": {
        "id": "TTw8uVbRkXtT"
      }
    },
    {
      "cell_type": "code",
      "source": [
        "from typing import List, Optional\n",
        "from collections import defaultdict\n",
        "from collections import deque\n",
        "from heapq import heapify, heappush, heappop\n",
        "from queue import PriorityQueue\n",
        "\n",
        "class Solution:\n",
        "    class DS:\n",
        "        \"\"\"\n",
        "        Disjoin Set Data Structure\n",
        "        \"\"\"\n",
        "        def __init__(self, n):\n",
        "            self.parent = list(range(n))\n",
        "            self.rank = [1] * n\n",
        "\n",
        "        def union(self, a, b):\n",
        "            if self.parent[a] == self.parent[b]:\n",
        "                return\n",
        "\n",
        "            parent_a = self.find(a)\n",
        "            parent_b = self.find(b)\n",
        "\n",
        "            if self.rank[parent_a] < self.rank[parent_b]:\n",
        "                self.parent[parent_a] = parent_b\n",
        "            elif self.rank[parent_a] > self.rank[parent_b]:\n",
        "                self.parent[parent_b] = parent_a\n",
        "            else:\n",
        "                self.parent[parent_a] = parent_b\n",
        "                self.rank[parent_b] += 1\n",
        "            return\n",
        "\n",
        "\n",
        "        def find(self, a):\n",
        "            if self.parent[a] == a:\n",
        "                return a\n",
        "\n",
        "            return self.find(self.parent[a])\n",
        "\n",
        "\n",
        "    def minimumCost(self, n: int, edges: List[List[int]], query: List[List[int]]) -> List[int]:\n",
        "        vertex2vertex = defaultdict(list)\n",
        "        # initialize connected component\n",
        "        ds = self.DS(n)\n",
        "        for a, b , val in edges:\n",
        "            vertex2vertex[a].append([b, val])\n",
        "            vertex2vertex[b].append([a, val])\n",
        "            ds.union(a, b)\n",
        "\n",
        "        min_cost_for_each_component = dict()\n",
        "\n",
        "        ans = []\n",
        "        for start, end in query:\n",
        "            # print(f\"query: {start} - {end}\")\n",
        "            if ds.find(start) != ds.find(end):\n",
        "                ans.append(-1)\n",
        "                continue\n",
        "\n",
        "            root = ds.find(start)\n",
        "\n",
        "            if root not in min_cost_for_each_component:\n",
        "                min_cost_for_each_component[root] = self.find_min_cost(root, vertex2vertex)\n",
        "\n",
        "            ans.append(min_cost_for_each_component[root])\n",
        "\n",
        "        return ans\n",
        "\n",
        "    def find_min_cost(self, root, vertex2vertex):\n",
        "        visisted = set()\n",
        "        queue = deque([root])\n",
        "        # pick first one\n",
        "        min_cost = vertex2vertex[root][0][1]\n",
        "        while queue:\n",
        "            current_vertex = queue.popleft()\n",
        "            visisted.add(current_vertex)\n",
        "            for vertex, val in vertex2vertex[current_vertex]:\n",
        "                if vertex in visisted:\n",
        "                    continue\n",
        "                queue.append(vertex)\n",
        "                min_cost = min_cost & val\n",
        "\n",
        "                if min_cost == 0:\n",
        "                    return min_cost\n",
        "\n",
        "        return min_cost"
      ],
      "metadata": {
        "id": "7N6VBRdIDUwD"
      },
      "execution_count": 59,
      "outputs": []
    },
    {
      "cell_type": "code",
      "source": [
        "solution = Solution()\n",
        "for i, test_case in enumerate(test_cases):\n",
        "    result = solution.minimumCost(test_case[\"input\"][\"n\"], test_case[\"input\"][\"edges\"], test_case[\"input\"][\"query\"])\n",
        "    if result != test_case[\"output\"]:\n",
        "        print(f'Failed test case {i} with input: {test_case[\"input\"]} and expected result: {test_case[\"output\"]} vs actual result: {result}')"
      ],
      "metadata": {
        "id": "CMDKnxwjGL6v"
      },
      "execution_count": 57,
      "outputs": []
    }
  ]
}
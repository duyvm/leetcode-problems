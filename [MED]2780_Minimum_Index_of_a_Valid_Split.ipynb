{
  "nbformat": 4,
  "nbformat_minor": 0,
  "metadata": {
    "colab": {
      "provenance": [],
      "authorship_tag": "ABX9TyNyxQ21QxqSsk0IbokZzPk5",
      "include_colab_link": true
    },
    "kernelspec": {
      "name": "python3",
      "display_name": "Python 3"
    },
    "language_info": {
      "name": "python"
    }
  },
  "cells": [
    {
      "cell_type": "markdown",
      "metadata": {
        "id": "view-in-github",
        "colab_type": "text"
      },
      "source": [
        "<a href=\"https://colab.research.google.com/github/duyvm/leetcode-problems/blob/main/%5BMED%5D2780_Minimum_Index_of_a_Valid_Split.ipynb\" target=\"_parent\"><img src=\"https://colab.research.google.com/assets/colab-badge.svg\" alt=\"Open In Colab\"/></a>"
      ]
    },
    {
      "cell_type": "markdown",
      "source": [
        "# 2780. Minimum Index of a Valid Split\n",
        "\n",
        "https://leetcode.com/problems/minimum-index-of-a-valid-split/description/\n",
        "\n",
        "An element `x` of an integer array `arr` of length `m` is **dominant** if **more than half** the elements of `arr` have a value of `x`.\n",
        "\n",
        "You are given a **0-indexed** integer array `nums` of length `n` with **one dominant** element.\n",
        "\n",
        "You can split `nums` at an index `i` into two arrays `nums[0, ..., i]` and `nums[i + 1, ..., n - 1]`, but the split is only valid if:\n",
        "\n",
        "- `0 <= i < n - 1`\n",
        "- `nums[0, ..., i]`, and `nums[i + 1, ..., n - 1]` have the same **dominant** element.\n",
        "\n",
        "Here, `nums[i, ..., j]` denotes the subarray of `nums` starting at index `i` and ending at index `j`, both ends being inclusive. Particularly, if `j < i` then `nums[i, ..., j]` denotes an empty subarray.\n",
        "\n",
        "Return the **minimum index** of a valid split. If no valid split exists, return `-1`.\n",
        "\n",
        "**Constraints:**\n",
        "- `1 <= nums.length <= 10`<sup>`5`</sup>\n",
        "- `1 <= nums[i] <= 10`<sup>`9`</sup>\n",
        "- `nums` has exactly one dominant element."
      ],
      "metadata": {
        "id": "OhbFjTlo_zih"
      }
    },
    {
      "cell_type": "markdown",
      "source": [
        "**Example 1:**\n",
        "\n",
        "- Input: `nums = [1,2,2,2]`\n",
        "\n",
        "- Output: `2`\n",
        "\n",
        "- Explanation:\n",
        "\n",
        "        Explanation: We can split the array at index 2 to obtain arrays [1,2,2] and [2].\n",
        "        In array [1,2,2], element 2 is dominant since it occurs twice in the array and 2 * 2 > 3.\n",
        "        In array [2], element 2 is dominant since it occurs once in the array and 1 * 2 > 1.\n",
        "        Both [1,2,2] and [2] have the same dominant element as nums, so this is a valid split.\n",
        "        It can be shown that index 2 is the minimum index of a valid split.\n",
        "\n",
        "**Example 2:**\n",
        "\n",
        "- Input: `nums = [2,1,3,1,1,1,7,1,2,1]`\n",
        "\n",
        "- Output: `4`\n",
        "\n",
        "- Explanation:\n",
        "\n",
        "        Explanation: We can split the array at index 4 to obtain arrays [2,1,3,1,1] and [1,7,1,2,1].\n",
        "        In array [2,1,3,1,1], element 1 is dominant since it occurs thrice in the array and 3 * 2 > 5.\n",
        "        In array [1,7,1,2,1], element 1 is dominant since it occurs thrice in the array and 3 * 2 > 5.\n",
        "        Both [2,1,3,1,1] and [1,7,1,2,1] have the same dominant element as nums, so this is a valid split.\n",
        "        It can be shown that index 4 is the minimum index of a valid split.\n",
        "\n",
        "\n",
        "**Example 3:**\n",
        "\n",
        "- Input: `nums = [3,3,3,3,7,2,2]`\n",
        "\n",
        "- Output: `-1`\n",
        "\n",
        "- Explanation: It can be shown that there is no valid split."
      ],
      "metadata": {
        "id": "IEpVafbfC7W-"
      }
    },
    {
      "cell_type": "code",
      "source": [
        "test_cases = [\n",
        "    {\n",
        "        \"input\": {\n",
        "            \"nums\": [1,2,2,2],\n",
        "        },\n",
        "        \"output\": 2\n",
        "    },\n",
        "    {\n",
        "        \"input\": {\n",
        "            \"nums\": [2,1,3,1,1,1,7,1,2,1],\n",
        "        },\n",
        "        \"output\": 4\n",
        "    },\n",
        "    {\n",
        "        \"input\": {\n",
        "            \"nums\": [3,3,3,3,7,2,2],\n",
        "        },\n",
        "        \"output\": -1\n",
        "    },\n",
        "]"
      ],
      "metadata": {
        "id": "VD9YirfAdayx"
      },
      "execution_count": 15,
      "outputs": []
    },
    {
      "cell_type": "code",
      "source": [
        "def run_test_cases(solution, function_name):\n",
        "    for i in range(len(test_cases)):\n",
        "        run_test_case(solution, function_name, i)\n",
        "\n",
        "def run_test_case(solution, function_name, i):\n",
        "    test_case = test_cases[i]\n",
        "    result = getattr(solution, function_name)(**test_case[\"input\"])\n",
        "    if result != test_case[\"output\"]:\n",
        "        print(f'Failed test case {i} with input: {test_case[\"input\"]} and expected result: {test_case[\"output\"]} vs actual result: {result}')"
      ],
      "metadata": {
        "id": "eefq238-1jIb"
      },
      "execution_count": 13,
      "outputs": []
    },
    {
      "cell_type": "markdown",
      "source": [
        "# Approach Frequency Counting - Beat ~ 80%\n",
        "\n",
        "### Observations\n",
        "\n",
        "- First find the `dominant` and its occurrence frequency `dominant_freq` in `nums`\n",
        "\n",
        "- We can see that if `nums.length` is odd and `dominant_freq = nums.length //2 + 1`, it is impossible to find the valid index.\n",
        "\n",
        "- Let `left`, `right` are two subarray split by index `i` that we must find. Since `nums` has only one `dominant`. That `dominant` is also dominant of both `left` and `right`\n",
        "\n",
        "- Because we must find the minimum index, we strart from smallest index of `nums`:\n",
        "\n",
        "  - Count the `dominant` occurrences in `nums[:i+1]`. If current index `i` make `dominant` is valid dominant of `nums[:i+1]`. Return `i`\n",
        "\n",
        "  - Else continue\n",
        "\n",
        "### Analysis\n",
        "\n",
        "- Time complexity:\n",
        "\n",
        "  - One pass through `nums` to find `dominant` and its frequency: `O(n)`\n",
        "\n",
        "  - One pass through `nums` again to check if current `i` make `dominant` is dominant of `nums[:i+1]`: `O(n)`\n",
        "\n",
        "  - Total time complexity:  `O(n)`\n"
      ],
      "metadata": {
        "id": "e4M1bpIEDWc6"
      }
    },
    {
      "cell_type": "markdown",
      "source": [
        "### Implementation"
      ],
      "metadata": {
        "id": "TTw8uVbRkXtT"
      }
    },
    {
      "cell_type": "code",
      "source": [
        "from typing import List, Optional\n",
        "from collections import defaultdict\n",
        "from collections import deque\n",
        "from heapq import heapify, heappush, heappop\n",
        "from queue import PriorityQueue\n",
        "from collections import Counter\n",
        "import math\n",
        "\n",
        "class Solution:\n",
        "    def minimumIndex(self, nums: List[int]) -> int:\n",
        "        freq = defaultdict(int)\n",
        "        for i in nums:\n",
        "            freq[i] += 1\n",
        "        dominant, dominant_freq = max(freq.items(), key=lambda x: x[1])\n",
        "\n",
        "        if len(nums) % 2 == 1 and (len(nums) // 2 + 1) == dominant_freq:\n",
        "            return -1\n",
        "\n",
        "        left_part_dominant_count = 0\n",
        "        for i in range(len(nums)):\n",
        "            if nums[i] == dominant:\n",
        "                left_part_dominant_count += 1\n",
        "\n",
        "            if left_part_dominant_count * 2 > i + 1:\n",
        "                return i"
      ],
      "metadata": {
        "id": "7N6VBRdIDUwD"
      },
      "execution_count": 17,
      "outputs": []
    },
    {
      "cell_type": "code",
      "source": [
        "run_test_cases(Solution(), \"minimumIndex\")"
      ],
      "metadata": {
        "id": "DSgVrw0oNgBn"
      },
      "execution_count": 16,
      "outputs": []
    },
    {
      "cell_type": "code",
      "source": [],
      "metadata": {
        "id": "xs1nHZC3Uv2H"
      },
      "execution_count": null,
      "outputs": []
    }
  ]
}
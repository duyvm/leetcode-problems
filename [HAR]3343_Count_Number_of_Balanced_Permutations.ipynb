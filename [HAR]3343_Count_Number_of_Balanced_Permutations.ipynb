{
  "nbformat": 4,
  "nbformat_minor": 0,
  "metadata": {
    "colab": {
      "provenance": [],
      "authorship_tag": "ABX9TyOL45fB5emKadON/nrm6igj",
      "include_colab_link": true
    },
    "kernelspec": {
      "name": "python3",
      "display_name": "Python 3"
    },
    "language_info": {
      "name": "python"
    }
  },
  "cells": [
    {
      "cell_type": "markdown",
      "metadata": {
        "id": "view-in-github",
        "colab_type": "text"
      },
      "source": [
        "<a href=\"https://colab.research.google.com/github/duyvm/leetcode-problems/blob/main/%5BHAR%5D3343_Count_Number_of_Balanced_Permutations.ipynb\" target=\"_parent\"><img src=\"https://colab.research.google.com/assets/colab-badge.svg\" alt=\"Open In Colab\"/></a>"
      ]
    },
    {
      "cell_type": "markdown",
      "source": [
        "# 3343. Count Number of Balanced Permutations\n",
        "\n",
        "https://leetcode.com/problems/count-number-of-balanced-permutations/description/\n",
        "\n",
        "You are given a string `num`. A string of digits is called **balanced** if the **sum** of the digits at **even** indices is equal to the **sum** of the digits at **odd** indices.\n",
        "\n",
        "Return the **number of distinct permutations** of `num` that are balanced.\n",
        "\n",
        "Since the answer may be very large, return it `modulo 10`<sup>`9`</sup>` + 7`.\n",
        "\n",
        "A **permutation** is a rearrangement of all the characters of a string.\n",
        "\n",
        "**Constraints:**\n",
        "- `2 <= num.length <= 80`\n",
        "- `num` consists of digits `'0'` to `'9'` only."
      ],
      "metadata": {
        "id": "OhbFjTlo_zih"
      }
    },
    {
      "cell_type": "markdown",
      "source": [
        "**Example 1**\n",
        "\n",
        "*Explanation*: The distinct permutations of num are \"123\", \"132\", \"213\", \"231\", \"312\" and \"321\".\n",
        "Among them, \"132\" and \"231\" are balanced. Thus, the answer is 2."
      ],
      "metadata": {
        "id": "fpzLoyGP_hhQ"
      }
    },
    {
      "cell_type": "code",
      "source": [
        "test_case1 =  {\n",
        "            \"input\": {\n",
        "                \"num\": \"123\"\n",
        "            },\n",
        "            \"output\": 2\n",
        "        }"
      ],
      "metadata": {
        "id": "VD9YirfAdayx"
      },
      "execution_count": 1,
      "outputs": []
    },
    {
      "cell_type": "markdown",
      "source": [
        "**Example 2**\n",
        "\n",
        "*Explanation*: The distinct permutations of num are \"112\", \"121\", and \"211\".\n",
        "Only \"121\" is balanced. Thus, the answer is 1."
      ],
      "metadata": {
        "id": "mbBM8XtKAGH5"
      }
    },
    {
      "cell_type": "code",
      "source": [
        "test_case2 =  {\n",
        "            \"input\": {\n",
        "                \"num\": \"112\"\n",
        "            },\n",
        "            \"output\": 1\n",
        "        }"
      ],
      "metadata": {
        "id": "t94gDHfzAN4K"
      },
      "execution_count": 2,
      "outputs": []
    },
    {
      "cell_type": "markdown",
      "source": [
        "**Example 3**\n",
        "\n",
        "*Explanation*: None of the permutations of num are balanced, so the answer is 0."
      ],
      "metadata": {
        "id": "71sb5kWOu9UE"
      }
    },
    {
      "cell_type": "code",
      "source": [
        "test_case3 =  {\n",
        "            \"input\": {\n",
        "                \"num\": \"12345\"\n",
        "            },\n",
        "            \"output\": 0\n",
        "        }"
      ],
      "metadata": {
        "id": "vMnokPo4u9dN"
      },
      "execution_count": 3,
      "outputs": []
    },
    {
      "cell_type": "code",
      "source": [
        "test_cases = [test_case1, test_case2, test_case3]"
      ],
      "metadata": {
        "id": "1XSGQbp1ASCu"
      },
      "execution_count": 4,
      "outputs": []
    },
    {
      "cell_type": "code",
      "source": [
        "def run_test_cases(solution, function_name):\n",
        "    for i in range(len(test_cases)):\n",
        "        run_test_case(solution, function_name, i)\n",
        "\n",
        "def run_test_case(solution, function_name, i):\n",
        "    test_case = test_cases[i]\n",
        "    result = getattr(solution, function_name)(**test_case[\"input\"])\n",
        "    if result != test_case[\"output\"]:\n",
        "        print(f'Failed test case {i} with input: {test_case[\"input\"]} and expected result: {test_case[\"output\"]} vs actual result: {result}')"
      ],
      "metadata": {
        "id": "eefq238-1jIb"
      },
      "execution_count": 5,
      "outputs": []
    },
    {
      "cell_type": "markdown",
      "source": [
        "# Approach 1 - Dynamic Programming + Combinatorial (Beat 21%)\n",
        "\n",
        "## Observations\n",
        "\n",
        "####At first glance\n",
        "\n",
        "- A string digit `num` with length `n`\n",
        "\n",
        "- With `num`, we have total number of permutations: `total_permutations = n!`\n",
        "\n",
        "  - Including duplicated digit.\n",
        "  \n",
        "  - For example `num = 131`, we have total `6` permutations with dupcated `131`, `113`, `311`, `311`, `131`, `113`\n",
        "\n",
        "- The problem is to find total number of **distinct** `balanced_permutation`, a subset of `total_permutations`.\n",
        "\n",
        "- Permutation is called balanced if sum of digits in odd indices `oddSum` is equal to sum of digits in even indices `evenSum`\n",
        "\n",
        "- Furthermore, the answer requires the number of **distinct** `balanced_permutation`, which means we must remove duplicated string number if exist\n",
        "\n",
        "####More\n",
        "\n",
        "- Let `sumDigits` is sum of all digits of `num`. To make `oddSum` and `evenSum` equal, `sumDigits` must be even. We can check if `sumDigits` is odd, we can return `0` immediately. It mean there is no balanced permutation of `num`\n",
        "\n",
        "- If `sumDigits` is even. We have\n",
        "\n",
        "    $$haftSum = sumDigits ÷ 2$$\n",
        "\n",
        "- Let `k` is the number of digits in odd indices (`1,3,5...`). Because the first digit start from even index (`0`), `k = n // 2`, regardless of `n` is even or odd.\n",
        "\n",
        "- The original problem turn into find number of combinations of selected `k` digits from a set of `n` digits  $\\binom{n}{k}$ that sum of chosen group digits `sumChosenDigits` is equal to `haftSum`. The un-chosen digits will be placed at even indices and have their sum is also `haftSum`. It is also the total number of balanced permutations of `num`\n",
        "\n",
        "  - Because the problem requires return the number of **distinct** permutations, we must remove duplicated permutation from above result.\n",
        "\n",
        "####Using tabulation dynamic programming to find number of ways to choose k digits that sum of their values equals to haft of total sum\n",
        "\n",
        "- As stated above, given `sumDigits` is even, we need to find `k` digits, which are at odd indices, from the set of `n` digits, so that sum of `k` digits is equal to `haftSum`.\n",
        "\n",
        "- We treat each digit `d` in `nums` as distinct, even they have same value. So their combinations will be different. For example, let `num=1122`, to choose `2` digits that sum of their values is equal to `3`, the combinations of `1st` and `3rd` digit (`\"12\"`) and `1st` and `4th` digit (also `\"12\"`) are different conbinations.\n",
        "\n",
        "- We can achieve this by using dynamic programming with tabulation approach.\n",
        "\n",
        "- Let `dp` with size `(haftSum + 1) x (k+1)` is **2D-array** that store information of states. At `dp[i][j]`, we have state information as follow:\n",
        "\n",
        "  - `i`: sum of current chosen digits\n",
        "\n",
        "  - `j`: number of current chosen digits\n",
        "\n",
        "  - `d[i][j]`: number of ways that we can choose `j` digits from `n` distinct digits that sum of all `j` digits is `i`\n",
        "\n",
        "  - The final state is we result need to find: `d[haftSum][k]`, which is number of ways that we can choose `k` digits so that sum of their values is equal to `haftSum`\n",
        "\n",
        "- We fill up `dp` as follow\n",
        "  \n",
        "  - For `i` from `haftSum` to `d` and `j` from `k` to `1`: if we include `d` in current state `dp[i][j]`, the number of ways to achieve `i` by `j` digits is calculated by `dp[i][j] = dp[i][j] + d[i-d][j-1]`.\n",
        "\n",
        "  - In other word, the new number of ways to achieve sum `i` by `j` digits (updated `dp[i][j]`) is equal to number of ways to achieve sum `i` by `j` digits without `d` (previous `dp[i][j]`) plus number of ways to achieve sum `i-d` with `j-1` (`dp[i-d][j-1]`). Note that because we include `d`, so we compute from `dp[i-d][j-1]`\n",
        "\n",
        "  - The reason we start from `haftSum` and `k` is to make sure that we only consider `d` once for each `dp[i][j]` by adding it with previous state of `d[i][j]` as we moving from `dp[halfSum][k]` toward `d[0][0]`.\n",
        "\n",
        "  - After consider all digit in `nums`, the number of ways to find `k` digits from `n` that sum to `haftSum` is `dp[haftSum][k]`.\n",
        "  \n",
        "  - Furthermore, after we found out all the number of ways to find `k` digits from `n` digits that sum of their values is `haftSum`, which is `dp[haftSum][k]`. Then:\n",
        "\n",
        "    - For each way, we pick `k` digits for odd indices. It would be `k!` permutations for odd indices. And we have `n-k` digits for even indices, it would be `(n-k)!` permutations for even indices.\n",
        "   \n",
        "    - So the total permutations for `dp[haftSum][k]` ways is:\n",
        "    \n",
        "    $$dp[haftSum][k]×k!×(n-k)!$$\n",
        "\n",
        "####Concrete Example\n",
        "\n",
        "- Given `nums` = `1144`, `k` = `2`, `haftSum` = `5`, `dp` has size of `[6 x 3]`\n",
        "\n",
        "- Initialized state of `dp`, only `dp[0][0] = 1`\n",
        "\n",
        ">>>>  | | | |\n",
        "|-|-|-|\n",
        "| 1 | 0 | 0 |\n",
        "| 0 | 0 | 0 |\n",
        "| 0 | 0 | 0 |\n",
        "| 0 | 0 | 0 |\n",
        "| 0 | 0 | 0 |\n",
        "| 0 | 0 | 0 |\n",
        "\n",
        "  - First digit `d = num[0] = 1`:\n",
        "    \n",
        "    - For `i` from `5` to `d` and `j` from `k` to `1`, `dp[i][j] = dp[i][j] + dp[i-1][j-1]`\n",
        "\n",
        "    - With only 1st digit for consideration, there ony one way to choose one digit that sum up to `1` (`dp[1][1]=1`)\n",
        "\n",
        ">>>>  | | | |\n",
        "|-|-|-|\n",
        "| 1 | 0 | 0 |\n",
        "| 0 | 1 | 0 |\n",
        "| 0 | 0 | 0 |\n",
        "| 0 | 0 | 0 |\n",
        "| 0 | 0 | 0 |\n",
        "| 0 | 0 | 0 |\n",
        "\n",
        "  - Second digit `d = num[1] = 1`\n",
        "\n",
        "    - For `i` from `5` to `d` and `j` from `k` to `1`, `dp[i][j] = dp[i][j] + dp[i-1][j-1]`\n",
        "\n",
        "    - With  1st and 2nd digits for consideration, there are two ways to choose one digit that sum up to `1` (`dp[1][1]=2`, because each digit in `num` is distinct, one way for each digit `\"1\"`) and one way to choose two digits that sum up to `2` (`dp[2][2]=1`, it is `\"11\"`)\n",
        "\n",
        ">>>>  | | | |\n",
        "|-|-|-|\n",
        "| 1 | 0 | 0 |\n",
        "| 0 | 2 | 0 |\n",
        "| 0 | 0 | 1 |\n",
        "| 0 | 0 | 0 |\n",
        "| 0 | 0 | 0 |\n",
        "| 0 | 0 | 0 |\n",
        "\n",
        "  - Third digit `d = num[2] = 4`\n",
        "\n",
        "    - For `i` from `5` to `d` and `j` from `k` to `1`, `dp[i][j] = dp[i][j] + dp[i-4][j-1]`\n",
        "\n",
        "    - With adding 3rd digit for consideration, we update two states in the `dp` table: `dp[5][2]=2` (two ways to choose two digits from considering digits that sum of their values is equal to `5`: `\"41\"` and `\"41\"` - remember that 1st and 2nd digits are distinct eventhough they have same value), `dp[4][1]=1` (one way to choose one digits from considering digits its value is equal to `4`: `\"4\"`)\n",
        "\n",
        ">>>>  | | | |\n",
        "|-|-|-|\n",
        "| 1 | 0 | 0 |\n",
        "| 0 | 2 | 0 |\n",
        "| 0 | 0 | 1 |\n",
        "| 0 | 0 | 0 |\n",
        "| 0 | 1 | 0 |\n",
        "| 0 | 0 | 2 |\n",
        "\n",
        "  - Fourth digit `d = num[3] = 4`\n",
        "\n",
        "   - For `i` from `5` to `d` and `j` from `k` to `1`, `dp[i][j] = dp[i][j] + dp[i-4][j-1]`\n",
        "\n",
        "   - With adding the last digit for consideration, we have the final result for choosing `k=2` digits from `n=4` digits that sum of their values is equal to `haftSum=5`: `dp[5][4]=4` (two distinct digits `\"4\"` and two distinct digits `\"1\"`)\n",
        "\n",
        "\n",
        ">>>>  | | | |\n",
        "|-|-|-|\n",
        "| 1 | 0 | 0 |\n",
        "| 0 | 2 | 0 |\n",
        "| 0 | 0 | 1 |\n",
        "| 0 | 0 | 0 |\n",
        "| 0 | 2 | 0 |\n",
        "| 0 | 0 | 4 |\n",
        "\n",
        "  - Finally, we have total permutations:\n",
        "\n",
        "    $$dp[5][2]×2!×(4-2)! = 4×2×2=16$$\n",
        "\n",
        "####How can we remove duplicated string?\n",
        "\n",
        "- Since, the problem requires return the number of **distinct** permutation. We must remove duplicated string from the result above.\n",
        "\n",
        "- Let `frequency` is the number of digit `d` appear in `num`. For each duplicating digit `d`, we must divide the above result for `frequency!` to remove duplicating string.\n",
        "\n",
        "- For above example, the result before removal of duplicating string is `16`. Then we divide by two of `2!` (once for `1` and once for `2`, because each digit has two occurences in `num`). The final result:\n",
        "\n",
        "$$16÷2!÷2! = 16÷2÷2=4$$\n",
        "\n",
        "- Visualization: We have `num` = <font color='red'>1</font><font color='blue'>1</font><font color='red'>4</font><font color='blue'>4</font> (different color indicate different digit). As computed by `dp` above, we have `4` ways to pick `2` digits, each way have `4` permutations, so we have total `16` balanced permutations:\n",
        "      \n",
        "| | |  |  |  |  |\n",
        "| - | - |-|-| - | - |\n",
        "| odd indices: <font color='red'>1</font><font color='red'>4</font> and even indices: <font color='blue'>1</font><font color='blue'>4</font> | | <font color='blue'>4</font><font color='red'>1</font><font color='blue'>1</font><font color='red'>4</font> | <font color='blue'>1</font><font color='red'>4</font><font color='blue'>4</font><font color='red'>1</font> | <font color='blue'>4</font><font color='red'>4</font><font color='blue'>1</font><font color='red'>1</font> | <font color='blue'>1</font><font color='red'>1</font><font color='blue'>4</font><font color='red'>4</font> |\n",
        "| odd indices: <font color='red'>1</font><font color='blue'>4</font> and even indices: <font color='blue'>1</font><font color='red'>4</font> |  | <font color='red'>4</font><font color='red'>1</font><font color='blue'>1</font><font color='blue'>4</font> | <font color='blue'>1</font><font color='blue'>4</font><font color='red'>4</font><font color='red'>1</font> | <font color='red'>4</font><font color='blue'>4</font><font color='blue'>1</font><font color='red'>1</font> | <font color='blue'>1</font><font color='red'>1</font><font color='red'>4</font><font color='blue'>4</font> |\n",
        "| odd indices: <font color='blue'>1</font><font color='red'>4</font> and even indices: <font color='red'>1</font><font color='blue'>4</font> |  | <font color='blue'>4</font><font color='blue'>1</font><font color='red'>1</font><font color='red'>4</font> | <font color='red'>1</font><font color='red'>4</font><font color='blue'>4</font><font color='blue'>1</font> | <font color='blue'>4</font><font color='red'>4</font><font color='red'>1</font><font color='blue'>1</font> | <font color='red'>1</font><font color='blue'>1</font><font color='blue'>4</font><font color='red'>4</font> |\n",
        "| odd indices: <font color='blue'>1</font><font color='blue'>4</font> and even indices: <font color='red'>1</font><font color='red'>4</font> |  | <font color='blue'>4</font><font color='red'>1</font><font color='blue'>1</font><font color='red'>4</font> | <font color='blue'>1</font><font color='red'>4</font><font color='blue'>4</font><font color='red'>1</font> | <font color='blue'>4</font><font color='red'>4</font><font color='blue'>1</font><font color='red'>1</font> | <font color='blue'>1</font><font color='red'>1</font><font color='blue'>4</font><font color='red'>4</font> |\n",
        "\n",
        "- Even though we have `16` different permutations of `1144` that are balanced permutations. We only have `4` distinct balanced permutations, which are `4114`, `1441`, `4411`, `1144`\n",
        "\n",
        "**Efficiently computing by using combinatorics and modular arithmetics**\n",
        "\n",
        "- Since the computing of `dp[haftSum][k]` involes factorial. It would be wise that we pre-compute the factorial `i!`, for `i` from `1` to `n` and store it in array for later accessing.\n",
        "\n",
        "- Furthermore, since the result must be `modulo 10`<sup>`9`</sup>` + 7`. We compute division of factorial $\\frac{a}{b!}$ in modular arithmetics for better performance. Let `c = 10`<sup>`9`</sup>` + 7`\n",
        "\n",
        "- Particularly, in modular arithmetics, we can not directly perform division `a/b! modulo c` as it may result float number. The division `(a/b!) mod c` is equivalent to multiplying `a` by the **modular inverse** of `b mod c`:\n",
        "\n",
        "   $$ (a\\,\\div\\,b)\\,mod\\,c = (a\\,×\\,b^{-1})\\,mod\\,c $$\n",
        "\n",
        "- To compute modular inverse of number `b` modulo `c`, we use the Extended Euclidean Algorithm:\n",
        "\n",
        "  $$b^{-1}\\,(mod\\,c) = c - (c\\,//\\,b) × (c\\,mod\\,b)^{-1}\\,(mod\\,c)$$\n",
        "\n",
        "- To compute modular inverse of factorial `b!` modulo `c`, we compute as it base on `(b-1)!` and `b`<sup>`-1`</sup>\n",
        "\n",
        "  $$(b!)^{-1}\\,(mod\\,c) = ((b−1)!)^{-1}\\times b^{−1}\\,(mod\\,c)$$\n",
        "\n",
        "- We can pre-compute modular inverse of number from `1` to `n` modulo `c` and store them first. Then we compute modular inverse factorial of `i!` from `2` to `n` based on previous value `(i-1)!` and pre-computed modular inverse of `i` modulo `c` above\n",
        "\n",
        "### Analysis\n",
        "\n",
        "- Time complexity:\n",
        "\n",
        "  - Let `m = sum(n) // 2`\n",
        "\n",
        "  - Time for pre-comuting factorial, modular inverse, duplicating removal: $O(n)$\n",
        "\n",
        "  - Time for computing `dp` array: $O(n×m×n÷2) = O(n^2×m)$\n",
        "\n",
        "  - Total time complexity: $O(n+n^2×m)$\n"
      ],
      "metadata": {
        "id": "e4M1bpIEDWc6"
      }
    },
    {
      "cell_type": "markdown",
      "source": [
        "### Implementation"
      ],
      "metadata": {
        "id": "TTw8uVbRkXtT"
      }
    },
    {
      "cell_type": "code",
      "source": [
        "from re import L\n",
        "from typing import List, Optional\n",
        "from collections import defaultdict\n",
        "from collections import deque\n",
        "from heapq import heapify, heappush, heappop\n",
        "from queue import PriorityQueue\n",
        "from collections import Counter\n",
        "import math\n",
        "\n",
        "class Solution:\n",
        "\n",
        "    MOD = 10**9 + 7\n",
        "\n",
        "    def countBalancedPermutations(self, num: str) -> int:\n",
        "        sumDigits = sum(int(d) for d in num)\n",
        "        if sumDigits % 2 != 0:\n",
        "            return 0\n",
        "\n",
        "        haftSum = sumDigits // 2\n",
        "        k = len(num) // 2\n",
        "\n",
        "        n = len(num)\n",
        "\n",
        "        # pre-compute factorial\n",
        "        factorial = [1] * (n + 1)\n",
        "        for i in range(1, n + 1):\n",
        "            factorial[i] = (factorial[i - 1] * i) % self.MOD\n",
        "\n",
        "        # pre-compute modular inverse of b modulo c\n",
        "        inverse = [1] * (n + 1)\n",
        "        for i in range(2, n + 1):\n",
        "            inverse[i] = self.MOD - self.MOD // i * inverse[self.MOD % i] % self.MOD\n",
        "\n",
        "        # pre-compute modular inverse of factorial b! modulo c\n",
        "        inverseFactorial = [1] * (n + 1)\n",
        "        for i in range(1, n + 1):\n",
        "            inverseFactorial[i] = inverseFactorial[i-1] * inverse[i] % self.MOD\n",
        "\n",
        "        # computing using dp array\n",
        "        dp = [[0] * (k + 1) for _ in range(haftSum + 1)]\n",
        "        dp[0][0] = 1\n",
        "        frequencies = [0] * 10\n",
        "        for d in map(int, num):\n",
        "            frequencies[d] += 1\n",
        "            for i in range(haftSum, d - 1, -1):\n",
        "                for j in range(k, 0, -1):\n",
        "                    dp[i][j] = dp[i][j] + dp[i - d][j-1]\n",
        "\n",
        "        result = dp[haftSum][k] * factorial[k] * factorial[n - k] % self.MOD\n",
        "\n",
        "        # remove duplicating\n",
        "        for freq in frequencies:\n",
        "            result = result * inverseFactorial[freq] % self.MOD\n",
        "\n",
        "        return result"
      ],
      "metadata": {
        "id": "7N6VBRdIDUwD"
      },
      "execution_count": 9,
      "outputs": []
    },
    {
      "cell_type": "code",
      "source": [
        "run_test_cases(Solution(), \"countBalancedPermutations\")"
      ],
      "metadata": {
        "id": "QI2JhBGdQw2Q"
      },
      "execution_count": 10,
      "outputs": []
    }
  ]
}
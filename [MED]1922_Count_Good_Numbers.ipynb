{
  "nbformat": 4,
  "nbformat_minor": 0,
  "metadata": {
    "colab": {
      "provenance": [],
      "authorship_tag": "ABX9TyMojaZT1JkyrINluEYwl+6u",
      "include_colab_link": true
    },
    "kernelspec": {
      "name": "python3",
      "display_name": "Python 3"
    },
    "language_info": {
      "name": "python"
    }
  },
  "cells": [
    {
      "cell_type": "markdown",
      "metadata": {
        "id": "view-in-github",
        "colab_type": "text"
      },
      "source": [
        "<a href=\"https://colab.research.google.com/github/duyvm/leetcode-problems/blob/main/%5BMED%5D1922_Count_Good_Numbers.ipynb\" target=\"_parent\"><img src=\"https://colab.research.google.com/assets/colab-badge.svg\" alt=\"Open In Colab\"/></a>"
      ]
    },
    {
      "cell_type": "markdown",
      "source": [
        "# 1922. Count Good Numbers\n",
        "\n",
        "https://leetcode.com/problems/count-good-numbers/description/\n",
        "\n",
        "A digit string is **good** if the digits (**0-indexed**) at **even** indices are **even** and the digits at **odd** indices are prime `(2, 3, 5, or 7)`.\n",
        "\n",
        "- For example, `\"2582\"` is good because the digits `(2 and 8)` at even positions are **even** and the digits `(5 and 2)` at odd positions are **prime**. However, `\"3245\"` is not good because `3` is at an **even** index but is not **even**.\n",
        "\n",
        "Given an integer `n`, return the total number of **good** digit strings of length `n`. Since the answer may be large, return it **modulo** `10`<sup>`9`</sup>` + 7`.\n",
        "\n",
        "A digit string is a string consisting of digits `0` through `9` that may contain leading zeros.\n",
        "\n",
        "**Constraints:**\n",
        "- `1 <= n <= 10`<sup>`15`</sup>`\n",
        "\n",
        "**Follow up:**"
      ],
      "metadata": {
        "id": "OhbFjTlo_zih"
      }
    },
    {
      "cell_type": "markdown",
      "source": [
        "**Example 1:**\n",
        "\n",
        "- Input: `\"n\": 1`\n",
        "\n",
        "- Output: `5`\n",
        "\n",
        "- Explanation: The good numbers of length 1 are \"0\", \"2\", \"4\", \"6\", \"8\".\n",
        "\n",
        "**Example 2:**\n",
        "\n",
        "- Input: `\"n\": 4`\n",
        "\n",
        "- Output: `400`\n",
        "\n",
        "- Explanation: The two good integers are 4 and 8.\n",
        "\n",
        "**Example 3:**\n",
        "\n",
        "- Input: `\"n\": 50`\n",
        "\n",
        "- Output: `564908303`"
      ],
      "metadata": {
        "id": "IEpVafbfC7W-"
      }
    },
    {
      "cell_type": "code",
      "source": [
        "test_cases = [\n",
        "    {\n",
        "        \"input\": {\n",
        "            \"n\": 1\n",
        "        },\n",
        "        \"output\": 5\n",
        "    },\n",
        "    {\n",
        "        \"input\": {\n",
        "            \"n\": 4\n",
        "        },\n",
        "        \"output\": 400\n",
        "    },\n",
        "    {\n",
        "        \"input\": {\n",
        "            \"n\": 50\n",
        "        },\n",
        "        \"output\": 564908303\n",
        "    },\n",
        "]"
      ],
      "metadata": {
        "id": "VD9YirfAdayx"
      },
      "execution_count": 1,
      "outputs": []
    },
    {
      "cell_type": "code",
      "source": [
        "def run_test_cases(solution, function_name):\n",
        "    for i in range(len(test_cases)):\n",
        "        run_test_case(solution, function_name, i)\n",
        "\n",
        "def run_test_case(solution, function_name, i):\n",
        "    test_case = test_cases[i]\n",
        "    result = getattr(solution, function_name)(**test_case[\"input\"])\n",
        "    if result != test_case[\"output\"]:\n",
        "        print(f'Failed test case {i} with input: {test_case[\"input\"]} and expected result: {test_case[\"output\"]} vs actual result: {result}')"
      ],
      "metadata": {
        "id": "eefq238-1jIb"
      },
      "execution_count": 2,
      "outputs": []
    },
    {
      "cell_type": "markdown",
      "source": [
        "# Approach 1 - Combinatorial Mathematic (Beats 100%)\n",
        "\n",
        "### Observations\n",
        "\n",
        "- Let say the `ds` is the considering digit string. We will build `ds` from left to right. For each digit index `i`, the conditions for it are:\n",
        "\n",
        "        1.if i is odd: ds[i] in [2, 3, 5, 7]\n",
        "        \n",
        "        2.if i is even: ds[i] is even\n",
        "\n",
        "- Leading zero is allowed\n",
        "\n",
        "- For digit at odd indices: there are 4 possible values: `[2, 3, 5, 7]`\n",
        "\n",
        "- For digit at even indices: there are 5 possbile values: `[0, 2, 4, 6, 8]`\n",
        "\n",
        "- Instead of iterating over `n`, we can check number of odd indices and even indices:\n",
        "\n",
        "  - if `n` is even: there are `n//2` odd indices and `n//2` even indices\n",
        "\n",
        "  - if `n` is odd: there are `n//2` odd indices and `n//2+1` even indices\n",
        "\n",
        "  - the count will be:\n",
        "\n",
        "        4 ^ (number_of_odd_indices) * 5 ^ (number_even_indices)\n",
        "\n",
        "- Use Python `pow` built-in function with `mod` for fast computing\n",
        "\n",
        "### Analysis\n",
        "\n",
        "- Time complexity: `O(1)`\n"
      ],
      "metadata": {
        "id": "e4M1bpIEDWc6"
      }
    },
    {
      "cell_type": "markdown",
      "source": [
        "### Implementation"
      ],
      "metadata": {
        "id": "TTw8uVbRkXtT"
      }
    },
    {
      "cell_type": "code",
      "source": [
        "from re import L\n",
        "from typing import List, Optional\n",
        "from collections import defaultdict\n",
        "from collections import deque\n",
        "from heapq import heapify, heappush, heappop\n",
        "from queue import PriorityQueue\n",
        "from collections import Counter\n",
        "import math\n",
        "\n",
        "class Solution:\n",
        "    def countGoodNumbers(self, n: int) -> int:\n",
        "        MOD = 10**9 + 7\n",
        "        odd_indices = n // 2\n",
        "        event_indices = n - odd_indices\n",
        "\n",
        "        return (pow(4, odd_indices, MOD) * pow(5, event_indices, MOD)) % MOD"
      ],
      "metadata": {
        "id": "7N6VBRdIDUwD"
      },
      "execution_count": 13,
      "outputs": []
    },
    {
      "cell_type": "code",
      "source": [
        "run_test_cases(Solution(), \"countGoodNumbers\")"
      ],
      "metadata": {
        "id": "DSgVrw0oNgBn"
      },
      "execution_count": 14,
      "outputs": []
    }
  ]
}
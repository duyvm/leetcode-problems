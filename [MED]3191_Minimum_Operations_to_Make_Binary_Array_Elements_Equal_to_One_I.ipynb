{
  "nbformat": 4,
  "nbformat_minor": 0,
  "metadata": {
    "colab": {
      "provenance": [],
      "authorship_tag": "ABX9TyP5/uqGWYhW/J5WXDWHec/Q",
      "include_colab_link": true
    },
    "kernelspec": {
      "name": "python3",
      "display_name": "Python 3"
    },
    "language_info": {
      "name": "python"
    }
  },
  "cells": [
    {
      "cell_type": "markdown",
      "metadata": {
        "id": "view-in-github",
        "colab_type": "text"
      },
      "source": [
        "<a href=\"https://colab.research.google.com/github/duyvm/leetcode-problems/blob/main/%5BMED%5D3191_Minimum_Operations_to_Make_Binary_Array_Elements_Equal_to_One_I.ipynb\" target=\"_parent\"><img src=\"https://colab.research.google.com/assets/colab-badge.svg\" alt=\"Open In Colab\"/></a>"
      ]
    },
    {
      "cell_type": "markdown",
      "source": [
        "# 3191. Minimum Operations to Make Binary Array Elements Equal to One I\n",
        "\n",
        "https://leetcode.com/problems/minimum-operations-to-make-binary-array-elements-equal-to-one-i/description/\n",
        "\n",
        "You are given a binary array `nums`.\n",
        "\n",
        "You can do the following operation on the array any number of times (possibly zero):\n",
        "\n",
        "- Choose any `3` consecutive elements from the array and flip all of them.\n",
        "- Flipping an element means changing its value from `0` to `1`, and from `1` to `0`.\n",
        "\n",
        "Return the **minimum** number of operations required to make all elements in nums equal to `1`. If it is impossible, return `-1`.\n",
        "\n",
        "**Constraints:**\n",
        "- `1 <= nums.length <= 10`<sup>`5`</sup>\n",
        "- `0 <= nums[i] <= 1`"
      ],
      "metadata": {
        "id": "OhbFjTlo_zih"
      }
    },
    {
      "cell_type": "markdown",
      "source": [
        "**Example 1:**\n",
        "\n",
        "- Input: `nums = [0,1,1,1,0,0]`\n",
        "\n",
        "- Output: `3`\n",
        "\n",
        "- Explanation:\n",
        "\n",
        "        We can do the following operations:\n",
        "            Choose the elements at indices 0, 1 and 2. The resulting array is nums = [1,0,0,1,0,0].\n",
        "            Choose the elements at indices 1, 2 and 3. The resulting array is nums = [1,1,1,0,0,0].\n",
        "            Choose the elements at indices 3, 4 and 5. The resulting array is nums = [1,1,1,1,1,1].\n",
        "\n",
        "**Example 2:**\n",
        "\n",
        "- Input: `nums = [0,1,1,1]`\n",
        "\n",
        "- Output: `-1`\n",
        "\n",
        "- Explanation: It is impossible to make all elements equal to 1."
      ],
      "metadata": {
        "id": "IEpVafbfC7W-"
      }
    },
    {
      "cell_type": "code",
      "source": [
        "test_cases = [\n",
        "    {\n",
        "        \"input\": {\n",
        "            \"nums\": [0,1,1,1,0,0],\n",
        "        },\n",
        "        \"output\": 3\n",
        "    },\n",
        "    {\n",
        "        \"input\": {\n",
        "            \"nums\": [0,1,1,1],\n",
        "        },\n",
        "        \"output\": -1\n",
        "    },\n",
        "]"
      ],
      "metadata": {
        "id": "VD9YirfAdayx"
      },
      "execution_count": 41,
      "outputs": []
    },
    {
      "cell_type": "markdown",
      "source": [
        "# Approach 1: sliding window + pre defined function (Beat 31%)\n",
        "\n",
        "### Observations\n",
        "\n",
        "- Let `n = nums.length`\n",
        "\n",
        "- Case `n <= 3` and `nums` not equal `1`, impossible to make `nums` equal `1`\n",
        "\n",
        "- Use sliding `window` with lenght `3` to traverse `nums`\n",
        "\n",
        "  - If `window[0] = 0`, flip all elements, increment the `count` and move the `window` by `1`\n",
        "\n",
        "  - If there is no `0` in `window`, move the `window` by `3`\n",
        "\n",
        "  - At the end when `window = nums[n-3:]` if there are still `0` elements in window. return `-1`\n",
        "\n",
        "  - Else return `count`\n",
        "\n",
        "### Analysis\n",
        "\n",
        "- Time complexity:\n",
        "\n",
        "  - One pass through `nums`: `O(n)`\n",
        "\n",
        "### More over\n",
        "\n",
        "-"
      ],
      "metadata": {
        "id": "e4M1bpIEDWc6"
      }
    },
    {
      "cell_type": "markdown",
      "source": [
        "### Implementation"
      ],
      "metadata": {
        "id": "TTw8uVbRkXtT"
      }
    },
    {
      "cell_type": "code",
      "source": [
        "from typing import List, Optional\n",
        "from collections import defaultdict\n",
        "from collections import deque\n",
        "from heapq import heapify, heappush, heappop\n",
        "from queue import PriorityQueue\n",
        "\n",
        "class Solution:\n",
        "    def minOperations(self, nums: List[int]) -> int:\n",
        "        i = 0\n",
        "        count = 0\n",
        "        n = len(nums)\n",
        "        def case_000():\n",
        "            nonlocal count, i, nums\n",
        "            nums[i] = 1\n",
        "            nums[i+1] = 1\n",
        "            nums[i+2] = 1\n",
        "            count += 1\n",
        "            i += 3\n",
        "        def case_001():\n",
        "            nonlocal count, i, nums\n",
        "            nums[i] = 1\n",
        "            nums[i+1] = 1\n",
        "            nums[i+2] = 0\n",
        "            count += 1\n",
        "            i += 2\n",
        "        def case_010():\n",
        "            nonlocal count, i, nums\n",
        "            nums[i] = 1\n",
        "            nums[i+1] = 0\n",
        "            nums[i+2] = 1\n",
        "            count += 1\n",
        "            i += 1\n",
        "        def case_011():\n",
        "            nonlocal count, i, nums\n",
        "            nums[i] = 1\n",
        "            nums[i+1] = 0\n",
        "            nums[i+2] = 0\n",
        "            count += 1\n",
        "            i += 1\n",
        "        def case_100():\n",
        "            nonlocal i\n",
        "            i += 1\n",
        "        def case_101():\n",
        "            nonlocal i\n",
        "            i += 1\n",
        "        def case_110():\n",
        "            nonlocal i\n",
        "            i += 1\n",
        "        def case_111():\n",
        "            nonlocal i\n",
        "            i += 3\n",
        "        cases = {\n",
        "            (0,0,0): case_000,\n",
        "            (0,0,1): case_001,\n",
        "            (0,1,0): case_010,\n",
        "            (0,1,1): case_011,\n",
        "            (1,0,0): case_100,\n",
        "            (1,0,1): case_101,\n",
        "            (1,1,0): case_110,\n",
        "            (1,1,1): case_111,\n",
        "        }\n",
        "\n",
        "        while i+3 <= n:\n",
        "            window = tuple(nums[i:i+3])\n",
        "            cases[window]()\n",
        "\n",
        "        last_window = nums[i:]\n",
        "        if 0 in last_window:\n",
        "            return -1\n",
        "\n",
        "        return count"
      ],
      "metadata": {
        "id": "7N6VBRdIDUwD"
      },
      "execution_count": 39,
      "outputs": []
    },
    {
      "cell_type": "code",
      "source": [
        "solution = Solution()\n",
        "for test_case in test_cases:\n",
        "    result = solution.minOperations(test_case[\"input\"][\"nums\"])\n",
        "    if result != test_case[\"output\"]:\n",
        "        print(f'Failed test case with input: {test_case[\"input\"]} and expected result: {test_case[\"output\"]} vs actual result: {result}')"
      ],
      "metadata": {
        "id": "CMDKnxwjGL6v"
      },
      "execution_count": 42,
      "outputs": []
    },
    {
      "cell_type": "code",
      "source": [],
      "metadata": {
        "id": "VcTidCTpbSbg"
      },
      "execution_count": null,
      "outputs": []
    }
  ]
}
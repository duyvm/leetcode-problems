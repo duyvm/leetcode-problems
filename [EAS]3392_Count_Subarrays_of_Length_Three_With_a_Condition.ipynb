{
  "nbformat": 4,
  "nbformat_minor": 0,
  "metadata": {
    "colab": {
      "provenance": [],
      "authorship_tag": "ABX9TyP/7CrczcTmOvEVwf+TLE89",
      "include_colab_link": true
    },
    "kernelspec": {
      "name": "python3",
      "display_name": "Python 3"
    },
    "language_info": {
      "name": "python"
    }
  },
  "cells": [
    {
      "cell_type": "markdown",
      "metadata": {
        "id": "view-in-github",
        "colab_type": "text"
      },
      "source": [
        "<a href=\"https://colab.research.google.com/github/duyvm/leetcode-problems/blob/main/%5BEAS%5D3392_Count_Subarrays_of_Length_Three_With_a_Condition.ipynb\" target=\"_parent\"><img src=\"https://colab.research.google.com/assets/colab-badge.svg\" alt=\"Open In Colab\"/></a>"
      ]
    },
    {
      "cell_type": "markdown",
      "source": [
        "# 3392. Count Subarrays of Length Three With a Condition\n",
        "\n",
        "https://leetcode.com/problems/count-subarrays-of-length-three-with-a-condition/description/\n",
        "\n",
        "Given an integer array `nums`, return the **number of subarrays** of length `3` such that the sum of the **first** and third **numbers** equals exactly half of the **second** number.\n",
        "\n",
        "**Constraints:**\n",
        "- `3 <= nums.length <= 100`\n",
        "- `-100 <= nums[i] <= 100`\n"
      ],
      "metadata": {
        "id": "OhbFjTlo_zih"
      }
    },
    {
      "cell_type": "code",
      "source": [
        "\"\"\"\n",
        "    Explanation: Only the subarray [1,4,1] contains exactly 3 elements where the sum of the first and third numbers equals half the middle number.\n",
        "\"\"\"\n",
        "test_case1 =  {\n",
        "            \"input\": {\n",
        "                \"nums\": [1,2,1,4,1],\n",
        "            },\n",
        "            \"output\": 1\n",
        "        }\n",
        "\n",
        "\"\"\"\n",
        "    Explanation: [1,1,1] is the only subarray of length 3. However, its first and third numbers do not add to half the middle number.\n",
        "\"\"\"\n",
        "test_case2 =  {\n",
        "            \"input\": {\n",
        "                \"nums\": [1,1,1],\n",
        "            },\n",
        "            \"output\": 0\n",
        "        }\n",
        "\n",
        "test_cases = [test_case1, test_case2]"
      ],
      "metadata": {
        "id": "VD9YirfAdayx"
      },
      "execution_count": 2,
      "outputs": []
    },
    {
      "cell_type": "code",
      "source": [
        "def run_test_cases(solution, function_name):\n",
        "    for i in range(len(test_cases)):\n",
        "        run_test_case(solution, function_name, i)\n",
        "\n",
        "def run_test_case(solution, function_name, i):\n",
        "    test_case = test_cases[i]\n",
        "    result = getattr(solution, function_name)(**test_case[\"input\"])\n",
        "    if result != test_case[\"output\"]:\n",
        "        print(f'Failed test case {i} with input: {test_case[\"input\"]} and expected result: {test_case[\"output\"]} vs actual result: {result}')"
      ],
      "metadata": {
        "id": "eefq238-1jIb"
      },
      "execution_count": 3,
      "outputs": []
    },
    {
      "cell_type": "markdown",
      "source": [
        "# Approach 1\n",
        "\n",
        "### Observations\n",
        "\n",
        "- Let `sub_arr` is the subarray of `nums`. It is valid if `sub_arr[0] + sub_arr[2] = sub_arr[1] / 2`\n",
        "\n",
        "- There are negative number\n",
        "\n",
        "- `sub_arr[1]` must be bigger than `sub_arr[0]` and `sub_arr[2]`\n",
        "\n",
        "- Need only one pass through `nums` and check `i+1` and `i+2`\n",
        "\n",
        "- No round up or round down\n",
        "\n",
        "### Analysis\n",
        "\n",
        "- Time complexity: `O(n)`\n"
      ],
      "metadata": {
        "id": "e4M1bpIEDWc6"
      }
    },
    {
      "cell_type": "markdown",
      "source": [
        "### Implementation"
      ],
      "metadata": {
        "id": "TTw8uVbRkXtT"
      }
    },
    {
      "cell_type": "code",
      "source": [
        "from re import L\n",
        "from typing import List, Optional\n",
        "from collections import defaultdict\n",
        "from collections import deque\n",
        "from heapq import heapify, heappush, heappop\n",
        "from queue import PriorityQueue\n",
        "from collections import Counter\n",
        "import math\n",
        "\n",
        "class Solution:\n",
        "    def countSubarrays(self, nums: List[int]) -> int:\n",
        "        count = 0\n",
        "        for i in range(0, len(nums)-2):\n",
        "            if nums[i] + nums[i+2] == nums[i+1] / 2:\n",
        "                count += 1\n",
        "        return count"
      ],
      "metadata": {
        "id": "7N6VBRdIDUwD"
      },
      "execution_count": 6,
      "outputs": []
    },
    {
      "cell_type": "code",
      "source": [
        "run_test_cases(Solution(), \"countSubarrays\")"
      ],
      "metadata": {
        "id": "DSgVrw0oNgBn"
      },
      "execution_count": 5,
      "outputs": []
    },
    {
      "cell_type": "code",
      "source": [],
      "metadata": {
        "id": "iXhh_AERG9mY"
      },
      "execution_count": null,
      "outputs": []
    }
  ]
}
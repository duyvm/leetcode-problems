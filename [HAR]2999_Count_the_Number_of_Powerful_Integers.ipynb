{
  "nbformat": 4,
  "nbformat_minor": 0,
  "metadata": {
    "colab": {
      "provenance": [],
      "authorship_tag": "ABX9TyMUm0aqEEepk3EyMtaPdtgl",
      "include_colab_link": true
    },
    "kernelspec": {
      "name": "python3",
      "display_name": "Python 3"
    },
    "language_info": {
      "name": "python"
    }
  },
  "cells": [
    {
      "cell_type": "markdown",
      "metadata": {
        "id": "view-in-github",
        "colab_type": "text"
      },
      "source": [
        "<a href=\"https://colab.research.google.com/github/duyvm/leetcode-problems/blob/main/%5BHAR%5D2999_Count_the_Number_of_Powerful_Integers.ipynb\" target=\"_parent\"><img src=\"https://colab.research.google.com/assets/colab-badge.svg\" alt=\"Open In Colab\"/></a>"
      ]
    },
    {
      "cell_type": "markdown",
      "source": [
        "# 2999. Count the Number of Powerful Integers\n",
        "\n",
        "https://leetcode.com/problems/count-the-number-of-powerful-integers/description/\n",
        "\n",
        "You are given three integers `start`, `finish`, and `limit`. You are also given a **0-indexed** string `s` representing a positive integer.\n",
        "\n",
        "A positive integer `x` is called powerful if it ends with `s` (in other words, `s` is a suffix of `x`) and each digit in `x` is at **most limit**.\n",
        "\n",
        "Return the total number of powerful integers in the range `[start..finish]`.\n",
        "\n",
        "A string `x` is a suffix of a string `y` if and only if `x` is a substring of `y` that starts from some index (including `0`) in `y` and extends to the index `y.length - 1`. For example, `25` is a suffix of `5125` whereas `512` is not.\n",
        "\n",
        "**Constraints:**\n",
        "- `1 <= start <= finish <= 10`<sup>`15`</sup>\n",
        "- `1 <= limit <= 9`\n",
        "- `1 <= s.length <= floor(log`<sub>`10`</sub>`(finish)) + 1`\n",
        "- `s` only consists of numeric digits which are at most `limit`.\n",
        "- `s` does not have leading zeros.\n",
        "\n",
        "**Follow up:**"
      ],
      "metadata": {
        "id": "OhbFjTlo_zih"
      }
    },
    {
      "cell_type": "markdown",
      "source": [
        "**Example 1:**\n",
        "\n",
        "- Input: `\"start\": 1, \"finish\": 6000, \"limit\": 4, \"s\": \"124\"`\n",
        "\n",
        "- Output: `5`\n",
        "\n",
        "- Explanation:\n",
        "\n",
        "        The powerful integers in the range [1..6000] are 124, 1124, 2124, 3124, and, 4124. All these integers have each digit <= 4, and \"124\" as a suffix. Note that 5124 is not a powerful integer because the first digit is 5 which is greater than 4.\n",
        "        It can be shown that there are only 5 powerful integers in this range.\n",
        "\n",
        "**Example 2:**\n",
        "\n",
        "- Input: `\"start\": 15, \"finish\": 215, \"limit\": 6, \"s\": \"10\"`\n",
        "\n",
        "- Output: `2`\n",
        "\n",
        "- Explanation:\n",
        "\n",
        "        The powerful integers in the range [15..215] are 110 and 210. All these integers have each digit <= 6, and \"10\" as a suffix.\n",
        "        It can be shown that there are only 2 powerful integers in this range.\n",
        "\n",
        "**Example 3:**\n",
        "\n",
        "- Input: `\"start\": 1000, \"finish\": 2000, \"limit\": 4, \"s\": \"3000\"`\n",
        "\n",
        "- Output: `5`\n",
        "\n",
        "- Explanation: 0\n",
        "\n",
        "        All integers in the range [1000..2000] are smaller than 3000, hence \"3000\" cannot be a suffix of any integer in this range."
      ],
      "metadata": {
        "id": "IEpVafbfC7W-"
      }
    },
    {
      "cell_type": "code",
      "source": [
        "test_cases = [\n",
        "    {\n",
        "        \"input\": {\n",
        "            \"start\": 1, \"finish\": 6000, \"limit\": 4, \"s\": \"124\"\n",
        "        },\n",
        "        \"output\": 5\n",
        "    },\n",
        "    {\n",
        "        \"input\": {\n",
        "            \"start\": 15, \"finish\": 215, \"limit\": 6, \"s\": \"10\"\n",
        "        },\n",
        "        \"output\": 2\n",
        "    },\n",
        "    {\n",
        "        \"input\": {\n",
        "            \"start\": 1000, \"finish\": 2000, \"limit\": 4, \"s\": \"3000\"\n",
        "        },\n",
        "        \"output\": 0\n",
        "    },\n",
        "    {\n",
        "        \"input\": {\n",
        "            \"start\": 3, \"finish\": 1429, \"limit\": 5, \"s\": \"11\"\n",
        "        },\n",
        "        \"output\": 11\n",
        "    },\n",
        "    {\n",
        "        \"input\": {\n",
        "            \"start\": 1000000, \"finish\": 123000000000000, \"limit\": 6, \"s\": \"41\"\n",
        "        },\n",
        "        \"output\": 18643364033\n",
        "    },\n",
        "    {\n",
        "        \"input\": {\n",
        "            \"start\": 1, \"finish\": 971, \"limit\": 9, \"s\": \"72\"\n",
        "        },\n",
        "        \"output\": 9\n",
        "    },\n",
        "    {\n",
        "        \"input\": {\n",
        "            \"start\": 10, \"finish\": 1844, \"limit\": 5, \"s\": \"12\"\n",
        "        },\n",
        "        \"output\": 12\n",
        "    },\n",
        "]"
      ],
      "metadata": {
        "id": "VD9YirfAdayx"
      },
      "execution_count": 13,
      "outputs": []
    },
    {
      "cell_type": "code",
      "source": [
        "def run_test_cases(solution, function_name):\n",
        "    for i in range(len(test_cases)):\n",
        "        run_test_case(solution, function_name, i)\n",
        "\n",
        "def run_test_case(solution, function_name, i):\n",
        "    test_case = test_cases[i]\n",
        "    result = getattr(solution, function_name)(**test_case[\"input\"])\n",
        "    if result != test_case[\"output\"]:\n",
        "        print(f'Failed test case {i} with input: {test_case[\"input\"]} and expected result: {test_case[\"output\"]} vs actual result: {result}')"
      ],
      "metadata": {
        "id": "eefq238-1jIb"
      },
      "execution_count": 3,
      "outputs": []
    },
    {
      "cell_type": "markdown",
      "source": [
        "# Approach 1 - Digit Dynamic Programing (Hint from Leetcode) - Time Limit Exceeded\n",
        "\n",
        "### Observations\n",
        "\n",
        "- Reference for digit DP: https://codeforces.com/blog/entry/53960\n",
        "\n",
        "- Find the number of powerful positive in range `[1:start-1]`. Let it `start_count`\n",
        "\n",
        "- Find the number of powerful positive in range `[1:finish]`. Let it `finish_count`\n",
        "\n",
        "- The number of powerfull positive in range `[start:finish]` is `finish_count - start_count`\n",
        "\n",
        "- Using digit DP to find number of powerful pisitive in range `[1:x]`:\n",
        "\n",
        "  - Start from digit left to digit right of a number with length equal `x.length`, including leading zeros.\n",
        "\n",
        "  - Let `sq` is the number that we are considering. `sq.length == x.length`\n",
        "\n",
        "  - The left most digit's position is `1`\n",
        "\n",
        "  - The right most digit's position is `x.length`\n",
        "\n",
        "  - For current `pos`, we add new digit to the `sq[pos]`\n",
        "  \n",
        "    - We must consider to check if adding digit `i` to current `pos` make the number larger than `x`. We check that for `1 <= t < pos`, if there exists any `sq[t] < x[t]`, then we can saftely say that adding any digit `i` will not make `sq > x`. We count the number of possible `i` and proceed to next recursion round `pos + 1`\n",
        "\n",
        "    - We do not actually need to checking all digit `i` for current `pos`, we use a variable `isSmallerThanX` to track if current `sq` smaller than `x` or not. Then we pass it to the next recursion round along with `pos+1`.\n",
        "\n",
        "    - Because we start from the left most digit, which is the most significant digit of `sq`, from the `pos = 1` we already know if current `sq` is larger than `x` or not and pass the information to the next recursion round.\n",
        "\n",
        "    - Starting the recursion round, if `isSmallerThanX` is `false` then we can only add digit `i <= limit`. If `x[pos] < limit`, then if we add `i < nums[pos]`, the current number is smaller than `x`. We still need to consider case `i = x[pos]` while current number is equal to `x`\n",
        "\n",
        "- We need to consider range`[max(s, start):finish]`\n",
        "\n",
        "### Analysis\n",
        "\n",
        "- Time complexity:\n"
      ],
      "metadata": {
        "id": "e4M1bpIEDWc6"
      }
    },
    {
      "cell_type": "markdown",
      "source": [
        "### Implementation"
      ],
      "metadata": {
        "id": "TTw8uVbRkXtT"
      }
    },
    {
      "cell_type": "code",
      "source": [
        "from re import L\n",
        "from typing import List, Optional\n",
        "from collections import defaultdict\n",
        "from collections import deque\n",
        "from heapq import heapify, heappush, heappop\n",
        "from queue import PriorityQueue\n",
        "from collections import Counter\n",
        "import math\n",
        "\n",
        "class Solution:\n",
        "    def numberOfPowerfulInt(self, start: int, finish: int, limit: int, s: str) -> int:\n",
        "        if int(s) > finish:\n",
        "            return 0\n",
        "        if int(s) == finish:\n",
        "            return 1\n",
        "\n",
        "        # upper bound\n",
        "        numberOfDigitNeedToBeConsider = len(str(finish)) - len(s)\n",
        "        # print(f\"upper bound: {str(finish), 0, False, limit, numberOfDigitNeedToBeConsider}\")\n",
        "        finish_count = self.digitDP(str(finish), 0, False, limit, numberOfDigitNeedToBeConsider, \"\", s)\n",
        "\n",
        "        # lower bound\n",
        "        start = start if start >= int(s) else int(s)\n",
        "        numberOfDigitNeedToBeConsider = len(str(start)) - len(s)\n",
        "        # print(f\"lower bound: {str(start-1), 0, False, limit, numberOfDigitNeedToBeConsider}\")\n",
        "        start_count = self.digitDP(str(start-1), 0, False, limit, numberOfDigitNeedToBeConsider, \"\", s)\n",
        "\n",
        "        return finish_count - start_count\n",
        "\n",
        "\n",
        "    def digitDP(self, x, pos, isSmallerThanX, limit, numberOfDigitNeedToBeConsider, sq, s):\n",
        "        # end of sq\n",
        "        if pos == numberOfDigitNeedToBeConsider:\n",
        "            if isSmallerThanX or int(sq+s) <= int(x):\n",
        "                # print(f\"valid sq: {sq+s}\")\n",
        "                return 1\n",
        "            else:\n",
        "                # print(f\"invalid sq: {sq+s}\")\n",
        "                return 0\n",
        "\n",
        "        count = 0\n",
        "\n",
        "\n",
        "        if isSmallerThanX or limit < int(x[pos]):\n",
        "            # any digit is possible\n",
        "            for i in range(0, limit+1):\n",
        "                count += self.digitDP(x, pos + 1, True, limit, numberOfDigitNeedToBeConsider, sq+str(i), s)\n",
        "        else:\n",
        "            for i in range(0, int(x[pos])):\n",
        "                count += self.digitDP(x, pos + 1, True, limit, numberOfDigitNeedToBeConsider, sq+str(i), s)\n",
        "\n",
        "            count +=  self.digitDP(x, pos + 1, False, limit, numberOfDigitNeedToBeConsider, sq+x[pos], s)\n",
        "\n",
        "        return count"
      ],
      "metadata": {
        "id": "7N6VBRdIDUwD"
      },
      "execution_count": 11,
      "outputs": []
    },
    {
      "cell_type": "code",
      "source": [
        "run_test_cases(Solution(), \"numberOfPowerfulInt\")"
      ],
      "metadata": {
        "id": "DSgVrw0oNgBn"
      },
      "execution_count": 12,
      "outputs": []
    },
    {
      "cell_type": "markdown",
      "source": [
        "# Approach 2 - Combinatorial mathematics (Beat 95%)\n",
        "\n",
        "### Observations\n",
        "\n",
        "- Same with approach 1. To find the number of powerful integers in range `[start:finish]`, we need to find the number of powerful integers in range `[1:max(start, s)-1]` and `[1:finsh]`. The subtract the former from the later.\n",
        "\n",
        "- To calculate number of powerful integers in range `[1:x]`, instead of using digit DB, we can directly calculate it by consider the number of digits we need to fill in and and possible digits that are possible in the position.\n",
        "\n",
        "- Let `pre_len = len(x) - len(s)` is the number of digits that we need to fill in. If `pre_len < 0`, it means that `x < s` and there are not powerful integers in range `[1:x]`. We return `0`\n",
        "\n",
        "- Now, we consider the each digit in range of `x[:pre_len]:`\n",
        "\n",
        "  - Let `sequence` is the number that we are considering. `sequence.length = x.length`. Leading zeroes is possible. The suffix `sequence[pre_len:]` is fixed, which is `s`.\n",
        "\n",
        "  - For current index `0 <= i < pre_len`\n",
        "  \n",
        "  - If `x[i] > limit`, it means we can fill in `sequence[i]` any digits that satify limit. And from index `i+1` to `pre_len-1`, we do not need to consider each digit `x[i+1:pre_len]` anymore, because at `i`, we already know that `sequence[i:] < x[i:]`.\n",
        "\n",
        "    - We directly calculate all possible powerful integers by formula:\n",
        "    \n",
        "          (limit+1)^(pre_len-1)\n",
        "\n",
        "    - For exmaple: let `x = 178999`, `s = 9` and considering `sequence = 1____9`, `limit = 5`. At index `i=1`, `x[1] = 7 > limit = 5`, so we can only fill in `sequence[1]` with value from `0` to `5` and we know that from that index onward, `sequence` already smaller than `x`. We do not need to consider all the index in range `2` to `4`. NUmber of possible choices for digit in index `2` to `4` is:\n",
        "    \n",
        "          (limit + 1) * (limit + 1) * (limit + 1) = (limit + 1) ^ 3\n",
        "\n",
        "  - If `x[i] <= limit`: we need to consider digit from `0` up to `x[i]`\n",
        "\n",
        "    - With digit from `0` to `x[i] - 1`, same as `x[i] > limit` case, `sequence[i:]` alread smaller than `x[i:]`, we directly calculate all possible powerful integers by formula:\n",
        "\n",
        "          x[i] * (limit+1) ** (pre_len-i-1)\n",
        "          \n",
        "          we mutiply with x[i] because we consider from 0 to x[i]\n",
        "\n",
        "    - We need to consider case `sequence[i] = x[i]`: if we fill `i` with digit `x[i]`, then up to index `i`, we filled sequence with with value same as `x`. We move to next index `i+1` to continue to check again.\n",
        "      \n",
        "      - For example `x = 123456` and `sequence = `12__34`, `limit = 8` and we are at index `i=1`. We move to `i=2` and checking again with the same logic\n",
        "    \n",
        "      - At the end of considering index `x[pre_len-1]`, if `sequence[pre_len-1] = x[pre_len-1]` then if suffix of `x[pre_len:] > s`, it contributes `1` to the final count. With the above example, suffix of `x = 56` is larger than `s = 34`. The whole number at final is `x=123456` and `sequence = 123434`, then `sequence` is a powerful integer.\n",
        "\n",
        "### Analysis\n",
        "\n",
        "- Time complexity:\n",
        "\n",
        "  - One pass through all digits in `finish`: `O(log`<sub>`10`</sub>`(finish))`\n",
        "\n",
        "  - One pass through `start` or `s`. Since `finish > start/s`, time complexity will be smaller than `O(log`<sub>`10`</sub>`(finish))`\n",
        "\n",
        "  - Total time complexity: `O(log`<sub>`10`</sub>`(finish))`"
      ],
      "metadata": {
        "id": "U46SyfZLa41L"
      }
    },
    {
      "cell_type": "code",
      "source": [
        "from re import L\n",
        "from typing import List, Optional\n",
        "from collections import defaultdict\n",
        "from collections import deque\n",
        "from heapq import heapify, heappush, heappop\n",
        "from queue import PriorityQueue\n",
        "from collections import Counter\n",
        "import math\n",
        "\n",
        "class Solution:\n",
        "    def numberOfPowerfulInt(self, start: int, finish: int, limit: int, s: str) -> int:\n",
        "        if int(s) > finish:\n",
        "            return 0\n",
        "        if int(s) == finish:\n",
        "            return 1\n",
        "\n",
        "        # upper bound\n",
        "        finish_count = self.calculate(str(finish), limit, s)\n",
        "\n",
        "        # lower bound\n",
        "        start = max(start, int(s))\n",
        "        start_count = self.calculate(str(start-1), limit, s)\n",
        "\n",
        "        return finish_count - start_count\n",
        "\n",
        "\n",
        "    def calculate(self, x, limit, s):\n",
        "        pre_len = len(x) - len(s)\n",
        "        count = 0\n",
        "\n",
        "        sq = \"\"\n",
        "\n",
        "        for i in range(pre_len):\n",
        "            if limit < int(x[i]):\n",
        "                return count + (limit+1) ** (pre_len-i)\n",
        "            else:\n",
        "                count += int(x[i]) * (limit+1) ** (pre_len-i-1)\n",
        "\n",
        "                sq += x[i]\n",
        "\n",
        "        if int(s) <= int(x[pre_len:]):\n",
        "            count += 1\n",
        "        return count"
      ],
      "metadata": {
        "id": "sYHXR3BKIFPv"
      },
      "execution_count": 22,
      "outputs": []
    },
    {
      "cell_type": "code",
      "source": [
        "run_test_cases(Solution(), \"numberOfPowerfulInt\")"
      ],
      "metadata": {
        "id": "GgpmVWZbim7l"
      },
      "execution_count": 23,
      "outputs": []
    }
  ]
}
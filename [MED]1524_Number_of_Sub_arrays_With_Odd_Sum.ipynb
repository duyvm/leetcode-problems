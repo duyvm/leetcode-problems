{
  "nbformat": 4,
  "nbformat_minor": 0,
  "metadata": {
    "colab": {
      "provenance": [],
      "authorship_tag": "ABX9TyNUSD+sJKhhVIzizd1K7zKq",
      "include_colab_link": true
    },
    "kernelspec": {
      "name": "python3",
      "display_name": "Python 3"
    },
    "language_info": {
      "name": "python"
    }
  },
  "cells": [
    {
      "cell_type": "markdown",
      "metadata": {
        "id": "view-in-github",
        "colab_type": "text"
      },
      "source": [
        "<a href=\"https://colab.research.google.com/github/duyvm/leetcode-problems/blob/main/%5BMED%5D1524_Number_of_Sub_arrays_With_Odd_Sum.ipynb\" target=\"_parent\"><img src=\"https://colab.research.google.com/assets/colab-badge.svg\" alt=\"Open In Colab\"/></a>"
      ]
    },
    {
      "cell_type": "markdown",
      "source": [
        "# 1524. Number of Sub-arrays With Odd Sum\n",
        "\n",
        "https://leetcode.com/problems/number-of-sub-arrays-with-odd-sum/description/\n",
        "\n",
        "Given an array of integers `arr`, return the number of subarrays with an **odd sum**.\n",
        "\n",
        "Since the answer can be very large, return it modulo `10`<sup>`9`</sup>` + 7`.\n",
        "\n",
        "**Constraints:**\n",
        "- `1 <= arr.length <= 10`<sup>`5`</sup>\n",
        "- `1 <= arr[i] <= 100`."
      ],
      "metadata": {
        "id": "OhbFjTlo_zih"
      }
    },
    {
      "cell_type": "markdown",
      "source": [
        "**Example 1:**\n",
        "\n",
        "- Input: `arr = [1,3,5]`\n",
        "\n",
        "- Output: `4`\n",
        "\n",
        "- Explanation:\n",
        "        All subarrays are [[1],[1,3],[1,3,5],[3],[3,5],[5]]\n",
        "        All sub-arrays sum are [1,4,9,3,8,5].\n",
        "        Odd sums are [1,9,3,5] so the answer is 4.\n",
        "\n",
        "\n",
        "**Example 2:**\n",
        "\n",
        "- Input: `arr = [2,4,6]`\n",
        "\n",
        "- Output: `0`\n",
        "\n",
        "- Explanation:\n",
        "        All subarrays are [[2],[2,4],[2,4,6],[4],[4,6],[6]]\n",
        "        All sub-arrays sum are [2,6,12,4,10,6].\n",
        "        All sub-arrays have even sum and the answer is 0.\n",
        "\n",
        "**Example 3:**\n",
        "\n",
        "- Input: `arr = [1,2,3,4,5,6,7]`\n",
        "\n",
        "- Output: `16`"
      ],
      "metadata": {
        "id": "IEpVafbfC7W-"
      }
    },
    {
      "cell_type": "code",
      "source": [
        "test_cases = [\n",
        "    {\n",
        "        \"input\": {\n",
        "            \"arr\": [1,3,5]\n",
        "        },\n",
        "        \"output\": 4\n",
        "    },\n",
        "    {\n",
        "        \"input\": {\n",
        "            \"arr\": [2,4,6],\n",
        "        },\n",
        "        \"output\": 0\n",
        "    },\n",
        "    {\n",
        "        \"input\": {\n",
        "            \"arr\": [1,2,3,4,5,6,7],\n",
        "        },\n",
        "        \"output\": 16\n",
        "    },\n",
        "]"
      ],
      "metadata": {
        "id": "VD9YirfAdayx"
      },
      "execution_count": 1,
      "outputs": []
    },
    {
      "cell_type": "markdown",
      "source": [
        "### Observations\n",
        "\n",
        "- Odd sum: the number of odd elements in array must be odd\n",
        "- `subarr` is subarray of `arr` when `1 <= subarr.length <= arr.length` and `subarr`'s elements must be continuous in `arr`\n",
        "- Given n elements array:\n",
        "    - for `i` from `1` to `n` there are `n-i+1` subarray at length `i`\n",
        "\n",
        "### Intuition\n",
        "- For each `subarr` of `arr`:\n",
        " - If number of odd elements of `subarr`is even, skip it\n",
        " - Else add it to final result"
      ],
      "metadata": {
        "id": "e4M1bpIEDWc6"
      }
    },
    {
      "cell_type": "code",
      "source": [
        "from typing import List, Optional\n",
        "from collections import defaultdict\n",
        "from collections import deque\n",
        "from heapq import heapify, heappush, heappop\n",
        "from queue import PriorityQueue\n",
        "\n",
        "class Solution:\n",
        "    def numOfSubarrays(self, arr: List[int]) -> int:\n",
        "        ans = 0\n",
        "        n = len(arr)\n",
        "        for i in range(n):\n",
        "            _odd_count_of_subarr = [ arr[i] % 2 ]\n",
        "            ans += arr[i] % 2\n",
        "\n",
        "            for j in range(i+1, n):\n",
        "                ans += (_odd_count_of_subarr[-1] + arr[j] % 2 ) % 2\n",
        "                _odd_count_of_subarr.append( (_odd_count_of_subarr[-1] + arr[j] % 2 ) % 2 )\n",
        "\n",
        "\n",
        "            # ans += sum(_odd_count_of_subarr)\n",
        "\n",
        "        return ans % (10**9 + 7)"
      ],
      "metadata": {
        "id": "7N6VBRdIDUwD"
      },
      "execution_count": 23,
      "outputs": []
    },
    {
      "cell_type": "code",
      "source": [
        "solution = Solution()\n",
        "for test_case in test_cases:\n",
        "    result = solution.numOfSubarrays(test_case[\"input\"][\"arr\"])\n",
        "    if result != test_case[\"output\"]:\n",
        "        print(f'Failed test case with input: {test_case[\"input\"]} and output: {test_case[\"output\"]} vs result: {result}')"
      ],
      "metadata": {
        "id": "CMDKnxwjGL6v"
      },
      "execution_count": 24,
      "outputs": []
    },
    {
      "cell_type": "code",
      "source": [
        "from re import A\n",
        "a b c\n",
        "\n",
        "a              1\n",
        "a + b          2\n",
        "a + b + c      3\n",
        "\n",
        "    2 - a      4\n",
        "    3 - a      5\n",
        "\n",
        "\n",
        "    5 - c      6\n",
        "\n",
        "\n",
        "\n",
        "\n",
        "\n",
        ""
      ],
      "metadata": {
        "id": "O7w-Wd30meIw"
      },
      "execution_count": null,
      "outputs": []
    }
  ]
}
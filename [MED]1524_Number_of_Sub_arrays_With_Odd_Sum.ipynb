{
  "nbformat": 4,
  "nbformat_minor": 0,
  "metadata": {
    "colab": {
      "provenance": [],
      "authorship_tag": "ABX9TyNu8hXqTdPjJt/nQdSvoftw",
      "include_colab_link": true
    },
    "kernelspec": {
      "name": "python3",
      "display_name": "Python 3"
    },
    "language_info": {
      "name": "python"
    }
  },
  "cells": [
    {
      "cell_type": "markdown",
      "metadata": {
        "id": "view-in-github",
        "colab_type": "text"
      },
      "source": [
        "<a href=\"https://colab.research.google.com/github/duyvm/leetcode-problems/blob/main/%5BMED%5D1524_Number_of_Sub_arrays_With_Odd_Sum.ipynb\" target=\"_parent\"><img src=\"https://colab.research.google.com/assets/colab-badge.svg\" alt=\"Open In Colab\"/></a>"
      ]
    },
    {
      "cell_type": "markdown",
      "source": [
        "# 1524. Number of Sub-arrays With Odd Sum\n",
        "\n",
        "https://leetcode.com/problems/number-of-sub-arrays-with-odd-sum/description/\n",
        "\n",
        "Given an array of integers `arr`, return the number of subarrays with an **odd sum**.\n",
        "\n",
        "Since the answer can be very large, return it modulo `10`<sup>`9`</sup>` + 7`.\n",
        "\n",
        "**Constraints:**\n",
        "- `2 <= n <= 10`<sup>`5`</sup>\n",
        "- `edges.length == n - 1`\n",
        "- `edges[i].length == 2`\n",
        "- `0 <= a`<sub>`i`</sub>`, b`<sub>`i`</sub>` < n`\n",
        "- `a`<sub>`i`</sub>` != b`<sub>`i`</sub>\n",
        "- `edges` represents a valid tree.\n",
        "- `1 <= bob < n`\n",
        "- `amount.length == n`\n",
        "- `amount[i]` is an even integer in the range `[-104, 104]`."
      ],
      "metadata": {
        "id": "OhbFjTlo_zih"
      }
    },
    {
      "cell_type": "markdown",
      "source": [
        "**Example 1:**\n",
        "\n",
        "- Input: `arr = [1,3,5]`\n",
        "\n",
        "- Output: `4`\n",
        "\n",
        "- Explanation:\n",
        "        All subarrays are [[1],[1,3],[1,3,5],[3],[3,5],[5]]\n",
        "        All sub-arrays sum are [1,4,9,3,8,5].\n",
        "        Odd sums are [1,9,3,5] so the answer is 4.\n",
        "\n",
        "\n",
        "**Example 2:**\n",
        "\n",
        "- Input: `arr = [2,4,6]`\n",
        "\n",
        "- Output: `0`\n",
        "\n",
        "- Explanation:\n",
        "        All subarrays are [[2],[2,4],[2,4,6],[4],[4,6],[6]]\n",
        "        All sub-arrays sum are [2,6,12,4,10,6].\n",
        "        All sub-arrays have even sum and the answer is 0.\n",
        "\n",
        "**Example 3:**\n",
        "\n",
        "- Input: `arr = [1,2,3,4,5,6,7]`\n",
        "\n",
        "- Output: `16`"
      ],
      "metadata": {
        "id": "IEpVafbfC7W-"
      }
    },
    {
      "cell_type": "code",
      "source": [
        "test_cases = [\n",
        "    {\n",
        "        \"input\": {\n",
        "            \"arr\": [1,3,5]\n",
        "        },\n",
        "        \"output\": 4\n",
        "    },\n",
        "    {\n",
        "        \"input\": {\n",
        "            \"arr\": [2,4,6],\n",
        "        },\n",
        "        \"output\": 0\n",
        "    },\n",
        "    {\n",
        "        \"input\": {\n",
        "            \"arr\": [1,2,3,4,5,6,7],\n",
        "        },\n",
        "        \"output\": 16\n",
        "    },\n",
        "]"
      ],
      "metadata": {
        "id": "VD9YirfAdayx"
      },
      "execution_count": 1,
      "outputs": []
    },
    {
      "cell_type": "markdown",
      "source": [
        "### Observations\n",
        "\n",
        "- Because it is a tree, so there is no cycle.\n",
        " - A leaf is a node has only one edge connected to it, except root\n",
        "- Create a mapping `edges` to `nodes`\n",
        "- Root is `0`, ~~Bob move back to root so he will move from larger node to smaller node~~ node can have any number regarding its order in three\n",
        "  - There is only one path for Bob\n",
        "- Alice move to leaf, ~~so she will move from smaller node to larger node~~ node can have any number regarding its order in three\n",
        "  - Can compute cost of all posible paths from leaf to root\n",
        "    - Store the order of nodes\n",
        "  - Store the most profiable path\n",
        "  - For each path that overlaping with Bob's path, check\n",
        "    - Nodes that have been opened by Bob\n",
        "    - Nodes that Bob and Alice meet\n",
        "\n",
        "### Intuition\n",
        "-"
      ],
      "metadata": {
        "id": "e4M1bpIEDWc6"
      }
    },
    {
      "cell_type": "code",
      "source": [
        "from typing import List, Optional\n",
        "from collections import defaultdict\n",
        "from collections import deque\n",
        "from heapq import heapify, heappush, heappop\n",
        "from queue import PriorityQueue\n",
        "\n",
        "class Solution:\n",
        "    def mostProfitablePath(self, edges: List[List[int]], bob: int, amount: List[int]) -> int:\n",
        "        n = len(amount)\n",
        "        node2node = [ [] for _ in range(n) ]\n",
        "        for edge in edges:\n",
        "            node2node[edge[0]].append(edge[1])\n",
        "            node2node[edge[1]].append(edge[0])\n",
        "\n",
        "        leaf_nodes = []\n",
        "        for i, node in enumerate(node2node):\n",
        "            if len(node) == 1 and i != 0:\n",
        "                leaf_nodes.append(i)\n",
        "\n",
        "        print(leaf_nodes)\n",
        "        \"\"\"\n",
        "        # construct alice's paths\n",
        "        alice_possible_paths = []\n",
        "        for node in leaf_nodes:\n",
        "            path = []\n",
        "            path.append(node)\n",
        "            while True:\n",
        "                node = min(node2node[node])\n",
        "                path.append(node)\n",
        "                if node == 0:\n",
        "                    break\n",
        "            alice_possible_paths.append(path[::-1])\n",
        "\n",
        "        # construct bob path\n",
        "        bob_path = []\n",
        "        node = bob\n",
        "        bob_path.append(node)\n",
        "        while True:\n",
        "            node = min(node2node[node])\n",
        "            bob_path.append(node)\n",
        "            if node == 0:\n",
        "                break\n",
        "\n",
        "        max_profit = -float('inf')\n",
        "        for path in alice_possible_paths:\n",
        "            _amount = amount[::]\n",
        "            _profit = 0\n",
        "            for i in range(len(path)):\n",
        "                a = path[i]\n",
        "\n",
        "                if i < len(bob_path):\n",
        "                    b = bob_path[i]\n",
        "                else:\n",
        "                    b = None\n",
        "\n",
        "                if a == b:\n",
        "                    _profit += _amount[a] // 2\n",
        "                    continue\n",
        "\n",
        "                if b:\n",
        "                    _amount[b] = 0\n",
        "\n",
        "                _profit += _amount[a]\n",
        "\n",
        "            max_profit = max(max_profit, _profit)\n",
        "\n",
        "        return max_profit\"\"\""
      ],
      "metadata": {
        "id": "7N6VBRdIDUwD"
      },
      "execution_count": null,
      "outputs": []
    },
    {
      "cell_type": "code",
      "source": [
        "solution = Solution()\n",
        "for test_case in test_cases:\n",
        "    result = solution.mostProfitablePath(test_case[\"input\"][\"edges\"], test_case[\"input\"][\"bob\"], test_case[\"input\"][\"amount\"])\n",
        "    if result != test_case[\"output\"]:\n",
        "        print(f'Failed test case with input: {test_case[\"input\"]} and output: {test_case[\"output\"]} vs result: {result}')"
      ],
      "metadata": {
        "id": "CMDKnxwjGL6v",
        "colab": {
          "base_uri": "https://localhost:8080/",
          "height": 332
        },
        "outputId": "9a442838-2b1d-4541-9868-aa06d1910a76"
      },
      "execution_count": null,
      "outputs": [
        {
          "output_type": "error",
          "ename": "KeyboardInterrupt",
          "evalue": "",
          "traceback": [
            "\u001b[0;31m---------------------------------------------------------------------------\u001b[0m",
            "\u001b[0;31mKeyboardInterrupt\u001b[0m                         Traceback (most recent call last)",
            "\u001b[0;32m<ipython-input-16-713a3f3d71b1>\u001b[0m in \u001b[0;36m<cell line: 0>\u001b[0;34m()\u001b[0m\n\u001b[1;32m      1\u001b[0m \u001b[0msolution\u001b[0m \u001b[0;34m=\u001b[0m \u001b[0mSolution\u001b[0m\u001b[0;34m(\u001b[0m\u001b[0;34m)\u001b[0m\u001b[0;34m\u001b[0m\u001b[0;34m\u001b[0m\u001b[0m\n\u001b[1;32m      2\u001b[0m \u001b[0;32mfor\u001b[0m \u001b[0mtest_case\u001b[0m \u001b[0;32min\u001b[0m \u001b[0mtest_cases\u001b[0m\u001b[0;34m:\u001b[0m\u001b[0;34m\u001b[0m\u001b[0;34m\u001b[0m\u001b[0m\n\u001b[0;32m----> 3\u001b[0;31m     \u001b[0mresult\u001b[0m \u001b[0;34m=\u001b[0m \u001b[0msolution\u001b[0m\u001b[0;34m.\u001b[0m\u001b[0mmostProfitablePath\u001b[0m\u001b[0;34m(\u001b[0m\u001b[0mtest_case\u001b[0m\u001b[0;34m[\u001b[0m\u001b[0;34m\"input\"\u001b[0m\u001b[0;34m]\u001b[0m\u001b[0;34m[\u001b[0m\u001b[0;34m\"edges\"\u001b[0m\u001b[0;34m]\u001b[0m\u001b[0;34m,\u001b[0m \u001b[0mtest_case\u001b[0m\u001b[0;34m[\u001b[0m\u001b[0;34m\"input\"\u001b[0m\u001b[0;34m]\u001b[0m\u001b[0;34m[\u001b[0m\u001b[0;34m\"bob\"\u001b[0m\u001b[0;34m]\u001b[0m\u001b[0;34m,\u001b[0m \u001b[0mtest_case\u001b[0m\u001b[0;34m[\u001b[0m\u001b[0;34m\"input\"\u001b[0m\u001b[0;34m]\u001b[0m\u001b[0;34m[\u001b[0m\u001b[0;34m\"amount\"\u001b[0m\u001b[0;34m]\u001b[0m\u001b[0;34m)\u001b[0m\u001b[0;34m\u001b[0m\u001b[0;34m\u001b[0m\u001b[0m\n\u001b[0m\u001b[1;32m      4\u001b[0m     \u001b[0;32mif\u001b[0m \u001b[0mresult\u001b[0m \u001b[0;34m!=\u001b[0m \u001b[0mtest_case\u001b[0m\u001b[0;34m[\u001b[0m\u001b[0;34m\"output\"\u001b[0m\u001b[0;34m]\u001b[0m\u001b[0;34m:\u001b[0m\u001b[0;34m\u001b[0m\u001b[0;34m\u001b[0m\u001b[0m\n\u001b[1;32m      5\u001b[0m         \u001b[0mprint\u001b[0m\u001b[0;34m(\u001b[0m\u001b[0;34mf'Failed test case with input: {test_case[\"input\"]} and output: {test_case[\"output\"]} vs result: {result}'\u001b[0m\u001b[0;34m)\u001b[0m\u001b[0;34m\u001b[0m\u001b[0;34m\u001b[0m\u001b[0m\n",
            "\u001b[0;32m<ipython-input-13-c032a9529227>\u001b[0m in \u001b[0;36mmostProfitablePath\u001b[0;34m(self, edges, bob, amount)\u001b[0m\n\u001b[1;32m     24\u001b[0m             \u001b[0mpath\u001b[0m\u001b[0;34m.\u001b[0m\u001b[0mappend\u001b[0m\u001b[0;34m(\u001b[0m\u001b[0mnode\u001b[0m\u001b[0;34m)\u001b[0m\u001b[0;34m\u001b[0m\u001b[0;34m\u001b[0m\u001b[0m\n\u001b[1;32m     25\u001b[0m             \u001b[0;32mwhile\u001b[0m \u001b[0;32mTrue\u001b[0m\u001b[0;34m:\u001b[0m\u001b[0;34m\u001b[0m\u001b[0;34m\u001b[0m\u001b[0m\n\u001b[0;32m---> 26\u001b[0;31m                 \u001b[0mnode\u001b[0m \u001b[0;34m=\u001b[0m \u001b[0mmin\u001b[0m\u001b[0;34m(\u001b[0m\u001b[0mnode2node\u001b[0m\u001b[0;34m[\u001b[0m\u001b[0mnode\u001b[0m\u001b[0;34m]\u001b[0m\u001b[0;34m)\u001b[0m\u001b[0;34m\u001b[0m\u001b[0;34m\u001b[0m\u001b[0m\n\u001b[0m\u001b[1;32m     27\u001b[0m                 \u001b[0mpath\u001b[0m\u001b[0;34m.\u001b[0m\u001b[0mappend\u001b[0m\u001b[0;34m(\u001b[0m\u001b[0mnode\u001b[0m\u001b[0;34m)\u001b[0m\u001b[0;34m\u001b[0m\u001b[0;34m\u001b[0m\u001b[0m\n\u001b[1;32m     28\u001b[0m                 \u001b[0;32mif\u001b[0m \u001b[0mnode\u001b[0m \u001b[0;34m==\u001b[0m \u001b[0;36m0\u001b[0m\u001b[0;34m:\u001b[0m\u001b[0;34m\u001b[0m\u001b[0;34m\u001b[0m\u001b[0m\n",
            "\u001b[0;31mKeyboardInterrupt\u001b[0m: "
          ]
        }
      ]
    },
    {
      "cell_type": "code",
      "source": [
        "solution = Solution()\n",
        "test_case = 1\n",
        "result = solution.mostProfitablePath(test_cases[test_case][\"input\"][\"edges\"], test_cases[test_case][\"input\"][\"bob\"], test_cases[test_case][\"input\"][\"amount\"])\n",
        "if result != test_cases[test_case][\"output\"]:\n",
        "    print(f'Failed test case with input: {test_cases[test_case][\"input\"]} and output: {test_cases[test_case][\"output\"]} vs result: {result}')"
      ],
      "metadata": {
        "colab": {
          "base_uri": "https://localhost:8080/"
        },
        "id": "zjut9PH8xNc1",
        "outputId": "cd529af0-8537-4750-bedc-9e349fb1fe11"
      },
      "execution_count": null,
      "outputs": [
        {
          "output_type": "stream",
          "name": "stdout",
          "text": [
            "[3, 4]\n",
            "Failed test case with input: {'edges': [[0, 2], [0, 5], [1, 3], [1, 5], [2, 4]], 'amount': [5018, 8388, 6224, 3466, 3808, 3456], 'bob': 4} and output: 6 vs result: None\n"
          ]
        }
      ]
    },
    {
      "cell_type": "code",
      "source": [
        "   0\n",
        "  / \\\n",
        " 2   5\n",
        " |   |\n",
        " 4   1__3"
      ],
      "metadata": {
        "colab": {
          "base_uri": "https://localhost:8080/",
          "height": 106
        },
        "id": "TmaH_o_YyyzF",
        "outputId": "cabaacba-86ac-4582-828d-fc5acd1e20af"
      },
      "execution_count": null,
      "outputs": [
        {
          "output_type": "error",
          "ename": "IndentationError",
          "evalue": "unexpected indent (<ipython-input-25-1183bac46966>, line 2)",
          "traceback": [
            "\u001b[0;36m  File \u001b[0;32m\"<ipython-input-25-1183bac46966>\"\u001b[0;36m, line \u001b[0;32m2\u001b[0m\n\u001b[0;31m    (2, 5)\u001b[0m\n\u001b[0m    ^\u001b[0m\n\u001b[0;31mIndentationError\u001b[0m\u001b[0;31m:\u001b[0m unexpected indent\n"
          ]
        }
      ]
    },
    {
      "cell_type": "code",
      "source": [],
      "metadata": {
        "id": "UHoFB6KBzDkO"
      },
      "execution_count": null,
      "outputs": []
    }
  ]
}
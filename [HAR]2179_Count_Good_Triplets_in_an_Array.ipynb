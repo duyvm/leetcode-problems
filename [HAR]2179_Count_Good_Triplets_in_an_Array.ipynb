{
  "nbformat": 4,
  "nbformat_minor": 0,
  "metadata": {
    "colab": {
      "provenance": [],
      "authorship_tag": "ABX9TyN/+c94YektzeKmAwZSLniD",
      "include_colab_link": true
    },
    "kernelspec": {
      "name": "python3",
      "display_name": "Python 3"
    },
    "language_info": {
      "name": "python"
    }
  },
  "cells": [
    {
      "cell_type": "markdown",
      "metadata": {
        "id": "view-in-github",
        "colab_type": "text"
      },
      "source": [
        "<a href=\"https://colab.research.google.com/github/duyvm/leetcode-problems/blob/main/%5BHAR%5D2179_Count_Good_Triplets_in_an_Array.ipynb\" target=\"_parent\"><img src=\"https://colab.research.google.com/assets/colab-badge.svg\" alt=\"Open In Colab\"/></a>"
      ]
    },
    {
      "cell_type": "markdown",
      "source": [
        "# 2179. Count Good Triplets in an Array\n",
        "\n",
        "https://leetcode.com/problems/count-good-triplets-in-an-array/description/\n",
        "\n",
        "You are given two **0-indexed** arrays `nums1` and `nums2` of length `n`, both of which are permutations of `[0, 1, ..., n - 1]`.\n",
        "\n",
        "A **good triplet** is a set of 3 **distinct** values which are present in **increasing order** by position both in `nums1` and `nums2`. In other words, if we consider `pos1`<sub>`v`</sub> as the index of the value `v` in `nums1` and `pos2`<sub>`v`</sub> as the index of the value `v` in `nums2`, then a good triplet will be a set `(x, y, z)` where `0 <= x, y, z <= n - 1`, such that `pos1`<sub>`x`</sub>` < pos1`<sub>`y`</sub>` < pos1`<sub>`z`</sub> and `pos2`<sub>`x`</sub>` < pos2`<sub>`y`</sub>` < pos2`<sub>`z`</sub>.\n",
        "\n",
        "Return the **total number** of good triplets.\n",
        "\n",
        "**Constraints:**\n",
        "- `n == nums1.length == nums2.length`\n",
        "- `3 <= n <= 10`<sup>`5`</sup>\n",
        "- `0 <= nums1[i], nums2[i] <= n - 1`\n",
        "- `nums1` and `nums2` are permutations of `[0, 1, ..., n - 1]`.\n",
        "\n",
        "**Follow up:**"
      ],
      "metadata": {
        "id": "OhbFjTlo_zih"
      }
    },
    {
      "cell_type": "markdown",
      "source": [
        "**Example 1:**\n",
        "\n",
        "- Input: `\"nums1\": [2,0,1,3], \"nums2\": [0,1,2,3]`\n",
        "\n",
        "- Output: `1`\n",
        "\n",
        "- Explanation:  There are 4 triplets `(x,y,z)` such that `pos1`<sub>`x`</sub>` < pos1`<sub>`y`</sub>` < pos1`<sub>`z`</sub>.\n",
        "\n",
        "    They are `(2,0,1)`, `(2,0,3)`, `(2,1,3)`, and `(0,1,3)`.\n",
        "    \n",
        "    Out of those triplets, only the triplet `(0,1,3)` satisfies `pos2`<sub>`x`</sub>` < pos2`<sub>`y`</sub>` < pos2`<sub>`z`</sub>. Hence, there is only 1 good triplet.\n",
        "\n",
        "**Example 2:**\n",
        "\n",
        "- Input: `\"nums1\": [4,0,1,3,2], \"nums2\": [4,1,0,2,3]`\n",
        "\n",
        "- Output: `4`\n",
        "\n",
        "- Explanation: The 4 good triplets are `(4,0,3)`, `(4,0,2)`, `(4,1,3)`, and `(4,1,2)`."
      ],
      "metadata": {
        "id": "IEpVafbfC7W-"
      }
    },
    {
      "cell_type": "code",
      "source": [
        "test_cases = [\n",
        "    {\n",
        "        \"input\": {\n",
        "            \"nums1\": [2,0,1,3], \"nums2\": [0,1,2,3]\n",
        "        },\n",
        "        \"output\": 1\n",
        "    },\n",
        "    {\n",
        "        \"input\": {\n",
        "            \"nums1\": [4,0,1,3,2], \"nums2\": [4,1,0,2,3]\n",
        "        },\n",
        "        \"output\": 4\n",
        "    },\n",
        "]"
      ],
      "metadata": {
        "id": "VD9YirfAdayx"
      },
      "execution_count": 18,
      "outputs": []
    },
    {
      "cell_type": "code",
      "source": [
        "def run_test_cases(solution, function_name):\n",
        "    for i in range(len(test_cases)):\n",
        "        run_test_case(solution, function_name, i)\n",
        "\n",
        "def run_test_case(solution, function_name, i):\n",
        "    test_case = test_cases[i]\n",
        "    result = getattr(solution, function_name)(**test_case[\"input\"])\n",
        "    if result != test_case[\"output\"]:\n",
        "        print(f'Failed test case {i} with input: {test_case[\"input\"]} and expected result: {test_case[\"output\"]} vs actual result: {result}')"
      ],
      "metadata": {
        "id": "eefq238-1jIb"
      },
      "execution_count": 19,
      "outputs": []
    },
    {
      "cell_type": "markdown",
      "source": [
        "# Approach 1 - Time Limit Exceeded (81/148)\n",
        "\n",
        "### Observations\n",
        "\n",
        "- Instead of saying `pos1`<sub>`x`</sub>` < pos1`<sub>`y`</sub>` < pos1`<sub>`z`</sub> and `pos2`<sub>`x`</sub>` < pos2`<sub>`y`</sub>` < pos2`<sub>`z`</sub>, the condition of good triplet is their order in `nums1` and `nums2` must be increasing.\n",
        "\n",
        "- When we check a pair `(x,y)`with indices `i < j` in `nums1`. Let their indices in `nums2` are `(l,k)`, if `l > k` then it is not a valid pair.\n",
        "\n",
        "- Time complexity for checking all triplets are `O(n`<sup>`3`</sup>`)`\n",
        "\n",
        "- Let say we have `nums1=[2,0,1,3]` and `nums2=[0,1,2,3]`.\n",
        "\n",
        "  - We create an alternative array `alt_nums2` of `nums2`, the values are `nums2` elements' coresponding indices in `nums1`\n",
        "\n",
        "  - `alt_nums2=[1,2,0,3]`\n",
        "\n",
        "  - All the triplets in `alt_nums2` that values are strictly increasing are the good triplets that satify both `nums2` and `nums1`.\n",
        "\n",
        "  - We count all the triplets in `alt_nums2` that have increasing value. In above example, we have the triplet `(1,2,3)` that satify the conditions, which is `(0,1,3)` in both `nums1` and  `nums2`\n",
        "\n",
        "- The problem turn to count all the subarray in `alt_nums2` that has `3` elements and their values are ascending.\n",
        "\n",
        "- We can use backtracking to find the cound of subarray in `alt_nums2` that satify the condtion.\n",
        "\n",
        "### Analysis\n",
        "\n",
        "- Time complexity: `O(1)`\n"
      ],
      "metadata": {
        "id": "e4M1bpIEDWc6"
      }
    },
    {
      "cell_type": "markdown",
      "source": [
        "### Implementation"
      ],
      "metadata": {
        "id": "TTw8uVbRkXtT"
      }
    },
    {
      "cell_type": "code",
      "source": [
        "from re import L\n",
        "from typing import List, Optional\n",
        "from collections import defaultdict\n",
        "from collections import deque\n",
        "from heapq import heapify, heappush, heappop\n",
        "from queue import PriorityQueue\n",
        "from collections import Counter\n",
        "import math\n",
        "\n",
        "class Solution:\n",
        "    def goodTriplets(self, nums1: List[int], nums2: List[int]) -> int:\n",
        "        nums1_dict = {v:i for i,v in enumerate(nums1)}\n",
        "        alt_nums2 = [ nums1_dict[v] for v in nums2 ]\n",
        "        return Solution.countGoodTriplets(alt_nums2)\n",
        "\n",
        "    def countGoodTriplets(alt_nums):\n",
        "        def count(current_i, current_length, last_added_element, triplet):\n",
        "            if current_length == 3:\n",
        "                return 1\n",
        "\n",
        "            # end of array\n",
        "            if current_i + 1 >= len(alt_nums):\n",
        "                return 0\n",
        "\n",
        "            _count = 0\n",
        "            # if next element has smaller value, we go to next element\n",
        "\n",
        "            if last_added_element > alt_nums[current_i + 1]:\n",
        "                return count(current_i + 1, current_length, last_added_element, [i for i in triplet])\n",
        "\n",
        "            # else we consider both cases: add and not add it to current subarray\n",
        "            _count += count(current_i + 1, current_length + 1, alt_nums[current_i+1], [i for i in triplet] + [alt_nums[current_i+1]])\n",
        "            _count += count(current_i + 1, current_length, last_added_element, [i for i in triplet])\n",
        "\n",
        "            return _count\n",
        "\n",
        "        goodTripletCount = 0\n",
        "        for i in range(len(alt_nums)):\n",
        "            goodTripletCount += count(i, 1, alt_nums[i], [alt_nums[i]])\n",
        "\n",
        "        return goodTripletCount"
      ],
      "metadata": {
        "id": "7N6VBRdIDUwD"
      },
      "execution_count": null,
      "outputs": []
    },
    {
      "cell_type": "code",
      "source": [
        "run_test_cases(Solution(), \"goodTriplets\")"
      ],
      "metadata": {
        "id": "DSgVrw0oNgBn"
      },
      "execution_count": null,
      "outputs": []
    },
    {
      "cell_type": "markdown",
      "source": [
        "# Approach 2 - Leetcode's hints - Time Limit Exceeded (105/148)\n",
        "\n",
        "### Observations\n",
        "\n",
        "- For every value y, how can you find the number of values x (0 ≤ x, y ≤ n - 1) such that x appears before y in both of the arrays?\n",
        "\n",
        "- Similarly, for every value y, try finding the number of values z (0 ≤ y, z ≤ n - 1) such that z appears after y in both of the arrays.\n",
        "\n",
        "- Now, for every value y, count the number of good triplets that can be formed if y is considered as the middle element."
      ],
      "metadata": {
        "id": "AQiXHCbIhqSG"
      }
    },
    {
      "cell_type": "code",
      "source": [
        "from re import L\n",
        "from typing import List, Optional\n",
        "from collections import defaultdict\n",
        "from collections import deque\n",
        "from heapq import heapify, heappush, heappop\n",
        "from queue import PriorityQueue\n",
        "from collections import Counter\n",
        "import math\n",
        "\n",
        "class Solution:\n",
        "    def goodTriplets(self, nums1: List[int], nums2: List[int]) -> int:\n",
        "        nums1_dict = {v:i for i,v in enumerate(nums1)}\n",
        "        nums2_dict = {v:i for i,v in enumerate(nums2)}\n",
        "        count = 0\n",
        "        for i in range(len(nums1)):\n",
        "            i_index_in_nums1 = nums1_dict[i]\n",
        "            i_index_in_nums2 = nums2_dict[i]\n",
        "            value_before_i_in_nums1 = set([nums1[i] for i in range(i_index_in_nums1)])\n",
        "            value_before_i_in_nums2 = set([nums2[i] for i in range(i_index_in_nums2)])\n",
        "            value_before_i_in_both = value_before_i_in_nums1.intersection(value_before_i_in_nums2)\n",
        "\n",
        "            value_after_i_in_nums1 = set([nums1[i] for i in range(i_index_in_nums1+1, len(nums1))])\n",
        "            value_after_i_in_nums2 = set([nums2[i] for i in range(i_index_in_nums2+1, len(nums2))])\n",
        "            value_after_i_in_both = value_after_i_in_nums1.intersection(value_after_i_in_nums2)\n",
        "            count += len(value_before_i_in_both) * len(value_after_i_in_both)\n",
        "\n",
        "        return count"
      ],
      "metadata": {
        "id": "DGYYW-kwWafq"
      },
      "execution_count": 35,
      "outputs": []
    },
    {
      "cell_type": "code",
      "source": [
        "run_test_cases(Solution(), \"goodTriplets\")"
      ],
      "metadata": {
        "id": "UoFjt9GsDGwZ"
      },
      "execution_count": 17,
      "outputs": []
    },
    {
      "cell_type": "markdown",
      "source": [
        "# Approach 4 - Optimized approach 3 - Time Limit Exceeded (106/148)\n",
        "\n",
        "### Observations\n",
        "\n",
        "- Try to maintain the before and after set in `nums2`, only add/remove different element in each iteration.\n",
        "\n",
        "- More checking, worse performance"
      ],
      "metadata": {
        "id": "JRwV0hsWJ5al"
      }
    },
    {
      "cell_type": "code",
      "source": [
        "from re import L\n",
        "from typing import List, Optional\n",
        "from collections import defaultdict\n",
        "from collections import deque\n",
        "from heapq import heapify, heappush, heappop\n",
        "from queue import PriorityQueue\n",
        "from collections import Counter\n",
        "import math\n",
        "\n",
        "class Solution:\n",
        "    def goodTriplets(self, nums1: List[int], nums2: List[int]) -> int:\n",
        "        n = len(nums1)\n",
        "        nums2_dict = {v:i for i,v in enumerate(nums2)}\n",
        "        count = 0\n",
        "        # start at index = 1\n",
        "        value_before_i_in_nums1 = set()\n",
        "        value_after_i_in_nums1 = set(nums1[1:])\n",
        "\n",
        "        # init nums2\n",
        "        pre_index_in_nums2 = nums2_dict[nums1[0]]\n",
        "        value_before_i_in_nums2 = set([nums2[i] for i in range(pre_index_in_nums2)])\n",
        "        value_after_i_in_nums2 = set([nums2[i] for i in range(pre_index_in_nums2+1, n)])\n",
        "\n",
        "        for i in range(1, n-1):\n",
        "            val = nums1[i]\n",
        "            value_before_i_in_nums1.add(nums1[i-1])\n",
        "            value_after_i_in_nums1.remove(val)\n",
        "\n",
        "            index_in_nums2 = nums2_dict[val]\n",
        "            if index_in_nums2 in (0, n-1):\n",
        "                continue\n",
        "\n",
        "            diff_index_in_nums2 = index_in_nums2 - pre_index_in_nums2\n",
        "            if diff_index_in_nums2 > 0:\n",
        "                for j in range(pre_index_in_nums2, index_in_nums2):\n",
        "                    value_before_i_in_nums2.add(nums2[j])\n",
        "                    value_after_i_in_nums2.remove(nums2[j+1])\n",
        "            else:\n",
        "                for j in range(index_in_nums2, pre_index_in_nums2):\n",
        "                    value_before_i_in_nums2.remove(nums2[j])\n",
        "                    value_after_i_in_nums2.add(nums2[j+1])\n",
        "\n",
        "            value_before_i_in_both = value_before_i_in_nums1.intersection(value_before_i_in_nums2)\n",
        "            value_after_i_in_both = value_after_i_in_nums1.intersection(value_after_i_in_nums2)\n",
        "            count += len(value_before_i_in_both) * len(value_after_i_in_both)\n",
        "\n",
        "            pre_index_in_nums2 = index_in_nums2\n",
        "\n",
        "        return count"
      ],
      "metadata": {
        "id": "cbjsCYbBKh_3"
      },
      "execution_count": 53,
      "outputs": []
    },
    {
      "cell_type": "code",
      "source": [
        "run_test_cases(Solution(), \"goodTriplets\")"
      ],
      "metadata": {
        "id": "x2pUXsuzMbtS"
      },
      "execution_count": 54,
      "outputs": []
    }
  ]
}
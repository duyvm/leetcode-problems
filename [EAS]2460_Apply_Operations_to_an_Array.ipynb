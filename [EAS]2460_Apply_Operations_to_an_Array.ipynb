{
  "nbformat": 4,
  "nbformat_minor": 0,
  "metadata": {
    "colab": {
      "provenance": [],
      "authorship_tag": "ABX9TyNXO2giR3pNjoSzUTCbJZm9",
      "include_colab_link": true
    },
    "kernelspec": {
      "name": "python3",
      "display_name": "Python 3"
    },
    "language_info": {
      "name": "python"
    }
  },
  "cells": [
    {
      "cell_type": "markdown",
      "metadata": {
        "id": "view-in-github",
        "colab_type": "text"
      },
      "source": [
        "<a href=\"https://colab.research.google.com/github/duyvm/leetcode-problems/blob/main/%5BEAS%5D2460_Apply_Operations_to_an_Array.ipynb\" target=\"_parent\"><img src=\"https://colab.research.google.com/assets/colab-badge.svg\" alt=\"Open In Colab\"/></a>"
      ]
    },
    {
      "cell_type": "markdown",
      "source": [
        "# 2460. Apply Operations to an Array\n",
        "\n",
        "https://leetcode.com/problems/apply-operations-to-an-array/description/\n",
        "\n",
        "You are given a **0-indexed** array `nums` of size `n` consisting of **non-negative** integers.\n",
        "\n",
        "You need to apply `n - 1` operations to this array where, in the `i`<sup>`th`</sup> operation (**0-indexed**), you will apply the following on the `i`<sup>`th`</sup> element of `nums`:\n",
        "\n",
        "- If `nums[i] == nums[i + 1]`, then multiply `nums[i]` by `2` and set nums`[i + 1]` to `0`. Otherwise, you skip this operation.\n",
        "\n",
        "After performing **all** the operations, **shift** all the `0`'s to the end of the array.\n",
        "\n",
        "- For example, the array `[1,0,2,0,0,1]` after shifting all its `0`'s to the end, is `[1,2,1,0,0,0]`.\n",
        "\n",
        "Return the *resulting* array.\n",
        "\n",
        "Note that the operations are applied **sequentially**, not all at once.\n",
        "\n",
        "**Constraints:**\n",
        "- `2 <= nums.length <= 2000`\n",
        "- `0 <= nums[i] <= 1000`"
      ],
      "metadata": {
        "id": "OhbFjTlo_zih"
      }
    },
    {
      "cell_type": "markdown",
      "source": [
        "**Example 1:**\n",
        "\n",
        "- Input: `nums = [1,2,2,1,1,0]`\n",
        "\n",
        "- Output: `[1,4,2,0,0,0]`\n",
        "\n",
        "- Explanation: We do the following operations:\n",
        "        - i = 0: nums[0] and nums[1] are not equal, so we skip this operation.\n",
        "        - i = 1: nums[1] and nums[2] are equal, we multiply nums[1] by 2 and change nums[2] to 0. The array becomes [1,4,0,1,1,0].\n",
        "        - i = 2: nums[2] and nums[3] are not equal, so we skip this operation.\n",
        "        - i = 3: nums[3] and nums[4] are equal, we multiply nums[3] by 2 and change nums[4] to 0. The array becomes [1,4,0,2,0,0].\n",
        "        - i = 4: nums[4] and nums[5] are equal, we multiply nums[4] by 2 and change nums[5] to 0. The array becomes [1,4,0,2,0,0].\n",
        "        After that, we shift the 0's to the end, which gives the array [1,4,2,0,0,0].\n",
        "\n",
        "\n",
        "**Example 2:**\n",
        "\n",
        "- Input: `nums = [0,1]`\n",
        "\n",
        "- Output: `[1,0]`\n",
        "\n",
        "- Explanation: No operation can be applied, we just shift the 0 to the end."
      ],
      "metadata": {
        "id": "IEpVafbfC7W-"
      }
    },
    {
      "cell_type": "code",
      "source": [
        "test_cases = [\n",
        "    {\n",
        "        \"input\": {\n",
        "           \"nums\": [1,2,2,1,1,0],\n",
        "        },\n",
        "        \"output\": [1,4,2,0,0,0]\n",
        "    },\n",
        "    {\n",
        "        \"input\": {\n",
        "           \"nums\": [0,1],\n",
        "        },\n",
        "        \"output\": [1,0]\n",
        "    },\n",
        "]"
      ],
      "metadata": {
        "id": "VD9YirfAdayx"
      },
      "execution_count": 6,
      "outputs": []
    },
    {
      "cell_type": "markdown",
      "source": [
        "### Observations\n",
        "\n",
        "- One pass through `nums` and update its elements\n",
        "\n",
        "- Let array `ans`, same length with `nums`, initialized with `0`. Use a `current_non_zero_index` variable, starting with `0`, to keep track of non zero index in `ans`. One pass through `nums` and add non-zero to ans. Return `ans`\n",
        "- Time complexity `O(n)`\n",
        "- Memory complexity `O(n)`\n",
        "\n",
        "### Intuition\n",
        "\n",
        "- N/A"
      ],
      "metadata": {
        "id": "e4M1bpIEDWc6"
      }
    },
    {
      "cell_type": "code",
      "source": [
        "from typing import List, Optional\n",
        "from collections import defaultdict\n",
        "from collections import deque\n",
        "from heapq import heapify, heappush, heappop\n",
        "from queue import PriorityQueue\n",
        "\n",
        "class Solution:\n",
        "    def applyOperations(self, nums: List[int]) -> List[int]:\n",
        "        for i in range(len(nums) - 1):\n",
        "            if nums[i] == nums[i + 1]:\n",
        "                nums[i] *= 2\n",
        "                nums[i + 1] = 0\n",
        "\n",
        "        ans = [0] * len(nums)\n",
        "        current_not_zero_index = 0\n",
        "        for i in range(len(nums)):\n",
        "            if nums[i] != 0:\n",
        "                ans[current_not_zero_index] = nums[i]\n",
        "                current_not_zero_index += 1\n",
        "        return ans"
      ],
      "metadata": {
        "id": "7N6VBRdIDUwD"
      },
      "execution_count": 10,
      "outputs": []
    },
    {
      "cell_type": "code",
      "source": [
        "solution = Solution()\n",
        "for test_case in test_cases:\n",
        "    result = solution.applyOperations(test_case[\"input\"][\"nums\"])\n",
        "    if result != test_case[\"output\"]:\n",
        "        print(f'Failed test case with input: {test_case[\"input\"]} and output: {test_case[\"output\"]} vs result: {result}')"
      ],
      "metadata": {
        "id": "CMDKnxwjGL6v"
      },
      "execution_count": 11,
      "outputs": []
    },
    {
      "cell_type": "code",
      "source": [],
      "metadata": {
        "id": "HREOFaae88N2"
      },
      "execution_count": null,
      "outputs": []
    }
  ]
}
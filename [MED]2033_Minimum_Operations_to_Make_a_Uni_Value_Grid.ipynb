{
  "nbformat": 4,
  "nbformat_minor": 0,
  "metadata": {
    "colab": {
      "provenance": [],
      "authorship_tag": "ABX9TyOJC6wbos1fpTZzMvh2Pfh9",
      "include_colab_link": true
    },
    "kernelspec": {
      "name": "python3",
      "display_name": "Python 3"
    },
    "language_info": {
      "name": "python"
    }
  },
  "cells": [
    {
      "cell_type": "markdown",
      "metadata": {
        "id": "view-in-github",
        "colab_type": "text"
      },
      "source": [
        "<a href=\"https://colab.research.google.com/github/duyvm/leetcode-problems/blob/main/%5BMED%5D2033_Minimum_Operations_to_Make_a_Uni_Value_Grid.ipynb\" target=\"_parent\"><img src=\"https://colab.research.google.com/assets/colab-badge.svg\" alt=\"Open In Colab\"/></a>"
      ]
    },
    {
      "cell_type": "markdown",
      "source": [
        "# 2033. Minimum Operations to Make a Uni-Value Grid\n",
        "\n",
        "https://leetcode.com/problems/minimum-operations-to-make-a-uni-value-grid/description/\n",
        "\n",
        "You are given a 2D integer `grid` of size `m x n` and an integer `x`. In one operation, you can add `x` to or subtract `x` from any element in the `grid`.\n",
        "\n",
        "A **uni-value** grid is a grid where **all the elements** of it are **equal**.\n",
        "\n",
        "Return the minimum number of operations to make the `grid` **uni-value**. If it is not possible, return `-1`.\n",
        "\n",
        "**Constraints:**\n",
        "- `m == grid.length`\n",
        "- `n == grid[i].length`\n",
        "- `1 <= m, n <= 10`<sup>`5`</sup>\n",
        "- `1 <= m * n <= 10`<sup>`5`</sup>\n",
        "- `1 <= x, grid[i][j] <= 10`<sup>`4`</sup>"
      ],
      "metadata": {
        "id": "OhbFjTlo_zih"
      }
    },
    {
      "cell_type": "markdown",
      "source": [
        "**Example 1:**\n",
        "\n",
        "- Input: `grid = [[2,4],[6,8]], x = 2`\n",
        "\n",
        "- Output: `4`\n",
        "\n",
        "- Explanation:\n",
        "\n",
        "    ![example1](https://drive.google.com/uc?id=12tITAM4wL-sLCjqSIi9yp7CMtRa3w4T_)\n",
        "\n",
        "        We can make every element equal to 4 by doing the following:\n",
        "        - Add x to 2 once.\n",
        "        - Subtract x from 6 once.\n",
        "        - Subtract x from 8 twice.\n",
        "        A total of 4 operations were used.\n",
        "\n",
        "**Example 2:**\n",
        "\n",
        "- Input: `grid = [[1,5],[2,3]], x = 1`\n",
        "\n",
        "- Output: `5`\n",
        "\n",
        "- Explanation: We can make every element equal to 3.\n",
        "\n",
        "    ![example2](https://drive.google.com/uc?id=19UJz08Ctj34xouIedmL5WvRlOrQGFNxc)\n",
        "\n",
        "\n",
        "**Example 3:**\n",
        "\n",
        "- Input: `grid = [[1,2],[3,4]], x = 2`\n",
        "\n",
        "- Output: `-1`\n",
        "\n",
        "- Explanation: It is impossible to make every element equal.\n",
        "\n",
        "    ![example2](https://drive.google.com/uc?id=1EjwctEMTnxihjKXe8_Z8Ma4EUbyb0O_D)\n"
      ],
      "metadata": {
        "id": "IEpVafbfC7W-"
      }
    },
    {
      "cell_type": "code",
      "source": [
        "test_cases = [\n",
        "    {\n",
        "        \"input\": {\n",
        "            \"grid\": [[2,4],[6,8]],\n",
        "            \"x\": 2,\n",
        "        },\n",
        "        \"output\": 4\n",
        "    },\n",
        "    {\n",
        "        \"input\": {\n",
        "            \"grid\": [[1,5],[2,3]],\n",
        "            \"x\": 1,\n",
        "        },\n",
        "        \"output\": 5\n",
        "    },\n",
        "    {\n",
        "        \"input\": {\n",
        "            \"grid\": [[1,2],[3,4]],\n",
        "            \"x\": 2,\n",
        "        },\n",
        "        \"output\": -1\n",
        "    },\n",
        "    {\n",
        "        \"input\": {\n",
        "            \"grid\": [[146]],\n",
        "            \"x\": 86,\n",
        "        },\n",
        "        \"output\": 0\n",
        "    },\n",
        "    {\n",
        "        \"input\": {\n",
        "            \"grid\": [[931,128],[639,712]],\n",
        "            \"x\": 73,\n",
        "        },\n",
        "        \"output\": 12\n",
        "    },\n",
        "    {\n",
        "        \"input\": {\n",
        "            \"grid\": [[454,328,160,286,664],[496,538,748,244,286],[34,244,454,706,790],[496,538,832,958,328],[370,874,370,874,286]],\n",
        "            \"x\": 42,\n",
        "        },\n",
        "        \"output\": 122\n",
        "    },\n",
        "    {\n",
        "        \"input\": {\n",
        "            \"grid\": [[596,904,960,232,120,932,176],[372,792,288,848,960,960,764],[652,92,904,120,680,904,120],[372,960,92,680,876,624,904],[176,652,64,344,316,764,316],[820,624,848,596,960,960,372],[708,120,456,92,484,932,540]],\n",
        "            \"x\": 28,\n",
        "        },\n",
        "        \"output\": 473\n",
        "    },\n",
        "]"
      ],
      "metadata": {
        "id": "VD9YirfAdayx"
      },
      "execution_count": 135,
      "outputs": []
    },
    {
      "cell_type": "code",
      "source": [
        "def run_test_cases(solution, function_name):\n",
        "    for i in range(len(test_cases)):\n",
        "        run_test_case(solution, function_name, i)\n",
        "\n",
        "def run_test_case(solution, function_name, i):\n",
        "    test_case = test_cases[i]\n",
        "    result = getattr(solution, function_name)(**test_case[\"input\"])\n",
        "    if result != test_case[\"output\"]:\n",
        "        print(f'Failed test case {i} with input: {test_case[\"input\"]} and expected result: {test_case[\"output\"]} vs actual result: {result}')"
      ],
      "metadata": {
        "id": "eefq238-1jIb"
      },
      "execution_count": 9,
      "outputs": []
    },
    {
      "cell_type": "markdown",
      "source": [
        "# Approach 1\n",
        "\n",
        "### Observations\n",
        "\n",
        "- If `x` is even, to make `grid` uni-value, all elements of `gird` must be even or odd, not both.\n",
        "\n",
        "- If `uni_value` is the uni-value of `grid`, then `abs(grid[i][j] - uni_value) % x mod 0`\n",
        "\n",
        "- Let `mid = (min(grid) + max(grid)) // 2`\n",
        "\n",
        "  - For all elements `grid[i][j]` smaller than `mid`,  `grid[i][j] mod x = s` must be the same\n",
        "\n",
        "  - For all elements `grid[i][j]` larger than `mid`,  `grid[i][j] % x mod l` must be the same\n",
        "\n",
        "  - And `(s + l) mod x` must be `0`\n",
        "\n",
        "### Analysis\n",
        "\n",
        "- Time complexity:\n"
      ],
      "metadata": {
        "id": "e4M1bpIEDWc6"
      }
    },
    {
      "cell_type": "markdown",
      "source": [
        "### Implementation"
      ],
      "metadata": {
        "id": "TTw8uVbRkXtT"
      }
    },
    {
      "cell_type": "code",
      "source": [
        "from typing import List, Optional\n",
        "from collections import defaultdict\n",
        "from collections import deque\n",
        "from heapq import heapify, heappush, heappop\n",
        "from queue import PriorityQueue\n",
        "import math\n",
        "\n",
        "class Solution:\n",
        "    def minOperations(self, grid: List[List[int]], x: int) -> int:\n",
        "        m, n = len(grid), len(grid[0])\n",
        "        nums = [grid[i][j] for i in range(m) for j in range(n)]\n",
        "        nums.sort()\n",
        "\n",
        "        if len(nums) == 1:\n",
        "            return 0\n",
        "\n",
        "        mid = sum(nums) // len(nums)\n",
        "\n",
        "        s = (mid - nums[0]) % x\n",
        "        l = (nums[-1] - mid) % x\n",
        "\n",
        "        if (s + l) % x != 0:\n",
        "            return -1\n",
        "        \"\"\"\n",
        "        print(f\"nums: {nums}\")\n",
        "        print(f\"mid: {mid}\")\n",
        "        print(f\"s: {s}, l: {l}\")\n",
        "        \"\"\"\n",
        "\n",
        "        mid = mid - s\n",
        "        min_ans = math.inf\n",
        "\n",
        "        while True:\n",
        "            count_ope_left, count_element_left = self.count_left(mid, nums, x)\n",
        "            if count_ope_left == -1:\n",
        "                return -1\n",
        "\n",
        "            count_ope_right, count_element_right = self.count_rigt(mid, nums, x)\n",
        "            if count_ope_right == -1:\n",
        "                return -1\n",
        "\n",
        "            ans = count_ope_left + count_ope_right\n",
        "            if ans < min_ans:\n",
        "                min_ans = ans\n",
        "                if count_element_left >= count_element_right:\n",
        "                    mid -= x\n",
        "                else:\n",
        "                    mid += x\n",
        "            else:\n",
        "                break\n",
        "        return min_ans\n",
        "\n",
        "    def count_left(self, mid, nums, x):\n",
        "        i = 0\n",
        "        operation_count = 0\n",
        "        while True:\n",
        "            if i == len(nums) or nums[i] > mid:\n",
        "                break\n",
        "            if (mid - nums[i]) % x != 0:\n",
        "                return -1, None\n",
        "            else:\n",
        "                operation_count += (mid - nums[i]) // x\n",
        "            i += 1\n",
        "        return operation_count, i\n",
        "\n",
        "    def count_rigt(self, mid, nums, x):\n",
        "        j = len(nums) - 1\n",
        "        operation_count = 0\n",
        "        while True:\n",
        "            if j == 0 or nums[j] <= mid:\n",
        "                break\n",
        "            if (nums[j] - mid) % x != 0:\n",
        "                return -1, None\n",
        "            else:\n",
        "                operation_count += (nums[j] - mid) // x\n",
        "\n",
        "            j -= 1\n",
        "\n",
        "        return operation_count, len(nums) - 1 - j"
      ],
      "metadata": {
        "id": "7N6VBRdIDUwD"
      },
      "execution_count": 189,
      "outputs": []
    },
    {
      "cell_type": "code",
      "source": [
        "run_test_cases(Solution(), \"minOperations\")"
      ],
      "metadata": {
        "id": "DSgVrw0oNgBn"
      },
      "execution_count": 190,
      "outputs": []
    },
    {
      "cell_type": "code",
      "source": [
        "run_test_case(Solution(), \"minOperations\", 4)"
      ],
      "metadata": {
        "id": "J_lA1jnwGq-Y"
      },
      "execution_count": 191,
      "outputs": []
    }
  ]
}
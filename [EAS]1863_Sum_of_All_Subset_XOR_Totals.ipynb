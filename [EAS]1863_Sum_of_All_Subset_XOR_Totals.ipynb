{
  "nbformat": 4,
  "nbformat_minor": 0,
  "metadata": {
    "colab": {
      "provenance": [],
      "authorship_tag": "ABX9TyOgiytO2SsQjWyWzITMOe0q",
      "include_colab_link": true
    },
    "kernelspec": {
      "name": "python3",
      "display_name": "Python 3"
    },
    "language_info": {
      "name": "python"
    }
  },
  "cells": [
    {
      "cell_type": "markdown",
      "metadata": {
        "id": "view-in-github",
        "colab_type": "text"
      },
      "source": [
        "<a href=\"https://colab.research.google.com/github/duyvm/leetcode-problems/blob/main/%5BEAS%5D1863_Sum_of_All_Subset_XOR_Totals.ipynb\" target=\"_parent\"><img src=\"https://colab.research.google.com/assets/colab-badge.svg\" alt=\"Open In Colab\"/></a>"
      ]
    },
    {
      "cell_type": "markdown",
      "source": [
        "# 1863. Sum of All Subset XOR Totals\n",
        "\n",
        "https://leetcode.com/problems/sum-of-all-subset-xor-totals/description/\n",
        "\n",
        "The **XOR total** of an array is defined as the bitwise `XOR` of **all its elements**, or `0` if the array is **empty**.\n",
        "\n",
        "- For example, the `XOR` total of the array `[2,5,6]` is `2 XOR 5 XOR 6 = 1`.\n",
        "\n",
        "Given an array `nums`, return the **sum** of all **XOR totals** for every subset of `nums`.\n",
        "\n",
        "**Note**: Subsets with the **same** elements should be counted **multiple** times.\n",
        "\n",
        "An array `a` is a **subset** of an array `b` if `a` can be obtained from `b` by deleting some (possibly zero) elements of `b`.\n",
        "\n",
        "**Constraints:**\n",
        "- `1 <= nums.length <= 12`\n",
        "- `1 <= nums[i] <= 20`\n",
        "\n",
        "**Follow up:**"
      ],
      "metadata": {
        "id": "OhbFjTlo_zih"
      }
    },
    {
      "cell_type": "markdown",
      "source": [
        "**Example 1:**\n",
        "\n",
        "- Input: `nums = [1,3]`\n",
        "\n",
        "- Output: `6`\n",
        "\n",
        "- Explanation:\n",
        "\n",
        "        The 4 subsets of [1,3] are:\n",
        "        - The empty subset has an XOR total of 0.\n",
        "        - [1] has an XOR total of 1.\n",
        "        - [3] has an XOR total of 3.\n",
        "        - [1,3] has an XOR total of 1 XOR 3 = 2.\n",
        "        0 + 1 + 3 + 2 = 6\n",
        "\n",
        "**Example 2:**\n",
        "\n",
        "- Input: `nums = [5,1,6]`\n",
        "\n",
        "- Output: `28`\n",
        "\n",
        "- Explanation:\n",
        "\n",
        "        The 8 subsets of [5,1,6] are:\n",
        "        - The empty subset has an XOR total of 0.\n",
        "        - [5] has an XOR total of 5.\n",
        "        - [1] has an XOR total of 1.\n",
        "        - [6] has an XOR total of 6.\n",
        "        - [5,1] has an XOR total of 5 XOR 1 = 4.\n",
        "        - [5,6] has an XOR total of 5 XOR 6 = 3.\n",
        "        - [1,6] has an XOR total of 1 XOR 6 = 7.\n",
        "        - [5,1,6] has an XOR total of 5 XOR 1 XOR 6 = 2.\n",
        "        0 + 5 + 1 + 6 + 4 + 3 + 7 + 2 = 28\n",
        "\n",
        "**Example 3:**\n",
        "\n",
        "- Input: `nums = [3,4,5,6,7,8]`\n",
        "\n",
        "- Output: `480`\n",
        "\n",
        "- Explanation: The sum of all XOR totals for every subset is 480."
      ],
      "metadata": {
        "id": "IEpVafbfC7W-"
      }
    },
    {
      "cell_type": "code",
      "source": [
        "test_cases = [\n",
        "    {\n",
        "        \"input\": {\n",
        "            \"nums\": [1,3],\n",
        "        },\n",
        "        \"output\": 6\n",
        "    },\n",
        "    {\n",
        "        \"input\": {\n",
        "            \"nums\": [5,1,6],\n",
        "        },\n",
        "        \"output\": 28\n",
        "    },\n",
        "    {\n",
        "        \"input\": {\n",
        "            \"nums\": [3,4,5,6,7,8],\n",
        "        },\n",
        "        \"output\": 480\n",
        "    },\n",
        "]"
      ],
      "metadata": {
        "id": "VD9YirfAdayx"
      },
      "execution_count": 1,
      "outputs": []
    },
    {
      "cell_type": "code",
      "source": [
        "def run_test_cases(solution, function_name):\n",
        "    for i in range(len(test_cases)):\n",
        "        run_test_case(solution, function_name, i)\n",
        "\n",
        "def run_test_case(solution, function_name, i):\n",
        "    test_case = test_cases[i]\n",
        "    result = getattr(solution, function_name)(**test_case[\"input\"])\n",
        "    if result != test_case[\"output\"]:\n",
        "        print(f'Failed test case {i} with input: {test_case[\"input\"]} and expected result: {test_case[\"output\"]} vs actual result: {result}')"
      ],
      "metadata": {
        "id": "eefq238-1jIb"
      },
      "execution_count": 6,
      "outputs": []
    },
    {
      "cell_type": "markdown",
      "source": [
        "# Approach 1 - Recursive + Brute force\n",
        "\n",
        "### Observations\n",
        "\n",
        "- Empty subset's XOR total is `0`\n",
        "\n",
        "- One element subset's XOR total is its element.\n",
        "\n",
        "- For `i` in range `[1,n]`\n",
        "\n",
        "  - Compute XOR total of all subset with length `i`\n",
        "\n",
        "  - Sum up\n",
        "\n",
        "### Analysis\n",
        "\n",
        "- Time complexity:\n"
      ],
      "metadata": {
        "id": "e4M1bpIEDWc6"
      }
    },
    {
      "cell_type": "markdown",
      "source": [
        "### Implementation"
      ],
      "metadata": {
        "id": "TTw8uVbRkXtT"
      }
    },
    {
      "cell_type": "code",
      "source": [
        "from typing import List, Optional\n",
        "from collections import defaultdict\n",
        "from collections import deque\n",
        "from heapq import heapify, heappush, heappop\n",
        "from queue import PriorityQueue\n",
        "from collections import Counter\n",
        "import math\n",
        "\n",
        "class Solution:\n",
        "    def subsetXORSum(self, nums: List[int]) -> int:\n",
        "        _sum = 0\n",
        "        for i in range(1, len(nums) + 1):\n",
        "            _sum += self.computeXORTotal(nums, 0, 0, 0, i)\n",
        "        return _sum\n",
        "\n",
        "\n",
        "    def computeXORTotal(self, nums: List[int], current_xor_total, current_index, elementCount, maxSubsetLength) -> int:\n",
        "        _sum = 0\n",
        "        if elementCount == maxSubsetLength:\n",
        "            return current_xor_total\n",
        "\n",
        "        if current_index == len(nums) and maxSubsetLength - elementCount != 1:\n",
        "            return 0\n",
        "\n",
        "        for i in range(current_index, len(nums)):\n",
        "            _sum += self.computeXORTotal(nums, current_xor_total ^ nums[i], i + 1, elementCount + 1, maxSubsetLength)\n",
        "\n",
        "        return _sum"
      ],
      "metadata": {
        "id": "7N6VBRdIDUwD"
      },
      "execution_count": 30,
      "outputs": []
    },
    {
      "cell_type": "code",
      "source": [
        "run_test_cases(Solution(), \"subsetXORSum\")"
      ],
      "metadata": {
        "id": "DSgVrw0oNgBn"
      },
      "execution_count": 31,
      "outputs": []
    },
    {
      "cell_type": "code",
      "source": [
        "run_test_case(Solution(), \"subsetXORSum\", 0)"
      ],
      "metadata": {
        "id": "XRBvadYnhv48"
      },
      "execution_count": 32,
      "outputs": []
    },
    {
      "cell_type": "markdown",
      "source": [
        "# Approach 2 - Backtracking (Leetcode's Editorial)\n",
        "\n",
        "### Observations\n",
        "\n",
        "- With each element, we have 2 choices: add or not add it to current subset. So there are total `2`<sup>`n`</sup> subsets\n",
        "\n",
        "    ![explain1](https://drive.google.com/uc?id=1Wk0Z5dz2ekRFD6cPBWfS1S2Vrj1QoW4j)\n",
        "\n",
        "- For each index, we compute XOR total of subset that include it and not include it.\n",
        "\n",
        "- Sum the result\n",
        "\n",
        "### Analysis\n",
        "\n",
        "- Time complexity:\n",
        "\n",
        "   - Iterate over all subsets of `nums``O(2`<sup>`n`</sup>`)`"
      ],
      "metadata": {
        "id": "N_BHa-sIws0L"
      }
    },
    {
      "cell_type": "code",
      "source": [
        "from typing import List, Optional\n",
        "from collections import defaultdict\n",
        "from collections import deque\n",
        "from heapq import heapify, heappush, heappop\n",
        "from queue import PriorityQueue\n",
        "from collections import Counter\n",
        "import math\n",
        "\n",
        "class Solution:\n",
        "    def subsetXORSum(self, nums: List[int]) -> int:\n",
        "        def computeXORTotal(nums, current_index, current_xor_total):\n",
        "            if current_index == len(nums):\n",
        "                return current_xor_total\n",
        "\n",
        "            with_current_index = computeXORTotal(nums, current_index + 1, current_xor_total ^ nums[current_index])\n",
        "            without_current_index = computeXORTotal(nums, current_index + 1, current_xor_total)\n",
        "            return with_current_index + without_current_index\n",
        "\n",
        "        return computeXORTotal(nums, 0, 0)"
      ],
      "metadata": {
        "id": "xN_0S_OcQvjt"
      },
      "execution_count": 33,
      "outputs": []
    },
    {
      "cell_type": "code",
      "source": [
        "run_test_cases(Solution(), \"subsetXORSum\")"
      ],
      "metadata": {
        "id": "61BZWBgPynnh"
      },
      "execution_count": 34,
      "outputs": []
    },
    {
      "cell_type": "code",
      "source": [],
      "metadata": {
        "id": "TQaghcXpyoCl"
      },
      "execution_count": null,
      "outputs": []
    }
  ]
}
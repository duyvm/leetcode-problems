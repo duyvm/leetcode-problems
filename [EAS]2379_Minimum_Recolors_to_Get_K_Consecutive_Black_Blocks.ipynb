{
  "nbformat": 4,
  "nbformat_minor": 0,
  "metadata": {
    "colab": {
      "provenance": [],
      "authorship_tag": "ABX9TyNjg1W4bV2/bNrVEzCZOpWR",
      "include_colab_link": true
    },
    "kernelspec": {
      "name": "python3",
      "display_name": "Python 3"
    },
    "language_info": {
      "name": "python"
    }
  },
  "cells": [
    {
      "cell_type": "markdown",
      "metadata": {
        "id": "view-in-github",
        "colab_type": "text"
      },
      "source": [
        "<a href=\"https://colab.research.google.com/github/duyvm/leetcode-problems/blob/main/%5BEAS%5D2379_Minimum_Recolors_to_Get_K_Consecutive_Black_Blocks.ipynb\" target=\"_parent\"><img src=\"https://colab.research.google.com/assets/colab-badge.svg\" alt=\"Open In Colab\"/></a>"
      ]
    },
    {
      "cell_type": "markdown",
      "source": [
        "## 2379. Minimum Recolors to Get K Consecutive Black Blocks\n",
        "\n",
        "https://leetcode.com/problems/minimum-recolors-to-get-k-consecutive-black-blocks/description/\n",
        "\n",
        "You are given a **0-indexed** string `blocks` of length `n`, where `blocks[i]` is either `'W'` or `'B'`, representing the color of the `i`<sup>`th`</sup> block. The characters `'W'` and `'B'` denote the colors `white` and `black`, respectively.\n",
        "\n",
        "You are also given an integer `k`, which is the desired number of consecutive `black` blocks.\n",
        "\n",
        "In one operation, you can recolor a `white` block such that it becomes a `black` block.\n",
        "\n",
        "Return the **minimum** number of operations needed such that there is at least one occurrence of `k` consecutive black blocks.\n",
        "\n",
        "**Constraints:**\n",
        "\n",
        "- `n == blocks.length`\n",
        "- `1 <= n <= 100`\n",
        "- `blocks[i]` is either `'W'` or `'B'`.\n",
        "- `1 <= k <= n`"
      ],
      "metadata": {
        "id": "OhbFjTlo_zih"
      }
    },
    {
      "cell_type": "markdown",
      "source": [
        "**Example 1:**\n",
        "\n",
        " - Input: `blocks = \"WBBWWBBWBW\", k = 7`\n",
        "\n",
        "- Output: `3`\n",
        "\n",
        "- Explanation:\n",
        "        One way to achieve 7 consecutive black blocks is to recolor the 0th, 3rd, and 4th blocks\n",
        "        so that blocks = \"BBBBBBBWBW\".\n",
        "        It can be shown that there is no way to achieve 7 consecutive black blocks in less than 3 operations.\n",
        "        Therefore, we return 3.\n",
        "\n",
        "**Example 2:**\n",
        "\n",
        "- Input: `blocks = \"WBWBBBW\", k = 2`\n",
        "\n",
        "- Output: `0`\n",
        "\n",
        "- Explanation:\n",
        "        No changes need to be made, since 2 consecutive black blocks already exist.\n",
        "        Therefore, we return 0."
      ],
      "metadata": {
        "id": "IEpVafbfC7W-"
      }
    },
    {
      "cell_type": "code",
      "source": [
        "test_cases = [\n",
        "    {\n",
        "        \"input\": {\n",
        "            \"blocks\": \"WBBWWBBWBW\",\n",
        "            \"k\": 7,\n",
        "        },\n",
        "        \"output\": 3\n",
        "    },\n",
        "    {\n",
        "        \"input\": {\n",
        "            \"blocks\": \"WBWBBBW\",\n",
        "            \"k\": 2,\n",
        "        },\n",
        "        \"output\": 0\n",
        "    },\n",
        "    {\n",
        "        \"input\": {\n",
        "            \"blocks\": \"BWBBWWBBBWBWWWBWWBBWBWBBWBB\",\n",
        "            \"k\": 11,\n",
        "        },\n",
        "        \"output\": 4\n",
        "    }\n",
        "]"
      ],
      "metadata": {
        "id": "FX5LBbqkkNPU"
      },
      "execution_count": 15,
      "outputs": []
    },
    {
      "cell_type": "markdown",
      "source": [
        "## Observations\n",
        "\n",
        "- Sliding window: slide a window `k` elements over `blocks` to check the number of recolor operation need to convert current window to all `black` blocks.\n",
        "\n",
        "- Further more, we just need calculate the cost of first slide\n",
        "\n",
        "- For the next element:\n",
        "\n",
        "    - If the added element is same from removed element, no cost change\n",
        "\n",
        "    - If they are differ and next element is `'W'`, the current slide's cost is added `1`\n",
        "\n",
        "    - else, we subtract `1` from current cost\n",
        "\n",
        "- Return the minimum cost\n",
        "\n",
        "### Complex analysis\n",
        "\n",
        "- Time complexity: `O(n)` (one pass through `blocks`)"
      ],
      "metadata": {
        "id": "e4M1bpIEDWc6"
      }
    },
    {
      "cell_type": "markdown",
      "source": [
        "## Implementation"
      ],
      "metadata": {
        "id": "kb1xDpH8oR8K"
      }
    },
    {
      "cell_type": "code",
      "source": [
        "from typing import List, Optional\n",
        "from collections import defaultdict\n",
        "from collections import deque\n",
        "from heapq import heapify, heappush, heappop\n",
        "from queue import PriorityQueue\n",
        "\n",
        "class Solution:\n",
        "    def minimumRecolors(self, blocks: str, k: int) -> int:\n",
        "        # calculate first slide\n",
        "        min_cost = blocks[:k].count('W')\n",
        "\n",
        "        current_cost = min_cost\n",
        "\n",
        "        for i in range(1, len(blocks) - k + 1):\n",
        "\n",
        "            if blocks[i - 1] != blocks[i + k - 1]:\n",
        "                if blocks[i + k - 1] == 'W':\n",
        "                    current_cost += 1\n",
        "                else:\n",
        "                    current_cost -= 1\n",
        "\n",
        "            min_cost = min(min_cost, current_cost)\n",
        "\n",
        "        return min_cost"
      ],
      "metadata": {
        "id": "7N6VBRdIDUwD"
      },
      "execution_count": 34,
      "outputs": []
    },
    {
      "cell_type": "code",
      "source": [
        "solution = Solution()\n",
        "for test_case in test_cases:\n",
        "    result = solution.minimumRecolors(test_case[\"input\"][\"blocks\"], test_case[\"input\"][\"k\"])\n",
        "    if result != test_case[\"output\"]:\n",
        "        print(f'Failed test case with input: {test_case[\"input\"]} and output: {test_case[\"output\"]} vs result: {result}')"
      ],
      "metadata": {
        "id": "CMDKnxwjGL6v"
      },
      "execution_count": 35,
      "outputs": []
    },
    {
      "cell_type": "code",
      "source": [],
      "metadata": {
        "id": "ig7ZPzOV6zBE"
      },
      "execution_count": 22,
      "outputs": []
    }
  ]
}
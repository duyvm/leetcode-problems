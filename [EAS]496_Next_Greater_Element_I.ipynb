{
  "nbformat": 4,
  "nbformat_minor": 0,
  "metadata": {
    "colab": {
      "provenance": [],
      "authorship_tag": "ABX9TyMC7+49gemTkNDGGY/5XcDF",
      "include_colab_link": true
    },
    "kernelspec": {
      "name": "python3",
      "display_name": "Python 3"
    },
    "language_info": {
      "name": "python"
    }
  },
  "cells": [
    {
      "cell_type": "markdown",
      "metadata": {
        "id": "view-in-github",
        "colab_type": "text"
      },
      "source": [
        "<a href=\"https://colab.research.google.com/github/duyvm/leetcode-problems/blob/main/%5BEAS%5D496_Next_Greater_Element_I.ipynb\" target=\"_parent\"><img src=\"https://colab.research.google.com/assets/colab-badge.svg\" alt=\"Open In Colab\"/></a>"
      ]
    },
    {
      "cell_type": "markdown",
      "source": [
        "# 496. Next Greater Element I\n",
        "\n",
        "https://leetcode.com/problems/next-greater-element-i/description/\n",
        "\n",
        "The **next greater element** of some element `x` in an array is the **first greater element** that is to the right of `x` in the same array.\n",
        "\n",
        "You are given two distinct **0-indexed** integer arrays `nums1` and `nums2`, where `nums1` is a subset of `nums2`.\n",
        "\n",
        "For each `0 <= i < nums1.length`, find the index `j` such that `nums1[i] == nums2[j]` and determine the next greater element of `nums2[j]` in `nums2`. If there is no next greater element, then the answer for this query is `-1`.\n",
        "\n",
        "Return an array `ans` of length `nums1.length` such that `ans[i]` is the **next greater element** as described above.\n",
        "\n",
        "**Constraints:**\n",
        "- `1 <= nums1.length <= nums2.length <= 1000`\n",
        "- `0 <= nums1[i], nums2[i] <= 10`<sup>`4`</sup>\n",
        "- All integers in `nums1` and `nums2` are unique.\n",
        "- All the integers of `nums1` also appear in `nums2`.\n",
        "\n",
        "**Follow up:**\n",
        "\n",
        "Could you find an `O(nums1.length + nums2.length)` solution?"
      ],
      "metadata": {
        "id": "OhbFjTlo_zih"
      }
    },
    {
      "cell_type": "markdown",
      "source": [
        "**Example 1:**\n",
        "\n",
        "- Input: `nums1 = [4,1,2], nums2 = [1,3,4,2]`\n",
        "\n",
        "- Output: `[-1,3,-1]`\n",
        "\n",
        "- Explanation:\n",
        "\n",
        "       The next greater element for each value of nums1 is as follows:\n",
        "        - 4 is underlined in nums2 = [1,3,4,2]. There is no next greater element, so the answer is -1.\n",
        "        - 1 is underlined in nums2 = [1,3,4,2]. The next greater element is 3.\n",
        "        - 2 is underlined in nums2 = [1,3,4,2]. There is no next greater element, so the answer is -1.\n",
        "\n",
        "**Example 2:**\n",
        "\n",
        "- Input: `nums1 = [2,4], nums2 = [1,2,3,4]`\n",
        "\n",
        "- Output: `[3,-1]`\n",
        "\n",
        "- Explanation:\n",
        "\n",
        "        The next greater element for each value of nums1 is as follows:\n",
        "        - 2 is underlined in nums2 = [1,2,3,4]. The next greater element is 3.\n",
        "        - 4 is underlined in nums2 = [1,2,3,4]. There is no next greater element, so the answer is -1.       "
      ],
      "metadata": {
        "id": "IEpVafbfC7W-"
      }
    },
    {
      "cell_type": "code",
      "source": [
        "test_cases = [\n",
        "    {\n",
        "        \"input\": {\n",
        "            \"nums1\": [4,1,2],\n",
        "            \"nums2\": [1,3,4,2],\n",
        "        },\n",
        "        \"output\": [-1,3,-1]\n",
        "    },\n",
        "    {\n",
        "        \"input\": {\n",
        "            \"nums1\": [2,4],\n",
        "            \"nums2\": [1,2,3,4]\n",
        "        },\n",
        "        \"output\": [3,-1]\n",
        "    },\n",
        "]"
      ],
      "metadata": {
        "id": "VD9YirfAdayx"
      },
      "execution_count": 3,
      "outputs": []
    },
    {
      "cell_type": "code",
      "source": [
        "def run_test_cases(solution, function_name):\n",
        "    for i in range(len(test_cases)):\n",
        "        run_test_case(solution, function_name, i)\n",
        "\n",
        "def run_test_case(solution, function_name, i):\n",
        "    test_case = test_cases[i]\n",
        "    result = getattr(solution, function_name)(**test_case[\"input\"])\n",
        "    if result != test_case[\"output\"]:\n",
        "        print(f'Failed test case {i} with input: {test_case[\"input\"]} and expected result: {test_case[\"output\"]} vs actual result: {result}')"
      ],
      "metadata": {
        "id": "eefq238-1jIb"
      },
      "execution_count": 2,
      "outputs": []
    },
    {
      "cell_type": "markdown",
      "source": [
        "# Approach 1 - Monotoic Stack\n",
        "\n",
        "### Observations\n",
        "\n",
        "- Pre-compute a `right` array using monotoic stack. The `right[i]` stores the next greater element of `nums2[i]`\n",
        "\n",
        "- Find index of `nums1`'s elements in `nums2`\n",
        "\n",
        "  - Because all element in `nums2` is unique. Use a map to store `nums2` element and its index\n",
        "\n",
        "  - Loop over `nums1` and find its index in `nums2`, then find the next greater element by `right`\n",
        "\n",
        "### Analysis\n",
        "\n",
        "- Time complexity:\n",
        "\n",
        "  - One pass through `nums2` to compute the map: `O(nums2.length)`\n",
        "  \n",
        "  - One pass through `nums2` to compute `right` array: `O(nums2.length)`\n",
        "\n",
        "  - One pass through `nums1` to compute `ans`: `O(nums1.length)`\n",
        "\n",
        "  - Total time complexity: `O(nums1.length + nums2.length)`"
      ],
      "metadata": {
        "id": "e4M1bpIEDWc6"
      }
    },
    {
      "cell_type": "markdown",
      "source": [
        "### Implementation"
      ],
      "metadata": {
        "id": "TTw8uVbRkXtT"
      }
    },
    {
      "cell_type": "code",
      "source": [
        "from typing import List, Optional\n",
        "from collections import defaultdict\n",
        "from collections import deque\n",
        "from heapq import heapify, heappush, heappop\n",
        "from queue import PriorityQueue\n",
        "from collections import Counter\n",
        "import math\n",
        "\n",
        "class Solution:\n",
        "    def nextGreaterElement(self, nums1: List[int], nums2: List[int]) -> List[int]:\n",
        "        nums2reverse = {nums2[i]: i for i in range(len(nums2))}\n",
        "        right = [-1] * len(nums2)\n",
        "        stack = [(-1, nums2[-1])]\n",
        "        for i in range(len(nums2)-2, -1, -1):\n",
        "            while stack and nums2[i] > stack[-1][1]:\n",
        "                idx, _ = stack.pop()\n",
        "\n",
        "            if stack:\n",
        "                right[i] = stack[-1][1]\n",
        "\n",
        "            stack.append((i, nums2[i]))\n",
        "\n",
        "        ans = []\n",
        "        for num in nums1:\n",
        "            idx = nums2reverse[num]\n",
        "            ans.append(right[idx])\n",
        "\n",
        "        return ans"
      ],
      "metadata": {
        "id": "7N6VBRdIDUwD"
      },
      "execution_count": 20,
      "outputs": []
    },
    {
      "cell_type": "code",
      "source": [
        "run_test_cases(Solution(), \"nextGreaterElement\")"
      ],
      "metadata": {
        "id": "DSgVrw0oNgBn"
      },
      "execution_count": 21,
      "outputs": []
    },
    {
      "cell_type": "code",
      "source": [
        "run_test_case(Solution(), \"nextGreaterElement\", 1)"
      ],
      "metadata": {
        "id": "KswEWOCQiEoP"
      },
      "execution_count": null,
      "outputs": []
    }
  ]
}
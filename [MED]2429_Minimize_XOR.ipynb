{
  "nbformat": 4,
  "nbformat_minor": 0,
  "metadata": {
    "colab": {
      "provenance": [],
      "authorship_tag": "ABX9TyPxVZhKXIYLd5JGDl/1W7dy",
      "include_colab_link": true
    },
    "kernelspec": {
      "name": "python3",
      "display_name": "Python 3"
    },
    "language_info": {
      "name": "python"
    }
  },
  "cells": [
    {
      "cell_type": "markdown",
      "metadata": {
        "id": "view-in-github",
        "colab_type": "text"
      },
      "source": [
        "<a href=\"https://colab.research.google.com/github/duyvm/leetcode-problems/blob/main/%5BMED%5D2429_Minimize_XOR.ipynb\" target=\"_parent\"><img src=\"https://colab.research.google.com/assets/colab-badge.svg\" alt=\"Open In Colab\"/></a>"
      ]
    },
    {
      "cell_type": "markdown",
      "source": [
        "# 2429. Minimize XOR\n",
        "\n",
        "https://leetcode.com/problems/minimize-xor/description/\n",
        "\n",
        "Given two positive integers `num1` and `num2`, find the positive integer `x` such that:\n",
        "\n",
        "- `x` has the same number of set bits as `num2`, and\n",
        "- The value `x XOR num1` is minimal.\n",
        "\n",
        "Note that XOR is the bitwise XOR operation.\n",
        "\n",
        "Return the integer `x`. The test cases are generated such that `x` is uniquely determined.\n",
        "\n",
        "The number of set bits of an integer is the number of `1`'s in its binary representation.\n",
        "\n",
        "\n",
        "**Constraints:**\n",
        "\n",
        "- `1 <= num1, num2 <= 10^9`\n",
        "\n",
        "**Example 1:**\n",
        "\n",
        "- **Input:** `num1 = 3`, `num2 = 5`\n",
        "\n",
        "- **Output:** `3`\n",
        "\n",
        "- **Explanation:**\n",
        "  \n",
        "  The binary representations of `num1` and `num2` are `0011` and `0101`, respectively.\n",
        "  \n",
        "  The integer `3` has the same number of set bits as `num2`, and the value `3 XOR 3 = 0` is minimal.\n",
        "\n",
        "**Example 2:**\n",
        "\n",
        "- **Input:** `num1 = 1`, `num2 = 12`\n",
        "- **Output:** `3`\n",
        "- **Explanation:**\n",
        "  \n",
        "  The binary representations of `num1` and `num2` are `0001` and `1100`, respectively.\n",
        "  \n",
        "  The integer `3` has the same number of set bits as `num2`, and the value `3 XOR 1 = 2` is minimal."
      ],
      "metadata": {
        "id": "ASeqIXk-oVgr"
      }
    },
    {
      "cell_type": "markdown",
      "source": [
        "## Observations\n",
        "\n",
        "- `XOR`: `1` if only one of the bits is `1`, and `0` if both bits are `0` or both bits are `1`\n",
        "- the goal is making the bits of `x` same as `num2` as possible from left to right\n",
        "- `x XOR num1` is minimal when:\n",
        " - `x` is equal to `num1` or number of bit `1` in both `num1` and `num2` are equal\n",
        " - let `count_x_1` is count of number of bit `1` in `x`\n",
        " - if `count_x_1 >= len(num1)` then `x` is filled with all bit `1`\n",
        " - let `bit_x`, `bit_num2` are bit string representations of both `x` and `num1` respectively\n",
        " - fill `0` to the left of shorter bit string to make both strings are equal in length. Let `n` is the length of both strings\n",
        "  - if `len(bit_x) < len(bit_num2)`\n",
        "    - `for i in range(len(num1))`\n",
        "      - if `bit_num1[i]=1 and count_x_1` > 0`\n",
        "        - set `bit_x[i] = 1`\n",
        "        - decrement `count_x_1` by 1\n",
        "     - else\n",
        "        - set `bit_x[i] = 0`"
      ],
      "metadata": {
        "id": "G99vLU1ZqMbU"
      }
    },
    {
      "cell_type": "code",
      "source": [
        "test_cases = [\n",
        "    {\n",
        "        \"input\": {\n",
        "            \"num1\": 3,\n",
        "            \"num2\": 5,\n",
        "        },\n",
        "        \"output\": 3\n",
        "    },\n",
        "    {\n",
        "        \"input\": {\n",
        "            \"num1\": 1,\n",
        "            \"num2\": 12,\n",
        "        },\n",
        "        \"output\": 3\n",
        "    },\n",
        "    {\n",
        "        \"input\": {\n",
        "            \"num1\": 65,\n",
        "            \"num2\": 84,\n",
        "        },\n",
        "        \"output\": 67\n",
        "    },\n",
        "]"
      ],
      "metadata": {
        "id": "5zKoX0sxsFJG"
      },
      "execution_count": null,
      "outputs": []
    },
    {
      "cell_type": "code",
      "source": [
        "from collections import Counter\n",
        "\n",
        "class Solution:\n",
        "    def minimizeXor(self, num1: int, num2: int) -> int:\n",
        "        num1_bit_str = bin(num1)[2:]\n",
        "        num2_bit_str = bin(num2)[2:]\n",
        "        #print(f\"num1: {num1}, num1_bit_str: {num1_bit_str}\")\n",
        "        #print(f\"num2: {num2}, num2_bit_str: {num2_bit_str}\")\n",
        "\n",
        "        count_num1 = Counter(num1_bit_str)\n",
        "        count_num2 = Counter(num2_bit_str)\n",
        "\n",
        "        #print(f\"count_num1: {count_num1}\")\n",
        "        #print(f\"count_num2: {count_num2}\")\n",
        "\n",
        "        if count_num1[\"1\"] == count_num2[\"1\"]:\n",
        "            return num1\n",
        "\n",
        "        if count_num2[\"1\"] >= len(num1_bit_str):\n",
        "            return int(\"1\" * count_num2[\"1\"], 2)\n",
        "\n",
        "        bit_x = [\"0\"] * len(num1_bit_str)\n",
        "        for i in range(len(num1_bit_str)):\n",
        "\n",
        "            if num1_bit_str[i] == \"1\" and count_num2[\"1\"] > 0:\n",
        "                bit_x[i] = \"1\"\n",
        "                count_num2[\"1\"] -= 1\n",
        "            else:\n",
        "                bit_x[i] = \"0\"\n",
        "\n",
        "            # print(f\"i: {i}, bit_x: {''.join(bit_x)}, count_num2: {count_num2}\")\n",
        "\n",
        "        j = len(bit_x) - 1\n",
        "        while count_num2[\"1\"] > 0:\n",
        "            if bit_x[j] == \"0\":\n",
        "                bit_x[j] = \"1\"\n",
        "                count_num2[\"1\"] -= 1\n",
        "            j -= 1\n",
        "\n",
        "        return int(\"\".join(bit_x), 2)"
      ],
      "metadata": {
        "id": "ZV34AspAuFNT"
      },
      "execution_count": null,
      "outputs": []
    },
    {
      "cell_type": "code",
      "source": [
        "solution = Solution()\n",
        "for test_case in test_cases:\n",
        "    result = solution.minimizeXor(test_case[\"input\"][\"num1\"], test_case[\"input\"][\"num2\"])\n",
        "    if result != test_case[\"output\"]:\n",
        "        print(f'Failed test case with input: {test_case[\"input\"]} and output: {test_case[\"output\"]}, result: {result}')"
      ],
      "metadata": {
        "id": "XOYMMjpVvWnE"
      },
      "execution_count": null,
      "outputs": []
    },
    {
      "cell_type": "code",
      "source": [],
      "metadata": {
        "id": "lCDgSVWszKUW"
      },
      "execution_count": null,
      "outputs": []
    }
  ]
}
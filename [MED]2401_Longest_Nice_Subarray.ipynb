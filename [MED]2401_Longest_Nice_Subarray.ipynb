{
  "nbformat": 4,
  "nbformat_minor": 0,
  "metadata": {
    "colab": {
      "provenance": [],
      "authorship_tag": "ABX9TyN9p6O8ez587q8BsTcOwB5x",
      "include_colab_link": true
    },
    "kernelspec": {
      "name": "python3",
      "display_name": "Python 3"
    },
    "language_info": {
      "name": "python"
    }
  },
  "cells": [
    {
      "cell_type": "markdown",
      "metadata": {
        "id": "view-in-github",
        "colab_type": "text"
      },
      "source": [
        "<a href=\"https://colab.research.google.com/github/duyvm/leetcode-problems/blob/main/%5BMED%5D2401_Longest_Nice_Subarray.ipynb\" target=\"_parent\"><img src=\"https://colab.research.google.com/assets/colab-badge.svg\" alt=\"Open In Colab\"/></a>"
      ]
    },
    {
      "cell_type": "markdown",
      "source": [
        "# 2401. Longest Nice Subarray\n",
        "\n",
        "https://leetcode.com/problems/divide-array-into-equal-pairs/description/\n",
        "\n",
        "You are given an array `nums` consisting of positive integers.\n",
        "\n",
        "We call a subarray of `nums` **nice** if the bitwise **AND** of every pair of elements that are in different positions in the subarray is equal to `0`.\n",
        "\n",
        "Return the length of the **longest nice** subarray.\n",
        "\n",
        "A subarray is a contiguous part of an array.\n",
        "\n",
        "Note that subarrays of length `1` are always considered **nice**.\n",
        "\n",
        "**Constraints:**\n",
        "- `1 <= nums.length <= 10`<sup>`5`</sup>\n",
        "- `1 <= nums[i] <= 10`<sup>`9`</sup>"
      ],
      "metadata": {
        "id": "OhbFjTlo_zih"
      }
    },
    {
      "cell_type": "markdown",
      "source": [
        "**Example 1:**\n",
        "\n",
        "- Input: `nums = [1,3,8,48,10]`\n",
        "\n",
        "- Output: `3`\n",
        "\n",
        "- Explanation:\n",
        "\n",
        "        The longest nice subarray is [3,8,48]. This subarray satisfies the conditions:\n",
        "        - 3 AND 8 = 0.\n",
        "        - 3 AND 48 = 0.\n",
        "        - 8 AND 48 = 0.\n",
        "        It can be proven that no longer nice subarray can be obtained, so we return 3.\n",
        "\n",
        "**Example 2:**\n",
        "\n",
        "- Input: `nums = [3,1,5,11,13]`\n",
        "\n",
        "- Output: `1`\n",
        "\n",
        "- Explanation: The length of the longest nice subarray is 1. Any subarray of length 1 can be chosen.\n"
      ],
      "metadata": {
        "id": "IEpVafbfC7W-"
      }
    },
    {
      "cell_type": "code",
      "source": [
        "test_cases = [\n",
        "    {\n",
        "        \"input\": {\n",
        "            \"nums\": [1,3,8,48,10],\n",
        "        },\n",
        "        \"output\": 3\n",
        "    },\n",
        "    {\n",
        "        \"input\": {\n",
        "            \"nums\": [3,1,5,11,13],\n",
        "        },\n",
        "        \"output\": 1\n",
        "    },\n",
        "]"
      ],
      "metadata": {
        "id": "VD9YirfAdayx"
      },
      "execution_count": 1,
      "outputs": []
    },
    {
      "cell_type": "markdown",
      "source": [
        "# Approach 1: sliding window\n",
        "\n",
        "### Observations\n",
        "\n",
        "- The idea is using a sliding window to find the **nice** subarray.\n",
        "\n",
        "  1. Initialize sliding window with `left = 0` and `right = 1`, `max_length = 1`\n",
        "\n",
        "  2. Bitwise **AND** `right` with all elements in the left\n",
        "  \n",
        "   2.1 If it is **nice** subarray\n",
        "   \n",
        "     - Extend it to next element\n",
        "     \n",
        "     - Increment `max_length`\n",
        "     \n",
        "     - Start again from 2.\n",
        "\n",
        "   2.2 else let `x` is the element that bitwise **AN** with `right` element result `1`\n",
        "    - Set `left = x + 1`\n",
        "\n",
        "    - Extend subarray to next element\n",
        "\n",
        "    - Start again from step 2\n",
        "\n",
        "### Analysis\n",
        "\n",
        "- Time complexity: let `n = nums.length`\n",
        "\n",
        " - The sliding window move from left to right: `O(n)`\n",
        "\n",
        " - Each time a new element is added, it is bitwise **AND** with previous element, the worst case scenari: `O(n)`\n",
        "\n",
        " - Total time complexity: `O(n`<sup>`2`</sup>`)`\n",
        "\n",
        "### More over\n",
        "\n",
        "-"
      ],
      "metadata": {
        "id": "e4M1bpIEDWc6"
      }
    },
    {
      "cell_type": "markdown",
      "source": [
        "### Implementation"
      ],
      "metadata": {
        "id": "TTw8uVbRkXtT"
      }
    },
    {
      "cell_type": "code",
      "source": [
        "from typing import List, Optional\n",
        "from collections import defaultdict\n",
        "from collections import deque\n",
        "from heapq import heapify, heappush, heappop\n",
        "from queue import PriorityQueue\n",
        "\n",
        "class Solution:\n",
        "    def longestNiceSubarray(self, nums: List[int]) -> int:\n",
        "        left = 0\n",
        "        right = 1\n",
        "        max_length = 1\n",
        "        while right < len(nums):\n",
        "            for i in range(right-1, left-1, -1):\n",
        "                if nums[right] & nums[i] != 0:\n",
        "                    left = i + 1\n",
        "                    break\n",
        "            else:\n",
        "                max_length = max(max_length, right - left + 1)\n",
        "\n",
        "            right += 1\n",
        "        return max_length"
      ],
      "metadata": {
        "id": "7N6VBRdIDUwD"
      },
      "execution_count": 58,
      "outputs": []
    },
    {
      "cell_type": "code",
      "source": [
        "solution = Solution()\n",
        "for test_case in test_cases:\n",
        "    result = solution.longestNiceSubarray(test_case[\"input\"][\"nums\"])\n",
        "    if result != test_case[\"output\"]:\n",
        "        print(f'Failed test case with input: {test_case[\"input\"]} and expected result: {test_case[\"output\"]} vs actual result: {result}')"
      ],
      "metadata": {
        "id": "CMDKnxwjGL6v"
      },
      "execution_count": 59,
      "outputs": []
    }
  ]
}
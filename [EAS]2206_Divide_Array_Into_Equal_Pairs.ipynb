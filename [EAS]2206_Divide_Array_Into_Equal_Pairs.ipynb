{
  "nbformat": 4,
  "nbformat_minor": 0,
  "metadata": {
    "colab": {
      "provenance": [],
      "authorship_tag": "ABX9TyPp/gdOv3fH0DjT97u7FjtI",
      "include_colab_link": true
    },
    "kernelspec": {
      "name": "python3",
      "display_name": "Python 3"
    },
    "language_info": {
      "name": "python"
    }
  },
  "cells": [
    {
      "cell_type": "markdown",
      "metadata": {
        "id": "view-in-github",
        "colab_type": "text"
      },
      "source": [
        "<a href=\"https://colab.research.google.com/github/duyvm/leetcode-problems/blob/main/%5BEAS%5D2206_Divide_Array_Into_Equal_Pairs.ipynb\" target=\"_parent\"><img src=\"https://colab.research.google.com/assets/colab-badge.svg\" alt=\"Open In Colab\"/></a>"
      ]
    },
    {
      "cell_type": "markdown",
      "source": [
        "# 2206. Divide Array Into Equal Pairs\n",
        "\n",
        "https://leetcode.com/problems/divide-array-into-equal-pairs/description/\n",
        "\n",
        "You are given an integer array `nums` consisting of `2 * n` integers.\n",
        "\n",
        "You need to divide `nums` into `n` pairs such that:\n",
        "\n",
        "- Each element belongs to exactly one pair.\n",
        "\n",
        "- The elements present in a pair are equal.\n",
        "\n",
        "Return `true` if `nums` can be divided into n pairs, otherwise return `false`.\n",
        "\n",
        "**Constraints:**\n",
        "- `nums.length == 2 * n`\n",
        "- `1 <= n <= 500`\n",
        "- `1 <= nums[i] <= 500`"
      ],
      "metadata": {
        "id": "OhbFjTlo_zih"
      }
    },
    {
      "cell_type": "markdown",
      "source": [
        "**Example 1:**\n",
        "\n",
        "- Input: `nums = [3,2,3,2,2,2]`\n",
        "\n",
        "- Output: `true`\n",
        "\n",
        "- Explanation:\n",
        "\n",
        "        There are 6 elements in nums, so they should be divided into 6 / 2 = 3 pairs.\n",
        "        \n",
        "        If nums is divided into the pairs (2, 2), (3, 3), and (2, 2), it will satisfy all the conditions.\n",
        "\n",
        "**Example 2:**\n",
        "\n",
        "- Input: `nums = [1,2,3,4]`\n",
        "\n",
        "- Output: `false`\n",
        "\n",
        "- Explanation: There is no way to divide nums into 4 / 2 = 2 pairs such that the pairs satisfy every condition.\n"
      ],
      "metadata": {
        "id": "IEpVafbfC7W-"
      }
    },
    {
      "cell_type": "code",
      "source": [
        "test_cases = [\n",
        "    {\n",
        "        \"input\": {\n",
        "            \"nums\": [3,2,3,2,2,2],\n",
        "        },\n",
        "        \"output\": True\n",
        "    },\n",
        "    {\n",
        "        \"input\": {\n",
        "            \"nums\": [1,2,3,4],\n",
        "        },\n",
        "        \"output\": False\n",
        "    },\n",
        "]"
      ],
      "metadata": {
        "id": "VD9YirfAdayx"
      },
      "execution_count": 1,
      "outputs": []
    },
    {
      "cell_type": "markdown",
      "source": [
        "### Observations (Time exceeded method)\n",
        "\n",
        "- Use frequency count to check count of an element:\n",
        "\n",
        " - If all elements' count are even, can divide to `n` pairs\n",
        "\n",
        " - If there is odd count, can not create `n` pairs with same value\n",
        "\n",
        "### Analysis\n",
        "\n",
        "- Time complexity: let `O(n)`\n",
        "\n",
        "  - One pass through `nums` to fill in `freq`\n",
        "\n",
        "  - One pass through `freq` to find odd count\n",
        "\n",
        "### More over\n",
        "\n",
        "-"
      ],
      "metadata": {
        "id": "e4M1bpIEDWc6"
      }
    },
    {
      "cell_type": "markdown",
      "source": [
        "### Implementation"
      ],
      "metadata": {
        "id": "TTw8uVbRkXtT"
      }
    },
    {
      "cell_type": "code",
      "source": [
        "from typing import List, Optional\n",
        "from collections import defaultdict\n",
        "from collections import deque\n",
        "from heapq import heapify, heappush, heappop\n",
        "from queue import PriorityQueue\n",
        "\n",
        "class Solution:\n",
        "    def divideArray(self, nums: List[int]) -> bool:\n",
        "        freq = [0] * 501\n",
        "        for num in nums:\n",
        "            freq[num] += 1\n",
        "\n",
        "        for count in freq:\n",
        "            if count % 2 != 0:\n",
        "                return False\n",
        "\n",
        "        return True"
      ],
      "metadata": {
        "id": "7N6VBRdIDUwD"
      },
      "execution_count": 8,
      "outputs": []
    },
    {
      "cell_type": "code",
      "source": [
        "solution = Solution()\n",
        "for test_case in test_cases:\n",
        "    result = solution.divideArray(test_case[\"input\"][\"nums\"])\n",
        "    if result != test_case[\"output\"]:\n",
        "        print(f'Failed test case with input: {test_case[\"input\"]} and expected result: {test_case[\"output\"]} vs actual result: {result}')"
      ],
      "metadata": {
        "id": "CMDKnxwjGL6v"
      },
      "execution_count": 9,
      "outputs": []
    },
    {
      "cell_type": "code",
      "source": [],
      "metadata": {
        "id": "os-6rVxgsPaP"
      },
      "execution_count": null,
      "outputs": []
    }
  ]
}
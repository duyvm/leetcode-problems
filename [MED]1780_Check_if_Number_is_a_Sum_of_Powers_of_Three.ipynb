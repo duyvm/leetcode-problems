{
  "nbformat": 4,
  "nbformat_minor": 0,
  "metadata": {
    "colab": {
      "provenance": [],
      "authorship_tag": "ABX9TyMX19JvvqZuQBE1/p6Pfk6U",
      "include_colab_link": true
    },
    "kernelspec": {
      "name": "python3",
      "display_name": "Python 3"
    },
    "language_info": {
      "name": "python"
    }
  },
  "cells": [
    {
      "cell_type": "markdown",
      "metadata": {
        "id": "view-in-github",
        "colab_type": "text"
      },
      "source": [
        "<a href=\"https://colab.research.google.com/github/duyvm/leetcode-problems/blob/main/%5BMED%5D1780_Check_if_Number_is_a_Sum_of_Powers_of_Three.ipynb\" target=\"_parent\"><img src=\"https://colab.research.google.com/assets/colab-badge.svg\" alt=\"Open In Colab\"/></a>"
      ]
    },
    {
      "cell_type": "markdown",
      "source": [
        "# 1780. Check if Number is a Sum of Powers of Three\n",
        "\n",
        "https://leetcode.com/problems/check-if-number-is-a-sum-of-powers-of-three/description/\n",
        "\n",
        "Given an integer `n`, return `true` if it is possible to represent `n` as the sum of distinct powers of three. Otherwise, return `false`.\n",
        "\n",
        "An integer `y` is a power of three if there exists an integer `x` such that `y == 3`<sup>`x`</sup>.\n",
        "\n",
        "**Constraints:**\n",
        "- `1 <= n <= 10`<sup>`7`</sup>"
      ],
      "metadata": {
        "id": "OhbFjTlo_zih"
      }
    },
    {
      "cell_type": "markdown",
      "source": [
        "**Example 1:**\n",
        "\n",
        "- Input: `n = 12`\n",
        "\n",
        "- Output: `true`\n",
        "\n",
        "- Explanation: `12 = 3`<sup>`1`</sup>` + 3`<sup>`2`</sup>\n",
        "\n",
        "\n",
        "**Example 2:**\n",
        "\n",
        "- Input: `n = 91`\n",
        "\n",
        "- Output: `true`\n",
        "\n",
        "- Explanation: `91 = 3`<sup>`0`</sup>` + 3`<sup>`2`</sup>` + 3`<sup>`4`</sup>.\n",
        "\n",
        "**Example 3:**\n",
        "\n",
        "- Input: `n = 21`\n",
        "\n",
        "- Output: `false`"
      ],
      "metadata": {
        "id": "IEpVafbfC7W-"
      }
    },
    {
      "cell_type": "code",
      "source": [
        "test_cases = [\n",
        "    {\n",
        "        \"input\": {\n",
        "            \"n\": 12,\n",
        "        },\n",
        "        \"output\": True\n",
        "    },\n",
        "    {\n",
        "        \"input\": {\n",
        "            \"n\": 91,\n",
        "        },\n",
        "        \"output\": True\n",
        "    },\n",
        "\n",
        "    {\n",
        "        \"input\": {\n",
        "            \"n\": 21,\n",
        "        },\n",
        "        \"output\": False\n",
        "    },\n",
        "]"
      ],
      "metadata": {
        "id": "VD9YirfAdayx"
      },
      "execution_count": 1,
      "outputs": []
    },
    {
      "cell_type": "markdown",
      "source": [
        "### Observations\n",
        "\n",
        "- If `n` is the sum of distinct powers of `3`, then `n modulo 3 in (0, 1)`\n",
        "\n",
        "  - If `n modulo 3 = 2` then `n` is not sum of power of `3`\n",
        "\n",
        "  - If `n modulo 3 = 1`, then `3`<sup>`0`</sup> must be included for `n` is satified the conditions.\n",
        "\n",
        "- Pre compute all power of `3` which smaller than `n`\n",
        "\n",
        "- Recursively try all possible combination of power of `3`, start from largest to smallest\n",
        "\n",
        "- Brute force\n",
        "\n",
        "### Analysis\n",
        "\n",
        "- Tinme to compute `powers` array: `log`<sub>`3`</sub>`n`\n",
        "\n",
        "- First recursive round: `log`<sub>`3`</sub>`n`\n",
        "\n",
        "  - Second recursive round: `log`<sub>`3`</sub>`n - 1`\n",
        "\n",
        "  - Third recursive round: `log`<sub>`3`</sub>`n - 2`\n",
        "\n",
        "  ...\n",
        "\n",
        "  - Last recurive round: `1`\n",
        "\n",
        "- Time complexity:\n",
        "    \n",
        "    `log`<sub>`3`</sub>`n` + `log`<sub>`3`</sub>`n` + `log`<sub>`3`</sub>`n - 1` + `log`<sub>`3`</sub>`n - 2` + ...\n",
        "\n",
        "    = `O((log`<sub>`3`</sub>`n)`<sup>`2`</sup>`)`"
      ],
      "metadata": {
        "id": "e4M1bpIEDWc6"
      }
    },
    {
      "cell_type": "markdown",
      "source": [
        "### Implementation"
      ],
      "metadata": {
        "id": "TTw8uVbRkXtT"
      }
    },
    {
      "cell_type": "code",
      "source": [
        "from typing import List, Optional\n",
        "from collections import defaultdict\n",
        "from collections import deque\n",
        "from heapq import heapify, heappush, heappop\n",
        "from queue import PriorityQueue\n",
        "\n",
        "class Solution:\n",
        "    def checkPowersOfThree(self, n: int) -> bool:\n",
        "        # pre-compute list of distinct power of 3\n",
        "        powers = []\n",
        "        power = 0\n",
        "        power_of_three = 3 ** power\n",
        "        while power_of_three < n:\n",
        "            powers.append(power_of_three)\n",
        "            power += 1\n",
        "            power_of_three = 3 ** power\n",
        "\n",
        "        if power_of_three == n:\n",
        "            return True\n",
        "\n",
        "        # pre-check\n",
        "        if n % 3 == 2:\n",
        "            return False\n",
        "\n",
        "        return self.isPowerOfThree(n, len(powers)-1, n, powers)\n",
        "\n",
        "\n",
        "\n",
        "    def isPowerOfThree(self, n: int, current_i: int, remaning, powers) -> bool:\n",
        "        # base cases\n",
        "        if remaning == 0:\n",
        "            return True\n",
        "\n",
        "        if remaning < 0 or current_i < 0:\n",
        "            return False\n",
        "\n",
        "        for i in range(current_i, -1, -1):\n",
        "            if self.isPowerOfThree(n, i-1, remaning - powers[i], powers):\n",
        "                return True\n",
        "\n",
        "        return False"
      ],
      "metadata": {
        "id": "7N6VBRdIDUwD"
      },
      "execution_count": 12,
      "outputs": []
    },
    {
      "cell_type": "code",
      "source": [
        "solution = Solution()\n",
        "for test_case in test_cases:\n",
        "    result = solution.checkPowersOfThree(test_case[\"input\"][\"n\"])\n",
        "    if result != test_case[\"output\"]:\n",
        "        print(f'Failed test case with input: {test_case[\"input\"]} and output: {test_case[\"output\"]} vs result: {result}')"
      ],
      "metadata": {
        "id": "CMDKnxwjGL6v"
      },
      "execution_count": 13,
      "outputs": []
    },
    {
      "cell_type": "code",
      "source": [],
      "metadata": {
        "id": "hhxtRY7hwsou"
      },
      "execution_count": null,
      "outputs": []
    }
  ]
}
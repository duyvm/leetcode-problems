{
  "nbformat": 4,
  "nbformat_minor": 0,
  "metadata": {
    "colab": {
      "provenance": [],
      "authorship_tag": "ABX9TyMDNpyzBEo+bBxpGH3csnWk",
      "include_colab_link": true
    },
    "kernelspec": {
      "name": "python3",
      "display_name": "Python 3"
    },
    "language_info": {
      "name": "python"
    }
  },
  "cells": [
    {
      "cell_type": "markdown",
      "metadata": {
        "id": "view-in-github",
        "colab_type": "text"
      },
      "source": [
        "<a href=\"https://colab.research.google.com/github/duyvm/leetcode-problems/blob/main/%5BMED%5D1780_Check_if_Number_is_a_Sum_of_Powers_of_Three.ipynb\" target=\"_parent\"><img src=\"https://colab.research.google.com/assets/colab-badge.svg\" alt=\"Open In Colab\"/></a>"
      ]
    },
    {
      "cell_type": "markdown",
      "source": [
        "# 1780. Check if Number is a Sum of Powers of Three\n",
        "\n",
        "https://leetcode.com/problems/check-if-number-is-a-sum-of-powers-of-three/description/\n",
        "\n",
        "Given an integer `n`, return `true` if it is possible to represent `n` as the sum of distinct powers of three. Otherwise, return `false`.\n",
        "\n",
        "An integer `y` is a power of three if there exists an integer `x` such that `y == 3`<sup>`x`</sup>.\n",
        "\n",
        "**Constraints:**\n",
        "- `1 <= n <= 10`<sup>`7`</sup>"
      ],
      "metadata": {
        "id": "OhbFjTlo_zih"
      }
    },
    {
      "cell_type": "markdown",
      "source": [
        "**Example 1:**\n",
        "\n",
        "- Input: `n = 12`\n",
        "\n",
        "- Output: `true`\n",
        "\n",
        "- Explanation: `12 = 3`<sup>`1`</sup>` + 3`<sup>`2`</sup>\n",
        "\n",
        "\n",
        "**Example 2:**\n",
        "\n",
        "- Input: `n = 91`\n",
        "\n",
        "- Output: `true`\n",
        "\n",
        "- Explanation: `91 = 3`<sup>`0`</sup>` + 3`<sup>`2`</sup>` + 3`<sup>`4`</sup>.\n",
        "\n",
        "**Example 3:**\n",
        "\n",
        "- Input: `n = 21`\n",
        "\n",
        "- Output: `false`"
      ],
      "metadata": {
        "id": "IEpVafbfC7W-"
      }
    },
    {
      "cell_type": "code",
      "source": [
        "test_cases = [\n",
        "    {\n",
        "        \"input\": {\n",
        "            \"n\": 12,\n",
        "        },\n",
        "        \"output\": True\n",
        "    },\n",
        "    {\n",
        "        \"input\": {\n",
        "            \"n\": 91,\n",
        "        },\n",
        "        \"output\": True\n",
        "    },\n",
        "\n",
        "    {\n",
        "        \"input\": {\n",
        "            \"n\": 21,\n",
        "        },\n",
        "        \"output\": False\n",
        "    },\n",
        "]"
      ],
      "metadata": {
        "id": "VD9YirfAdayx"
      },
      "execution_count": 2,
      "outputs": []
    },
    {
      "cell_type": "markdown",
      "source": [
        "### Observations\n",
        "\n",
        "- If `n` is the sum of distinct powers of `3`, then `n modulo 3 in (0, 1)`\n",
        "\n",
        "  - If `n modulo 3 = 2` then `n` is not sum of power of `3`\n",
        "\n",
        "  - If `n modulo 3 = 1`, then `3`<sup>`0`</sup> must be included for `n` is satified the conditions.\n",
        "\n",
        "- Pre compute all power of `3` which smaller than `n`\n",
        "\n",
        "- Recursively try all possible combination of power of `3`, start from largest to smallest\n",
        "\n",
        "### Analysis\n",
        "\n",
        "- Time to compute `powers` array: `log`<sub>`3`</sub>`n`\n",
        "\n",
        "- First recursive round: `log`<sub>`3`</sub>`n`\n",
        "\n",
        "  - Second recursive round: `log`<sub>`3`</sub>`n - 1`\n",
        "\n",
        "  - Third recursive round: `log`<sub>`3`</sub>`n - 2`\n",
        "\n",
        "  ...\n",
        "\n",
        "  - Last recurive round: `1`\n",
        "\n",
        "- Time complexity:\n",
        "    \n",
        "    `log`<sub>`3`</sub>`n` + `log`<sub>`3`</sub>`n` + `log`<sub>`3`</sub>`n - 1` + `log`<sub>`3`</sub>`n - 2` + ...\n",
        "\n",
        "    = `O((log`<sub>`3`</sub>`n)`<sup>`2`</sup>`)`\n",
        "\n",
        "### More over\n",
        "\n",
        "- Better approach:\n",
        "\n",
        "  - If n is greater than or equal to the current power, skipping this power will always lead to a false result.\n",
        "    \n",
        "  - This is because the largest sum we can achieve with smaller powers is the sum of all lower powers, which is always less than the current power.\n",
        "  \n",
        "  - So, if we skip this power, we can’t form the sum n, and we must include it by subtracting it from n.\n",
        "\n",
        "  - Useful formula: let `3`<sup>`x`</sup> is the largest in all powers of 3 that smaller than `n`, `3`<sup>`x`</sup>` <= n`\n",
        "\n",
        "   $3^0 + 3^1 + 3^2 + ... + 3^{x-1} = \\frac{3^x - 1}{2} < 3^x <= n$\n",
        "\n",
        "  - Let $3^x$ is the largest power of `3` that smaller than `n`, then $3^x$ must be included in the list of power of `3` that make up to `n`\n",
        "\n",
        "    - Subtract `n` by $3^x$\n",
        "\n",
        "    - Continue find the next $3^x$ that nearest to `n`\n",
        "\n",
        "    - Repeat until `n = 0`, retrun `True`\n",
        "\n",
        "    - Otherwise return `False`"
      ],
      "metadata": {
        "id": "e4M1bpIEDWc6"
      }
    },
    {
      "cell_type": "markdown",
      "source": [
        "### Implementation"
      ],
      "metadata": {
        "id": "TTw8uVbRkXtT"
      }
    },
    {
      "cell_type": "code",
      "source": [
        "from typing import List, Optional\n",
        "from collections import defaultdict\n",
        "from collections import deque\n",
        "from heapq import heapify, heappush, heappop\n",
        "from queue import PriorityQueue\n",
        "\n",
        "class Solution:\n",
        "    def checkPowersOfThree(self, n: int) -> bool:\n",
        "        # pre-compute list of distinct power of 3\n",
        "        powers = []\n",
        "        power = 0\n",
        "        power_of_three = 3 ** power\n",
        "        while power_of_three < n:\n",
        "            powers.append(power_of_three)\n",
        "            power += 1\n",
        "            power_of_three = 3 ** power\n",
        "\n",
        "        if power_of_three == n:\n",
        "            return True\n",
        "\n",
        "        # pre-check\n",
        "        if n % 3 == 2:\n",
        "            return False\n",
        "\n",
        "        return self.isPowerOfThree(n, powers[::-1], set())\n",
        "\n",
        "    def isPowerOfThree(self, remaning, powers, processed_power) -> bool:\n",
        "        # base cases\n",
        "        if remaning == 0:\n",
        "            return True\n",
        "\n",
        "        if remaning < 0:\n",
        "            return False\n",
        "\n",
        "        for power in powers:\n",
        "            if power <= remaning and power not in processed_power:\n",
        "                processed_power.add(power)\n",
        "                return self.isPowerOfThree(remaning - power, powers, processed_power)\n",
        "\n",
        "        return False"
      ],
      "metadata": {
        "id": "7N6VBRdIDUwD"
      },
      "execution_count": 28,
      "outputs": []
    },
    {
      "cell_type": "code",
      "source": [
        "solution = Solution()\n",
        "for test_case in test_cases:\n",
        "    print()\n",
        "    result = solution.checkPowersOfThree(test_case[\"input\"][\"n\"])\n",
        "    if result != test_case[\"output\"]:\n",
        "        print(f'Failed test case with input: {test_case[\"input\"]} and output: {test_case[\"output\"]} vs result: {result}')"
      ],
      "metadata": {
        "id": "CMDKnxwjGL6v",
        "colab": {
          "base_uri": "https://localhost:8080/"
        },
        "outputId": "1f44555c-761d-4f70-9619-391c5adc9f0f"
      },
      "execution_count": 27,
      "outputs": [
        {
          "output_type": "stream",
          "name": "stdout",
          "text": [
            "\n",
            "\n",
            "\n"
          ]
        }
      ]
    },
    {
      "cell_type": "markdown",
      "source": [
        "## Leetcode Editorial Approach 3: Ternary Representation\n",
        "### Intuition\n",
        "\n",
        "- First, let's break the problem down into a more familiar one. We know that every number can be written as a sum of distinct powers of `2` — in other words, every number has a **unique** binary representation. A simple way to find the binary representation of a number is by repeatedly taking its remainder when divided by `2 (mod 2)` and then dividing the number by `2` to move to the next bit. This method is similar to the two’s complement approach.\n",
        "\n",
        "- For example:\n",
        "\n",
        " $14 = 0 * 2^3 + 1 * 2^2 + 1 * 2^1 + 1 * 2^0 $ -> binary representation `base 2` $0111$\n",
        "\n",
        " $31 = 1 * 3^3 + 0 * 3^2 + 1 * 3^1 + 1 * 3^0 $ -> binary representation `base 3` $1011$\n",
        "\n",
        "- If `n` is the sum of distinct powers of `3`, then `n` must be able to represent as binary with `base 3` (a.k.a Ternary Representation)\n",
        "\n",
        "- In this problem, we apply the same logic but in base `3` instead of base `2`. We construct the ternary representation of the given number by taking its remainder when divided by `3 (mod 3)` and then dividing it by `3` to proceed to the next digit. If any of these remainders equals `2`, we would need to use a power of `3` twice, which is not allowed. In that case, we immediately return `false`.\n",
        "\n"
      ],
      "metadata": {
        "id": "zQBFUAfOUxp9"
      }
    },
    {
      "cell_type": "code",
      "source": [
        "class Solution:\n",
        "    def checkPowersOfThree(self, n: int) -> bool:\n",
        "        while n > 0:\n",
        "            # if n mod 3 remainer is not 1 or 0\n",
        "            if n % 3 == 2:\n",
        "                return False\n",
        "            n = n // 3\n",
        "\n",
        "        return True"
      ],
      "metadata": {
        "id": "5_p0bd9gWm94"
      },
      "execution_count": 1,
      "outputs": []
    },
    {
      "cell_type": "code",
      "source": [],
      "metadata": {
        "id": "OzvuTMXyXfdy"
      },
      "execution_count": null,
      "outputs": []
    }
  ]
}
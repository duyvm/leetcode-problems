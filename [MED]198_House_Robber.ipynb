{
  "nbformat": 4,
  "nbformat_minor": 0,
  "metadata": {
    "colab": {
      "provenance": [],
      "authorship_tag": "ABX9TyNc4lYT0eZ0EYvY6scdIKyu",
      "include_colab_link": true
    },
    "kernelspec": {
      "name": "python3",
      "display_name": "Python 3"
    },
    "language_info": {
      "name": "python"
    }
  },
  "cells": [
    {
      "cell_type": "markdown",
      "metadata": {
        "id": "view-in-github",
        "colab_type": "text"
      },
      "source": [
        "<a href=\"https://colab.research.google.com/github/duyvm/leetcode-problems/blob/main/%5BMED%5D198_House_Robber.ipynb\" target=\"_parent\"><img src=\"https://colab.research.google.com/assets/colab-badge.svg\" alt=\"Open In Colab\"/></a>"
      ]
    },
    {
      "cell_type": "markdown",
      "source": [
        "# 198. House Robber\n",
        "\n",
        "https://leetcode.com/problems/house-robber/description/\n",
        "\n",
        "You are a professional robber planning to rob houses along a street. Each house has a certain amount of money stashed, the only constraint stopping you from robbing each of them is that **adjacent houses** have security systems connected and it will automatically contact the police if **two adjacent houses were broken into on the same night**.\n",
        "\n",
        "Given an integer array `nums` representing the amount of money of each house, return the maximum amount of money you can rob tonight **without alerting the police**.\n",
        "\n",
        "**Constraints:**\n",
        "- `1 <= nums.length <= 100`\n",
        "- `0 <= nums[i] <= 400`"
      ],
      "metadata": {
        "id": "OhbFjTlo_zih"
      }
    },
    {
      "cell_type": "markdown",
      "source": [
        "**Example 1:**\n",
        "\n",
        "- Input: `nums = [1,2,3,1]`\n",
        "\n",
        "- Output: `4`\n",
        "\n",
        "- Explanation:\n",
        "\n",
        "        Rob house 1 (money = 1) and then rob house 3 (money = 3).\n",
        "        Total amount you can rob = 1 + 3 = 4.\n",
        "\n",
        "**Example 2:**\n",
        "\n",
        "- Input: `nums = [2,7,9,3,1]`\n",
        "\n",
        "- Output: `12`\n",
        "\n",
        "- Explanation:\n",
        "\n",
        "        Rob house 1 (money = 2), rob house 3 (money = 9) and rob house 5 (money = 1).\n",
        "        Total amount you can rob = 2 + 9 + 1 = 12."
      ],
      "metadata": {
        "id": "IEpVafbfC7W-"
      }
    },
    {
      "cell_type": "code",
      "source": [
        "test_cases = [\n",
        "    {\n",
        "        \"input\": {\n",
        "            \"nums\": [1,2,3,1],\n",
        "        },\n",
        "        \"output\": 4\n",
        "    },\n",
        "    {\n",
        "        \"input\": {\n",
        "            \"nums\": [2,7,9,3,1],\n",
        "        },\n",
        "        \"output\": 12\n",
        "    },\n",
        "]"
      ],
      "metadata": {
        "id": "VD9YirfAdayx"
      },
      "execution_count": 41,
      "outputs": []
    },
    {
      "cell_type": "markdown",
      "source": [
        "# Approach 1: Recursive + Brute force (Time exceeded method)\n",
        "\n",
        "### Observations\n",
        "\n",
        "- Initialize\n",
        "\n",
        "  - `n = nums.length`\n",
        "\n",
        "- Recursive compute all possible combination\n",
        "\n",
        "- Return the maximum money\n",
        "\n",
        "### Analysis\n",
        "\n",
        "\n",
        "\n",
        "### More over\n",
        "\n",
        "-"
      ],
      "metadata": {
        "id": "e4M1bpIEDWc6"
      }
    },
    {
      "cell_type": "markdown",
      "source": [
        "### Implementation"
      ],
      "metadata": {
        "id": "TTw8uVbRkXtT"
      }
    },
    {
      "cell_type": "code",
      "source": [
        "from typing import List, Optional\n",
        "from collections import defaultdict\n",
        "from collections import deque\n",
        "from heapq import heapify, heappush, heappop\n",
        "from queue import PriorityQueue\n",
        "\n",
        "class Solution:\n",
        "    def rob(self, nums: List[int]) -> int:\n",
        "        total_money = 0\n",
        "        for i in range(len(nums)):\n",
        "            total_money = max(total_money, self.computeMaxMoney(nums, i, 0))\n",
        "        return total_money\n",
        "\n",
        "    def computeMaxMoney(self, nums, i, total_money):\n",
        "        if i >= len(nums):\n",
        "            return total_money\n",
        "\n",
        "        return max(self.computeMaxMoney(nums, i+2, total_money+nums[i]), self.computeMaxMoney(nums, i+3, total_money+nums[i]))"
      ],
      "metadata": {
        "id": "7N6VBRdIDUwD"
      },
      "execution_count": 38,
      "outputs": []
    },
    {
      "cell_type": "code",
      "source": [
        "solution = Solution()\n",
        "for test_case in test_cases:\n",
        "    try:\n",
        "        result = solution.rob(test_case[\"input\"][\"nums\"])\n",
        "        if result != test_case[\"output\"]:\n",
        "            print(f'Failed test case with input: {test_case[\"input\"]} and expected result: {test_case[\"output\"]} vs actual result: {result}')\n",
        "        else:\n",
        "            print(f'### Passed test case with input: {test_case[\"input\"]} and expected result: {test_case[\"output\"]}')\n",
        "    except Exception as e:\n",
        "        print(f'Exception \"{e}\" in test case with input: {test_case[\"input\"]} and expected result: {test_case[\"output\"]}')"
      ],
      "metadata": {
        "id": "CMDKnxwjGL6v",
        "colab": {
          "base_uri": "https://localhost:8080/"
        },
        "outputId": "20012aa4-d766-41fe-cc62-b42996b6affc"
      },
      "execution_count": 42,
      "outputs": [
        {
          "output_type": "stream",
          "name": "stdout",
          "text": [
            "### Passed test case with input: {'nums': [1, 2, 3, 1]} and expected result: 4\n",
            "### Passed test case with input: {'nums': [2, 7, 9, 3, 1]} and expected result: 12\n"
          ]
        }
      ]
    },
    {
      "cell_type": "markdown",
      "source": [
        "# Approach 2: Dynamic Programing (Bottom-up)\n",
        "\n",
        "### Observations\n",
        "\n",
        "- Initialize\n",
        "\n",
        "  - `n = nums.length`\n",
        "\n",
        "- For a house `i`, we have two choices:\n",
        "\n",
        " 1. Rob `i`: robber can only rob house `i-2`, the sum of money until this house `i` is from sum of `i-2` plus current house `i`\n",
        "\n",
        " 2. Do not rob `i`: the sum of money is same as `i-1`\n",
        "\n",
        "- At each house `i`, we consider the option that bring the maximum money for the robber\n",
        "\n",
        "  - `sum_of_money[i] = max(sum_of_money[i-1], sum_of_money[i-2] + nums[i])`\n",
        "\n",
        "  - iterate until the end, we have the maximum money the robber can rob\n",
        "\n",
        "- Because we only use two value `sum_of_money[i-1]` and `sum_of_money[i-2]` at each iteration, we do not use an array `sum_of_money` to keep track the maximum money at each index `i` but only 2 variable `previous_i_1` and `previous_i_2` are enough\n",
        "\n",
        "### Analysis\n",
        "\n",
        "- Time complexity:\n",
        "  \n",
        "  - One pass through `nums`: `O(n)`\n",
        "\n",
        "- Memory complexity:\n",
        "\n",
        "  - temp, previous_i_1, previous_i_2 for storing maximum amount of money at `i-1` and `i-2`: `O(3)`\n",
        "\n",
        "### More over\n",
        "\n",
        "-"
      ],
      "metadata": {
        "id": "jFZXyXqjmYqm"
      }
    },
    {
      "cell_type": "code",
      "source": [
        "from typing import List, Optional\n",
        "from collections import defaultdict\n",
        "from collections import deque\n",
        "from heapq import heapify, heappush, heappop\n",
        "from queue import PriorityQueue\n",
        "\n",
        "class Solution:\n",
        "    def rob(self, nums: List[int]) -> int:\n",
        "        previous_i_1 = previous_i_2 = 0\n",
        "\n",
        "        for money in nums:\n",
        "            temp = max(previous_i_1, previous_i_2 + money)\n",
        "            previous_i_2 = previous_i_1\n",
        "            previous_i_1 = temp\n",
        "\n",
        "        return temp"
      ],
      "metadata": {
        "id": "2OVDSbeFTtYI"
      },
      "execution_count": 43,
      "outputs": []
    },
    {
      "cell_type": "code",
      "source": [
        "solution = Solution()\n",
        "for test_case in test_cases:\n",
        "    try:\n",
        "        result = solution.rob(test_case[\"input\"][\"nums\"])\n",
        "        if result != test_case[\"output\"]:\n",
        "            print(f'Failed test case with input: {test_case[\"input\"]} and expected result: {test_case[\"output\"]} vs actual result: {result}')\n",
        "        else:\n",
        "            print(f'### Passed test case with input: {test_case[\"input\"]} and expected result: {test_case[\"output\"]}')\n",
        "    except Exception as e:\n",
        "        print(f'Exception \"{e}\" in test case with input: {test_case[\"input\"]} and expected result: {test_case[\"output\"]}')"
      ],
      "metadata": {
        "colab": {
          "base_uri": "https://localhost:8080/"
        },
        "id": "k-TCmjizoWTC",
        "outputId": "56553e3f-2a65-4ba4-88fe-54fba24ca556"
      },
      "execution_count": 44,
      "outputs": [
        {
          "output_type": "stream",
          "name": "stdout",
          "text": [
            "### Passed test case with input: {'nums': [1, 2, 3, 1]} and expected result: 4\n",
            "### Passed test case with input: {'nums': [2, 7, 9, 3, 1]} and expected result: 12\n"
          ]
        }
      ]
    },
    {
      "cell_type": "code",
      "source": [],
      "metadata": {
        "id": "ttk2DEUmoYwY"
      },
      "execution_count": null,
      "outputs": []
    }
  ]
}
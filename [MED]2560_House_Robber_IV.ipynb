{
  "nbformat": 4,
  "nbformat_minor": 0,
  "metadata": {
    "colab": {
      "provenance": [],
      "authorship_tag": "ABX9TyOgWgGGUF+7UjoruKIBw3YK",
      "include_colab_link": true
    },
    "kernelspec": {
      "name": "python3",
      "display_name": "Python 3"
    },
    "language_info": {
      "name": "python"
    }
  },
  "cells": [
    {
      "cell_type": "markdown",
      "metadata": {
        "id": "view-in-github",
        "colab_type": "text"
      },
      "source": [
        "<a href=\"https://colab.research.google.com/github/duyvm/leetcode-problems/blob/main/%5BMED%5D2560_House_Robber_IV.ipynb\" target=\"_parent\"><img src=\"https://colab.research.google.com/assets/colab-badge.svg\" alt=\"Open In Colab\"/></a>"
      ]
    },
    {
      "cell_type": "markdown",
      "source": [
        "# 2560. House Robber IV\n",
        "\n",
        "https://leetcode.com/problems/house-robber-iv/description/\n",
        "\n",
        "There are several consecutive houses along a street, each of which has some money inside. There is also a robber, who wants to steal money from the homes, but he **refuses to steal from adjacent homes**.\n",
        "\n",
        "The **capability** of the robber is the **maximum** amount of money he steals from one house of all the houses he robbed.\n",
        "\n",
        "You are given an integer array `num`s representing how much money is stashed in each house. More formally, the `i`<sup>`th`</sup> house from the left has `nums[i]` dollars.\n",
        "\n",
        "You are also given an integer `k`, representing the **minimum** number of houses the robber will steal from. It is always possible to steal at least `k` houses.\n",
        "\n",
        "Return the minimum capability of the robber out of all the possible ways to steal at least `k` houses.\n",
        "\n",
        "**Constraints:**\n",
        "- `1 <= nums.length <= 10`<sup>`5`</sup>\n",
        "- `1 <= nums[i] <= 10`<sup>`9`</sup>\n",
        "- `1 <= k <= (nums.length + 1)/2`"
      ],
      "metadata": {
        "id": "OhbFjTlo_zih"
      }
    },
    {
      "cell_type": "markdown",
      "source": [
        "**Example 1:**\n",
        "\n",
        "- Input: `nums = [2,3,5,9], k = 2`\n",
        "\n",
        "- Output: `5`\n",
        "\n",
        "- Explanation:\n",
        "\n",
        "        There are three ways to rob at least 2 houses:\n",
        "        - Rob the houses at indices 0 and 2. Capability is max(nums[0], nums[2]) = 5.\n",
        "        - Rob the houses at indices 0 and 3. Capability is max(nums[0], nums[3]) = 9.\n",
        "        - Rob the houses at indices 1 and 3. Capability is max(nums[1], nums[3]) = 9.\n",
        "        Therefore, we return min(5, 9, 9) = 5.\n",
        "\n",
        "**Example 2:**\n",
        "\n",
        "- Input: `nums = [2,7,9,3,1], k = 2`\n",
        "\n",
        "- Output: `2`\n",
        "\n",
        "- Explanation:\n",
        "\n",
        "        There are 7 ways to rob the houses. The way which leads to minimum capability is to rob the house at index 0 and 4. Return max(nums[0], nums[4]) = 2.\n"
      ],
      "metadata": {
        "id": "IEpVafbfC7W-"
      }
    },
    {
      "cell_type": "code",
      "source": [
        "test_cases = [\n",
        "    {\n",
        "        \"input\": {\n",
        "            \"nums\": [2,3,5,9],\n",
        "            \"k\": 2,\n",
        "        },\n",
        "        \"output\": 5\n",
        "    },\n",
        "    {\n",
        "        \"input\": {\n",
        "            \"nums\": [2,7,9,3,1],\n",
        "            \"k\": 2,\n",
        "        },\n",
        "        \"output\": 2\n",
        "    },\n",
        "    {\n",
        "        \"input\": {\n",
        "            \"nums\": [9,25,16,6,18],\n",
        "            \"k\": 1,\n",
        "        },\n",
        "        \"output\": 6\n",
        "    },\n",
        "]"
      ],
      "metadata": {
        "id": "VD9YirfAdayx"
      },
      "execution_count": 27,
      "outputs": []
    },
    {
      "cell_type": "markdown",
      "source": [
        "# Approach 1: Binary Search (Beat ~37%)\n",
        "\n",
        "### Observations\n",
        "\n",
        "- The problem is finding the **minimum capability** in all the possible combinations of `k` non-contiguous houses, where as capability is the **maximum** amount of money in one house of a specific combination of `k` non-contiguous houses\n",
        "\n",
        "  - The problem can be consider as **minimizing the maximum**\n",
        "\n",
        "- Use binary search to find the target **minimum capability** in the range of `minAmount` and `maxAmount` of `nums`\n",
        "\n",
        "  - For each binary search iteration with `middleAmount`, check if we can find a `k` non-contiguous houses combination that the **maximum capability** is smaller than `middleAmount` and its `capability`\n",
        "\n",
        "  - Continue to adjust the search range based on the check result\n",
        "\n",
        "  - Return the last found `capability`\n",
        "\n",
        "### Algorithm\n",
        "\n",
        "- Variable initialize\n",
        "\n",
        " - `minAmount = min(nums), maxAmount = max(nums)`\n",
        "\n",
        " - `n = nums.length`\n",
        "\n",
        "- Check function `canCreateKHouses(maxAmount, nums, k)`\n",
        "\n",
        " - The function return `True` if it is possbile to find a `k` non-contiguous array in `nums` that has amount smaller or equal to `maxAmount`\n",
        "\n",
        " - Otherwise return `False`\n",
        "\n",
        "- Binary search: `while minAmount <= maxAmount:`\n",
        "\n",
        " - `middleAmount = (minAmount + maxAmount) / 2`\n",
        "\n",
        " - if `canCreateKHouses(middleAmount, nums)` returns `True`:\n",
        "   \n",
        "   - `maxAmount = middleAmount - 1`\n",
        "\n",
        " - else: `minAmount = middleAmount + 1`\n",
        "\n",
        " - continue to search in adjusted range\n",
        "\n",
        " - return the last `minAmount`\n",
        "\n",
        "### Analysis\n",
        "\n",
        "- Let `m = maxAmount - minAmount`\n",
        "\n",
        "- Time complexity:\n",
        "\n",
        " - Binary search in range `minAmount` and `maxAmount`: `O(log(m))`\n",
        "\n",
        " - For each binary search iteration, loop over `nums` to find vali `k` non-contiguous array and its `capability`: `O(n)`\n",
        "\n",
        " - Total time complexity: `O(log(m)*n)`\n",
        "\n",
        "### More over\n",
        "\n",
        "-"
      ],
      "metadata": {
        "id": "e4M1bpIEDWc6"
      }
    },
    {
      "cell_type": "markdown",
      "source": [
        "### Implementation"
      ],
      "metadata": {
        "id": "TTw8uVbRkXtT"
      }
    },
    {
      "cell_type": "code",
      "source": [
        "from typing import List, Optional, Tuple\n",
        "from collections import defaultdict\n",
        "from collections import deque\n",
        "from heapq import heapify, heappush, heappop\n",
        "from queue import PriorityQueue\n",
        "\n",
        "class Solution:\n",
        "    def minCapability(self, nums: List[int], k: int) -> int:\n",
        "        minAmount = 10**9 + 1\n",
        "        maxAmount = 1\n",
        "\n",
        "        for amount in nums:\n",
        "            if amount > maxAmount:\n",
        "                maxAmount = amount\n",
        "            if amount < minAmount:\n",
        "                minAmount = amount\n",
        "\n",
        "        while minAmount <= maxAmount:\n",
        "            middleAmount = (maxAmount + minAmount) // 2\n",
        "            if self.canCreateKHouses(middleAmount, nums, k):\n",
        "                maxAmount = middleAmount - 1\n",
        "            else:\n",
        "                minAmount = middleAmount + 1\n",
        "\n",
        "        return minAmount\n",
        "\n",
        "    def canCreateKHouses(self, maxAmount: int, nums: List[int], k: int) -> bool:\n",
        "        house_nums = 0\n",
        "        i = 0\n",
        "        while house_nums < k and i < len(nums):\n",
        "            if nums[i] <= maxAmount:\n",
        "                house_nums += 1\n",
        "                i += 2\n",
        "            else:\n",
        "                i += 1\n",
        "\n",
        "        return house_nums == k"
      ],
      "metadata": {
        "id": "7N6VBRdIDUwD"
      },
      "execution_count": 41,
      "outputs": []
    },
    {
      "cell_type": "code",
      "source": [
        "solution = Solution()\n",
        "for test_case in test_cases:\n",
        "    try:\n",
        "        result = solution.minCapability(test_case[\"input\"][\"nums\"], test_case[\"input\"][\"k\"])\n",
        "        if result != test_case[\"output\"]:\n",
        "            print(f'Failed test case with input: {test_case[\"input\"]} and expected result: {test_case[\"output\"]} vs actual result: {result}')\n",
        "        else:\n",
        "            print(f'### Passed test case with input: {test_case[\"input\"]} and expected result: {test_case[\"output\"]}')\n",
        "    except Exception as e:\n",
        "        print(f'Exception \"{e}\" in test case with input: {test_case[\"input\"]} and expected result: {test_case[\"output\"]}')"
      ],
      "metadata": {
        "id": "CMDKnxwjGL6v",
        "colab": {
          "base_uri": "https://localhost:8080/"
        },
        "outputId": "270a7bf2-528b-470d-c7ae-172d131dbf68"
      },
      "execution_count": 42,
      "outputs": [
        {
          "output_type": "stream",
          "name": "stdout",
          "text": [
            "### Passed test case with input: {'nums': [2, 3, 5, 9], 'k': 2} and expected result: 5\n",
            "### Passed test case with input: {'nums': [2, 7, 9, 3, 1], 'k': 2} and expected result: 2\n",
            "### Passed test case with input: {'nums': [9, 25, 16, 6, 18], 'k': 1} and expected result: 6\n"
          ]
        }
      ]
    },
    {
      "cell_type": "code",
      "source": [],
      "metadata": {
        "id": "TOmDriPrNvLg"
      },
      "execution_count": null,
      "outputs": []
    }
  ]
}
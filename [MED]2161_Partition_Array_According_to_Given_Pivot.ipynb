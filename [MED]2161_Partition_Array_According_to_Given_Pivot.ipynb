{
  "nbformat": 4,
  "nbformat_minor": 0,
  "metadata": {
    "colab": {
      "provenance": [],
      "authorship_tag": "ABX9TyPfJDzWm2PTWPonMnrkWSzq",
      "include_colab_link": true
    },
    "kernelspec": {
      "name": "python3",
      "display_name": "Python 3"
    },
    "language_info": {
      "name": "python"
    }
  },
  "cells": [
    {
      "cell_type": "markdown",
      "metadata": {
        "id": "view-in-github",
        "colab_type": "text"
      },
      "source": [
        "<a href=\"https://colab.research.google.com/github/duyvm/leetcode-problems/blob/main/%5BMED%5D2161_Partition_Array_According_to_Given_Pivot.ipynb\" target=\"_parent\"><img src=\"https://colab.research.google.com/assets/colab-badge.svg\" alt=\"Open In Colab\"/></a>"
      ]
    },
    {
      "cell_type": "markdown",
      "source": [
        "# 2161. Partition Array According to Given Pivot\n",
        "\n",
        "https://leetcode.com/problems/partition-array-according-to-given-pivot/description/\n",
        "\n",
        "You are given a **0-indexed** integer array `nums` and an integer `pivot`. Rearrange `nums` such that the following conditions are satisfied:\n",
        "\n",
        "- Every element less than `pivot` appears before every element greater than `pivot`.\n",
        "- Every element equal to `pivot` appears in between the elements less than and greater than `pivot`.\n",
        "- The relative order of the elements less than pivot and the elements greater than pivot is maintained.\n",
        "  - More formally, consider every `p`<sub>`i`</sub>, `p`<sub>`j`</sub> where `p`<sub>`i`</sub> is the new position of the `i`<sup>`th`</sup> element and `p`<sub>`j`</sub> is the new position of the `j`<sup>`th`</sup> element. If `i < j` and both elements are smaller (or larger) than `pivot`, then `p`<sub>`i`</sub> `< p`<sub>`j`</sub>.\n",
        "\n",
        "Return `nums` after the rearrangement.\n",
        "\n",
        "**Constraints:**\n",
        "- `1 <= nums.length <= 10`<sup>`5`</sup>\n",
        "- `-10`<sup>`6`</sup>` <= nums[i] <= 10`<sup>`6`</sup>\n",
        "- `pivot` equals to an element of `nums`."
      ],
      "metadata": {
        "id": "OhbFjTlo_zih"
      }
    },
    {
      "cell_type": "markdown",
      "source": [
        "**Example 1:**\n",
        "\n",
        "- Input: `nums = [9,12,5,10,14,3,10], pivot = 10`\n",
        "\n",
        "- Output: `[9,5,3,10,10,12,14]`\n",
        "\n",
        "- Explanation:\n",
        "        The elements 9, 5, and 3 are less than the pivot so they are on the left side of the array.\n",
        "        The elements 12 and 14 are greater than the pivot so they are on the right side of the array.\n",
        "        The relative ordering of the elements less than and greater than pivot is also maintained. [9, 5, 3] and [12, 14] are the respective orderings.\n",
        "\n",
        "\n",
        "**Example 2:**\n",
        "\n",
        "- Input: `nums = [-3,4,3,2], pivot = 2`\n",
        "\n",
        "- Output: `[-3,2,4,3]`\n",
        "\n",
        "- Explanation:\n",
        "        The element -3 is less than the pivot so it is on the left side of the array.\n",
        "        The elements 4 and 3 are greater than the pivot so they are on the right side of the array.\n",
        "        The relative ordering of the elements less than and greater than pivot is also maintained. [-3] and [4, 3] are the respective orderings."
      ],
      "metadata": {
        "id": "IEpVafbfC7W-"
      }
    },
    {
      "cell_type": "code",
      "source": [
        "test_cases = [\n",
        "    {\n",
        "        \"input\": {\n",
        "            \"nums\": [9,12,5,10,14,3,10],\n",
        "            \"pivot\": 10\n",
        "        },\n",
        "        \"output\": [9,5,3,10,10,12,14]\n",
        "    },\n",
        "    {\n",
        "        \"input\": {\n",
        "            \"nums\": [-3,4,3,2],\n",
        "            \"pivot\": 2\n",
        "        },\n",
        "        \"output\": [-3,2,4,3]\n",
        "    },\n",
        "]"
      ],
      "metadata": {
        "id": "VD9YirfAdayx"
      },
      "execution_count": null,
      "outputs": []
    },
    {
      "cell_type": "markdown",
      "source": [
        "### Observations\n",
        "\n",
        "- After rearrange all `nums` elements around `pivot`, their order must be retained.\n",
        "\n",
        "- Use 3 array to store `smaller`, `equal` and `larger` elements of `nums` comparing to `pivot`\n",
        "\n",
        "- After one pass through `nums`, add the element to coresponding array with their original order from left to right\n",
        "\n",
        "- Return `smaller` + `equal` + `larger` array\n",
        "\n",
        "### Analysis\n",
        "\n",
        "- One pass through `nums` so time complexity is `O(n)`\n",
        "\n",
        "- Three array to store `nums`'s elements so memory complexity is `O(n)`"
      ],
      "metadata": {
        "id": "e4M1bpIEDWc6"
      }
    },
    {
      "cell_type": "code",
      "source": [
        "from typing import List, Optional\n",
        "from collections import defaultdict\n",
        "from collections import deque\n",
        "from heapq import heapify, heappush, heappop\n",
        "from queue import PriorityQueue\n",
        "\n",
        "class Solution:\n",
        "    def pivotArray(self, nums: List[int], pivot: int) -> List[int]:\n",
        "        smaller, equal, larger = [], [], []\n",
        "        for num in nums:\n",
        "            if num < pivot:\n",
        "                smaller.append(num)\n",
        "            elif num > pivot:\n",
        "                larger.append(num)\n",
        "            else:\n",
        "                equal.append(num)\n",
        "        return smaller + equal + larger"
      ],
      "metadata": {
        "id": "7N6VBRdIDUwD"
      },
      "execution_count": null,
      "outputs": []
    },
    {
      "cell_type": "code",
      "source": [
        "solution = Solution()\n",
        "for test_case in test_cases:\n",
        "    result = solution.pivotArray(test_case[\"input\"][\"nums\"], test_case[\"input\"][\"pivot\"])\n",
        "    if result != test_case[\"output\"]:\n",
        "        print(f'Failed test case with input: {test_case[\"input\"]} and output: {test_case[\"output\"]} vs result: {result}')"
      ],
      "metadata": {
        "id": "CMDKnxwjGL6v"
      },
      "execution_count": null,
      "outputs": []
    },
    {
      "cell_type": "code",
      "source": [],
      "metadata": {
        "id": "067cjpCS3T8j"
      },
      "execution_count": null,
      "outputs": []
    }
  ]
}
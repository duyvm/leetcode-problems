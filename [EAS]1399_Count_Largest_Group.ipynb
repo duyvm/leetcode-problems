{
  "nbformat": 4,
  "nbformat_minor": 0,
  "metadata": {
    "colab": {
      "provenance": [],
      "authorship_tag": "ABX9TyPwaD9k8piVoJ+jH/9aF312",
      "include_colab_link": true
    },
    "kernelspec": {
      "name": "python3",
      "display_name": "Python 3"
    },
    "language_info": {
      "name": "python"
    }
  },
  "cells": [
    {
      "cell_type": "markdown",
      "metadata": {
        "id": "view-in-github",
        "colab_type": "text"
      },
      "source": [
        "<a href=\"https://colab.research.google.com/github/duyvm/leetcode-problems/blob/main/%5BEAS%5D1399_Count_Largest_Group.ipynb\" target=\"_parent\"><img src=\"https://colab.research.google.com/assets/colab-badge.svg\" alt=\"Open In Colab\"/></a>"
      ]
    },
    {
      "cell_type": "markdown",
      "source": [
        "# 1399. Count Largest Group\n",
        "\n",
        "https://leetcode.com/problems/count-largest-group/description/\n",
        "\n",
        "You are given an integer `n`.\n",
        "\n",
        "Each number from `1` to `n` is grouped according to the sum of its digits.\n",
        "\n",
        "Return the number of groups that have the largest size.\n",
        "\n",
        "**Constraints:**\n",
        "- `1 <= n <= 10`<sup>`4`</sup>"
      ],
      "metadata": {
        "id": "OhbFjTlo_zih"
      }
    },
    {
      "cell_type": "code",
      "source": [
        "\"\"\"\n",
        "    Explanation: There are 9 groups in total, they are grouped according sum of its digits of numbers from 1 to 13:\n",
        "    [1,10], [2,11], [3,12], [4,13], [5], [6], [7], [8], [9].\n",
        "    There are 4 groups with largest size.\n",
        "\"\"\"\n",
        "test_case1 =  {\n",
        "            \"input\": {\n",
        "                \"n\": 13\n",
        "            },\n",
        "            \"output\": 4\n",
        "        }\n",
        "\n",
        "\"\"\"\n",
        "    Explanation: There are 2 groups [1], [2] of size 1.\n",
        "\"\"\"\n",
        "test_case2 =  {\n",
        "        \"input\": {\n",
        "            \"n\": 2\n",
        "        },\n",
        "        \"output\": 2\n",
        "    }\n",
        "\n",
        "test_cases = [test_case1, test_case2]"
      ],
      "metadata": {
        "id": "VD9YirfAdayx"
      },
      "execution_count": 22,
      "outputs": []
    },
    {
      "cell_type": "code",
      "source": [
        "def run_test_cases(solution, function_name):\n",
        "    for i in range(len(test_cases)):\n",
        "        run_test_case(solution, function_name, i)\n",
        "\n",
        "def run_test_case(solution, function_name, i):\n",
        "    test_case = test_cases[i]\n",
        "    result = getattr(solution, function_name)(**test_case[\"input\"])\n",
        "    if result != test_case[\"output\"]:\n",
        "        print(f'Failed test case {i} with input: {test_case[\"input\"]} and expected result: {test_case[\"output\"]} vs actual result: {result}')"
      ],
      "metadata": {
        "id": "eefq238-1jIb"
      },
      "execution_count": 23,
      "outputs": []
    },
    {
      "cell_type": "markdown",
      "source": [
        "# Approach 1\n",
        "\n",
        "### Observations\n",
        "\n",
        "- Use a hashmap to store count of numbers that have same sum value\n",
        "\n",
        "- For number from `1` to `n`, find the sum of its digit.\n",
        "\n",
        "- Finding sum of digits of a number by using modulo of `10`\n",
        "\n",
        "### Analysis\n",
        "\n",
        "- One pass through `1` to `n` to find sum of each number: `O(n)`\n",
        "\n",
        "- For each number, find the sum: `O(log`<sub>`10`</sub>`n)`\n",
        "\n",
        "- Since `1 <= n <= 10000`, the kargest sum value is `36`. One pass through `1` to `36` to find larest sum value: `O(36)`\n",
        "\n",
        "- One pass through `1` to `36` to count larest sum value group: `O(36)`\n",
        "\n",
        "- Total time complexity: `O(log`<sub>`10`</sub>`n * n)`"
      ],
      "metadata": {
        "id": "e4M1bpIEDWc6"
      }
    },
    {
      "cell_type": "markdown",
      "source": [
        "### Implementation"
      ],
      "metadata": {
        "id": "TTw8uVbRkXtT"
      }
    },
    {
      "cell_type": "code",
      "source": [
        "from re import L\n",
        "from typing import List, Optional\n",
        "from collections import defaultdict\n",
        "from collections import deque\n",
        "from heapq import heapify, heappush, heappop\n",
        "from queue import PriorityQueue\n",
        "from collections import Counter\n",
        "import math\n",
        "\n",
        "class Solution:\n",
        "    def countLargestGroup(self, n: int) -> int:\n",
        "        freq = defaultdict(int)\n",
        "        for i in range(1, n+1):\n",
        "            _sum = self.sumDigit(i)\n",
        "            freq[_sum] += 1\n",
        "        largestSize = max(freq.values())\n",
        "        return len([v for v in freq.values() if v == largestSize])\n",
        "\n",
        "    def sumDigit(self, num):\n",
        "        _sum = 0\n",
        "        while num != 0:\n",
        "            _sum += num % 10\n",
        "            num = num // 10\n",
        "        return _sum"
      ],
      "metadata": {
        "id": "7N6VBRdIDUwD"
      },
      "execution_count": 26,
      "outputs": []
    },
    {
      "cell_type": "code",
      "source": [
        "run_test_cases(Solution(), \"countLargestGroup\")"
      ],
      "metadata": {
        "id": "DSgVrw0oNgBn"
      },
      "execution_count": 27,
      "outputs": []
    }
  ]
}
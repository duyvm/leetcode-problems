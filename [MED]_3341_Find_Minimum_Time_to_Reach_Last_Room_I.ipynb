{
  "nbformat": 4,
  "nbformat_minor": 0,
  "metadata": {
    "colab": {
      "provenance": [],
      "authorship_tag": "ABX9TyMxbZXZFfJEHSq/atC9TBA/",
      "include_colab_link": true
    },
    "kernelspec": {
      "name": "python3",
      "display_name": "Python 3"
    },
    "language_info": {
      "name": "python"
    }
  },
  "cells": [
    {
      "cell_type": "markdown",
      "metadata": {
        "id": "view-in-github",
        "colab_type": "text"
      },
      "source": [
        "<a href=\"https://colab.research.google.com/github/duyvm/leetcode-problems/blob/main/%5BMED%5D_3341_Find_Minimum_Time_to_Reach_Last_Room_I.ipynb\" target=\"_parent\"><img src=\"https://colab.research.google.com/assets/colab-badge.svg\" alt=\"Open In Colab\"/></a>"
      ]
    },
    {
      "cell_type": "markdown",
      "source": [
        "# 3341. Find Minimum Time to Reach Last Room I\n",
        "\n",
        "https://leetcode.com/problems/find-minimum-time-to-reach-last-room-i/description/\n",
        "\n",
        "There is a dungeon with `n x m` rooms arranged as a **grid**.\n",
        "\n",
        "You are given a **2D array** `moveTime` of size `n x m`, where `moveTime[i][j]` represents the minimum time in seconds when you can start moving to that room.\n",
        "\n",
        "You start from the room `(0, 0)` at time `t = 0` and *can move to an adjacent room*. Moving between adjacent rooms takes exactly **one second**.\n",
        "\n",
        "Return the **minimum time** to reach the room `(n - 1, m - 1)`.\n",
        "\n",
        "Two rooms are adjacent if they share a common wall, either horizontally or vertically.\n",
        "\n",
        "**Constraints:**\n",
        "- `2 <= n == moveTime.length <= 50`\n",
        "- `2 <= m == moveTime[i].length <= 50`\n",
        "- `0 <= moveTime[i][j] <= 10`<sup>`9`</sup>"
      ],
      "metadata": {
        "id": "OhbFjTlo_zih"
      }
    },
    {
      "cell_type": "markdown",
      "source": [
        "**Example 1**\n",
        "\n",
        "Explanation: The minimum time required is `6` seconds.\n",
        "  \n",
        "  - At time `t == 4`, move from room `(0, 0)` to room `(1, 0)` in one second.\n",
        "  \n",
        "  - At time `t == 5`, move from room `(1, 0)` to room `(1, 1)` in one second."
      ],
      "metadata": {
        "id": "fpzLoyGP_hhQ"
      }
    },
    {
      "cell_type": "code",
      "source": [
        "test_case1 =  {\n",
        "            \"input\": {\n",
        "                \"moveTime\": [[0,4],[4,4]]\n",
        "            },\n",
        "            \"output\": 6\n",
        "        }"
      ],
      "metadata": {
        "id": "VD9YirfAdayx"
      },
      "execution_count": null,
      "outputs": []
    },
    {
      "cell_type": "markdown",
      "source": [
        "**Example 2**\n",
        "\n",
        "Explanation: The minimum time required is `3` seconds.\n",
        "\n",
        "  - At time `t == 0`, move from room `(0, 0)` to room `(1, 0)` in one second.\n",
        "  - At time `t == 1`, move from room `(1, 0)` to room `(1, 1)` in one second.\n",
        "  - At time `t == 2`, move from room `(1, 1)` to room `(1, 2)` in one second."
      ],
      "metadata": {
        "id": "mbBM8XtKAGH5"
      }
    },
    {
      "cell_type": "code",
      "source": [
        "test_case2 =  {\n",
        "            \"input\": {\n",
        "                \"moveTime\": [[0,0,0],[0,0,0]]\n",
        "            },\n",
        "            \"output\": 3\n",
        "        }"
      ],
      "metadata": {
        "id": "t94gDHfzAN4K"
      },
      "execution_count": null,
      "outputs": []
    },
    {
      "cell_type": "markdown",
      "source": [
        "**Example 3**"
      ],
      "metadata": {
        "id": "KWfVUW0MXqWB"
      }
    },
    {
      "cell_type": "code",
      "source": [
        "test_case3 =  {\n",
        "            \"input\": {\n",
        "                \"moveTime\": [[0,1],[1,2]]\n",
        "            },\n",
        "            \"output\": 3\n",
        "        }"
      ],
      "metadata": {
        "id": "IUKmOsMOXxCU"
      },
      "execution_count": null,
      "outputs": []
    },
    {
      "cell_type": "code",
      "source": [
        "test_cases = [test_case1, test_case2, test_case3]"
      ],
      "metadata": {
        "id": "1XSGQbp1ASCu"
      },
      "execution_count": null,
      "outputs": []
    },
    {
      "cell_type": "code",
      "source": [
        "def run_test_cases(solution, function_name):\n",
        "    for i in range(len(test_cases)):\n",
        "        run_test_case(solution, function_name, i)\n",
        "\n",
        "def run_test_case(solution, function_name, i):\n",
        "    test_case = test_cases[i]\n",
        "    result = getattr(solution, function_name)(**test_case[\"input\"])\n",
        "    if result != test_case[\"output\"]:\n",
        "        print(f'Failed test case {i} with input: {test_case[\"input\"]} and expected result: {test_case[\"output\"]} vs actual result: {result}')"
      ],
      "metadata": {
        "id": "eefq238-1jIb"
      },
      "execution_count": null,
      "outputs": []
    },
    {
      "cell_type": "markdown",
      "source": [
        "# Approach 1 - Dijkstra's Shortest Path Algorithm - Beat 10.5%\n",
        "\n",
        "### Observations\n",
        "\n",
        "- Leetcode Hint: use shortest path algorithm to solve this problem\n",
        "\n",
        "- Used algorithm: Dijkstra algorithm to find shortest path from source to all others vertices\n",
        "\n",
        "**Mapping between graph problem and this problem**\n",
        "\n",
        "- Let 2D-array `minTime` with size `n x m` is the array stores minimum time moving from source `(0,0)` to vertex `(i,j)`\n",
        "\n",
        "- Each cell is a vertex. We have total `n x m` vertices. Adjacent cells of cell `a` are neighbor vertices of vertex `a`. A vertex and its neighbor have an edge between them.\n",
        "\n",
        "- The time moving between cells is the edge's distance. In this case, it is `1`\n",
        "\n",
        "- The minimum time can start moving to cell is the condition for moving to a vertex.\n",
        "\n",
        "  - For example, moving from `a = (i,j)` to its neighbor vertex `b = (i+1,j)`.\n",
        "\n",
        "  - We have `minTime[a] = x` and `moveTime[b] = y`\n",
        "\n",
        "  - If `x + 1 < y` then we can not move from `a` to `b` with current minimum time of `a`\n",
        "\n",
        "  - If the minimum time moving from all neighbor vertices of `b` to `b` are smaller than `moveTime[b]`, then the minimum time moving to `b` `minTime[b] = moveTime[b] + 1`. We start from `moveTime[b]` and take 1 sec to move to `b`\n",
        "\n",
        "- Each time, we consider the un-processed vertex with minimum time moving from source to it. We using min heap data structure for this task.\n",
        "\n",
        "### Analysis\n",
        "\n",
        "- Time complexity:\n",
        "\n",
        "  - Time to create edges: `O(n * m)`\n",
        "\n",
        "  - Process all vertices:\n",
        "\n",
        "    - For each vertex: we perform heappush `O(log(n * m))` and headpop `O(1)` (assume that the heap has maximum number of vertices `n * m`)\n",
        "\n",
        "    - Process all vertices: `O(n * m * log(n * m))`\n",
        "\n",
        "  - Total time: `O(n * m * log(n * m))`\n",
        "\n"
      ],
      "metadata": {
        "id": "e4M1bpIEDWc6"
      }
    },
    {
      "cell_type": "markdown",
      "source": [
        "### Implementation"
      ],
      "metadata": {
        "id": "TTw8uVbRkXtT"
      }
    },
    {
      "cell_type": "code",
      "source": [
        "from re import L\n",
        "from typing import List, Optional\n",
        "from collections import defaultdict\n",
        "from collections import deque\n",
        "from heapq import heapify, heappush, heappop\n",
        "from queue import PriorityQueue\n",
        "from collections import Counter\n",
        "import math\n",
        "\n",
        "class Solution:\n",
        "\n",
        "    MOVING_TIME_BETWEEN_VERTICES = 1\n",
        "\n",
        "    def minTimeToReach(self, moveTime: List[List[int]]) -> int:\n",
        "        h = len(moveTime)\n",
        "        w = len(moveTime[0])\n",
        "        minTime = [[math.inf] * w for _ in range(h)]\n",
        "        minTime[0][0] = 0\n",
        "        edges = self.createEdges(h, w)\n",
        "\n",
        "        minHeap = []\n",
        "\n",
        "        # add source with minTime = 0\n",
        "        heappush(minHeap, [0, (0,0)])\n",
        "\n",
        "        processedVertices = set()\n",
        "\n",
        "        # prettyPrintGrid(minTime)\n",
        "\n",
        "        while minHeap:\n",
        "            time, vertex = heappop(minHeap)\n",
        "\n",
        "            if vertex in processedVertices:\n",
        "                continue\n",
        "\n",
        "            processedVertices.add(vertex)\n",
        "\n",
        "            # print(f\"processed_vertex: {vertex}\")\n",
        "\n",
        "            for neighborVertex in edges[vertex]:\n",
        "                timeToNeighborVertex = max(self.MOVING_TIME_BETWEEN_VERTICES + time, moveTime[neighborVertex[0]][neighborVertex[1]]+1)\n",
        "\n",
        "                minTime[neighborVertex[0]][neighborVertex[1]] = min(timeToNeighborVertex, minTime[neighborVertex[0]][neighborVertex[1]])\n",
        "\n",
        "                heappush(minHeap, [timeToNeighborVertex, neighborVertex])\n",
        "\n",
        "            # prettyPrintGrid(minTime)\n",
        "\n",
        "        return minTime[h-1][w-1]\n",
        "\n",
        "\n",
        "    def createEdges(self, h, w):\n",
        "        edges = defaultdict(list)\n",
        "\n",
        "        # inner grid, full four adjacent cells\n",
        "        for i in range(1,h-1):\n",
        "            for j in range(1,w-1):\n",
        "                edges[(i,j)].append((i+1,j))\n",
        "                edges[(i,j)].append((i-1,j))\n",
        "                edges[(i,j)].append((i,j+1))\n",
        "                edges[(i,j)].append((i,j-1))\n",
        "\n",
        "        # four corner\n",
        "        # top left (0,0)\n",
        "        edges[(0,0)].append((0,1))\n",
        "        edges[(0,0)].append((1,0))\n",
        "\n",
        "        # top right (0,w-1)\n",
        "        edges[(0,w-1)].append((0,w-2))\n",
        "        edges[(0,w-1)].append((1,w-1))\n",
        "\n",
        "        # bottom left (h-1, 0)\n",
        "        edges[(h-1,0)].append((h-1,1))\n",
        "        edges[(h-1,0)].append((h-2,0))\n",
        "\n",
        "        # bottom right (h-1, w-1)\n",
        "        edges[(h-1,w-1)].append((h-1,w-2))\n",
        "        edges[(h-1,w-1)].append((h-2,w-1))\n",
        "\n",
        "        # top edge\n",
        "        # 0,j -> 0,j-1\n",
        "        #     -> 0,j+1\n",
        "        #     -> 1,j\n",
        "        for j in range(1,w-1):\n",
        "            edges[(0,j)].append((0,j-1))\n",
        "            edges[(0,j)].append((0,j+1))\n",
        "            edges[(0,j)].append((1,j))\n",
        "\n",
        "        # bottom edge\n",
        "        for j in range(1,w-1):\n",
        "            edges[(h-1,j)].append((h-1,j-1))\n",
        "            edges[(h-1,j)].append((h-1,j+1))\n",
        "            edges[(h-1,j)].append((h-2,j))\n",
        "\n",
        "        # left edge\n",
        "        for i in range(1,h-1):\n",
        "            edges[(i,0)].append((i+1,0))\n",
        "            edges[(i,0)].append((i-1,0))\n",
        "            edges[(i,0)].append((i,1))\n",
        "\n",
        "        # right edge\n",
        "        for i in range(1,h-1):\n",
        "            edges[(i,w-1)].append((i+1,w-1))\n",
        "            edges[(i,w-1)].append((i-1,w-1))\n",
        "            edges[(i,w-1)].append((i,w-2))\n",
        "\n",
        "        return edges\n",
        "\n",
        "def prettyPrintGrid(grid):\n",
        "    for row in grid:\n",
        "        print('\\t'.join([str(_) for _ in row]))"
      ],
      "metadata": {
        "id": "7N6VBRdIDUwD"
      },
      "execution_count": null,
      "outputs": []
    },
    {
      "cell_type": "code",
      "source": [
        "run_test_cases(Solution(), \"minTimeToReach\")"
      ],
      "metadata": {
        "id": "QI2JhBGdQw2Q"
      },
      "execution_count": null,
      "outputs": []
    },
    {
      "cell_type": "code",
      "source": [
        "run_test_case(Solution(), \"minTimeToReach\", 2)"
      ],
      "metadata": {
        "id": "CzIUrcvUxKh5"
      },
      "execution_count": null,
      "outputs": []
    },
    {
      "cell_type": "markdown",
      "source": [
        "# Approach 2 - Optimized approach 1 - Beat 60%\n",
        "\n",
        "### Observations\n",
        "\n",
        "- Instead of pre-compute edges, we can compute vertex's neighbors on the fly when process vertex. We use a delta array and apply it to current vertex to find its four neightbor vertices\n",
        "\n",
        "- We do not to store processed vertices. We can determine if it is processed or not by checking its current `minTime` with initialized value.\n",
        "\n",
        "- Return early if we encounter `(n-1, m-1)` vertex\n",
        "\n",
        "### Analysis\n",
        "\n",
        "- Time complexity:\n",
        "\n",
        "  - Time to create edges: `O(n * m)`\n",
        "\n",
        "  - Process all vertices:\n",
        "\n",
        "    - For each vertex: we perform heappush `O(log(n * m))` and headpop `O(1)` (assume that the heap has maximum number of vertices `n * m`)\n",
        "\n",
        "    - Process all vertices: `O(n * m * log(n * m))`\n",
        "\n",
        "  - Total time: `O(n * m * log(n * m))`\n",
        "\n"
      ],
      "metadata": {
        "id": "CSWOxeL2GdB2"
      }
    },
    {
      "cell_type": "code",
      "source": [
        "from re import L\n",
        "from typing import List, Optional\n",
        "from collections import defaultdict\n",
        "from collections import deque\n",
        "from heapq import heapify, heappush, heappop\n",
        "from queue import PriorityQueue\n",
        "from collections import Counter\n",
        "import math\n",
        "\n",
        "class Solution:\n",
        "\n",
        "    MOVING_TIME_BETWEEN_VERTICES = 1\n",
        "\n",
        "    def minTimeToReach(self, moveTime: List[List[int]]) -> int:\n",
        "        n = len(moveTime)\n",
        "        m = len(moveTime[0])\n",
        "        minTime = [[math.inf] * m for _ in range(n)]\n",
        "        minTime[0][0] = 0\n",
        "\n",
        "        minHeap = []\n",
        "\n",
        "        # add source (minTime, i, j)\n",
        "        heappush(minHeap, (0, 0, 0))\n",
        "\n",
        "        # prettyPrintGrid(minTime)\n",
        "        neighborDirections = [(0,1), (0,-1), (1,0), (-1,0)]\n",
        "\n",
        "        while minHeap:\n",
        "            time, i, j = heappop(minHeap)\n",
        "\n",
        "            # early return\n",
        "            if i == n - 1 and j == m - 1:\n",
        "                return time\n",
        "\n",
        "            for delta_i, delta_j in neighborDirections:\n",
        "                neighbor_i = i + delta_i\n",
        "                neighbor_j = j + delta_j\n",
        "\n",
        "                if 0 <= neighbor_i < n and 0 <= neighbor_j < m:\n",
        "                    timeToNeighborVertex = max(time, moveTime[neighbor_i][neighbor_j]) + self.MOVING_TIME_BETWEEN_VERTICES\n",
        "\n",
        "                    updatedMinTime = min(timeToNeighborVertex, minTime[neighbor_i][neighbor_j])\n",
        "\n",
        "                    if minTime[neighbor_i][neighbor_j] == math.inf:\n",
        "                        heappush(minHeap, [timeToNeighborVertex, neighbor_i, neighbor_j])\n",
        "\n",
        "                    minTime[neighbor_i][neighbor_j] = updatedMinTime"
      ],
      "metadata": {
        "id": "THt0f-Ro1ChU"
      },
      "execution_count": 49,
      "outputs": []
    },
    {
      "cell_type": "code",
      "source": [
        "run_test_cases(Solution(), \"minTimeToReach\")"
      ],
      "metadata": {
        "id": "qs6DeTImHeZ5"
      },
      "execution_count": 50,
      "outputs": []
    },
    {
      "cell_type": "code",
      "source": [],
      "metadata": {
        "id": "AoX9JuFkLIoD"
      },
      "execution_count": null,
      "outputs": []
    }
  ]
}
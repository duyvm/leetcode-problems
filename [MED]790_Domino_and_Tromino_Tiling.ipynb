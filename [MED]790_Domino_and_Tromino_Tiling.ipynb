{
  "nbformat": 4,
  "nbformat_minor": 0,
  "metadata": {
    "colab": {
      "provenance": [],
      "authorship_tag": "ABX9TyM5UWhHRakBL3/FLqsWqj0r",
      "include_colab_link": true
    },
    "kernelspec": {
      "name": "python3",
      "display_name": "Python 3"
    },
    "language_info": {
      "name": "python"
    }
  },
  "cells": [
    {
      "cell_type": "markdown",
      "metadata": {
        "id": "view-in-github",
        "colab_type": "text"
      },
      "source": [
        "<a href=\"https://colab.research.google.com/github/duyvm/leetcode-problems/blob/main/%5BMED%5D790_Domino_and_Tromino_Tiling.ipynb\" target=\"_parent\"><img src=\"https://colab.research.google.com/assets/colab-badge.svg\" alt=\"Open In Colab\"/></a>"
      ]
    },
    {
      "cell_type": "markdown",
      "source": [
        "# 790. Domino and Tromino Tiling\n",
        "\n",
        "https://leetcode.com/problems/domino-and-tromino-tiling/description/\n",
        "\n",
        "You have two types of tiles: a `2 x 1` domino shape and a tromino shape. You may rotate these shapes.\n",
        "\n",
        "![img1](https://drive.google.com/uc?id=1UkaQxsVG0kr3wdTIcEYW0QZl4pkTRwL2)\n",
        "\n",
        "Given an integer `n`, return the number of ways to tile an `2 x n` board. Since the answer may be very large, return it `modulo 10`<sup>`9`</sup>` + 7`.\n",
        "\n",
        "In a tiling, every square must be covered by a **tile**. **Two tilings** are **different** *if and only if there are two 4-directionally adjacent cells on the board such that exactly one of the tilings has both squares occupied by a tile*.\n",
        "\n",
        "\n",
        "\n",
        "**Constraints:**\n",
        "- `1 <= n <= 1000`\n"
      ],
      "metadata": {
        "id": "OhbFjTlo_zih"
      }
    },
    {
      "cell_type": "markdown",
      "source": [
        "**Example 1**\n",
        "\n",
        "![img2](https://drive.google.com/uc?id=1ZxNw7RfGE65reDewvM-EHvAOEoTWAcWz)\n",
        "\n",
        "- Explanation: The five different ways are show above."
      ],
      "metadata": {
        "id": "fpzLoyGP_hhQ"
      }
    },
    {
      "cell_type": "code",
      "source": [
        "test_case1 =  {\n",
        "            \"input\": {\n",
        "                \"n\": 3,\n",
        "            },\n",
        "            \"output\": 5\n",
        "        }"
      ],
      "metadata": {
        "id": "VD9YirfAdayx"
      },
      "execution_count": null,
      "outputs": []
    },
    {
      "cell_type": "markdown",
      "source": [
        "**Example 2 and so on**"
      ],
      "metadata": {
        "id": "mbBM8XtKAGH5"
      }
    },
    {
      "cell_type": "code",
      "source": [
        "test_case2 =  {\n",
        "            \"input\": {\n",
        "                \"n\": 1,\n",
        "            },\n",
        "            \"output\": 1\n",
        "        }\n",
        "\n",
        "test_case3 =  {\n",
        "            \"input\": {\n",
        "                \"n\": 5,\n",
        "            },\n",
        "            \"output\": 24\n",
        "        }"
      ],
      "metadata": {
        "id": "t94gDHfzAN4K"
      },
      "execution_count": null,
      "outputs": []
    },
    {
      "cell_type": "code",
      "source": [
        "test_cases = [test_case1, test_case2, test_case3]"
      ],
      "metadata": {
        "id": "1XSGQbp1ASCu"
      },
      "execution_count": null,
      "outputs": []
    },
    {
      "cell_type": "code",
      "source": [
        "def run_test_cases(solution, function_name):\n",
        "    for i in range(len(test_cases)):\n",
        "        run_test_case(solution, function_name, i)\n",
        "\n",
        "def run_test_case(solution, function_name, i):\n",
        "    test_case = test_cases[i]\n",
        "    result = getattr(solution, function_name)(**test_case[\"input\"])\n",
        "    if result != test_case[\"output\"]:\n",
        "        print(f'Failed test case {i} with input: {test_case[\"input\"]} and expected result: {test_case[\"output\"]} vs actual result: {result}')"
      ],
      "metadata": {
        "id": "eefq238-1jIb"
      },
      "execution_count": null,
      "outputs": []
    },
    {
      "cell_type": "markdown",
      "source": [
        "# Approach 1 - Recursion  - Time Limit Exceeded\n",
        "\n",
        "### Observations\n",
        "\n",
        "**We can break the problem into three subproblems**\n",
        "\n",
        "- The number of ways to tile the board with only domino tiles.\n",
        "\n",
        "- The number of ways to tile the board with only tromino tiles.\n",
        "\n",
        "- The number of ways to tile the board with tromino tiles and domino tiles.\n",
        "\n",
        "\n",
        "**Let analyze each subproblem**\n",
        "\n",
        "1. The number of ways to tile the board with only domino tiles.\n",
        "\n",
        "    - We have two types: vertical domino and horizontal domino\n",
        "\n",
        "    - For each column from `0` to `n-1`, we can choose to place **one** vertical domino tile or **two** horizontal ones\n",
        "    \n",
        "        - If we place vertical one: we proceed to `i+1` column\n",
        "\n",
        "        - If we place two horizontal ones: we proceed to `i+2` column\n",
        "\n",
        "2. The number of ways to tile the board with only tromino tiles.\n",
        "\n",
        "    - For each pair of tromino tiles, it take up `2 x 3` contiguous cells with `2` ways to tile\n",
        "\n",
        "    - To tile board with on ly tromino tiles, `n mod 3` must be 0\n",
        "\n",
        "    - The number of tiling ways is `2`<sup>`n mod 3`</sup>\n",
        "\n",
        "3. The number of ways to tile the board with tromino tiles and domino tiles.\n",
        "\n",
        "  - The number of tromino tiles with be even\n",
        "  \n",
        "  - If we already placed one tromino tile, we must place **one more** to make sure there are no un-tile cells.\n",
        "\n",
        "  - If we already place one tromino tile, the `i+1` column must be a **tromino tile** or a **horizontal domino tile**.\n",
        "\n",
        "  - When we placed the **2nd** tromino tile, we proceed the the `i+2` column.\n",
        "\n",
        "  - For each pair of tromino tiles, we have `2` possible combinations of tromino. Check example 1's illustration of Tromino tiles\n",
        "\n",
        "**Concluded**\n",
        "\n",
        "- For each column `i` from `0` to `n-1`, we have `3` choices:\n",
        "\n",
        "  - **Choice 1**: placing a vertical domino tile\n",
        "\n",
        "    - If we alread place `1st` tromino tile, we **can not** place vertical domino tile\n",
        "    \n",
        "    - Proceeed to `i+1`\n",
        "\n",
        "  - **Choice 2**: placing 2 horizontal domino tiles\n",
        "\n",
        "    - Proceed to `i+2`\n",
        "\n",
        "  - **Choice 3**: placing a tromino tile\n",
        "\n",
        "    - If it is `1st` tromino tile: Proceed to `i+1`\n",
        "\n",
        "    - If it is `2nd` tromino tile: `x2` the count and proceed to `i+2`\n",
        "\n",
        "### Analysis\n",
        "\n",
        "- Time complexity: `3`<sup>`n`</sup>\n",
        "\n"
      ],
      "metadata": {
        "id": "e4M1bpIEDWc6"
      }
    },
    {
      "cell_type": "markdown",
      "source": [
        "### Implementation"
      ],
      "metadata": {
        "id": "TTw8uVbRkXtT"
      }
    },
    {
      "cell_type": "code",
      "source": [
        "from re import L\n",
        "from typing import List, Optional\n",
        "from collections import defaultdict\n",
        "from collections import deque\n",
        "from heapq import heapify, heappush, heappop\n",
        "from queue import PriorityQueue\n",
        "from collections import Counter\n",
        "import math\n",
        "\n",
        "class Solution:\n",
        "\n",
        "    MOD = 10**9 + 7\n",
        "\n",
        "    def numTilings(self, n: int) -> int:\n",
        "        return self.startTiling(False, 0, n) % self.MOD\n",
        "\n",
        "    def startTiling(self, is_first_tromino_placed, i, n):\n",
        "        if i == n and is_first_tromino_placed:\n",
        "            return 0\n",
        "\n",
        "        if i == n:\n",
        "            return 1\n",
        "\n",
        "        count = 0\n",
        "\n",
        "        # place vertical domino tile\n",
        "        if not is_first_tromino_placed:\n",
        "            count += self.startTiling(is_first_tromino_placed, i+1, n)\n",
        "\n",
        "        # place horizontal domino tile\n",
        "        if i + 1 < n:\n",
        "            count += self.startTiling(is_first_tromino_placed, i+2 if not is_first_tromino_placed else i+1, n)\n",
        "\n",
        "        # place tromino tile\n",
        "        if is_first_tromino_placed and i + 1 < n:\n",
        "            count += 2 * self.startTiling(False, i+2, n)\n",
        "        else:\n",
        "            count += self.startTiling(True, i+1, n)\n",
        "\n",
        "        return count % self.MOD"
      ],
      "metadata": {
        "id": "7N6VBRdIDUwD"
      },
      "execution_count": null,
      "outputs": []
    },
    {
      "cell_type": "code",
      "source": [
        "run_test_cases(Solution(), \"numTilings\")"
      ],
      "metadata": {
        "id": "QI2JhBGdQw2Q"
      },
      "execution_count": null,
      "outputs": []
    },
    {
      "cell_type": "code",
      "source": [
        "run_test_case(Solution(), \"numTilings\", -1)"
      ],
      "metadata": {
        "id": "2KFu7Vy6I4jV"
      },
      "execution_count": null,
      "outputs": []
    },
    {
      "cell_type": "markdown",
      "source": [
        "# Approach 2 - Dynamic Programing + Tabulation (Community hint) - Beat 55%\n",
        "\n",
        "Credit go to: https://leetcode.com/problems/domino-and-tromino-tiling/solutions/6715436/recursion-tabulation-math-bonus-o-1-at-end-with-images-hashmap-c-python-java/\n",
        "\n",
        "### Observations\n",
        "\n",
        "- The idea of this method is calculating the number of ways from `i = 1` to `i = n`. For current `i`, it is computed based on result of previous `i-1`, `i-2`...\n",
        "\n",
        "- Let array `count_arr` with `length = n+1` stores number of ways tiling the board. `count_arr[i]` is number of ways tiling board size `2 x i`\n",
        "\n",
        "- We have:\n",
        "\n",
        "  - At `i = 0`: `count_arr[0] = 0` -> no board = no tiling\n",
        "\n",
        "  - At `i = 1`: `count_arr[1] = 1` -> place only vertical domino tile\n",
        "\n",
        "  - At `i = 2`: `count_arr[0] = 2` -> two vertical domino tiles or two horizontal domino tiles\n",
        "\n",
        "  - At `i = 3`: `count_arr[0] = 5` -> check example 1's explanation\n",
        "\n",
        "  - At `i >=4`, we consider following cases:\n",
        "\n",
        "    - Initialize value\n",
        "            \n",
        "            count_arr[i] = 0\n",
        "\n",
        "    - Place vertical domino tile at column `i` case:\n",
        "    \n",
        "            count_arr[i] += count_arr[i-1]\n",
        "\n",
        "    - Place horizontal domino tile at column `i-1` case: the horizontal tile will span from two columns `i-1` and `i`:\n",
        "        \n",
        "            count_arr[i] += count_arr[i-2]\n",
        "\n",
        "    - Place pair L-shaped tromino tiles:\n",
        "\n",
        "      With range `>= 3`, we can place a pair of Tromino tiles. For each placing, we must double its count because we have 2 combination for each placing.\n",
        "\n",
        "      * Note: for `count_arr[0]`, we initialize it with `1`\n",
        "\n",
        "            count_arr[i] += 2*count_arr[i-3] + 2*count_arr[i-4] + ... + 2*count_arr[1] + 2*count_arr[0]\n",
        "            　　　　　　　　+= 2* (count_arr[i-3] + count_arr[i-4] + ... + count_arr[1] + count_arr[0])\n",
        "\n",
        "      Simplified:\n",
        "\n",
        "            count_arr[i] += 2* (count_arr[i-3] + ... + count_arr[0])\n",
        "                    \n",
        "    - Sum up:\n",
        "              \n",
        "            count_arr[i] = count_arr[i-1] + count_arr[i-2] + 2*(count_arr[i-3] + ... + count_arr[0])\n",
        "                         = count_arr[i-1] + count_arr[i-2] + count_arr[i-3] + count_arr[i-3] + 2*(count_arr[i-4] + ... + count_arr[0]) (A)\n",
        "\n",
        "      Furthermore, we have:\n",
        "\n",
        "            count_arr[i-1] = count_arr[i-2] + count_arr[i-3] + 2*(count_arr[i-4] + ... + count_arr[0])\n",
        "            ->\n",
        "            count_arr[i-2] + count_arr[i-3] = count_arr[i-1] - 2*(count_arr[i-4] + ... + count_arr[0]) (B)\n",
        "    \n",
        "      Replace B into A we got final fomula\n",
        "\n",
        "             count_arr[i] = count_arr[i-1] + count_arr[i-1] - 2*(count_arr[i-4] + ... + count_arr[0]) + count_arr[i-3] + 2*(count_arr[i-4] + ... + count_arr[0])\n",
        "             count_arr[i] = 2*count_arr[i-1] + count_arr[i-3]\n",
        "\n",
        "                         \n",
        "\n",
        "### Analysis\n",
        "\n",
        "- Time complexity: `O(n)`"
      ],
      "metadata": {
        "id": "FqRBNybnm1Ft"
      }
    },
    {
      "cell_type": "code",
      "source": [
        "from re import L\n",
        "from typing import List, Optional\n",
        "from collections import defaultdict\n",
        "from collections import deque\n",
        "from heapq import heapify, heappush, heappop\n",
        "from queue import PriorityQueue\n",
        "from collections import Counter\n",
        "import math\n",
        "\n",
        "class Solution:\n",
        "\n",
        "    MOD = 10**9 + 7\n",
        "\n",
        "    def numTilings(self, n: int) -> int:\n",
        "        count_arr = [1] * (n+1)\n",
        "        if n == 1:\n",
        "            return count_arr[-1]\n",
        "\n",
        "        count_arr[2] = 2\n",
        "\n",
        "        for i in range(3, n+1):\n",
        "            count_arr[i] = (2*count_arr[i-1] + count_arr[i-3]) % self.MOD\n",
        "\n",
        "        return count_arr[-1]"
      ],
      "metadata": {
        "id": "tQ1rvpxZ6vIF"
      },
      "execution_count": null,
      "outputs": []
    },
    {
      "cell_type": "code",
      "source": [
        "run_test_cases(Solution(), \"numTilings\")"
      ],
      "metadata": {
        "id": "qWi6c1Z1Pdqm"
      },
      "execution_count": null,
      "outputs": []
    },
    {
      "cell_type": "markdown",
      "source": [
        "# Approach 3 - Optimized Approach 2\n",
        "\n",
        "### Observations\n",
        "\n",
        "- Look at approach 2, we only need to store three value to compute `count_arr[i]`: `count_arr[i-1]`, `count_arr[i-2]`, `count_arr[i-3]`. We can just store these three values in array with `length = 3`.\n",
        "                         \n",
        "\n",
        "### Analysis\n",
        "\n",
        "- Time complexity: `O(n)`"
      ],
      "metadata": {
        "id": "O6N0tTl1SkUf"
      }
    },
    {
      "cell_type": "code",
      "source": [
        "from re import L\n",
        "from typing import List, Optional\n",
        "from collections import defaultdict\n",
        "from collections import deque\n",
        "from heapq import heapify, heappush, heappop\n",
        "from queue import PriorityQueue\n",
        "from collections import Counter\n",
        "import math\n",
        "\n",
        "class Solution:\n",
        "\n",
        "    MOD = 10**9 + 7\n",
        "\n",
        "    def numTilings(self, n: int) -> int:\n",
        "        count_arr = [1] * 3\n",
        "        if n == 1:\n",
        "            return 1\n",
        "\n",
        "        count_arr[2] = 2\n",
        "\n",
        "        for i in range(3, n+1):\n",
        "            current = (2*count_arr[-1] + count_arr[-3]) % self.MOD\n",
        "            count_arr[-3] = count_arr[-2]\n",
        "            count_arr[-2] = count_arr[-1]\n",
        "            count_arr[-1] = current\n",
        "\n",
        "        return count_arr[-1]"
      ],
      "metadata": {
        "id": "gYXNwBLgPpo2"
      },
      "execution_count": null,
      "outputs": []
    },
    {
      "cell_type": "code",
      "source": [
        "run_test_cases(Solution(), \"numTilings\")"
      ],
      "metadata": {
        "id": "SUYIhL2-Ti1r"
      },
      "execution_count": null,
      "outputs": []
    },
    {
      "cell_type": "code",
      "source": [],
      "metadata": {
        "id": "_wri3Y1ETkMe"
      },
      "execution_count": null,
      "outputs": []
    }
  ]
}
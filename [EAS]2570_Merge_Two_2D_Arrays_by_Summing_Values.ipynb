{
  "nbformat": 4,
  "nbformat_minor": 0,
  "metadata": {
    "colab": {
      "provenance": [],
      "authorship_tag": "ABX9TyOKaGZwYwj6PqWsTONEO24X",
      "include_colab_link": true
    },
    "kernelspec": {
      "name": "python3",
      "display_name": "Python 3"
    },
    "language_info": {
      "name": "python"
    }
  },
  "cells": [
    {
      "cell_type": "markdown",
      "metadata": {
        "id": "view-in-github",
        "colab_type": "text"
      },
      "source": [
        "<a href=\"https://colab.research.google.com/github/duyvm/leetcode-problems/blob/main/%5BEAS%5D2570_Merge_Two_2D_Arrays_by_Summing_Values.ipynb\" target=\"_parent\"><img src=\"https://colab.research.google.com/assets/colab-badge.svg\" alt=\"Open In Colab\"/></a>"
      ]
    },
    {
      "cell_type": "markdown",
      "source": [
        "# 2570. Merge Two 2D Arrays by Summing Values\n",
        "\n",
        "https://leetcode.com/problems/merge-two-2d-arrays-by-summing-values/description/\n",
        "\n",
        "You are given two **2D** integer arrays `nums1` and `nums2`.\n",
        "\n",
        "- `nums1[i] = [id`<sub>`i`</sub>`, val`<sub>`i`</sub>`]` indicate that the number with the id `id`<sub>`i`</sub> has a value equal to `val`<sub>`i`</sub>.\n",
        "- `nums2[i] = [id`<sub>`i`</sub>`, val`<sub>`i`</sub>`]` indicate that the number with the id `id`<sub>`i`</sub> has a value equal to `val`<sub>`i`</sub>.\n",
        "\n",
        "Each array contains **unique** ids and is sorted in **ascending** order by id.\n",
        "\n",
        "Merge the two arrays into one array that is sorted in ascending order by id, respecting the following conditions:\n",
        "\n",
        "- Only ids that appear in at least one of the two arrays should be included in the resulting array.\n",
        "- Each id should be included **only once** and its value should be the sum of the values of this id in the two arrays. If the id does not exist in one of the two arrays, then assume its value in that array to be 0.\n",
        "\n",
        "Return the ~resulting~ array. The returned array must be sorted in ascending order by id.\n",
        "\n",
        "**Constraints:**\n",
        "- `1 <= nums1.length, nums2.length <= 200`\n",
        "- `nums1[i].length == nums2[j].length == 2`\n",
        "- `1 <= idi, vali <= 1000`\n",
        "- Both arrays contain unique ids.\n",
        "- Both arrays are in strictly ascending order by id."
      ],
      "metadata": {
        "id": "OhbFjTlo_zih"
      }
    },
    {
      "cell_type": "markdown",
      "source": [
        "**Example 1:**\n",
        "\n",
        "- Input: `nums1 = [[1,2],[2,3],[4,5]], nums2 = [[1,4],[3,2],[4,1]]`\n",
        "\n",
        "- Output: `[[1,6],[2,3],[3,2],[4,6]]`\n",
        "\n",
        "- Explanation: The resulting array contains the following:\n",
        "        - id = 1, the value of this id is 2 + 4 = 6.\n",
        "        - id = 2, the value of this id is 3.\n",
        "        - id = 3, the value of this id is 2.\n",
        "        - id = 4, the value of this id is 5 + 1 = 6.\n",
        "\n",
        "**Example 2:**\n",
        "\n",
        "- Input: `nums1 = [[2,4],[3,6],[5,5]], nums2 = [[1,3],[4,3]`\n",
        "\n",
        "- Output: `[[1,3],[2,4],[3,6],[4,3],[5,5]]`\n",
        "\n",
        "- Explanation: There are no common ids, so we just include each id with its value in the resulting list."
      ],
      "metadata": {
        "id": "IEpVafbfC7W-"
      }
    },
    {
      "cell_type": "code",
      "source": [
        "test_cases = [\n",
        "    {\n",
        "        \"input\": {\n",
        "           \"nums1\":  [[1,2],[2,3],[4,5]],\n",
        "           \"nums2\":  [[1,4],[3,2],[4,1]],\n",
        "        },\n",
        "        \"output\": [[1,6],[2,3],[3,2],[4,6]]\n",
        "    },\n",
        "    {\n",
        "        \"input\": {\n",
        "           \"nums1\":  [[2,4],[3,6],[5,5]],\n",
        "           \"nums2\":  [[1,3],[4,3]],\n",
        "        },\n",
        "        \"output\": [[1,3],[2,4],[3,6],[4,3],[5,5]]\n",
        "    },\n",
        "]"
      ],
      "metadata": {
        "id": "VD9YirfAdayx"
      },
      "execution_count": 6,
      "outputs": []
    },
    {
      "cell_type": "markdown",
      "source": [
        "### Observations\n",
        "\n",
        "- Merge sort\n",
        "\n",
        "- Use two integer `i` and `j` to keep track of current processing index in `nums1` and `nums2`\n",
        "\n",
        "- Let `ans` is the resulting array\n",
        "\n",
        "- If `nums1[i]` < `nums2[j]`, add `nums1[i]` to `ans` and increase `i`\n",
        "\n",
        "- If `nums1[i]` > `nums2[j]`, add `nums2[j]` to `ans` and increase `j`\n",
        "\n",
        "- If  `nums1[i] = nums2[j]`, sum and add to `ans` and increase both `i` and `j`\n",
        "\n",
        "- Let `n,m` are length of `nums1` and `nums2`\n",
        "\n",
        "- Time complexity `O(n+m)`\n",
        "\n",
        "- Memory complexity `O(n+m)`\n",
        "\n",
        "### Intuition\n",
        "\n",
        "- N/A"
      ],
      "metadata": {
        "id": "e4M1bpIEDWc6"
      }
    },
    {
      "cell_type": "code",
      "source": [
        "from typing import List, Optional\n",
        "from collections import defaultdict\n",
        "from collections import deque\n",
        "from heapq import heapify, heappush, heappop\n",
        "from queue import PriorityQueue\n",
        "\n",
        "class Solution:\n",
        "    def mergeArrays(self, nums1: List[List[int]], nums2: List[List[int]]) -> List[List[int]]:\n",
        "        i, j = 0, 0\n",
        "\n",
        "        ans = []\n",
        "\n",
        "        while i < len(nums1) and j < len(nums2):\n",
        "            if nums1[i][0] < nums2[j][0]:\n",
        "                ans.append(nums1[i])\n",
        "                i += 1\n",
        "            elif nums1[i][0] > nums2[j][0]:\n",
        "                ans.append(nums2[j])\n",
        "                j += 1\n",
        "            else:\n",
        "                ans.append([nums1[i][0], nums1[i][1] + nums2[j][1]])\n",
        "                i += 1\n",
        "                j += 1\n",
        "\n",
        "        # add left over elements in nums1 and nums2\n",
        "        while i < len(nums1):\n",
        "            ans.append(nums1[i])\n",
        "            i += 1\n",
        "\n",
        "        while j < len(nums2):\n",
        "            ans.append(nums2[j])\n",
        "            j += 1\n",
        "\n",
        "        return ans"
      ],
      "metadata": {
        "id": "7N6VBRdIDUwD"
      },
      "execution_count": 8,
      "outputs": []
    },
    {
      "cell_type": "code",
      "source": [
        "solution = Solution()\n",
        "for test_case in test_cases:\n",
        "    result = solution.mergeArrays(test_case[\"input\"][\"nums1\"], test_case[\"input\"][\"nums2\"])\n",
        "    if result != test_case[\"output\"]:\n",
        "        print(f'Failed test case with input: {test_case[\"input\"]} and output: {test_case[\"output\"]} vs result: {result}')"
      ],
      "metadata": {
        "id": "CMDKnxwjGL6v"
      },
      "execution_count": 7,
      "outputs": []
    },
    {
      "cell_type": "code",
      "source": [],
      "metadata": {
        "id": "HREOFaae88N2"
      },
      "execution_count": null,
      "outputs": []
    }
  ]
}
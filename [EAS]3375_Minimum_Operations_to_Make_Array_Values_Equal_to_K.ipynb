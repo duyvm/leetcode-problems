{
  "nbformat": 4,
  "nbformat_minor": 0,
  "metadata": {
    "colab": {
      "provenance": [],
      "authorship_tag": "ABX9TyNkPkXVGHc6JlhGQaqasOqQ",
      "include_colab_link": true
    },
    "kernelspec": {
      "name": "python3",
      "display_name": "Python 3"
    },
    "language_info": {
      "name": "python"
    }
  },
  "cells": [
    {
      "cell_type": "markdown",
      "metadata": {
        "id": "view-in-github",
        "colab_type": "text"
      },
      "source": [
        "<a href=\"https://colab.research.google.com/github/duyvm/leetcode-problems/blob/main/%5BEAS%5D3375_Minimum_Operations_to_Make_Array_Values_Equal_to_K.ipynb\" target=\"_parent\"><img src=\"https://colab.research.google.com/assets/colab-badge.svg\" alt=\"Open In Colab\"/></a>"
      ]
    },
    {
      "cell_type": "markdown",
      "source": [
        "# 3375. Minimum Operations to Make Array Values Equal to K\n",
        "\n",
        "https://leetcode.com/problems/minimum-operations-to-make-array-values-equal-to-k/description/\n",
        "\n",
        "You are given an integer array `nums` and an integer `k`.\n",
        "\n",
        "An integer `h` is called **valid** if all values in the array that are strictly greater than `h` are identical.\n",
        "\n",
        "For example, if `nums = [10, 8, 10, 8]`, a valid integer is `h = 9` because all `nums[i] > 9` are equal to `10`, but `5` is not a valid integer.\n",
        "\n",
        "You are allowed to perform the following operation on `nums`:\n",
        "\n",
        "- Select an integer `h` that is valid for the current values in `nums`.\n",
        "\n",
        "- For each index `i` where `nums[i] > h`, set `nums[i]` to h.\n",
        "\n",
        "Return the minimum number of operations required to make every element in `nums` equal to `k`. If it is impossible to make all elements equal to `k`, return `-1`.\n",
        "\n",
        "**Constraints:**\n",
        "- `1 <= nums.length <= 100 `\n",
        "- `1 <= nums[i] <= 100`\n",
        "- `1 <= k <= 100`\n",
        "\n",
        "**Follow up:**"
      ],
      "metadata": {
        "id": "OhbFjTlo_zih"
      }
    },
    {
      "cell_type": "markdown",
      "source": [
        "**Example 1:**\n",
        "\n",
        "- Input: `\"nums\": [5,2,5,4,5], \"k\": 2`\n",
        "\n",
        "- Output: `2`\n",
        "\n",
        "- Explanation: The operations can be performed in order using valid integers 4 and then 2.\n",
        "\n",
        "**Example 2:**\n",
        "\n",
        "- Input: `\"nums\": [2,1,2], \"k\": 2`\n",
        "\n",
        "- Output: `-1`\n",
        "\n",
        "- Explanation: It is impossible to make all the values equal to 2.\n",
        "\n",
        "**Example 3:**\n",
        "\n",
        "- Input: `\"nums\": [9,7,5,3], \"k\": 1`\n",
        "\n",
        "- Output: `4`\n",
        "\n",
        "- Explanation: The operations can be performed using valid integers in the order 7, 5, 3, and 1."
      ],
      "metadata": {
        "id": "IEpVafbfC7W-"
      }
    },
    {
      "cell_type": "code",
      "source": [
        "test_cases = [\n",
        "    {\n",
        "        \"input\": {\n",
        "            \"nums\": [5,2,5,4,5],\n",
        "            \"k\": 2,\n",
        "        },\n",
        "        \"output\": 2\n",
        "    },\n",
        "    {\n",
        "        \"input\": {\n",
        "            \"nums\": [2,1,2],\n",
        "            \"k\": 2,\n",
        "        },\n",
        "        \"output\": -1\n",
        "    },\n",
        "    {\n",
        "        \"input\": {\n",
        "            \"nums\": [9,7,5,3],\n",
        "            \"k\": 1,\n",
        "        },\n",
        "        \"output\": 4\n",
        "    },\n",
        "]"
      ],
      "metadata": {
        "id": "VD9YirfAdayx"
      },
      "execution_count": 1,
      "outputs": []
    },
    {
      "cell_type": "code",
      "source": [
        "def run_test_cases(solution, function_name):\n",
        "    for i in range(len(test_cases)):\n",
        "        run_test_case(solution, function_name, i)\n",
        "\n",
        "def run_test_case(solution, function_name, i):\n",
        "    test_case = test_cases[i]\n",
        "    result = getattr(solution, function_name)(**test_case[\"input\"])\n",
        "    if result != test_case[\"output\"]:\n",
        "        print(f'Failed test case {i} with input: {test_case[\"input\"]} and expected result: {test_case[\"output\"]} vs actual result: {result}')"
      ],
      "metadata": {
        "id": "eefq238-1jIb"
      },
      "execution_count": 2,
      "outputs": []
    },
    {
      "cell_type": "markdown",
      "source": [
        "# Approach\n",
        "\n",
        "### Observations\n",
        "\n",
        "- The operation is making identical and biggest elements smaller\n",
        "\n",
        "- If `k > min(nums)` then it is not possible to make all elements in `nums` equal `k`\n",
        "\n",
        "- For each operation:\n",
        "\n",
        " - Turn biggest value to second biggest value\n",
        "\n",
        " - Continue until `k`\n",
        "\n",
        "- Let `unique_nums` is the array that store only unique values of `numns`. The idea is comparing `k` with min value of  `unique_nums`\n",
        "\n",
        "  - If `k > min(unique_nums)` return `-1`\n",
        "\n",
        "  - If `k = min(unique_nums)` return `unique_nums.length - 1`\n",
        "\n",
        "  - If `k > min(unique_nums)` return `unique_nums.length`\n",
        "\n",
        "### Analysis\n",
        "\n",
        "- Time complexity: `O(n)`\n",
        "\n",
        "  - One pass through `nums` to make `unique_nums`: `O(n)`\n",
        "\n",
        "  - One pass through `unique_nums` to find min value: `O(n)`\n"
      ],
      "metadata": {
        "id": "e4M1bpIEDWc6"
      }
    },
    {
      "cell_type": "markdown",
      "source": [
        "### Implementation"
      ],
      "metadata": {
        "id": "TTw8uVbRkXtT"
      }
    },
    {
      "cell_type": "code",
      "source": [
        "from typing import List, Optional\n",
        "from collections import defaultdict\n",
        "from collections import deque\n",
        "from heapq import heapify, heappush, heappop\n",
        "from queue import PriorityQueue\n",
        "from collections import Counter\n",
        "import math\n",
        "\n",
        "class Solution:\n",
        "    def minOperations(self, nums: List[int], k: int) -> int:\n",
        "        unique_nums = set(nums)\n",
        "        min_unique_num = min(unique_nums)\n",
        "        if k > min_unique_num:\n",
        "            return -1\n",
        "        elif k == min_unique_num:\n",
        "            return len(unique_nums) - 1\n",
        "        else:\n",
        "            return len(unique_nums)"
      ],
      "metadata": {
        "id": "7N6VBRdIDUwD"
      },
      "execution_count": 6,
      "outputs": []
    },
    {
      "cell_type": "code",
      "source": [
        "run_test_cases(Solution(), \"minOperations\")"
      ],
      "metadata": {
        "id": "DSgVrw0oNgBn"
      },
      "execution_count": 7,
      "outputs": []
    },
    {
      "cell_type": "code",
      "source": [],
      "metadata": {
        "id": "TQaghcXpyoCl"
      },
      "execution_count": null,
      "outputs": []
    }
  ]
}